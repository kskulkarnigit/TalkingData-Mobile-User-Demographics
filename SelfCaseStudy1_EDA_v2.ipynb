{
 "cells": [
  {
   "cell_type": "markdown",
   "metadata": {},
   "source": [
    "# 1. Business Problem"
   ]
  },
  {
   "cell_type": "markdown",
   "metadata": {},
   "source": [
    "## 1.1 Problem Description\n",
    "Nothing is more comforting than being greeted by your favorite drink just as you walk through the door of the corner café. While a thoughtful barista knows you take a macchiato every Wednesday morning at 8:15, it’s much more difficult in a digital space for your preferred brands to personalize your experience.\n",
    "\n",
    "TalkingData, China’s largest third-party mobile data platform, understands that everyday choices and behaviors paint a picture of who we are and what we value. Currently, TalkingData is seeking to leverage behavioral data from more than 70% of the 500 million mobile devices active daily in China to help its clients better understand and interact with their audiences.\n",
    "\n",
    "In this competition, Kagglers are challenged to build a model predicting users’ demographic characteristics based on their app usage, geolocation, and mobile device properties. Doing so will help millions of developers and brand advertisers around the world pursue data-driven marketing efforts which are relevant to their users and catered to their preferences.\n",
    "\n",
    "https://www.kaggle.com/c/talkingdata-mobile-user-demographics/overview"
   ]
  },
  {
   "cell_type": "markdown",
   "metadata": {},
   "source": [
    "## 1.2 Problem Statement\n",
    "In this competition, we need to predict the demographics of a user (gender and age) based on their app download and usage behaviors."
   ]
  },
  {
   "cell_type": "markdown",
   "metadata": {},
   "source": [
    "## 1.3 Sources\n",
    "https://www.kaggle.com/c/talkingdata-mobile-user-demographics/overview<br>\n",
    "Research Paper: https://www.idiap.ch/project/mdc/publications/files/mdc-final241-ying.pdf<br>\n",
    "Research Paper: https://www.aaai.org/ocs/index.php/ICWSM/ICWSM16/paper/viewFile/13047/12816<br>\n",
    "Blogs: https://mc.ai/talking-data-mobile-user-demographics/<br>\n",
    "Blogs: https://medium.com/analytics-vidhya/talking-data-user-demographics-19e3d15627b5<br>\n",
    "Kaggle Solution: https://www.kaggle.com/kylingu/talkingdata-learning<br>\n",
    "Kaggle Solution: https://www.kaggle.com/tuzhen/brand-and-model-based-benchmarks-d4d1ce<br>"
   ]
  },
  {
   "cell_type": "markdown",
   "metadata": {},
   "source": [
    "## 1.4 Business Objective and Constraints\n",
    "1. Need to predict the demographics of a user (gender and age) based on their app download and usage behaviors.\n",
    "2. Minimize the log loss\n",
    "3. No Low Latency requirement\n",
    "4. Probability value of prediction is required for each class."
   ]
  },
  {
   "cell_type": "markdown",
   "metadata": {},
   "source": [
    "# 2. Machine Learning Problem"
   ]
  },
  {
   "cell_type": "markdown",
   "metadata": {},
   "source": [
    "## 2.1 Data"
   ]
  },
  {
   "cell_type": "markdown",
   "metadata": {},
   "source": [
    "### 2.1.1 Data Overview\n",
    "Data is obtained from - https://www.kaggle.com/c/talkingdata-mobile-user-demographics/data\n",
    "\n",
    "Following are the data files:\n",
    "1. <b>gender_age_train.csv, gender_age_test.csv</b> - the training and test set\n",
    "2. <b>group</b>: this is the target variable you are going to predict\n",
    "3. <b>events.csv, app_events.csv</b> - when a user uses TalkingData SDK, the event gets logged in this data. Each event has an event id, location (lat/long), and the event corresponds to a list of apps in app_events.timestamp: when the user is using an app with TalkingData SDK\n",
    "4. <b>app_labels.csv</b> - apps and their labels, the label_id's can be used to join with label_categories\n",
    "5. <b>label_categories.csv</b> - apps' labels and their categories in text\n",
    "6. <b>phone_brand_device_model.csv</b> - device ids, brand, and models.phone_brand: note that the brands are in Chinese (translation courtesy of user fromandto) "
   ]
  },
  {
   "cell_type": "markdown",
   "metadata": {},
   "source": [
    "## 2.2 Mapping the real world problem to a Machine Learning Problem "
   ]
  },
  {
   "cell_type": "markdown",
   "metadata": {},
   "source": [
    "### 2.2.1 Type of Machine Learning Problem\n",
    "- Need to predict the demographics of a user (gender and age) based on their app download and usage behaviors.\n",
    "- This can be seen as a Multi-Class Classification problem"
   ]
  },
  {
   "cell_type": "markdown",
   "metadata": {},
   "source": [
    "### 2.2.2 Performance Metrics\n",
    "- Log Loss is the metric set by Kaggle for Performace Measurement of the model"
   ]
  },
  {
   "cell_type": "markdown",
   "metadata": {},
   "source": [
    "### 2.2.3 Machine Learning Objective and Constraint\n",
    "- Minimize the log loss\n",
    "- Provide some interpretability "
   ]
  },
  {
   "cell_type": "code",
   "execution_count": null,
   "metadata": {
    "colab": {
     "base_uri": "https://localhost:8080/",
     "height": 122
    },
    "colab_type": "code",
    "id": "jV5O16vFcnpB",
    "outputId": "cc166926-b5aa-4bd7-cfa2-bd95453d4316"
   },
   "outputs": [],
   "source": [
    "from google.colab import drive\n",
    "drive.mount('/content/gdrive', force_remount=True)"
   ]
  },
  {
   "cell_type": "code",
   "execution_count": null,
   "metadata": {
    "colab": {
     "base_uri": "https://localhost:8080/",
     "height": 71
    },
    "colab_type": "code",
    "id": "plpEi9TjdOcQ",
    "outputId": "6a459a9b-e028-41a6-ec5b-d7751b8038c1"
   },
   "outputs": [],
   "source": [
    "import os\n",
    "\n",
    "myDir = 'gdrive/My Drive/AAIC_Self_Case_Study_1'\n",
    "print(os.listdir(myDir))\n",
    "os.chdir(myDir)\n",
    "print(os.listdir())"
   ]
  },
  {
   "cell_type": "code",
   "execution_count": null,
   "metadata": {
    "colab": {},
    "colab_type": "code",
    "id": "QPbY-FqLfsiK"
   },
   "outputs": [],
   "source": [
    "# REF: https://thispointer.com/python-how-to-unzip-a-file-extract-single-multiple-or-all-files-from-a-zip-archive/\n",
    "from zipfile import ZipFile\n",
    "\n",
    "with ZipFile('talkingdata-mobile-user-demographics.zip', 'r') as zipObj:\n",
    "    zipObj.extractall()"
   ]
  },
  {
   "cell_type": "code",
   "execution_count": null,
   "metadata": {
    "colab": {},
    "colab_type": "code",
    "id": "ey0wMozEgo_w"
   },
   "outputs": [],
   "source": [
    "import os\n",
    "for files in os.listdir():\n",
    "    print(files)\n",
    "    if files.endswith(\"zip\"):\n",
    "        with ZipFile(files, 'r') as zipObj:\n",
    "            zipObj.extractall()"
   ]
  },
  {
   "cell_type": "markdown",
   "metadata": {
    "colab_type": "text",
    "id": "wGe1rYmHcasm"
   },
   "source": [
    "#### Importing important libraries"
   ]
  },
  {
   "cell_type": "code",
   "execution_count": 2,
   "metadata": {
    "colab": {
     "base_uri": "https://localhost:8080/",
     "height": 71
    },
    "colab_type": "code",
    "id": "-n1l7eo0casp",
    "outputId": "a1ef395d-7aed-48c1-f02b-e28e2b750f28"
   },
   "outputs": [],
   "source": [
    "import pandas as pd\n",
    "import numpy as np\n",
    "import matplotlib.pyplot as plt\n",
    "import seaborn as sns\n",
    "import warnings\n",
    "warnings.filterwarnings(\"ignore\")\n",
    "from sklearn.preprocessing import LabelEncoder"
   ]
  },
  {
   "cell_type": "markdown",
   "metadata": {
    "colab_type": "text",
    "id": "elgQeDDGcasy"
   },
   "source": [
    "#### Reading various input files"
   ]
  },
  {
   "cell_type": "code",
   "execution_count": 3,
   "metadata": {
    "colab": {},
    "colab_type": "code",
    "id": "XCqg7nNUcasz"
   },
   "outputs": [],
   "source": [
    "ageGenderTrain = pd.read_csv('gender_age_train.csv', dtype={'device_id':np.str})\n",
    "ageGenderTest = pd.read_csv('gender_age_test.csv', dtype={'device_id':np.str})\n",
    "phoneBrand = pd.read_csv('phone_brand_device_model.csv', dtype={'device_id':np.str})\n",
    "appLabels = pd.read_csv('app_labels.csv', dtype={'app_id':np.str})\n",
    "eventsData = pd.read_csv('events.csv', parse_dates=['timestamp'], dtype={'device_id':np.str, 'event_id':np.str})\n",
    "appEventsData = pd.read_csv('app_events.csv', dtype={'app_id':np.str, 'event_id':np.str})"
   ]
  },
  {
   "cell_type": "markdown",
   "metadata": {
    "colab_type": "text",
    "id": "5VZSitlDcas5"
   },
   "source": [
    "# 3. Detailed EDA"
   ]
  },
  {
   "cell_type": "markdown",
   "metadata": {
    "colab_type": "text",
    "id": "t-O-wUD9cas7"
   },
   "source": [
    "## 3.1 Working on Train-Test Data"
   ]
  },
  {
   "cell_type": "code",
   "execution_count": 4,
   "metadata": {
    "colab": {
     "base_uri": "https://localhost:8080/",
     "height": 204
    },
    "colab_type": "code",
    "id": "ga7bWrr4cas8",
    "outputId": "e3c79e86-31d9-4bd6-cdb9-592cf9579464"
   },
   "outputs": [
    {
     "name": "stdout",
     "output_type": "stream",
     "text": [
      "(74645, 4)\n",
      "Columns:  Index(['device_id', 'gender', 'age', 'group'], dtype='object')\n",
      "\n",
      "Columns with NULL value:\n",
      " device_id    False\n",
      "gender       False\n",
      "age          False\n",
      "group        False\n",
      "dtype: bool\n",
      "\n",
      "Duplicate Records: 0\n",
      "\n",
      "No. of UNIQUE Records:  74645\n"
     ]
    }
   ],
   "source": [
    "print(ageGenderTrain.shape)\n",
    "print('Columns: ', ageGenderTrain.columns)\n",
    "print('\\nColumns with NULL value:\\n', ageGenderTrain.isnull().any())\n",
    "print('\\nDuplicate Records:', ageGenderTrain.duplicated().sum())\n",
    "print('\\nNo. of UNIQUE Records: ', ageGenderTrain.device_id.nunique())"
   ]
  },
  {
   "cell_type": "markdown",
   "metadata": {},
   "source": [
    "##### There are no DUPLICATE records in the TRAIN Data. Also, there are no columns with NULL Value"
   ]
  },
  {
   "cell_type": "markdown",
   "metadata": {
    "colab_type": "text",
    "id": "sSqrjWAgcas_"
   },
   "source": [
    "#### EDA for GENDER"
   ]
  },
  {
   "cell_type": "code",
   "execution_count": 5,
   "metadata": {
    "colab": {
     "base_uri": "https://localhost:8080/",
     "height": 333
    },
    "colab_type": "code",
    "id": "Db2jtwnbcatA",
    "outputId": "158af32c-fc52-42e3-d792-79ef4176396f"
   },
   "outputs": [
    {
     "name": "stdout",
     "output_type": "stream",
     "text": [
      "Unique GENDERs 2\n",
      "M    47904\n",
      "F    26741\n",
      "Name: gender, dtype: int64\n"
     ]
    },
    {
     "data": {
      "text/plain": [
       "M    0.641758\n",
       "F    0.358242\n",
       "Name: gender, dtype: float64"
      ]
     },
     "execution_count": 5,
     "metadata": {},
     "output_type": "execute_result"
    },
    {
     "data": {
      "image/png": "[encoded data removed]",
      "text/plain": [
       "<Figure size 432x288 with 1 Axes>"
      ]
     },
     "metadata": {},
     "output_type": "display_data"
    }
   ],
   "source": [
    "print('Unique GENDERs', ageGenderTrain.gender.nunique())\n",
    "print(ageGenderTrain.gender.value_counts())\n",
    "ageGenderTrain.gender.value_counts().plot(kind='pie', legend=True, title='Gender Distribution')\n",
    "ageGenderTrain.gender.value_counts(normalize=True)"
   ]
  },
  {
   "cell_type": "markdown",
   "metadata": {},
   "source": [
    "##### Count of MALEs is more than that of FEMALEs. Almost 65% are males and 35% are F"
   ]
  },
  {
   "cell_type": "markdown",
   "metadata": {
    "colab_type": "text",
    "id": "xfs0LvCdcatD"
   },
   "source": [
    "#### EDA for AGE"
   ]
  },
  {
   "cell_type": "code",
   "execution_count": 6,
   "metadata": {
    "colab": {
     "base_uri": "https://localhost:8080/",
     "height": 506
    },
    "colab_type": "code",
    "id": "IYYcKLAycatD",
    "outputId": "0dce8e24-8d6f-4c71-8935-674b13168bb7"
   },
   "outputs": [
    {
     "name": "stdout",
     "output_type": "stream",
     "text": [
      "No. of UNIQUE Ages: 85\n",
      "94       1\n",
      "1        1\n",
      "96       1\n",
      "90       1\n",
      "82       2\n",
      "      ... \n",
      "25    3740\n",
      "28    4087\n",
      "29    4343\n",
      "27    4476\n",
      "26    4540\n",
      "Name: age, Length: 85, dtype: int64\n"
     ]
    },
    {
     "data": {
      "text/plain": [
       "<AxesSubplot:title={'center':'Age Distribution'}, xlabel='Age', ylabel='Count'>"
      ]
     },
     "execution_count": 6,
     "metadata": {},
     "output_type": "execute_result"
    },
    {
     "data": {
      "image/png": "[encoded data removed]",
      "text/plain": [
       "<Figure size 432x288 with 1 Axes>"
      ]
     },
     "metadata": {
      "needs_background": "light"
     },
     "output_type": "display_data"
    }
   ],
   "source": [
    "print('No. of UNIQUE Ages:', ageGenderTrain.age.nunique())\n",
    "print(ageGenderTrain.age.value_counts(sort=True, ascending=True))\n",
    "ageGenderTrain.age.value_counts(ascending=False).plot.bar(legend=True, title='Age Distribution', xlabel='Age', ylabel='Count')"
   ]
  },
  {
   "cell_type": "markdown",
   "metadata": {},
   "source": [
    "There is a wide distribution of ages. Although certain age groups are appearing most of the time while some are not frequent.<br> Below plot will show the top 15 age groups"
   ]
  },
  {
   "cell_type": "code",
   "execution_count": 7,
   "metadata": {
    "colab": {
     "base_uri": "https://localhost:8080/",
     "height": 285
    },
    "colab_type": "code",
    "id": "9k3HgxP3catG",
    "outputId": "efd6996c-800b-43a0-9ec3-5c32ecfc9b63"
   },
   "outputs": [
    {
     "name": "stdout",
     "output_type": "stream",
     "text": [
      "Min age record: 1 yrs\n",
      "Max age record: 96 yrs\n"
     ]
    },
    {
     "data": {
      "image/png": "[encoded data removed]",
      "text/plain": [
       "<Figure size 432x288 with 1 Axes>"
      ]
     },
     "metadata": {
      "needs_background": "light"
     },
     "output_type": "display_data"
    }
   ],
   "source": [
    "ageGenderTrain.age.value_counts(ascending=False)[:15].plot.bar(legend=True, title='Top-15 Age Groups', \n",
    "                                                               xlabel='Age', ylabel='Count')\n",
    "print('Min age record:', ageGenderTrain.age.min(), 'yrs')\n",
    "print('Max age record:', ageGenderTrain.age.max(), 'yrs')"
   ]
  },
  {
   "cell_type": "markdown",
   "metadata": {},
   "source": [
    "##### Most of the ages are between 25-30. There are records with age as low as 1 and as high as 96"
   ]
  },
  {
   "cell_type": "markdown",
   "metadata": {
    "colab_type": "text",
    "id": "TViZ4hNPcatN"
   },
   "source": [
    "#### EDA for GROUP"
   ]
  },
  {
   "cell_type": "code",
   "execution_count": 8,
   "metadata": {
    "colab": {
     "base_uri": "https://localhost:8080/",
     "height": 520
    },
    "colab_type": "code",
    "id": "GMtCRHpBcatO",
    "outputId": "1dfc4bad-3655-4be9-9c9c-dd7e65de8a3d"
   },
   "outputs": [
    {
     "name": "stdout",
     "output_type": "stream",
     "text": [
      "No. of UNIQUE Groups: 12\n",
      "M23-26    9605\n",
      "M32-38    9476\n",
      "M39+      8581\n",
      "M22-      7488\n",
      "M29-31    7309\n",
      "F33-42    5561\n",
      "M27-28    5445\n",
      "F23-      5050\n",
      "F29-32    4628\n",
      "F43+      4194\n",
      "F24-26    4190\n",
      "F27-28    3118\n",
      "Name: group, dtype: int64\n"
     ]
    },
    {
     "data": {
      "text/plain": [
       "<AxesSubplot:title={'center':'Demographic Distribution'}, ylabel='Group'>"
      ]
     },
     "execution_count": 8,
     "metadata": {},
     "output_type": "execute_result"
    },
    {
     "data": {
      "image/png": "[encoded data removed]",
      "text/plain": [
       "<Figure size 432x288 with 1 Axes>"
      ]
     },
     "metadata": {
      "needs_background": "light"
     },
     "output_type": "display_data"
    }
   ],
   "source": [
    "print('No. of UNIQUE Groups:', ageGenderTrain.group.nunique())\n",
    "print(ageGenderTrain.group.value_counts())\n",
    "ageGenderTrain.group.value_counts(ascending=False).plot(kind='barh', legend=True, title='Demographic Distribution',\n",
    "                                                        xlabel='Group', ylabel='Count')"
   ]
  },
  {
   "cell_type": "markdown",
   "metadata": {},
   "source": [
    "It can be observed that there are max records for M23-26 and M32-38. Lowest records for F27-28"
   ]
  },
  {
   "cell_type": "markdown",
   "metadata": {
    "colab_type": "text",
    "id": "94tIeRwYcatR"
   },
   "source": [
    "#### EDA for TEST DATA"
   ]
  },
  {
   "cell_type": "code",
   "execution_count": 9,
   "metadata": {
    "colab": {
     "base_uri": "https://localhost:8080/",
     "height": 153
    },
    "colab_type": "code",
    "id": "apcXjFEtcatS",
    "outputId": "c025f4a7-bed0-4378-fa68-04de1425dce8"
   },
   "outputs": [
    {
     "name": "stdout",
     "output_type": "stream",
     "text": [
      "(112071, 1)\n",
      "Columns in TEST Data: ['device_id']\n",
      "\n",
      "Data has any NULL Value: \n",
      " device_id    False\n",
      "dtype: bool\n",
      "\n",
      "No. of DUPLICATE records:  0\n"
     ]
    }
   ],
   "source": [
    "print(ageGenderTest.shape)\n",
    "print('Columns in TEST Data:', ageGenderTest.columns.values)\n",
    "print('\\nData has any NULL Value: \\n', ageGenderTest.isnull().any())\n",
    "print('\\nNo. of DUPLICATE records: ', ageGenderTest.duplicated().sum())"
   ]
  },
  {
   "cell_type": "markdown",
   "metadata": {},
   "source": [
    "TEST Data has only DEVICE-ID information."
   ]
  },
  {
   "cell_type": "markdown",
   "metadata": {
    "colab_type": "text",
    "id": "yHawseYccatU"
   },
   "source": [
    "## 3.2 Working on PHONE BRAND"
   ]
  },
  {
   "cell_type": "code",
   "execution_count": 10,
   "metadata": {
    "colab": {
     "base_uri": "https://localhost:8080/",
     "height": 204
    },
    "colab_type": "code",
    "id": "bUiwA0xgcatV",
    "outputId": "c36b53f8-ab79-49ae-ec51-b2abec3d1f1e"
   },
   "outputs": [
    {
     "name": "stdout",
     "output_type": "stream",
     "text": [
      "(187245, 3)\n",
      "\n",
      "Columns:  Index(['device_id', 'phone_brand', 'device_model'], dtype='object')\n",
      "\n",
      "Finding columns with any NULL value:\n",
      "device_id       False\n",
      "phone_brand     False\n",
      "device_model    False\n",
      "dtype: bool\n",
      "\n",
      "No. of Duplicate Records:  523\n"
     ]
    }
   ],
   "source": [
    "print(phoneBrand.shape) #There are 1,87,245 records\n",
    "print('\\nColumns: ',phoneBrand.columns) #Columns - device_id, phone_brand, device_model\n",
    "print('\\nFinding columns with any NULL value:')\n",
    "print(phoneBrand.isnull().any()) # No field is empty\n",
    "print('\\nNo. of Duplicate Records: ',phoneBrand.duplicated().sum())"
   ]
  },
  {
   "cell_type": "code",
   "execution_count": 11,
   "metadata": {
    "colab": {},
    "colab_type": "code",
    "id": "0XFWaZzTcatX"
   },
   "outputs": [],
   "source": [
    "phoneBrand.drop_duplicates(keep='first', inplace=True)"
   ]
  },
  {
   "cell_type": "markdown",
   "metadata": {
    "colab_type": "text",
    "id": "ksj-M5lhcata"
   },
   "source": [
    "#### EDA for DEVICE_ID"
   ]
  },
  {
   "cell_type": "code",
   "execution_count": 12,
   "metadata": {
    "colab": {
     "base_uri": "https://localhost:8080/",
     "height": 51
    },
    "colab_type": "code",
    "id": "QMFo4p7Tcata",
    "outputId": "4e7a9fe9-f22c-4f5a-fc84-5a599a9dc7e6"
   },
   "outputs": [
    {
     "name": "stdout",
     "output_type": "stream",
     "text": [
      "No. of Unique Records:  186716\n",
      "Duplicate DEVICE_IDs:  6\n"
     ]
    }
   ],
   "source": [
    "print('No. of Unique Records: ',phoneBrand.device_id.nunique()) \n",
    "print('Duplicate DEVICE_IDs: ',phoneBrand.device_id.duplicated().sum()) "
   ]
  },
  {
   "cell_type": "code",
   "execution_count": 13,
   "metadata": {
    "colab": {},
    "colab_type": "code",
    "id": "50Z7xQlFcate"
   },
   "outputs": [],
   "source": [
    "phoneBrand = phoneBrand.drop_duplicates(subset=['device_id'], keep='first') #Removing Duplicates"
   ]
  },
  {
   "cell_type": "code",
   "execution_count": 14,
   "metadata": {
    "colab": {
     "base_uri": "https://localhost:8080/",
     "height": 34
    },
    "colab_type": "code",
    "id": "0LUg_uPlcath",
    "outputId": "5a16e929-0a5d-42ce-dcc7-3840850273c0"
   },
   "outputs": [
    {
     "data": {
      "text/plain": [
       "(186716, 3)"
      ]
     },
     "execution_count": 14,
     "metadata": {},
     "output_type": "execute_result"
    }
   ],
   "source": [
    "phoneBrand.shape"
   ]
  },
  {
   "cell_type": "markdown",
   "metadata": {
    "colab_type": "text",
    "id": "ygBPpClVcatl"
   },
   "source": [
    "#### EDA for PHONE_BRAND"
   ]
  },
  {
   "cell_type": "code",
   "execution_count": 15,
   "metadata": {
    "colab": {
     "base_uri": "https://localhost:8080/",
     "height": 503
    },
    "colab_type": "code",
    "id": "HCN3uV9Ncatm",
    "outputId": "509f85a7-13d1-4259-e54a-6d80ee2ed7fc"
   },
   "outputs": [
    {
     "name": "stdout",
     "output_type": "stream",
     "text": [
      "Unique Phone Brands are:  131\n",
      "小米      43107\n",
      "三星      34191\n",
      "华为      32465\n",
      "vivo    14342\n",
      "OPPO    14239\n",
      "        ...  \n",
      "西门子         1\n",
      "嘉源          1\n",
      "碟米          1\n",
      "极米          1\n",
      "瑞高          1\n",
      "Name: phone_brand, Length: 131, dtype: int64\n"
     ]
    },
    {
     "data": {
      "text/plain": [
       "<AxesSubplot:title={'center':'Phone Brands Distribution'}, xlabel='Phone Brand', ylabel='Count'>"
      ]
     },
     "execution_count": 15,
     "metadata": {},
     "output_type": "execute_result"
    },
    {
     "data": {
      "image/png": "[encoded data removed]",
      "text/plain": [
       "<Figure size 432x288 with 1 Axes>"
      ]
     },
     "metadata": {
      "needs_background": "light"
     },
     "output_type": "display_data"
    }
   ],
   "source": [
    "print('Unique Phone Brands are: ',phoneBrand.phone_brand.nunique())\n",
    "print(phoneBrand.phone_brand.value_counts())\n",
    "phoneBrand.phone_brand.value_counts().plot.line(legend=True, title='Phone Brands Distribution', \n",
    "                                                xlabel='Phone Brand', ylabel='Count') # Some brands are frequently used"
   ]
  },
  {
   "cell_type": "markdown",
   "metadata": {},
   "source": [
    "Some phone brands are very common. But, most of the phone brands are not widely used. Below graphs will show us top-20 and bottom-20 phone brands"
   ]
  },
  {
   "cell_type": "code",
   "execution_count": 16,
   "metadata": {
    "colab": {
     "base_uri": "https://localhost:8080/",
     "height": 282
    },
    "colab_type": "code",
    "id": "SzaKrK0Acato",
    "outputId": "5072eee8-79d1-438b-e774-4cbfadec2e33"
   },
   "outputs": [
    {
     "data": {
      "text/plain": [
       "<AxesSubplot:title={'center':'Top-20 Phone Brands'}, ylabel='Phone Brand'>"
      ]
     },
     "execution_count": 16,
     "metadata": {},
     "output_type": "execute_result"
    },
    {
     "data": {
      "image/png": "[encoded data removed]",
      "text/plain": [
       "<Figure size 432x288 with 1 Axes>"
      ]
     },
     "metadata": {
      "needs_background": "light"
     },
     "output_type": "display_data"
    }
   ],
   "source": [
    "phoneBrand.phone_brand.value_counts(sort=True, ascending=False)[:20].plot.barh(legend=True, title='Top-20 Phone Brands', \n",
    "                                                                               xlabel='Phone Brand', ylabel='Count')"
   ]
  },
  {
   "cell_type": "markdown",
   "metadata": {},
   "source": [
    "It can be seen that around 6 phone brands have device_ids more than 10K."
   ]
  },
  {
   "cell_type": "code",
   "execution_count": 17,
   "metadata": {
    "colab": {
     "base_uri": "https://localhost:8080/",
     "height": 282
    },
    "colab_type": "code",
    "id": "mVo4wttxcats",
    "outputId": "80e4d3ec-da14-4638-9519-715857cd3d5c"
   },
   "outputs": [
    {
     "data": {
      "text/plain": [
       "<AxesSubplot:title={'center':'Bottom-20 Phone Brands'}, ylabel='Phone Brand'>"
      ]
     },
     "execution_count": 17,
     "metadata": {},
     "output_type": "execute_result"
    },
    {
     "data": {
      "image/png": "[encoded data removed]",
      "text/plain": [
       "<Figure size 432x288 with 1 Axes>"
      ]
     },
     "metadata": {
      "needs_background": "light"
     },
     "output_type": "display_data"
    }
   ],
   "source": [
    "phoneBrand.phone_brand.value_counts(ascending=True)[:20].plot.barh(legend=True, title='Bottom-20 Phone Brands', \n",
    "                                                                   xlabel='Phone Brand', ylabel='Count')"
   ]
  },
  {
   "cell_type": "markdown",
   "metadata": {},
   "source": [
    "And most of the phone brands have very less frequency in the dataset"
   ]
  },
  {
   "cell_type": "markdown",
   "metadata": {},
   "source": [
    "##### So, we can conclude that there are certain PHONE-BRANDS that are widely used whereas some are rarely used"
   ]
  },
  {
   "cell_type": "markdown",
   "metadata": {
    "colab_type": "text",
    "id": "jNlgj2cHcatu"
   },
   "source": [
    "#### EDA for DEVICE_MODEL"
   ]
  },
  {
   "cell_type": "code",
   "execution_count": 18,
   "metadata": {
    "colab": {
     "base_uri": "https://localhost:8080/",
     "height": 503
    },
    "colab_type": "code",
    "id": "-yF_tstYcatv",
    "outputId": "dff13f18-dba9-4e74-898f-8d561b3d3ff3"
   },
   "outputs": [
    {
     "name": "stdout",
     "output_type": "stream",
     "text": [
      "Unique DEVICE MODELs: 1599\n",
      "红米note             7343\n",
      "MI 3               5699\n",
      "MI 2S              5301\n",
      "Galaxy Note 3      5010\n",
      "MI 4               4788\n",
      "                   ... \n",
      "DM                    1\n",
      "飞马3                   1\n",
      "A269                  1\n",
      "Galaxy S DUOS 2       1\n",
      "2016版 Galaxy J7       1\n",
      "Name: device_model, Length: 1599, dtype: int64\n"
     ]
    },
    {
     "data": {
      "text/plain": [
       "<AxesSubplot:title={'center':'Device Model Distribution'}, xlabel='Device Model', ylabel='Count'>"
      ]
     },
     "execution_count": 18,
     "metadata": {},
     "output_type": "execute_result"
    },
    {
     "data": {
      "image/png": "[encoded data removed]",
      "text/plain": [
       "<Figure size 432x288 with 1 Axes>"
      ]
     },
     "metadata": {
      "needs_background": "light"
     },
     "output_type": "display_data"
    }
   ],
   "source": [
    "print('Unique DEVICE MODELs:',phoneBrand.device_model.nunique())\n",
    "print(phoneBrand.device_model.value_counts())\n",
    "phoneBrand.device_model.value_counts().plot.line(legend=True, title='Device Model Distribution', \n",
    "                                                 xlabel='Device Model', ylabel='Count') # Some models are frequently used"
   ]
  },
  {
   "cell_type": "markdown",
   "metadata": {},
   "source": [
    "Same observation for Device Models as well. Some models are very common. But, most of the models are not widely used. Below graphs will show us top-20 and bottom-20 models."
   ]
  },
  {
   "cell_type": "code",
   "execution_count": 19,
   "metadata": {
    "colab": {
     "base_uri": "https://localhost:8080/",
     "height": 282
    },
    "colab_type": "code",
    "id": "JNilg5BJcatx",
    "outputId": "0f5570b7-5ba9-4982-d768-e3325c2af5d4"
   },
   "outputs": [
    {
     "data": {
      "text/plain": [
       "<AxesSubplot:title={'center':'Top-20 Device Models'}, ylabel='Device Model'>"
      ]
     },
     "execution_count": 19,
     "metadata": {},
     "output_type": "execute_result"
    },
    {
     "data": {
      "image/png": "[encoded data removed]",
      "text/plain": [
       "<Figure size 432x288 with 1 Axes>"
      ]
     },
     "metadata": {
      "needs_background": "light"
     },
     "output_type": "display_data"
    }
   ],
   "source": [
    "phoneBrand.device_model.value_counts(ascending=False)[:20].plot.barh(legend=True, title='Top-20 Device Models', \n",
    "                                                                     xlabel='Device Model', ylabel='Count')"
   ]
  },
  {
   "cell_type": "markdown",
   "metadata": {},
   "source": [
    "It can be seen that around 14 models have frequency more than 2K in the dataset."
   ]
  },
  {
   "cell_type": "code",
   "execution_count": 20,
   "metadata": {
    "colab": {
     "base_uri": "https://localhost:8080/",
     "height": 282
    },
    "colab_type": "code",
    "id": "rQA89PKdcat0",
    "outputId": "1665e1a9-efde-4878-e7a7-b33dcfd2c60b"
   },
   "outputs": [
    {
     "data": {
      "text/plain": [
       "<AxesSubplot:title={'center':'Bottom-20 Device Models'}, ylabel='Device Model'>"
      ]
     },
     "execution_count": 20,
     "metadata": {},
     "output_type": "execute_result"
    },
    {
     "data": {
      "image/png": "[encoded data removed]",
      "text/plain": [
       "<Figure size 432x288 with 1 Axes>"
      ]
     },
     "metadata": {
      "needs_background": "light"
     },
     "output_type": "display_data"
    }
   ],
   "source": [
    "phoneBrand.device_model.value_counts(ascending=True)[:20].plot.barh(legend=True, title='Bottom-20 Device Models', \n",
    "                                                                    xlabel='Device Model', ylabel='Count')"
   ]
  },
  {
   "cell_type": "markdown",
   "metadata": {},
   "source": [
    "And most of the models have very less frequency in the dataset"
   ]
  },
  {
   "cell_type": "markdown",
   "metadata": {},
   "source": [
    "##### So, we can conclude that some models are widely used whereas some are very rarely used"
   ]
  },
  {
   "cell_type": "markdown",
   "metadata": {
    "colab_type": "text",
    "id": "k_MRydencat2"
   },
   "source": [
    "## 3.3 EDA for APP_LABELS"
   ]
  },
  {
   "cell_type": "code",
   "execution_count": 21,
   "metadata": {
    "colab": {
     "base_uri": "https://localhost:8080/",
     "height": 204
    },
    "colab_type": "code",
    "id": "_Js9ieyTcat2",
    "outputId": "52b51cd1-d287-4c4b-f9c8-0cd9ef2e170f"
   },
   "outputs": [
    {
     "name": "stdout",
     "output_type": "stream",
     "text": [
      "(459943, 2)\n",
      "\n",
      "Columns:\n",
      " ['app_id' 'label_id']\n",
      "\n",
      "Any Columns with NULL value:\n",
      " app_id      False\n",
      "label_id    False\n",
      "dtype: bool\n",
      "\n",
      "No. of DUPLICATE Records: 491\n"
     ]
    }
   ],
   "source": [
    "print(appLabels.shape) #4,59,943 records\n",
    "print('\\nColumns:\\n',appLabels.columns.values)\n",
    "print('\\nAny Columns with NULL value:\\n', appLabels.isnull().any())\n",
    "print('\\nNo. of DUPLICATE Records:', appLabels.duplicated().sum())"
   ]
  },
  {
   "cell_type": "code",
   "execution_count": 22,
   "metadata": {
    "colab": {
     "base_uri": "https://localhost:8080/",
     "height": 34
    },
    "colab_type": "code",
    "id": "pC9nVovjcat5",
    "outputId": "0a4af7c2-5ad6-4a0d-9614-71383e1c714c"
   },
   "outputs": [
    {
     "data": {
      "text/plain": [
       "(459452, 2)"
      ]
     },
     "execution_count": 22,
     "metadata": {},
     "output_type": "execute_result"
    }
   ],
   "source": [
    "appLabels.drop_duplicates(keep='first', inplace=True)\n",
    "appLabels.shape #4,59,452 records left now"
   ]
  },
  {
   "cell_type": "code",
   "execution_count": 23,
   "metadata": {},
   "outputs": [
    {
     "data": {
      "text/html": [
       "<div>\n",
       "<style scoped>\n",
       "    .dataframe tbody tr th:only-of-type {\n",
       "        vertical-align: middle;\n",
       "    }\n",
       "\n",
       "    .dataframe tbody tr th {\n",
       "        vertical-align: top;\n",
       "    }\n",
       "\n",
       "    .dataframe thead th {\n",
       "        text-align: right;\n",
       "    }\n",
       "</style>\n",
       "<table border=\"1\" class=\"dataframe\">\n",
       "  <thead>\n",
       "    <tr style=\"text-align: right;\">\n",
       "      <th></th>\n",
       "      <th>app_id</th>\n",
       "      <th>label_id</th>\n",
       "    </tr>\n",
       "  </thead>\n",
       "  <tbody>\n",
       "    <tr>\n",
       "      <th>0</th>\n",
       "      <td>7324884708820027918</td>\n",
       "      <td>251</td>\n",
       "    </tr>\n",
       "    <tr>\n",
       "      <th>1</th>\n",
       "      <td>-4494216993218550286</td>\n",
       "      <td>251</td>\n",
       "    </tr>\n",
       "    <tr>\n",
       "      <th>2</th>\n",
       "      <td>6058196446775239644</td>\n",
       "      <td>406</td>\n",
       "    </tr>\n",
       "    <tr>\n",
       "      <th>3</th>\n",
       "      <td>6058196446775239644</td>\n",
       "      <td>407</td>\n",
       "    </tr>\n",
       "    <tr>\n",
       "      <th>4</th>\n",
       "      <td>8694625920731541625</td>\n",
       "      <td>406</td>\n",
       "    </tr>\n",
       "  </tbody>\n",
       "</table>\n",
       "</div>"
      ],
      "text/plain": [
       "                 app_id  label_id\n",
       "0   7324884708820027918       251\n",
       "1  -4494216993218550286       251\n",
       "2   6058196446775239644       406\n",
       "3   6058196446775239644       407\n",
       "4   8694625920731541625       406"
      ]
     },
     "execution_count": 23,
     "metadata": {},
     "output_type": "execute_result"
    }
   ],
   "source": [
    "appLabels.head()"
   ]
  },
  {
   "cell_type": "markdown",
   "metadata": {
    "colab_type": "text",
    "id": "4SBPWzUZcat8"
   },
   "source": [
    "#### EDA for APP_ID"
   ]
  },
  {
   "cell_type": "code",
   "execution_count": 24,
   "metadata": {
    "colab": {
     "base_uri": "https://localhost:8080/",
     "height": 503
    },
    "colab_type": "code",
    "id": "6GmiGyk6cat8",
    "outputId": "855a47f2-69ca-4f6e-e71d-14ec8b45ec08"
   },
   "outputs": [
    {
     "name": "stdout",
     "output_type": "stream",
     "text": [
      "UNIQUE APP IDs: 113211\n",
      "6792270137491452041     25\n",
      "-4550209074213737101    22\n",
      "7334124244583991496     20\n",
      "33792862810792679       20\n",
      "-4581899107652088128    19\n",
      "                        ..\n",
      "-1280969471365101482     1\n",
      "-2565795030628870096     1\n",
      "-9222877069545393219     1\n",
      "-2236783950262793645     1\n",
      "9222488106573038706      1\n",
      "Name: app_id, Length: 113211, dtype: int64\n"
     ]
    },
    {
     "data": {
      "text/plain": [
       "<AxesSubplot:title={'center':'Top-20 APP IDs'}, xlabel='APP IDs', ylabel='Count'>"
      ]
     },
     "execution_count": 24,
     "metadata": {},
     "output_type": "execute_result"
    },
    {
     "data": {
      "image/png": "[encoded data removed]",
      "text/plain": [
       "<Figure size 432x288 with 1 Axes>"
      ]
     },
     "metadata": {
      "needs_background": "light"
     },
     "output_type": "display_data"
    }
   ],
   "source": [
    "print('UNIQUE APP IDs:', appLabels.app_id.nunique() )\n",
    "print(appLabels.app_id.value_counts())\n",
    "appLabels.app_id.value_counts()[:20].sort_values(ascending=False).plot(kind='bar', legend=True, title='Top-20 APP IDs', \n",
    "                                                                       xlabel='APP IDs', ylabel='Count')"
   ]
  },
  {
   "cell_type": "markdown",
   "metadata": {},
   "source": [
    "##### There are some APP-IDs that have multiple labels defined against them whereas most of the APP-IDs have less than 10 labels defined against them."
   ]
  },
  {
   "cell_type": "markdown",
   "metadata": {
    "colab_type": "text",
    "id": "DJbp_UcHcauA"
   },
   "source": [
    "#### EDA for LABEL_ID"
   ]
  },
  {
   "cell_type": "code",
   "execution_count": 25,
   "metadata": {
    "colab": {
     "base_uri": "https://localhost:8080/",
     "height": 503
    },
    "colab_type": "code",
    "id": "4IBw1DivcauC",
    "outputId": "7f004996-5cc7-4c49-f2d9-a83a6da22324"
   },
   "outputs": [
    {
     "name": "stdout",
     "output_type": "stream",
     "text": [
      "UNIQUE APP IDs: 507\n",
      "548    56902\n",
      "405    53936\n",
      "794    49320\n",
      "795    48707\n",
      "704    45697\n",
      "       ...  \n",
      "155        1\n",
      "921        1\n",
      "563        1\n",
      "48         1\n",
      "146        1\n",
      "Name: label_id, Length: 507, dtype: int64\n"
     ]
    },
    {
     "data": {
      "text/plain": [
       "<AxesSubplot:title={'center':'Top-20 Labels'}, xlabel='Label IDs', ylabel='Count'>"
      ]
     },
     "execution_count": 25,
     "metadata": {},
     "output_type": "execute_result"
    },
    {
     "data": {
      "image/png": "[encoded data removed]",
      "text/plain": [
       "<Figure size 432x288 with 1 Axes>"
      ]
     },
     "metadata": {
      "needs_background": "light"
     },
     "output_type": "display_data"
    }
   ],
   "source": [
    "print('UNIQUE APP IDs:', appLabels.label_id.nunique())\n",
    "print(appLabels.label_id.value_counts())\n",
    "appLabels.label_id.value_counts()[:20].sort_values(ascending=False).plot(kind='bar', legend=True, title='Top-20 Labels', \n",
    "                                                                         xlabel='Label IDs', ylabel='Count')"
   ]
  },
  {
   "cell_type": "markdown",
   "metadata": {},
   "source": [
    "##### Similarly, some LABEL-IDs are applied on most of the APP-IDs. But, most of the LABEL-IDs are applied on very few APP-IDs"
   ]
  },
  {
   "cell_type": "markdown",
   "metadata": {
    "colab_type": "text",
    "id": "EvAXOioMcauF"
   },
   "source": [
    "## 3.4 EDA for EVENTS Data"
   ]
  },
  {
   "cell_type": "code",
   "execution_count": 26,
   "metadata": {
    "colab": {
     "base_uri": "https://localhost:8080/",
     "height": 493
    },
    "colab_type": "code",
    "id": "foY6wZtmcauI",
    "outputId": "8f784864-2a5c-4269-8578-5ecc15fd5579"
   },
   "outputs": [
    {
     "name": "stdout",
     "output_type": "stream",
     "text": [
      "(3252950, 5)\n",
      "\n",
      "Columns:\n",
      " ['event_id' 'device_id' 'timestamp' 'longitude' 'latitude']\n",
      "\n",
      "Columns with NULL values:\n",
      " event_id     False\n",
      "device_id    False\n",
      "timestamp    False\n",
      "longitude    False\n",
      "latitude     False\n",
      "dtype: bool\n",
      "\n",
      "No of DUPLICATE Records: 0\n"
     ]
    },
    {
     "data": {
      "text/html": [
       "<div>\n",
       "<style scoped>\n",
       "    .dataframe tbody tr th:only-of-type {\n",
       "        vertical-align: middle;\n",
       "    }\n",
       "\n",
       "    .dataframe tbody tr th {\n",
       "        vertical-align: top;\n",
       "    }\n",
       "\n",
       "    .dataframe thead th {\n",
       "        text-align: right;\n",
       "    }\n",
       "</style>\n",
       "<table border=\"1\" class=\"dataframe\">\n",
       "  <thead>\n",
       "    <tr style=\"text-align: right;\">\n",
       "      <th></th>\n",
       "      <th>event_id</th>\n",
       "      <th>device_id</th>\n",
       "      <th>timestamp</th>\n",
       "      <th>longitude</th>\n",
       "      <th>latitude</th>\n",
       "    </tr>\n",
       "  </thead>\n",
       "  <tbody>\n",
       "    <tr>\n",
       "      <th>0</th>\n",
       "      <td>1</td>\n",
       "      <td>29182687948017175</td>\n",
       "      <td>2016-05-01 00:55:25</td>\n",
       "      <td>121.38</td>\n",
       "      <td>31.24</td>\n",
       "    </tr>\n",
       "    <tr>\n",
       "      <th>1</th>\n",
       "      <td>2</td>\n",
       "      <td>-6401643145415154744</td>\n",
       "      <td>2016-05-01 00:54:12</td>\n",
       "      <td>103.65</td>\n",
       "      <td>30.97</td>\n",
       "    </tr>\n",
       "    <tr>\n",
       "      <th>2</th>\n",
       "      <td>3</td>\n",
       "      <td>-4833982096941402721</td>\n",
       "      <td>2016-05-01 00:08:05</td>\n",
       "      <td>106.60</td>\n",
       "      <td>29.70</td>\n",
       "    </tr>\n",
       "    <tr>\n",
       "      <th>3</th>\n",
       "      <td>4</td>\n",
       "      <td>-6815121365017318426</td>\n",
       "      <td>2016-05-01 00:06:40</td>\n",
       "      <td>104.27</td>\n",
       "      <td>23.28</td>\n",
       "    </tr>\n",
       "    <tr>\n",
       "      <th>4</th>\n",
       "      <td>5</td>\n",
       "      <td>-5373797595892518570</td>\n",
       "      <td>2016-05-01 00:07:18</td>\n",
       "      <td>115.88</td>\n",
       "      <td>28.66</td>\n",
       "    </tr>\n",
       "  </tbody>\n",
       "</table>\n",
       "</div>"
      ],
      "text/plain": [
       "  event_id             device_id           timestamp  longitude  latitude\n",
       "0        1     29182687948017175 2016-05-01 00:55:25     121.38     31.24\n",
       "1        2  -6401643145415154744 2016-05-01 00:54:12     103.65     30.97\n",
       "2        3  -4833982096941402721 2016-05-01 00:08:05     106.60     29.70\n",
       "3        4  -6815121365017318426 2016-05-01 00:06:40     104.27     23.28\n",
       "4        5  -5373797595892518570 2016-05-01 00:07:18     115.88     28.66"
      ]
     },
     "execution_count": 26,
     "metadata": {},
     "output_type": "execute_result"
    }
   ],
   "source": [
    "print(eventsData.shape)\n",
    "print('\\nColumns:\\n', eventsData.columns.values)\n",
    "print('\\nColumns with NULL values:\\n', eventsData.isnull().any())\n",
    "print('\\nNo of DUPLICATE Records:', eventsData.duplicated().sum())\n",
    "eventsData.head()"
   ]
  },
  {
   "cell_type": "code",
   "execution_count": 27,
   "metadata": {
    "colab": {
     "base_uri": "https://localhost:8080/",
     "height": 34
    },
    "colab_type": "code",
    "id": "ctQwBTYHcauK",
    "outputId": "4f37e53e-7a00-41f3-f97f-ddec21196ee6"
   },
   "outputs": [
    {
     "name": "stdout",
     "output_type": "stream",
     "text": [
      "No. of UNIQUE Events: 3252950\n"
     ]
    }
   ],
   "source": [
    "print('No. of UNIQUE Events:', eventsData.event_id.nunique())"
   ]
  },
  {
   "cell_type": "markdown",
   "metadata": {
    "colab_type": "text",
    "id": "JQAW7OARcauN"
   },
   "source": [
    "#### EDA For DEVICE_ID"
   ]
  },
  {
   "cell_type": "code",
   "execution_count": 28,
   "metadata": {
    "colab": {
     "base_uri": "https://localhost:8080/",
     "height": 621
    },
    "colab_type": "code",
    "id": "uGZbuiTxcauN",
    "outputId": "bcd51c94-edae-47e8-cf0a-18713507287a"
   },
   "outputs": [
    {
     "name": "stdout",
     "output_type": "stream",
     "text": [
      "No. of UNIQUE Device IDs: 60865\n",
      "1186608308763918427     33426\n",
      "3915082290673137129     14568\n",
      "-1656894751624916732     6731\n",
      "-6242501228649113250     4150\n",
      "-8340098378141155823     3973\n",
      "                        ...  \n",
      "6960611430997662107         1\n",
      "9146497636646056842         1\n",
      "2473338558743118735         1\n",
      "-134963855807446943         1\n",
      "-6444090527106263724        1\n",
      "Name: device_id, Length: 60865, dtype: int64\n"
     ]
    }
   ],
   "source": [
    "print('No. of UNIQUE Device IDs:', eventsData.device_id.nunique())\n",
    "print(eventsData.device_id.value_counts())"
   ]
  },
  {
   "cell_type": "markdown",
   "metadata": {},
   "source": [
    "There are some devices for which multiple events are generated."
   ]
  },
  {
   "cell_type": "code",
   "execution_count": 29,
   "metadata": {},
   "outputs": [
    {
     "data": {
      "text/plain": [
       "<AxesSubplot:title={'center':'Distribution of Device IDs in the EVENTs Data'}, xlabel='Device ID', ylabel='Count'>"
      ]
     },
     "execution_count": 29,
     "metadata": {},
     "output_type": "execute_result"
    },
    {
     "data": {
      "image/png": "[encoded data removed]",
      "text/plain": [
       "<Figure size 432x288 with 1 Axes>"
      ]
     },
     "metadata": {
      "needs_background": "light"
     },
     "output_type": "display_data"
    }
   ],
   "source": [
    "eventsData.device_id.value_counts()[:25].sort_values(ascending=False).plot.bar(title='Distribution of Device IDs in the EVENTs Data', \n",
    "                                                                               xlabel='Device ID', ylabel='Count')"
   ]
  },
  {
   "cell_type": "markdown",
   "metadata": {},
   "source": [
    "It can be observed that most of the Device IDs have less than 5K events generated. Only 3 devices have more than 5K events generated"
   ]
  },
  {
   "cell_type": "markdown",
   "metadata": {
    "colab_type": "text",
    "id": "LyeXQ9uycauS"
   },
   "source": [
    "#### EDA for TIMESTAMP"
   ]
  },
  {
   "cell_type": "code",
   "execution_count": 30,
   "metadata": {
    "colab": {
     "base_uri": "https://localhost:8080/",
     "height": 316
    },
    "colab_type": "code",
    "id": "E7qIYVjLcauT",
    "outputId": "d96efd16-663a-4a52-d91d-f16149c03e7e"
   },
   "outputs": [
    {
     "name": "stdout",
     "output_type": "stream",
     "text": [
      "Any NULL Record: False\n",
      "Record with Earliest TIMESTAMP: 2016-04-30 23:52:24\n",
      "Record with Latest TIMESTAMP: 2016-05-08 00:00:08\n"
     ]
    }
   ],
   "source": [
    "print('Any NULL Record:', eventsData.timestamp.isnull().any())\n",
    "print('Record with Earliest TIMESTAMP:', eventsData.timestamp.min()) # First event recorded at 30-Apr-2016 23:52:24\n",
    "print('Record with Latest TIMESTAMP:', eventsData.timestamp.max()) # First event recorded at 08-May-2016 00:00:08\n",
    "#----Events Data is available for around 8days----"
   ]
  },
  {
   "cell_type": "markdown",
   "metadata": {
    "colab_type": "text",
    "id": "51RzL5dRcauX"
   },
   "source": [
    "#### EDA for LATITUDE-LONGITUDE"
   ]
  },
  {
   "cell_type": "code",
   "execution_count": 31,
   "metadata": {
    "colab": {
     "base_uri": "https://localhost:8080/",
     "height": 544
    },
    "colab_type": "code",
    "id": "-0w5rJfWcauY",
    "outputId": "379e15e5-092a-4efa-c696-4ebf3e80348e"
   },
   "outputs": [
    {
     "name": "stdout",
     "output_type": "stream",
     "text": [
      "Any NULL Longitude Record: False\n",
      "Any NULL Longitude Record: False\n",
      "Any NULL Latitude Record: False\n",
      "Any NULL Latitude Record: False\n",
      "\n",
      "Distribution of Latitude-Longitude:\n",
      "\n",
      "0.00      2.977946e-01\n",
      "1.00      2.347469e-02\n",
      "104.00    8.600501e-03\n",
      "116.39    4.534653e-03\n",
      "116.33    2.066125e-03\n",
      "              ...     \n",
      "151.18    3.074133e-07\n",
      "101.11    3.074133e-07\n",
      "101.36    3.074133e-07\n",
      "93.49     3.074133e-07\n",
      "122.59    3.074133e-07\n",
      "Name: longitude, Length: 3588, dtype: float64\n",
      " 0.00     2.978696e-01\n",
      " 1.00     2.347869e-02\n",
      " 30.00    8.750826e-03\n",
      " 39.91    5.929695e-03\n",
      " 34.74    2.140826e-03\n",
      "              ...     \n",
      " 18.87    3.074133e-07\n",
      " 46.77    3.074133e-07\n",
      "-8.75     3.074133e-07\n",
      " 44.77    3.074133e-07\n",
      " 43.13    3.074133e-07\n",
      "Name: latitude, Length: 3086, dtype: float64\n"
     ]
    }
   ],
   "source": [
    "print('Any NULL Longitude Record:', eventsData.longitude.isnull().any())\n",
    "print('Any NULL Longitude Record:', eventsData.longitude.isna().any())\n",
    "print('Any NULL Latitude Record:', eventsData.latitude.isnull().any())\n",
    "print('Any NULL Latitude Record:', eventsData.latitude.isna().any())\n",
    "print('\\nDistribution of Latitude-Longitude:\\n')\n",
    "print(eventsData.longitude.value_counts(normalize=True))\n",
    "print(eventsData.latitude.value_counts(normalize=True))"
   ]
  },
  {
   "cell_type": "markdown",
   "metadata": {
    "colab_type": "text",
    "id": "_Sci0_cacaub"
   },
   "source": [
    "<b>Above data shows that almost 30% records have Latitude-Langitude as '0' and 2% records have '1'. \n",
    "    So, this does not seem to be a useful feature</b>"
   ]
  },
  {
   "cell_type": "markdown",
   "metadata": {
    "colab_type": "text",
    "id": "oS9fL7Xpcaub"
   },
   "source": [
    "## 3.5 EDA for APP_EVENTS"
   ]
  },
  {
   "cell_type": "code",
   "execution_count": 32,
   "metadata": {
    "colab": {
     "base_uri": "https://localhost:8080/",
     "height": 391
    },
    "colab_type": "code",
    "id": "t6k8hC_2caub",
    "outputId": "94a0858d-f762-49ed-ee4c-bd4ba74faf93"
   },
   "outputs": [
    {
     "name": "stdout",
     "output_type": "stream",
     "text": [
      "(32473067, 4)\n",
      "Columns:  ['event_id' 'app_id' 'is_installed' 'is_active']\n",
      "\n",
      "Columns with NULL values:\n",
      " event_id        False\n",
      "app_id          False\n",
      "is_installed    False\n",
      "is_active       False\n",
      "dtype: bool\n",
      "\n",
      "Duplicate Records: 0\n"
     ]
    },
    {
     "data": {
      "text/html": [
       "<div>\n",
       "<style scoped>\n",
       "    .dataframe tbody tr th:only-of-type {\n",
       "        vertical-align: middle;\n",
       "    }\n",
       "\n",
       "    .dataframe tbody tr th {\n",
       "        vertical-align: top;\n",
       "    }\n",
       "\n",
       "    .dataframe thead th {\n",
       "        text-align: right;\n",
       "    }\n",
       "</style>\n",
       "<table border=\"1\" class=\"dataframe\">\n",
       "  <thead>\n",
       "    <tr style=\"text-align: right;\">\n",
       "      <th></th>\n",
       "      <th>event_id</th>\n",
       "      <th>app_id</th>\n",
       "      <th>is_installed</th>\n",
       "      <th>is_active</th>\n",
       "    </tr>\n",
       "  </thead>\n",
       "  <tbody>\n",
       "    <tr>\n",
       "      <th>0</th>\n",
       "      <td>2</td>\n",
       "      <td>5927333115845830913</td>\n",
       "      <td>1</td>\n",
       "      <td>1</td>\n",
       "    </tr>\n",
       "    <tr>\n",
       "      <th>1</th>\n",
       "      <td>2</td>\n",
       "      <td>-5720078949152207372</td>\n",
       "      <td>1</td>\n",
       "      <td>0</td>\n",
       "    </tr>\n",
       "    <tr>\n",
       "      <th>2</th>\n",
       "      <td>2</td>\n",
       "      <td>-1633887856876571208</td>\n",
       "      <td>1</td>\n",
       "      <td>0</td>\n",
       "    </tr>\n",
       "    <tr>\n",
       "      <th>3</th>\n",
       "      <td>2</td>\n",
       "      <td>-653184325010919369</td>\n",
       "      <td>1</td>\n",
       "      <td>1</td>\n",
       "    </tr>\n",
       "    <tr>\n",
       "      <th>4</th>\n",
       "      <td>2</td>\n",
       "      <td>8693964245073640147</td>\n",
       "      <td>1</td>\n",
       "      <td>1</td>\n",
       "    </tr>\n",
       "  </tbody>\n",
       "</table>\n",
       "</div>"
      ],
      "text/plain": [
       "  event_id                app_id  is_installed  is_active\n",
       "0        2   5927333115845830913             1          1\n",
       "1        2  -5720078949152207372             1          0\n",
       "2        2  -1633887856876571208             1          0\n",
       "3        2   -653184325010919369             1          1\n",
       "4        2   8693964245073640147             1          1"
      ]
     },
     "execution_count": 32,
     "metadata": {},
     "output_type": "execute_result"
    }
   ],
   "source": [
    "print(appEventsData.shape)\n",
    "print('Columns: ', appEventsData.columns.values)\n",
    "print('\\nColumns with NULL values:\\n', appEventsData.isnull().any())\n",
    "print('\\nDuplicate Records:', appEventsData.duplicated().sum())\n",
    "appEventsData.head()"
   ]
  },
  {
   "cell_type": "markdown",
   "metadata": {
    "colab_type": "text",
    "id": "2pijgzgMcaue"
   },
   "source": [
    "#### EDA for EVENT_ID and APP_ID"
   ]
  },
  {
   "cell_type": "code",
   "execution_count": 33,
   "metadata": {
    "colab": {
     "base_uri": "https://localhost:8080/",
     "height": 553
    },
    "colab_type": "code",
    "id": "s2EJo3OUcauf",
    "outputId": "92259782-08d7-4063-9ec8-13c97eccf045"
   },
   "outputs": [
    {
     "name": "stdout",
     "output_type": "stream",
     "text": [
      "No. of UNIQUE Events: 1488096\n",
      "\n",
      "APP ID Distribution:\n",
      " 8693964245073640147    1151391\n",
      "5927333115845830913     898788\n",
      "4348659952760821294     795995\n",
      "628020936226491308      620659\n",
      "3433289601737013244     373186\n",
      "                        ...   \n",
      "6375709340621330499          1\n",
      "3811327208780951753          1\n",
      "4559633797604230781          1\n",
      "8290171066357643813          1\n",
      "-114679207763663119          1\n",
      "Name: app_id, Length: 19237, dtype: int64\n"
     ]
    },
    {
     "data": {
      "text/plain": [
       "<AxesSubplot:title={'center':'Distribution of APP IDs - Top-20 APP IDs'}, xlabel='APP IDs', ylabel='Count'>"
      ]
     },
     "execution_count": 33,
     "metadata": {},
     "output_type": "execute_result"
    },
    {
     "data": {
      "image/png": "[encoded data removed]",
      "text/plain": [
       "<Figure size 432x288 with 1 Axes>"
      ]
     },
     "metadata": {
      "needs_background": "light"
     },
     "output_type": "display_data"
    }
   ],
   "source": [
    "print('No. of UNIQUE Events:', appEventsData.event_id.nunique())\n",
    "\n",
    "print('\\nAPP ID Distribution:\\n', appEventsData.app_id.value_counts())\n",
    "appEventsData.app_id.value_counts()[:20].sort_values(ascending=False).plot.bar(title='Distribution of APP IDs - Top-20 APP IDs', \n",
    "                                                                               xlabel='APP IDs', ylabel='Count')"
   ]
  },
  {
   "cell_type": "markdown",
   "metadata": {},
   "source": [
    "Certain APP-IDs are widely generated thru the events. But, most of the APP-IDs are not used frequently."
   ]
  },
  {
   "cell_type": "code",
   "execution_count": 34,
   "metadata": {
    "colab": {
     "base_uri": "https://localhost:8080/",
     "height": 316
    },
    "colab_type": "code",
    "id": "Gng8gkTmcauh",
    "outputId": "02662bfb-2d82-446f-b7f8-787ebd0ee63e"
   },
   "outputs": [
    {
     "name": "stdout",
     "output_type": "stream",
     "text": [
      "IS_INSTALLED Distribution:\n",
      " 1    32473067\n",
      "Name: is_installed, dtype: int64\n"
     ]
    },
    {
     "data": {
      "text/plain": [
       "<AxesSubplot:title={'center':'Distribution of IS_INSTALLED'}, ylabel='is_installed'>"
      ]
     },
     "execution_count": 34,
     "metadata": {},
     "output_type": "execute_result"
    },
    {
     "data": {
      "image/png": "[encoded data removed]",
      "text/plain": [
       "<Figure size 432x288 with 1 Axes>"
      ]
     },
     "metadata": {},
     "output_type": "display_data"
    }
   ],
   "source": [
    "print('IS_INSTALLED Distribution:\\n', appEventsData.is_installed.value_counts())\n",
    "appEventsData.is_installed.value_counts().plot.pie(legend=True, title='Distribution of IS_INSTALLED')"
   ]
  },
  {
   "cell_type": "markdown",
   "metadata": {},
   "source": [
    "##### IS_INSTALLED is set to '1' for all the records. So, this does not seem to be a useful feature. Hence, we can drop it."
   ]
  },
  {
   "cell_type": "code",
   "execution_count": 35,
   "metadata": {
    "colab": {
     "base_uri": "https://localhost:8080/",
     "height": 333
    },
    "colab_type": "code",
    "id": "th3jyYVucauk",
    "outputId": "fe80b02e-be75-4216-a221-aa352e15fa9f"
   },
   "outputs": [
    {
     "name": "stdout",
     "output_type": "stream",
     "text": [
      "IS_ACTIVE Distribution:\n",
      " 0    19740071\n",
      "1    12732996\n",
      "Name: is_active, dtype: int64\n"
     ]
    },
    {
     "data": {
      "text/plain": [
       "0    0.607891\n",
       "1    0.392109\n",
       "Name: is_active, dtype: float64"
      ]
     },
     "execution_count": 35,
     "metadata": {},
     "output_type": "execute_result"
    },
    {
     "data": {
      "image/png": "[encoded data removed]",
      "text/plain": [
       "<Figure size 432x288 with 1 Axes>"
      ]
     },
     "metadata": {},
     "output_type": "display_data"
    }
   ],
   "source": [
    "print('IS_ACTIVE Distribution:\\n', appEventsData.is_active.value_counts())\n",
    "appEventsData.is_active.value_counts().plot.pie(legend=True, title='Distribution of IS_ACTIVE')\n",
    "appEventsData.is_active.value_counts(normalize=True)"
   ]
  },
  {
   "cell_type": "markdown",
   "metadata": {},
   "source": [
    "##### Almost 60% of the APPs are NOT ACTIVE. This might be useful feature."
   ]
  },
  {
   "cell_type": "markdown",
   "metadata": {},
   "source": [
    "## 3.6 SHAPE of the Data"
   ]
  },
  {
   "cell_type": "code",
   "execution_count": 36,
   "metadata": {},
   "outputs": [
    {
     "name": "stdout",
     "output_type": "stream",
     "text": [
      "Train Data Shape:  (74645, 4)\n",
      "Test Data Shape:  (112071, 1)\n",
      "Phone Brand Shape:  (186716, 3)\n",
      "APP Labels Shape:  (459452, 2)\n",
      "EVENTS Data Shape:  (3252950, 5)\n",
      "APP EVENTS Data Shape:  (32473067, 4)\n"
     ]
    }
   ],
   "source": [
    "print('Train Data Shape: ', ageGenderTrain.shape)\n",
    "print('Test Data Shape: ', ageGenderTest.shape)\n",
    "print('Phone Brand Shape: ', phoneBrand.shape)\n",
    "print('APP Labels Shape: ', appLabels.shape)\n",
    "print('EVENTS Data Shape: ', eventsData.shape)\n",
    "print('APP EVENTS Data Shape: ', appEventsData.shape)"
   ]
  },
  {
   "cell_type": "markdown",
   "metadata": {},
   "source": [
    "# 4. Feature Engineering"
   ]
  },
  {
   "cell_type": "markdown",
   "metadata": {},
   "source": [
    "## 4.1. Handling APP_LABEL\n",
    "We observed that one APP_ID is mapped to one or more LABEL_IDs. Hence, instead of keeping separate records for each APP_ID, let's group the data as per APP_ID"
   ]
  },
  {
   "cell_type": "code",
   "execution_count": 37,
   "metadata": {},
   "outputs": [],
   "source": [
    "label = LabelEncoder().fit(appLabels.app_id)\n",
    "appLabels.app_id = label.transform(appLabels.app_id)"
   ]
  },
  {
   "cell_type": "code",
   "execution_count": 38,
   "metadata": {},
   "outputs": [],
   "source": [
    "appLabels = appLabels.groupby('app_id')['label_id'].apply(lambda x: \" \".join(str(s) for s in x))"
   ]
  },
  {
   "cell_type": "code",
   "execution_count": 39,
   "metadata": {},
   "outputs": [
    {
     "name": "stdout",
     "output_type": "stream",
     "text": [
      "(113211,)\n"
     ]
    },
    {
     "data": {
      "text/plain": [
       "app_id\n",
       "0                        710 704 548 810 795 794 405\n",
       "1                        710 704 548 810 795 794 405\n",
       "2                     710 704 548 810 795 794 405 13\n",
       "3                        756 761 787 777 782 405 730\n",
       "4    262 251 405 730 756 759 773 780 786 548 854 870\n",
       "Name: label_id, dtype: object"
      ]
     },
     "execution_count": 39,
     "metadata": {},
     "output_type": "execute_result"
    }
   ],
   "source": [
    "print(appLabels.shape)\n",
    "appLabels.head()"
   ]
  },
  {
   "cell_type": "markdown",
   "metadata": {},
   "source": [
    "## 4.2 Handling APP_EVENTS\n",
    "1. With the newly mapped label_id, we will not map this app_id with the app_id in the APP_EVENTS table\n",
    "2. IS_INSTALLED is '1' for all records. So, this is field is not needed."
   ]
  },
  {
   "cell_type": "markdown",
   "metadata": {},
   "source": [
    "### 4.2.1 Handling 'IS_ACTIVE' field"
   ]
  },
  {
   "cell_type": "code",
   "execution_count": 40,
   "metadata": {},
   "outputs": [
    {
     "name": "stdout",
     "output_type": "stream",
     "text": [
      "(1488096,)\n",
      "(32473067, 2)\n"
     ]
    },
    {
     "data": {
      "text/html": [
       "<div>\n",
       "<style scoped>\n",
       "    .dataframe tbody tr th:only-of-type {\n",
       "        vertical-align: middle;\n",
       "    }\n",
       "\n",
       "    .dataframe tbody tr th {\n",
       "        vertical-align: top;\n",
       "    }\n",
       "\n",
       "    .dataframe thead th {\n",
       "        text-align: right;\n",
       "    }\n",
       "</style>\n",
       "<table border=\"1\" class=\"dataframe\">\n",
       "  <thead>\n",
       "    <tr style=\"text-align: right;\">\n",
       "      <th></th>\n",
       "      <th>event_id</th>\n",
       "      <th>app_id</th>\n",
       "    </tr>\n",
       "  </thead>\n",
       "  <tbody>\n",
       "    <tr>\n",
       "      <th>0</th>\n",
       "      <td>2</td>\n",
       "      <td>5927333115845830913</td>\n",
       "    </tr>\n",
       "    <tr>\n",
       "      <th>1</th>\n",
       "      <td>2</td>\n",
       "      <td>-5720078949152207372</td>\n",
       "    </tr>\n",
       "    <tr>\n",
       "      <th>2</th>\n",
       "      <td>2</td>\n",
       "      <td>-1633887856876571208</td>\n",
       "    </tr>\n",
       "    <tr>\n",
       "      <th>3</th>\n",
       "      <td>2</td>\n",
       "      <td>-653184325010919369</td>\n",
       "    </tr>\n",
       "    <tr>\n",
       "      <th>4</th>\n",
       "      <td>2</td>\n",
       "      <td>8693964245073640147</td>\n",
       "    </tr>\n",
       "  </tbody>\n",
       "</table>\n",
       "</div>"
      ],
      "text/plain": [
       "  event_id                app_id\n",
       "0        2   5927333115845830913\n",
       "1        2  -5720078949152207372\n",
       "2        2  -1633887856876571208\n",
       "3        2   -653184325010919369\n",
       "4        2   8693964245073640147"
      ]
     },
     "execution_count": 40,
     "metadata": {},
     "output_type": "execute_result"
    }
   ],
   "source": [
    "# REF - https://github.com/MahendharReddy16/Talking-data-/blob/master/final%20model.ipynb\n",
    "apps = appEventsData.groupby(\"event_id\")[\"is_active\"].apply(lambda x: \" \".join(str(s) for s in x))\n",
    "print(apps.shape)\n",
    "eventsData['apps_active'] = eventsData.event_id.map(apps)\n",
    "activeAppEvents = eventsData.groupby(\"device_id\")[\"apps_active\"].apply(lambda x: \" \".join(str(s) for s in x if str(s)!='nan'))\n",
    "appEventsData = appEventsData.drop(['is_installed', 'is_active'], axis=1)\n",
    "print(appEventsData.shape)\n",
    "appEventsData.head()"
   ]
  },
  {
   "cell_type": "markdown",
   "metadata": {},
   "source": [
    "### 4.2.2 Handling APP_ID"
   ]
  },
  {
   "cell_type": "code",
   "execution_count": 41,
   "metadata": {},
   "outputs": [
    {
     "name": "stdout",
     "output_type": "stream",
     "text": [
      "(32473067, 3)\n"
     ]
    },
    {
     "data": {
      "text/html": [
       "<div>\n",
       "<style scoped>\n",
       "    .dataframe tbody tr th:only-of-type {\n",
       "        vertical-align: middle;\n",
       "    }\n",
       "\n",
       "    .dataframe tbody tr th {\n",
       "        vertical-align: top;\n",
       "    }\n",
       "\n",
       "    .dataframe thead th {\n",
       "        text-align: right;\n",
       "    }\n",
       "</style>\n",
       "<table border=\"1\" class=\"dataframe\">\n",
       "  <thead>\n",
       "    <tr style=\"text-align: right;\">\n",
       "      <th></th>\n",
       "      <th>event_id</th>\n",
       "      <th>app_id</th>\n",
       "      <th>appids_active</th>\n",
       "    </tr>\n",
       "  </thead>\n",
       "  <tbody>\n",
       "    <tr>\n",
       "      <th>0</th>\n",
       "      <td>2</td>\n",
       "      <td>14966</td>\n",
       "      <td>14966 5676 890 6604 18542 13767 8298 19017 328...</td>\n",
       "    </tr>\n",
       "    <tr>\n",
       "      <th>1</th>\n",
       "      <td>2</td>\n",
       "      <td>5676</td>\n",
       "      <td>14966 5676 890 6604 18542 13767 8298 19017 328...</td>\n",
       "    </tr>\n",
       "    <tr>\n",
       "      <th>2</th>\n",
       "      <td>2</td>\n",
       "      <td>890</td>\n",
       "      <td>14966 5676 890 6604 18542 13767 8298 19017 328...</td>\n",
       "    </tr>\n",
       "    <tr>\n",
       "      <th>3</th>\n",
       "      <td>2</td>\n",
       "      <td>6604</td>\n",
       "      <td>14966 5676 890 6604 18542 13767 8298 19017 328...</td>\n",
       "    </tr>\n",
       "    <tr>\n",
       "      <th>4</th>\n",
       "      <td>2</td>\n",
       "      <td>18542</td>\n",
       "      <td>14966 5676 890 6604 18542 13767 8298 19017 328...</td>\n",
       "    </tr>\n",
       "  </tbody>\n",
       "</table>\n",
       "</div>"
      ],
      "text/plain": [
       "  event_id  app_id                                      appids_active\n",
       "0        2   14966  14966 5676 890 6604 18542 13767 8298 19017 328...\n",
       "1        2    5676  14966 5676 890 6604 18542 13767 8298 19017 328...\n",
       "2        2     890  14966 5676 890 6604 18542 13767 8298 19017 328...\n",
       "3        2    6604  14966 5676 890 6604 18542 13767 8298 19017 328...\n",
       "4        2   18542  14966 5676 890 6604 18542 13767 8298 19017 328..."
      ]
     },
     "execution_count": 41,
     "metadata": {},
     "output_type": "execute_result"
    }
   ],
   "source": [
    "labelE = LabelEncoder().fit(appEventsData.app_id)\n",
    "appEventsData.app_id = labelE.transform(appEventsData.app_id)\n",
    "\n",
    "appids = appEventsData.groupby(\"event_id\")[\"app_id\"].apply(lambda x: \" \".join(str(s) for s in x))\n",
    "\n",
    "appEventsData['appids_active'] = appEventsData.event_id.map(appids)\n",
    "\n",
    "print(appEventsData.shape)\n",
    "appEventsData.head()"
   ]
  },
  {
   "cell_type": "code",
   "execution_count": 42,
   "metadata": {},
   "outputs": [
    {
     "name": "stdout",
     "output_type": "stream",
     "text": [
      "(32473067, 4)\n"
     ]
    },
    {
     "data": {
      "text/html": [
       "<div>\n",
       "<style scoped>\n",
       "    .dataframe tbody tr th:only-of-type {\n",
       "        vertical-align: middle;\n",
       "    }\n",
       "\n",
       "    .dataframe tbody tr th {\n",
       "        vertical-align: top;\n",
       "    }\n",
       "\n",
       "    .dataframe thead th {\n",
       "        text-align: right;\n",
       "    }\n",
       "</style>\n",
       "<table border=\"1\" class=\"dataframe\">\n",
       "  <thead>\n",
       "    <tr style=\"text-align: right;\">\n",
       "      <th></th>\n",
       "      <th>event_id</th>\n",
       "      <th>app_id</th>\n",
       "      <th>appids_active</th>\n",
       "      <th>appLabel</th>\n",
       "    </tr>\n",
       "  </thead>\n",
       "  <tbody>\n",
       "    <tr>\n",
       "      <th>0</th>\n",
       "      <td>2</td>\n",
       "      <td>14966</td>\n",
       "      <td>14966 5676 890 6604 18542 13767 8298 19017 328...</td>\n",
       "      <td>968</td>\n",
       "    </tr>\n",
       "    <tr>\n",
       "      <th>1</th>\n",
       "      <td>2</td>\n",
       "      <td>5676</td>\n",
       "      <td>14966 5676 890 6604 18542 13767 8298 19017 328...</td>\n",
       "      <td>859 854 548</td>\n",
       "    </tr>\n",
       "    <tr>\n",
       "      <th>2</th>\n",
       "      <td>2</td>\n",
       "      <td>890</td>\n",
       "      <td>14966 5676 890 6604 18542 13767 8298 19017 328...</td>\n",
       "      <td>713 704 548</td>\n",
       "    </tr>\n",
       "    <tr>\n",
       "      <th>3</th>\n",
       "      <td>2</td>\n",
       "      <td>6604</td>\n",
       "      <td>14966 5676 890 6604 18542 13767 8298 19017 328...</td>\n",
       "      <td>804 795 794 405</td>\n",
       "    </tr>\n",
       "    <tr>\n",
       "      <th>4</th>\n",
       "      <td>2</td>\n",
       "      <td>18542</td>\n",
       "      <td>14966 5676 890 6604 18542 13767 8298 19017 328...</td>\n",
       "      <td>714 704 548</td>\n",
       "    </tr>\n",
       "  </tbody>\n",
       "</table>\n",
       "</div>"
      ],
      "text/plain": [
       "  event_id  app_id                                      appids_active  \\\n",
       "0        2   14966  14966 5676 890 6604 18542 13767 8298 19017 328...   \n",
       "1        2    5676  14966 5676 890 6604 18542 13767 8298 19017 328...   \n",
       "2        2     890  14966 5676 890 6604 18542 13767 8298 19017 328...   \n",
       "3        2    6604  14966 5676 890 6604 18542 13767 8298 19017 328...   \n",
       "4        2   18542  14966 5676 890 6604 18542 13767 8298 19017 328...   \n",
       "\n",
       "          appLabel  \n",
       "0              968  \n",
       "1      859 854 548  \n",
       "2      713 704 548  \n",
       "3  804 795 794 405  \n",
       "4      714 704 548  "
      ]
     },
     "execution_count": 42,
     "metadata": {},
     "output_type": "execute_result"
    }
   ],
   "source": [
    "appEventsData['appLabel'] = appEventsData['app_id'].map(appLabels)\n",
    "print(appEventsData.shape)\n",
    "appEventsData.head()"
   ]
  },
  {
   "cell_type": "markdown",
   "metadata": {},
   "source": [
    "One Event has many APP_IDs mapped to it. Hence, again grouping on the basis of APP_ID and combining the labels for each event_id"
   ]
  },
  {
   "cell_type": "code",
   "execution_count": 43,
   "metadata": {},
   "outputs": [
    {
     "data": {
      "text/plain": [
       "event_id\n",
       "1000000    711 714 548 704 796 795 794 405 711 714 548 70...\n",
       "1000004    713 704 548 711 714 548 704 812 795 794 405 97...\n",
       "1000005    713 704 548 789 790 787 777 782 405 730 710 71...\n",
       "1000006                                  971 168 223 139 969\n",
       "1000007    862 854 548 710 704 548 548 854 859 714 704 54...\n",
       "Name: appLabel, dtype: object"
      ]
     },
     "execution_count": 43,
     "metadata": {},
     "output_type": "execute_result"
    }
   ],
   "source": [
    "aED = appEventsData.groupby(['event_id'])['appLabel'].apply(lambda x: \" \".join(str(s) for s in x))\n",
    "aED.head()"
   ]
  },
  {
   "cell_type": "code",
   "execution_count": 44,
   "metadata": {},
   "outputs": [
    {
     "data": {
      "text/html": [
       "<div>\n",
       "<style scoped>\n",
       "    .dataframe tbody tr th:only-of-type {\n",
       "        vertical-align: middle;\n",
       "    }\n",
       "\n",
       "    .dataframe tbody tr th {\n",
       "        vertical-align: top;\n",
       "    }\n",
       "\n",
       "    .dataframe thead th {\n",
       "        text-align: right;\n",
       "    }\n",
       "</style>\n",
       "<table border=\"1\" class=\"dataframe\">\n",
       "  <thead>\n",
       "    <tr style=\"text-align: right;\">\n",
       "      <th></th>\n",
       "      <th>event_id</th>\n",
       "      <th>appids_active</th>\n",
       "    </tr>\n",
       "  </thead>\n",
       "  <tbody>\n",
       "    <tr>\n",
       "      <th>0</th>\n",
       "      <td>2</td>\n",
       "      <td>14966 5676 890 6604 18542 13767 8298 19017 328...</td>\n",
       "    </tr>\n",
       "    <tr>\n",
       "      <th>19</th>\n",
       "      <td>6</td>\n",
       "      <td>7562 15377 14966 12359 3012 16348 3570 1598 18...</td>\n",
       "    </tr>\n",
       "    <tr>\n",
       "      <th>57</th>\n",
       "      <td>7</td>\n",
       "      <td>4917 5312 11572 13527 17421 6604 15439 17827 6...</td>\n",
       "    </tr>\n",
       "    <tr>\n",
       "      <th>97</th>\n",
       "      <td>9</td>\n",
       "      <td>7562 4917 7185 15968 14966 13527 5082 18542 28...</td>\n",
       "    </tr>\n",
       "    <tr>\n",
       "      <th>132</th>\n",
       "      <td>16</td>\n",
       "      <td>7562 14092 890 11453 9507 6587 1227 14536 4147...</td>\n",
       "    </tr>\n",
       "  </tbody>\n",
       "</table>\n",
       "</div>"
      ],
      "text/plain": [
       "    event_id                                      appids_active\n",
       "0          2  14966 5676 890 6604 18542 13767 8298 19017 328...\n",
       "19         6  7562 15377 14966 12359 3012 16348 3570 1598 18...\n",
       "57         7  4917 5312 11572 13527 17421 6604 15439 17827 6...\n",
       "97         9  7562 4917 7185 15968 14966 13527 5082 18542 28...\n",
       "132       16  7562 14092 890 11453 9507 6587 1227 14536 4147..."
      ]
     },
     "execution_count": 44,
     "metadata": {},
     "output_type": "execute_result"
    }
   ],
   "source": [
    "appEventsData = appEventsData.drop(['app_id','appLabel'], axis=1)\n",
    "appEventsData.drop_duplicates(keep='first', inplace=True)\n",
    "appEventsData.head()"
   ]
  },
  {
   "cell_type": "markdown",
   "metadata": {},
   "source": [
    "## 4.2 Handling EVENTS\n",
    "<b>Creating 2 new features for DAY of Week and HOUR of Day</b><br>\n",
    "    These 2 features will help to identify which time of the day most events are created and which day of the week there are a lot of events."
   ]
  },
  {
   "cell_type": "code",
   "execution_count": 45,
   "metadata": {
    "colab": {},
    "colab_type": "code",
    "id": "pWI_cqGZcauG"
   },
   "outputs": [],
   "source": [
    "eventsData['dayOfWeek'] = eventsData.timestamp.dt.dayofweek\n",
    "eventsData['activityhour'] = eventsData.timestamp.dt.hour"
   ]
  },
  {
   "cell_type": "markdown",
   "metadata": {},
   "source": [
    "#### Creating additional feature to distinguish which part of day is the event."
   ]
  },
  {
   "cell_type": "code",
   "execution_count": 46,
   "metadata": {},
   "outputs": [],
   "source": [
    "def findDayPart(x):\n",
    "    if (x>21 and x <=23) or (x>=0 and x<=6):\n",
    "        return 0 #NIGHT\n",
    "    if x>6 and x<9:\n",
    "        return 1 #MORNING\n",
    "    if x>=9 and x<=18:\n",
    "        return 2 #PEAKHOURS\n",
    "    if x>18 and x<22:\n",
    "        return 3 #EVENING"
   ]
  },
  {
   "cell_type": "code",
   "execution_count": 47,
   "metadata": {},
   "outputs": [],
   "source": [
    "eventsData['dayPart'] = eventsData['activityhour'].apply(findDayPart)"
   ]
  },
  {
   "cell_type": "markdown",
   "metadata": {},
   "source": [
    "#### Lat-long coorditates for cities in China are in range: \n",
    "    Latitude from 18.24306 to 52.33333 and Longitude from 75.98951 to 134.28917. \n",
    "#### But most of the values in the dataset are either '0' or '1'. \n",
    "#### We cannot find suitable values for such a big dataset. \n",
    "#### Hence, it will be good to remove Latitude and Longitude features"
   ]
  },
  {
   "cell_type": "code",
   "execution_count": 48,
   "metadata": {},
   "outputs": [
    {
     "data": {
      "text/html": [
       "<div>\n",
       "<style scoped>\n",
       "    .dataframe tbody tr th:only-of-type {\n",
       "        vertical-align: middle;\n",
       "    }\n",
       "\n",
       "    .dataframe tbody tr th {\n",
       "        vertical-align: top;\n",
       "    }\n",
       "\n",
       "    .dataframe thead th {\n",
       "        text-align: right;\n",
       "    }\n",
       "</style>\n",
       "<table border=\"1\" class=\"dataframe\">\n",
       "  <thead>\n",
       "    <tr style=\"text-align: right;\">\n",
       "      <th></th>\n",
       "      <th>event_id</th>\n",
       "      <th>device_id</th>\n",
       "      <th>apps_active</th>\n",
       "      <th>dayOfWeek</th>\n",
       "      <th>activityhour</th>\n",
       "      <th>dayPart</th>\n",
       "    </tr>\n",
       "  </thead>\n",
       "  <tbody>\n",
       "    <tr>\n",
       "      <th>0</th>\n",
       "      <td>1</td>\n",
       "      <td>29182687948017175</td>\n",
       "      <td>NaN</td>\n",
       "      <td>6</td>\n",
       "      <td>0</td>\n",
       "      <td>0</td>\n",
       "    </tr>\n",
       "    <tr>\n",
       "      <th>1</th>\n",
       "      <td>2</td>\n",
       "      <td>-6401643145415154744</td>\n",
       "      <td>1 0 0 1 1 1 0 0 0 1 0 0 0 0 0 0 0 1 0</td>\n",
       "      <td>6</td>\n",
       "      <td>0</td>\n",
       "      <td>0</td>\n",
       "    </tr>\n",
       "    <tr>\n",
       "      <th>2</th>\n",
       "      <td>3</td>\n",
       "      <td>-4833982096941402721</td>\n",
       "      <td>NaN</td>\n",
       "      <td>6</td>\n",
       "      <td>0</td>\n",
       "      <td>0</td>\n",
       "    </tr>\n",
       "    <tr>\n",
       "      <th>3</th>\n",
       "      <td>4</td>\n",
       "      <td>-6815121365017318426</td>\n",
       "      <td>NaN</td>\n",
       "      <td>6</td>\n",
       "      <td>0</td>\n",
       "      <td>0</td>\n",
       "    </tr>\n",
       "    <tr>\n",
       "      <th>4</th>\n",
       "      <td>5</td>\n",
       "      <td>-5373797595892518570</td>\n",
       "      <td>NaN</td>\n",
       "      <td>6</td>\n",
       "      <td>0</td>\n",
       "      <td>0</td>\n",
       "    </tr>\n",
       "  </tbody>\n",
       "</table>\n",
       "</div>"
      ],
      "text/plain": [
       "  event_id             device_id                            apps_active  \\\n",
       "0        1     29182687948017175                                    NaN   \n",
       "1        2  -6401643145415154744  1 0 0 1 1 1 0 0 0 1 0 0 0 0 0 0 0 1 0   \n",
       "2        3  -4833982096941402721                                    NaN   \n",
       "3        4  -6815121365017318426                                    NaN   \n",
       "4        5  -5373797595892518570                                    NaN   \n",
       "\n",
       "   dayOfWeek  activityhour  dayPart  \n",
       "0          6             0        0  \n",
       "1          6             0        0  \n",
       "2          6             0        0  \n",
       "3          6             0        0  \n",
       "4          6             0        0  "
      ]
     },
     "execution_count": 48,
     "metadata": {},
     "output_type": "execute_result"
    }
   ],
   "source": [
    "eventsData = eventsData.drop(['timestamp','latitude', 'longitude'], axis=1)\n",
    "eventsData.head()"
   ]
  },
  {
   "cell_type": "markdown",
   "metadata": {},
   "source": [
    "#### Mapping app-labels based on the device_id"
   ]
  },
  {
   "cell_type": "code",
   "execution_count": 49,
   "metadata": {},
   "outputs": [
    {
     "data": {
      "text/html": [
       "<div>\n",
       "<style scoped>\n",
       "    .dataframe tbody tr th:only-of-type {\n",
       "        vertical-align: middle;\n",
       "    }\n",
       "\n",
       "    .dataframe tbody tr th {\n",
       "        vertical-align: top;\n",
       "    }\n",
       "\n",
       "    .dataframe thead th {\n",
       "        text-align: right;\n",
       "    }\n",
       "</style>\n",
       "<table border=\"1\" class=\"dataframe\">\n",
       "  <thead>\n",
       "    <tr style=\"text-align: right;\">\n",
       "      <th></th>\n",
       "      <th>event_id</th>\n",
       "      <th>device_id</th>\n",
       "      <th>apps_active</th>\n",
       "      <th>dayOfWeek</th>\n",
       "      <th>activityhour</th>\n",
       "      <th>dayPart</th>\n",
       "      <th>appLabel</th>\n",
       "    </tr>\n",
       "  </thead>\n",
       "  <tbody>\n",
       "    <tr>\n",
       "      <th>0</th>\n",
       "      <td>1</td>\n",
       "      <td>29182687948017175</td>\n",
       "      <td>NaN</td>\n",
       "      <td>6</td>\n",
       "      <td>0</td>\n",
       "      <td>0</td>\n",
       "      <td>NaN</td>\n",
       "    </tr>\n",
       "    <tr>\n",
       "      <th>1</th>\n",
       "      <td>2</td>\n",
       "      <td>-6401643145415154744</td>\n",
       "      <td>1 0 0 1 1 1 0 0 0 1 0 0 0 0 0 0 0 1 0</td>\n",
       "      <td>6</td>\n",
       "      <td>0</td>\n",
       "      <td>0</td>\n",
       "      <td>968 859 854 548 713 704 548 804 795 794 405 71...</td>\n",
       "    </tr>\n",
       "    <tr>\n",
       "      <th>2</th>\n",
       "      <td>3</td>\n",
       "      <td>-4833982096941402721</td>\n",
       "      <td>NaN</td>\n",
       "      <td>6</td>\n",
       "      <td>0</td>\n",
       "      <td>0</td>\n",
       "      <td>NaN</td>\n",
       "    </tr>\n",
       "    <tr>\n",
       "      <th>3</th>\n",
       "      <td>4</td>\n",
       "      <td>-6815121365017318426</td>\n",
       "      <td>NaN</td>\n",
       "      <td>6</td>\n",
       "      <td>0</td>\n",
       "      <td>0</td>\n",
       "      <td>NaN</td>\n",
       "    </tr>\n",
       "    <tr>\n",
       "      <th>4</th>\n",
       "      <td>5</td>\n",
       "      <td>-5373797595892518570</td>\n",
       "      <td>NaN</td>\n",
       "      <td>6</td>\n",
       "      <td>0</td>\n",
       "      <td>0</td>\n",
       "      <td>NaN</td>\n",
       "    </tr>\n",
       "  </tbody>\n",
       "</table>\n",
       "</div>"
      ],
      "text/plain": [
       "  event_id             device_id                            apps_active  \\\n",
       "0        1     29182687948017175                                    NaN   \n",
       "1        2  -6401643145415154744  1 0 0 1 1 1 0 0 0 1 0 0 0 0 0 0 0 1 0   \n",
       "2        3  -4833982096941402721                                    NaN   \n",
       "3        4  -6815121365017318426                                    NaN   \n",
       "4        5  -5373797595892518570                                    NaN   \n",
       "\n",
       "   dayOfWeek  activityhour  dayPart  \\\n",
       "0          6             0        0   \n",
       "1          6             0        0   \n",
       "2          6             0        0   \n",
       "3          6             0        0   \n",
       "4          6             0        0   \n",
       "\n",
       "                                            appLabel  \n",
       "0                                                NaN  \n",
       "1  968 859 854 548 713 704 548 804 795 794 405 71...  \n",
       "2                                                NaN  \n",
       "3                                                NaN  \n",
       "4                                                NaN  "
      ]
     },
     "execution_count": 49,
     "metadata": {},
     "output_type": "execute_result"
    }
   ],
   "source": [
    "eventsData['appLabel'] = eventsData['event_id'].map(aED)\n",
    "eventsData.head()"
   ]
  },
  {
   "cell_type": "code",
   "execution_count": 50,
   "metadata": {},
   "outputs": [],
   "source": [
    "eventsData.appLabel = eventsData.appLabel.fillna('missing')"
   ]
  },
  {
   "cell_type": "code",
   "execution_count": 51,
   "metadata": {},
   "outputs": [
    {
     "data": {
      "text/plain": [
       "device_id\n",
       "-100015673884079572     714 704 548 803 795 794 405 18 99 803 795 794 ...\n",
       "-1000458529741848912    803 795 794 405 800 795 794 405 714 704 548 81...\n",
       "-1000667340060427374    missing missing missing 873 854 548 706 704 54...\n",
       "-100098646088222553     missing missing missing 857 874 16 548 854 710...\n",
       "-100101996136889832     missing 810 795 794 405 714 704 548 810 795 79...\n",
       "Name: appLabel, dtype: object"
      ]
     },
     "execution_count": 51,
     "metadata": {},
     "output_type": "execute_result"
    }
   ],
   "source": [
    "aData = eventsData.groupby('device_id').appLabel.apply(lambda x: \" \".join(str(s) for s in x))\n",
    "aData.head()"
   ]
  },
  {
   "cell_type": "markdown",
   "metadata": {},
   "source": [
    "## 4.3 Handling PHONE_BRAND_DEVICE_MODEL\n",
    "Instead of keeping device model separate, joining phone_brand and device_model together."
   ]
  },
  {
   "cell_type": "code",
   "execution_count": 52,
   "metadata": {},
   "outputs": [],
   "source": [
    "phoneBrand.device_model = phoneBrand.phone_brand.str.cat(\" \"+phoneBrand.device_model)"
   ]
  },
  {
   "cell_type": "code",
   "execution_count": 53,
   "metadata": {},
   "outputs": [
    {
     "name": "stdout",
     "output_type": "stream",
     "text": [
      "(186716, 3)\n"
     ]
    },
    {
     "data": {
      "text/html": [
       "<div>\n",
       "<style scoped>\n",
       "    .dataframe tbody tr th:only-of-type {\n",
       "        vertical-align: middle;\n",
       "    }\n",
       "\n",
       "    .dataframe tbody tr th {\n",
       "        vertical-align: top;\n",
       "    }\n",
       "\n",
       "    .dataframe thead th {\n",
       "        text-align: right;\n",
       "    }\n",
       "</style>\n",
       "<table border=\"1\" class=\"dataframe\">\n",
       "  <thead>\n",
       "    <tr style=\"text-align: right;\">\n",
       "      <th></th>\n",
       "      <th>device_id</th>\n",
       "      <th>phone_brand</th>\n",
       "      <th>device_model</th>\n",
       "    </tr>\n",
       "  </thead>\n",
       "  <tbody>\n",
       "    <tr>\n",
       "      <th>0</th>\n",
       "      <td>-8890648629457979026</td>\n",
       "      <td>小米</td>\n",
       "      <td>小米 红米</td>\n",
       "    </tr>\n",
       "    <tr>\n",
       "      <th>1</th>\n",
       "      <td>1277779817574759137</td>\n",
       "      <td>小米</td>\n",
       "      <td>小米 mi 2</td>\n",
       "    </tr>\n",
       "    <tr>\n",
       "      <th>2</th>\n",
       "      <td>5137427614288105724</td>\n",
       "      <td>三星</td>\n",
       "      <td>三星 galaxy s4</td>\n",
       "    </tr>\n",
       "    <tr>\n",
       "      <th>3</th>\n",
       "      <td>3669464369358936369</td>\n",
       "      <td>sugar</td>\n",
       "      <td>sugar 时尚手机</td>\n",
       "    </tr>\n",
       "    <tr>\n",
       "      <th>4</th>\n",
       "      <td>-5019277647504317457</td>\n",
       "      <td>三星</td>\n",
       "      <td>三星 galaxy note 2</td>\n",
       "    </tr>\n",
       "  </tbody>\n",
       "</table>\n",
       "</div>"
      ],
      "text/plain": [
       "              device_id phone_brand      device_model\n",
       "0  -8890648629457979026          小米             小米 红米\n",
       "1   1277779817574759137          小米           小米 mi 2\n",
       "2   5137427614288105724          三星      三星 galaxy s4\n",
       "3   3669464369358936369       sugar        sugar 时尚手机\n",
       "4  -5019277647504317457          三星  三星 galaxy note 2"
      ]
     },
     "execution_count": 53,
     "metadata": {},
     "output_type": "execute_result"
    }
   ],
   "source": [
    "phoneBrand.phone_brand = phoneBrand.phone_brand.map(str.strip).map(str.lower)\n",
    "phoneBrand.device_model = phoneBrand.device_model.map(str.strip).map(str.lower)\n",
    "print(phoneBrand.shape)\n",
    "phoneBrand.head()"
   ]
  },
  {
   "cell_type": "markdown",
   "metadata": {},
   "source": [
    "#### Dropping 'appLabel' column from EVENTS and APP_EVENTS data"
   ]
  },
  {
   "cell_type": "code",
   "execution_count": 54,
   "metadata": {},
   "outputs": [
    {
     "name": "stdout",
     "output_type": "stream",
     "text": [
      "['event_id' 'device_id' 'apps_active' 'dayOfWeek' 'activityhour' 'dayPart']\n",
      "['event_id' 'appids_active']\n"
     ]
    }
   ],
   "source": [
    "eventsData = eventsData.drop(['appLabel'], axis=1)\n",
    "\n",
    "print(eventsData.columns.values)\n",
    "print(appEventsData.columns.values)"
   ]
  },
  {
   "cell_type": "markdown",
   "metadata": {
    "colab_type": "text",
    "id": "gxgV0WFycaum"
   },
   "source": [
    "## 4.4 Joining Various Dataset to form Final Datasets"
   ]
  },
  {
   "cell_type": "markdown",
   "metadata": {},
   "source": [
    " ### 4.4.1 Joining GENDER_AGE_TRAIN and PHONE_BRAND on DEVICE_ID"
   ]
  },
  {
   "cell_type": "code",
   "execution_count": 55,
   "metadata": {
    "colab": {
     "base_uri": "https://localhost:8080/",
     "height": 238
    },
    "colab_type": "code",
    "id": "FLapxRoRcaup",
    "outputId": "7806447f-60ce-451e-a1bf-160f3537921a"
   },
   "outputs": [
    {
     "name": "stdout",
     "output_type": "stream",
     "text": [
      "Shape of TRAIN Data after merging: (74645, 6)\n",
      "Shape of TEST Data after merging: (112071, 3)\n"
     ]
    },
    {
     "data": {
      "text/html": [
       "<div>\n",
       "<style scoped>\n",
       "    .dataframe tbody tr th:only-of-type {\n",
       "        vertical-align: middle;\n",
       "    }\n",
       "\n",
       "    .dataframe tbody tr th {\n",
       "        vertical-align: top;\n",
       "    }\n",
       "\n",
       "    .dataframe thead th {\n",
       "        text-align: right;\n",
       "    }\n",
       "</style>\n",
       "<table border=\"1\" class=\"dataframe\">\n",
       "  <thead>\n",
       "    <tr style=\"text-align: right;\">\n",
       "      <th></th>\n",
       "      <th>device_id</th>\n",
       "      <th>gender</th>\n",
       "      <th>age</th>\n",
       "      <th>group</th>\n",
       "      <th>phone_brand</th>\n",
       "      <th>device_model</th>\n",
       "    </tr>\n",
       "  </thead>\n",
       "  <tbody>\n",
       "    <tr>\n",
       "      <th>0</th>\n",
       "      <td>-8076087639492063270</td>\n",
       "      <td>M</td>\n",
       "      <td>35</td>\n",
       "      <td>M32-38</td>\n",
       "      <td>小米</td>\n",
       "      <td>小米 mi 2</td>\n",
       "    </tr>\n",
       "    <tr>\n",
       "      <th>1</th>\n",
       "      <td>-2897161552818060146</td>\n",
       "      <td>M</td>\n",
       "      <td>35</td>\n",
       "      <td>M32-38</td>\n",
       "      <td>小米</td>\n",
       "      <td>小米 mi 2</td>\n",
       "    </tr>\n",
       "    <tr>\n",
       "      <th>2</th>\n",
       "      <td>-8260683887967679142</td>\n",
       "      <td>M</td>\n",
       "      <td>35</td>\n",
       "      <td>M32-38</td>\n",
       "      <td>小米</td>\n",
       "      <td>小米 mi 2</td>\n",
       "    </tr>\n",
       "    <tr>\n",
       "      <th>3</th>\n",
       "      <td>-4938849341048082022</td>\n",
       "      <td>M</td>\n",
       "      <td>30</td>\n",
       "      <td>M29-31</td>\n",
       "      <td>小米</td>\n",
       "      <td>小米 红米note</td>\n",
       "    </tr>\n",
       "    <tr>\n",
       "      <th>4</th>\n",
       "      <td>245133531816851882</td>\n",
       "      <td>M</td>\n",
       "      <td>30</td>\n",
       "      <td>M29-31</td>\n",
       "      <td>小米</td>\n",
       "      <td>小米 mi 3</td>\n",
       "    </tr>\n",
       "  </tbody>\n",
       "</table>\n",
       "</div>"
      ],
      "text/plain": [
       "              device_id gender  age   group phone_brand device_model\n",
       "0  -8076087639492063270      M   35  M32-38          小米      小米 mi 2\n",
       "1  -2897161552818060146      M   35  M32-38          小米      小米 mi 2\n",
       "2  -8260683887967679142      M   35  M32-38          小米      小米 mi 2\n",
       "3  -4938849341048082022      M   30  M29-31          小米    小米 红米note\n",
       "4    245133531816851882      M   30  M29-31          小米      小米 mi 3"
      ]
     },
     "execution_count": 55,
     "metadata": {},
     "output_type": "execute_result"
    }
   ],
   "source": [
    "gatrain = ageGenderTrain.merge(phoneBrand, on='device_id', how='left')\n",
    "gatest = ageGenderTest.merge(phoneBrand, on='device_id', how='left')\n",
    "\n",
    "print('Shape of TRAIN Data after merging:', gatrain.shape)\n",
    "print('Shape of TEST Data after merging:', gatest.shape)\n",
    "\n",
    "gatrain.head()"
   ]
  },
  {
   "cell_type": "code",
   "execution_count": 56,
   "metadata": {},
   "outputs": [
    {
     "name": "stdout",
     "output_type": "stream",
     "text": [
      "Columns:  ['device_id' 'gender' 'age' 'group' 'phone_brand' 'device_model']\n",
      "\n",
      "Columns with NULL values:\n",
      " device_id       False\n",
      "gender          False\n",
      "age             False\n",
      "group           False\n",
      "phone_brand     False\n",
      "device_model    False\n",
      "dtype: bool\n",
      "\n",
      "Duplicate Records: 0\n"
     ]
    }
   ],
   "source": [
    "print('Columns: ', gatrain.columns.values)\n",
    "print('\\nColumns with NULL values:\\n', gatrain.isnull().any())\n",
    "print('\\nDuplicate Records:', gatrain.duplicated().sum())"
   ]
  },
  {
   "cell_type": "markdown",
   "metadata": {},
   "source": [
    "### 4.4.2 Joining EVENTS and APP_EVENTS"
   ]
  },
  {
   "cell_type": "code",
   "execution_count": 57,
   "metadata": {},
   "outputs": [
    {
     "name": "stdout",
     "output_type": "stream",
     "text": [
      "(1488096, 7)\n"
     ]
    },
    {
     "data": {
      "text/html": [
       "<div>\n",
       "<style scoped>\n",
       "    .dataframe tbody tr th:only-of-type {\n",
       "        vertical-align: middle;\n",
       "    }\n",
       "\n",
       "    .dataframe tbody tr th {\n",
       "        vertical-align: top;\n",
       "    }\n",
       "\n",
       "    .dataframe thead th {\n",
       "        text-align: right;\n",
       "    }\n",
       "</style>\n",
       "<table border=\"1\" class=\"dataframe\">\n",
       "  <thead>\n",
       "    <tr style=\"text-align: right;\">\n",
       "      <th></th>\n",
       "      <th>event_id</th>\n",
       "      <th>appids_active</th>\n",
       "      <th>device_id</th>\n",
       "      <th>apps_active</th>\n",
       "      <th>dayOfWeek</th>\n",
       "      <th>activityhour</th>\n",
       "      <th>dayPart</th>\n",
       "    </tr>\n",
       "  </thead>\n",
       "  <tbody>\n",
       "    <tr>\n",
       "      <th>0</th>\n",
       "      <td>2</td>\n",
       "      <td>14966 5676 890 6604 18542 13767 8298 19017 328...</td>\n",
       "      <td>-6401643145415154744</td>\n",
       "      <td>1 0 0 1 1 1 0 0 0 1 0 0 0 0 0 0 0 1 0</td>\n",
       "      <td>6</td>\n",
       "      <td>0</td>\n",
       "      <td>0</td>\n",
       "    </tr>\n",
       "    <tr>\n",
       "      <th>1</th>\n",
       "      <td>6</td>\n",
       "      <td>7562 15377 14966 12359 3012 16348 3570 1598 18...</td>\n",
       "      <td>1476664663289716375</td>\n",
       "      <td>1 1 1 1 1 0 1 0 1 1 0 0 1 0 0 0 1 0 0 0 0 1 1 ...</td>\n",
       "      <td>6</td>\n",
       "      <td>0</td>\n",
       "      <td>0</td>\n",
       "    </tr>\n",
       "    <tr>\n",
       "      <th>2</th>\n",
       "      <td>7</td>\n",
       "      <td>4917 5312 11572 13527 17421 6604 15439 17827 6...</td>\n",
       "      <td>5990807147117726237</td>\n",
       "      <td>0 1 0 0 1 1 0 0 0 1 1 0 1 0 0 0 0 0 1 1 0 0 1 ...</td>\n",
       "      <td>6</td>\n",
       "      <td>0</td>\n",
       "      <td>0</td>\n",
       "    </tr>\n",
       "    <tr>\n",
       "      <th>3</th>\n",
       "      <td>9</td>\n",
       "      <td>7562 4917 7185 15968 14966 13527 5082 18542 28...</td>\n",
       "      <td>-2073340001552902943</td>\n",
       "      <td>0 0 0 0 0 0 0 1 1 1 0 0 0 0 0 0 0 1 0 0 1 0 0 ...</td>\n",
       "      <td>6</td>\n",
       "      <td>0</td>\n",
       "      <td>0</td>\n",
       "    </tr>\n",
       "    <tr>\n",
       "      <th>4</th>\n",
       "      <td>16</td>\n",
       "      <td>7562 14092 890 11453 9507 6587 1227 14536 4147...</td>\n",
       "      <td>9070651185984875886</td>\n",
       "      <td>0 0 0 0 0 0 0 1 0 0 0 0 0 0 0 0 0 0 0 0 0 0 0 ...</td>\n",
       "      <td>6</td>\n",
       "      <td>0</td>\n",
       "      <td>0</td>\n",
       "    </tr>\n",
       "  </tbody>\n",
       "</table>\n",
       "</div>"
      ],
      "text/plain": [
       "  event_id                                      appids_active  \\\n",
       "0        2  14966 5676 890 6604 18542 13767 8298 19017 328...   \n",
       "1        6  7562 15377 14966 12359 3012 16348 3570 1598 18...   \n",
       "2        7  4917 5312 11572 13527 17421 6604 15439 17827 6...   \n",
       "3        9  7562 4917 7185 15968 14966 13527 5082 18542 28...   \n",
       "4       16  7562 14092 890 11453 9507 6587 1227 14536 4147...   \n",
       "\n",
       "              device_id                                        apps_active  \\\n",
       "0  -6401643145415154744              1 0 0 1 1 1 0 0 0 1 0 0 0 0 0 0 0 1 0   \n",
       "1   1476664663289716375  1 1 1 1 1 0 1 0 1 1 0 0 1 0 0 0 1 0 0 0 0 1 1 ...   \n",
       "2   5990807147117726237  0 1 0 0 1 1 0 0 0 1 1 0 1 0 0 0 0 0 1 1 0 0 1 ...   \n",
       "3  -2073340001552902943  0 0 0 0 0 0 0 1 1 1 0 0 0 0 0 0 0 1 0 0 1 0 0 ...   \n",
       "4   9070651185984875886  0 0 0 0 0 0 0 1 0 0 0 0 0 0 0 0 0 0 0 0 0 0 0 ...   \n",
       "\n",
       "   dayOfWeek  activityhour  dayPart  \n",
       "0          6             0        0  \n",
       "1          6             0        0  \n",
       "2          6             0        0  \n",
       "3          6             0        0  \n",
       "4          6             0        0  "
      ]
     },
     "execution_count": 57,
     "metadata": {},
     "output_type": "execute_result"
    }
   ],
   "source": [
    "eventApps=appEventsData.merge(eventsData, how='left',on='event_id')\n",
    "print(eventApps.shape)\n",
    "eventApps.head()"
   ]
  },
  {
   "cell_type": "markdown",
   "metadata": {},
   "source": [
    "#### Checking which records from TRAIN and TEST dataset have EVENTS created against them"
   ]
  },
  {
   "cell_type": "code",
   "execution_count": 58,
   "metadata": {},
   "outputs": [
    {
     "name": "stdout",
     "output_type": "stream",
     "text": [
      "% Train Data with EVENTs Data is: 31.201018152588922 %\n",
      "% Test Data with EVENTs Data is: 31.383676419412694 %\n"
     ]
    }
   ],
   "source": [
    "print(\"% Train Data with EVENTs Data is:\",((gatrain.device_id.isin(eventApps.device_id).sum())/gatrain.shape[0])*100,\"%\")\n",
    "print(\"% Test Data with EVENTs Data is:\",((gatest.device_id.isin(eventApps.device_id).sum())/gatest.shape[0])*100,\"%\")"
   ]
  },
  {
   "cell_type": "markdown",
   "metadata": {},
   "source": [
    "#### This shows that 31% of records of TRAIN and TEST data each have EVENTS data available.\n",
    "#### Thus, we will need to SPLIT the Train and Test Data into TWO groups i] With EVENTS Data and ii] Without EVENTS Data"
   ]
  },
  {
   "cell_type": "markdown",
   "metadata": {
    "colab_type": "text",
    "id": "cM2kZo_Ocaus"
   },
   "source": [
    "### 4.4.3 Forming a dataframe WITH EVENTs DATA"
   ]
  },
  {
   "cell_type": "code",
   "execution_count": 59,
   "metadata": {},
   "outputs": [
    {
     "name": "stdout",
     "output_type": "stream",
     "text": [
      "(23290, 6)\n",
      "(35172, 3)\n"
     ]
    },
    {
     "data": {
      "text/html": [
       "<div>\n",
       "<style scoped>\n",
       "    .dataframe tbody tr th:only-of-type {\n",
       "        vertical-align: middle;\n",
       "    }\n",
       "\n",
       "    .dataframe tbody tr th {\n",
       "        vertical-align: top;\n",
       "    }\n",
       "\n",
       "    .dataframe thead th {\n",
       "        text-align: right;\n",
       "    }\n",
       "</style>\n",
       "<table border=\"1\" class=\"dataframe\">\n",
       "  <thead>\n",
       "    <tr style=\"text-align: right;\">\n",
       "      <th></th>\n",
       "      <th>device_id</th>\n",
       "      <th>gender</th>\n",
       "      <th>age</th>\n",
       "      <th>group</th>\n",
       "      <th>phone_brand</th>\n",
       "      <th>device_model</th>\n",
       "    </tr>\n",
       "  </thead>\n",
       "  <tbody>\n",
       "    <tr>\n",
       "      <th>2</th>\n",
       "      <td>-8260683887967679142</td>\n",
       "      <td>M</td>\n",
       "      <td>35</td>\n",
       "      <td>M32-38</td>\n",
       "      <td>小米</td>\n",
       "      <td>小米 mi 2</td>\n",
       "    </tr>\n",
       "    <tr>\n",
       "      <th>11</th>\n",
       "      <td>7477216237379271436</td>\n",
       "      <td>F</td>\n",
       "      <td>37</td>\n",
       "      <td>F33-42</td>\n",
       "      <td>华为</td>\n",
       "      <td>华为 荣耀6 plus</td>\n",
       "    </tr>\n",
       "    <tr>\n",
       "      <th>13</th>\n",
       "      <td>6352067998666467520</td>\n",
       "      <td>M</td>\n",
       "      <td>32</td>\n",
       "      <td>M32-38</td>\n",
       "      <td>华为</td>\n",
       "      <td>华为 荣耀畅玩4x</td>\n",
       "    </tr>\n",
       "    <tr>\n",
       "      <th>15</th>\n",
       "      <td>1508636020748379883</td>\n",
       "      <td>F</td>\n",
       "      <td>28</td>\n",
       "      <td>F27-28</td>\n",
       "      <td>华为</td>\n",
       "      <td>华为 荣耀畅玩4x</td>\n",
       "    </tr>\n",
       "    <tr>\n",
       "      <th>18</th>\n",
       "      <td>-6876541075223249434</td>\n",
       "      <td>M</td>\n",
       "      <td>75</td>\n",
       "      <td>M39+</td>\n",
       "      <td>魅族</td>\n",
       "      <td>魅族 魅蓝note</td>\n",
       "    </tr>\n",
       "  </tbody>\n",
       "</table>\n",
       "</div>"
      ],
      "text/plain": [
       "               device_id gender  age   group phone_brand device_model\n",
       "2   -8260683887967679142      M   35  M32-38          小米      小米 mi 2\n",
       "11   7477216237379271436      F   37  F33-42          华为  华为 荣耀6 plus\n",
       "13   6352067998666467520      M   32  M32-38          华为    华为 荣耀畅玩4x\n",
       "15   1508636020748379883      F   28  F27-28          华为    华为 荣耀畅玩4x\n",
       "18  -6876541075223249434      M   75    M39+          魅族    魅族 魅蓝note"
      ]
     },
     "execution_count": 59,
     "metadata": {},
     "output_type": "execute_result"
    }
   ],
   "source": [
    "trainEventData = gatrain.loc[gatrain.device_id.isin(eventApps.device_id)]\n",
    "testEventData = gatest.loc[gatest.device_id.isin(eventApps.device_id)]\n",
    "print(trainEventData.shape)\n",
    "print(testEventData.shape)\n",
    "trainEventData.head()"
   ]
  },
  {
   "cell_type": "code",
   "execution_count": 60,
   "metadata": {},
   "outputs": [
    {
     "name": "stdout",
     "output_type": "stream",
     "text": [
      "(23290, 7)\n",
      "(35172, 4)\n"
     ]
    },
    {
     "data": {
      "text/html": [
       "<div>\n",
       "<style scoped>\n",
       "    .dataframe tbody tr th:only-of-type {\n",
       "        vertical-align: middle;\n",
       "    }\n",
       "\n",
       "    .dataframe tbody tr th {\n",
       "        vertical-align: top;\n",
       "    }\n",
       "\n",
       "    .dataframe thead th {\n",
       "        text-align: right;\n",
       "    }\n",
       "</style>\n",
       "<table border=\"1\" class=\"dataframe\">\n",
       "  <thead>\n",
       "    <tr style=\"text-align: right;\">\n",
       "      <th></th>\n",
       "      <th>device_id</th>\n",
       "      <th>gender</th>\n",
       "      <th>age</th>\n",
       "      <th>group</th>\n",
       "      <th>phone_brand</th>\n",
       "      <th>device_model</th>\n",
       "      <th>appLabel</th>\n",
       "    </tr>\n",
       "  </thead>\n",
       "  <tbody>\n",
       "    <tr>\n",
       "      <th>2</th>\n",
       "      <td>-8260683887967679142</td>\n",
       "      <td>M</td>\n",
       "      <td>35</td>\n",
       "      <td>M32-38</td>\n",
       "      <td>小米</td>\n",
       "      <td>小米 mi 2</td>\n",
       "      <td>179 873 854 548 870 854 548 925 922 927 926 54...</td>\n",
       "    </tr>\n",
       "    <tr>\n",
       "      <th>11</th>\n",
       "      <td>7477216237379271436</td>\n",
       "      <td>F</td>\n",
       "      <td>37</td>\n",
       "      <td>F33-42</td>\n",
       "      <td>华为</td>\n",
       "      <td>华为 荣耀6 plus</td>\n",
       "      <td>710 711 714 548 704 711 714 548 704 812 795 79...</td>\n",
       "    </tr>\n",
       "    <tr>\n",
       "      <th>13</th>\n",
       "      <td>6352067998666467520</td>\n",
       "      <td>M</td>\n",
       "      <td>32</td>\n",
       "      <td>M32-38</td>\n",
       "      <td>华为</td>\n",
       "      <td>华为 荣耀畅玩4x</td>\n",
       "      <td>798 795 794 405 714 704 548 11 968 229 969 714...</td>\n",
       "    </tr>\n",
       "    <tr>\n",
       "      <th>15</th>\n",
       "      <td>1508636020748379883</td>\n",
       "      <td>F</td>\n",
       "      <td>28</td>\n",
       "      <td>F27-28</td>\n",
       "      <td>华为</td>\n",
       "      <td>华为 荣耀畅玩4x</td>\n",
       "      <td>missing missing missing missing 798 795 794 40...</td>\n",
       "    </tr>\n",
       "    <tr>\n",
       "      <th>18</th>\n",
       "      <td>-6876541075223249434</td>\n",
       "      <td>M</td>\n",
       "      <td>75</td>\n",
       "      <td>M39+</td>\n",
       "      <td>魅族</td>\n",
       "      <td>魅族 魅蓝note</td>\n",
       "      <td>missing missing missing missing missing missin...</td>\n",
       "    </tr>\n",
       "  </tbody>\n",
       "</table>\n",
       "</div>"
      ],
      "text/plain": [
       "               device_id gender  age   group phone_brand device_model  \\\n",
       "2   -8260683887967679142      M   35  M32-38          小米      小米 mi 2   \n",
       "11   7477216237379271436      F   37  F33-42          华为  华为 荣耀6 plus   \n",
       "13   6352067998666467520      M   32  M32-38          华为    华为 荣耀畅玩4x   \n",
       "15   1508636020748379883      F   28  F27-28          华为    华为 荣耀畅玩4x   \n",
       "18  -6876541075223249434      M   75    M39+          魅族    魅族 魅蓝note   \n",
       "\n",
       "                                             appLabel  \n",
       "2   179 873 854 548 870 854 548 925 922 927 926 54...  \n",
       "11  710 711 714 548 704 711 714 548 704 812 795 79...  \n",
       "13  798 795 794 405 714 704 548 11 968 229 969 714...  \n",
       "15  missing missing missing missing 798 795 794 40...  \n",
       "18  missing missing missing missing missing missin...  "
      ]
     },
     "execution_count": 60,
     "metadata": {},
     "output_type": "execute_result"
    }
   ],
   "source": [
    "trainEventData['appLabel'] = trainEventData['device_id'].map(aData)\n",
    "\n",
    "testEventData['appLabel'] = testEventData['device_id'].map(aData)\n",
    "\n",
    "print(trainEventData.shape)\n",
    "print(testEventData.shape)\n",
    "trainEventData.head()"
   ]
  },
  {
   "cell_type": "code",
   "execution_count": 61,
   "metadata": {
    "colab": {},
    "colab_type": "code",
    "id": "Pjj4Vz39caut"
   },
   "outputs": [
    {
     "name": "stdout",
     "output_type": "stream",
     "text": [
      "Train Shape after merging: (556375, 13)\n",
      "Test Shape after merging: (889770, 10)\n"
     ]
    },
    {
     "data": {
      "text/html": [
       "<div>\n",
       "<style scoped>\n",
       "    .dataframe tbody tr th:only-of-type {\n",
       "        vertical-align: middle;\n",
       "    }\n",
       "\n",
       "    .dataframe tbody tr th {\n",
       "        vertical-align: top;\n",
       "    }\n",
       "\n",
       "    .dataframe thead th {\n",
       "        text-align: right;\n",
       "    }\n",
       "</style>\n",
       "<table border=\"1\" class=\"dataframe\">\n",
       "  <thead>\n",
       "    <tr style=\"text-align: right;\">\n",
       "      <th></th>\n",
       "      <th>device_id</th>\n",
       "      <th>gender</th>\n",
       "      <th>age</th>\n",
       "      <th>group</th>\n",
       "      <th>phone_brand</th>\n",
       "      <th>device_model</th>\n",
       "      <th>appLabel</th>\n",
       "      <th>event_id</th>\n",
       "      <th>appids_active</th>\n",
       "      <th>apps_active</th>\n",
       "      <th>dayOfWeek</th>\n",
       "      <th>activityhour</th>\n",
       "      <th>dayPart</th>\n",
       "    </tr>\n",
       "  </thead>\n",
       "  <tbody>\n",
       "    <tr>\n",
       "      <th>0</th>\n",
       "      <td>-8260683887967679142</td>\n",
       "      <td>M</td>\n",
       "      <td>35</td>\n",
       "      <td>M32-38</td>\n",
       "      <td>小米</td>\n",
       "      <td>小米 mi 2</td>\n",
       "      <td>179 873 854 548 870 854 548 925 922 927 926 54...</td>\n",
       "      <td>2479656</td>\n",
       "      <td>13233 3797 15473 9014 18629 11645 17917 567 15...</td>\n",
       "      <td>0 0 0 0 1 0 1 0 0 0 0 0 0 1 0 1 0 0 0 0 1 0 0 ...</td>\n",
       "      <td>6</td>\n",
       "      <td>14</td>\n",
       "      <td>2</td>\n",
       "    </tr>\n",
       "    <tr>\n",
       "      <th>1</th>\n",
       "      <td>7477216237379271436</td>\n",
       "      <td>F</td>\n",
       "      <td>37</td>\n",
       "      <td>F33-42</td>\n",
       "      <td>华为</td>\n",
       "      <td>华为 荣耀6 plus</td>\n",
       "      <td>710 711 714 548 704 711 714 548 704 812 795 79...</td>\n",
       "      <td>280934</td>\n",
       "      <td>13260 11067 15377 11720 14966 12359 12500 1110...</td>\n",
       "      <td>0 1 1 1 0 1 0 0 1 0 1 1 0 1 0 0 0 0 1 1 0 0 1 ...</td>\n",
       "      <td>2</td>\n",
       "      <td>14</td>\n",
       "      <td>2</td>\n",
       "    </tr>\n",
       "    <tr>\n",
       "      <th>2</th>\n",
       "      <td>7477216237379271436</td>\n",
       "      <td>F</td>\n",
       "      <td>37</td>\n",
       "      <td>F33-42</td>\n",
       "      <td>华为</td>\n",
       "      <td>华为 荣耀6 plus</td>\n",
       "      <td>710 711 714 548 704 711 714 548 704 812 795 79...</td>\n",
       "      <td>935225</td>\n",
       "      <td>13260 11067 15377 14966 11720 12359 12500 1110...</td>\n",
       "      <td>0 1 1 1 1 1 0 0 1 1 0 1 1 0 1 0 0 0 0 1 1 1 1 ...</td>\n",
       "      <td>4</td>\n",
       "      <td>18</td>\n",
       "      <td>2</td>\n",
       "    </tr>\n",
       "    <tr>\n",
       "      <th>3</th>\n",
       "      <td>7477216237379271436</td>\n",
       "      <td>F</td>\n",
       "      <td>37</td>\n",
       "      <td>F33-42</td>\n",
       "      <td>华为</td>\n",
       "      <td>华为 荣耀6 plus</td>\n",
       "      <td>710 711 714 548 704 711 714 548 704 812 795 79...</td>\n",
       "      <td>1969680</td>\n",
       "      <td>13260 11067 15377 11720 14966 12359 12500 1110...</td>\n",
       "      <td>0 1 1 1 0 1 0 0 1 0 1 1 0 1 0 0 0 0 1 1 0 0 1 ...</td>\n",
       "      <td>2</td>\n",
       "      <td>14</td>\n",
       "      <td>2</td>\n",
       "    </tr>\n",
       "    <tr>\n",
       "      <th>4</th>\n",
       "      <td>6352067998666467520</td>\n",
       "      <td>M</td>\n",
       "      <td>32</td>\n",
       "      <td>M32-38</td>\n",
       "      <td>华为</td>\n",
       "      <td>华为 荣耀畅玩4x</td>\n",
       "      <td>798 795 794 405 714 704 548 11 968 229 969 714...</td>\n",
       "      <td>7665</td>\n",
       "      <td>7562 15377 14966 12359 3570 18542 856 12234 18...</td>\n",
       "      <td>0 1 1 1 1 1 1 0 1 0 1 1 0 0 0 0 1 1 0</td>\n",
       "      <td>3</td>\n",
       "      <td>9</td>\n",
       "      <td>2</td>\n",
       "    </tr>\n",
       "  </tbody>\n",
       "</table>\n",
       "</div>"
      ],
      "text/plain": [
       "              device_id gender  age   group phone_brand device_model  \\\n",
       "0  -8260683887967679142      M   35  M32-38          小米      小米 mi 2   \n",
       "1   7477216237379271436      F   37  F33-42          华为  华为 荣耀6 plus   \n",
       "2   7477216237379271436      F   37  F33-42          华为  华为 荣耀6 plus   \n",
       "3   7477216237379271436      F   37  F33-42          华为  华为 荣耀6 plus   \n",
       "4   6352067998666467520      M   32  M32-38          华为    华为 荣耀畅玩4x   \n",
       "\n",
       "                                            appLabel event_id  \\\n",
       "0  179 873 854 548 870 854 548 925 922 927 926 54...  2479656   \n",
       "1  710 711 714 548 704 711 714 548 704 812 795 79...   280934   \n",
       "2  710 711 714 548 704 711 714 548 704 812 795 79...   935225   \n",
       "3  710 711 714 548 704 711 714 548 704 812 795 79...  1969680   \n",
       "4  798 795 794 405 714 704 548 11 968 229 969 714...     7665   \n",
       "\n",
       "                                       appids_active  \\\n",
       "0  13233 3797 15473 9014 18629 11645 17917 567 15...   \n",
       "1  13260 11067 15377 11720 14966 12359 12500 1110...   \n",
       "2  13260 11067 15377 14966 11720 12359 12500 1110...   \n",
       "3  13260 11067 15377 11720 14966 12359 12500 1110...   \n",
       "4  7562 15377 14966 12359 3570 18542 856 12234 18...   \n",
       "\n",
       "                                         apps_active  dayOfWeek  activityhour  \\\n",
       "0  0 0 0 0 1 0 1 0 0 0 0 0 0 1 0 1 0 0 0 0 1 0 0 ...          6            14   \n",
       "1  0 1 1 1 0 1 0 0 1 0 1 1 0 1 0 0 0 0 1 1 0 0 1 ...          2            14   \n",
       "2  0 1 1 1 1 1 0 0 1 1 0 1 1 0 1 0 0 0 0 1 1 1 1 ...          4            18   \n",
       "3  0 1 1 1 0 1 0 0 1 0 1 1 0 1 0 0 0 0 1 1 0 0 1 ...          2            14   \n",
       "4              0 1 1 1 1 1 1 0 1 0 1 1 0 0 0 0 1 1 0          3             9   \n",
       "\n",
       "   dayPart  \n",
       "0        2  \n",
       "1        2  \n",
       "2        2  \n",
       "3        2  \n",
       "4        2  "
      ]
     },
     "execution_count": 61,
     "metadata": {},
     "output_type": "execute_result"
    }
   ],
   "source": [
    "train1 = trainEventData.merge(eventApps, on='device_id', how='left')\n",
    "test1 = testEventData.merge(eventApps, on='device_id', how='left')\n",
    "\n",
    "print('Train Shape after merging:', train1.shape)\n",
    "print('Test Shape after merging:', test1.shape)\n",
    "train1.head()"
   ]
  },
  {
   "cell_type": "code",
   "execution_count": 62,
   "metadata": {},
   "outputs": [
    {
     "name": "stdout",
     "output_type": "stream",
     "text": [
      "Columns:  ['device_id' 'gender' 'age' 'group' 'phone_brand' 'device_model'\n",
      " 'appLabel' 'event_id' 'appids_active' 'apps_active' 'dayOfWeek'\n",
      " 'activityhour' 'dayPart']\n",
      "\n",
      "Columns with NULL values:\n",
      " device_id        False\n",
      "gender           False\n",
      "age              False\n",
      "group            False\n",
      "phone_brand      False\n",
      "device_model     False\n",
      "appLabel         False\n",
      "event_id         False\n",
      "appids_active    False\n",
      "apps_active      False\n",
      "dayOfWeek        False\n",
      "activityhour     False\n",
      "dayPart          False\n",
      "dtype: bool\n"
     ]
    }
   ],
   "source": [
    "print('Columns: ', train1.columns.values)\n",
    "print('\\nColumns with NULL values:\\n', train1.isnull().any())"
   ]
  },
  {
   "cell_type": "code",
   "execution_count": 63,
   "metadata": {},
   "outputs": [
    {
     "data": {
      "text/plain": [
       "(23290, 0, 0)"
      ]
     },
     "execution_count": 63,
     "metadata": {},
     "output_type": "execute_result"
    }
   ],
   "source": [
    "train1.device_id.nunique(),train1.apps_active.isnull().sum(), train1.appids_active.isnull().sum()"
   ]
  },
  {
   "cell_type": "markdown",
   "metadata": {},
   "source": [
    "### 4.4.4 Forming a dataframe WITHOUT EVENTs DATA"
   ]
  },
  {
   "cell_type": "code",
   "execution_count": 64,
   "metadata": {},
   "outputs": [
    {
     "name": "stdout",
     "output_type": "stream",
     "text": [
      "(51355, 6)\n",
      "(76899, 3)\n"
     ]
    },
    {
     "data": {
      "text/html": [
       "<div>\n",
       "<style scoped>\n",
       "    .dataframe tbody tr th:only-of-type {\n",
       "        vertical-align: middle;\n",
       "    }\n",
       "\n",
       "    .dataframe tbody tr th {\n",
       "        vertical-align: top;\n",
       "    }\n",
       "\n",
       "    .dataframe thead th {\n",
       "        text-align: right;\n",
       "    }\n",
       "</style>\n",
       "<table border=\"1\" class=\"dataframe\">\n",
       "  <thead>\n",
       "    <tr style=\"text-align: right;\">\n",
       "      <th></th>\n",
       "      <th>device_id</th>\n",
       "      <th>gender</th>\n",
       "      <th>age</th>\n",
       "      <th>group</th>\n",
       "      <th>phone_brand</th>\n",
       "      <th>device_model</th>\n",
       "    </tr>\n",
       "  </thead>\n",
       "  <tbody>\n",
       "    <tr>\n",
       "      <th>0</th>\n",
       "      <td>-8076087639492063270</td>\n",
       "      <td>M</td>\n",
       "      <td>35</td>\n",
       "      <td>M32-38</td>\n",
       "      <td>小米</td>\n",
       "      <td>小米 mi 2</td>\n",
       "    </tr>\n",
       "    <tr>\n",
       "      <th>1</th>\n",
       "      <td>-2897161552818060146</td>\n",
       "      <td>M</td>\n",
       "      <td>35</td>\n",
       "      <td>M32-38</td>\n",
       "      <td>小米</td>\n",
       "      <td>小米 mi 2</td>\n",
       "    </tr>\n",
       "    <tr>\n",
       "      <th>3</th>\n",
       "      <td>-4938849341048082022</td>\n",
       "      <td>M</td>\n",
       "      <td>30</td>\n",
       "      <td>M29-31</td>\n",
       "      <td>小米</td>\n",
       "      <td>小米 红米note</td>\n",
       "    </tr>\n",
       "    <tr>\n",
       "      <th>4</th>\n",
       "      <td>245133531816851882</td>\n",
       "      <td>M</td>\n",
       "      <td>30</td>\n",
       "      <td>M29-31</td>\n",
       "      <td>小米</td>\n",
       "      <td>小米 mi 3</td>\n",
       "    </tr>\n",
       "    <tr>\n",
       "      <th>5</th>\n",
       "      <td>-1297074871525174196</td>\n",
       "      <td>F</td>\n",
       "      <td>24</td>\n",
       "      <td>F24-26</td>\n",
       "      <td>oppo</td>\n",
       "      <td>oppo r1c</td>\n",
       "    </tr>\n",
       "  </tbody>\n",
       "</table>\n",
       "</div>"
      ],
      "text/plain": [
       "              device_id gender  age   group phone_brand device_model\n",
       "0  -8076087639492063270      M   35  M32-38          小米      小米 mi 2\n",
       "1  -2897161552818060146      M   35  M32-38          小米      小米 mi 2\n",
       "3  -4938849341048082022      M   30  M29-31          小米    小米 红米note\n",
       "4    245133531816851882      M   30  M29-31          小米      小米 mi 3\n",
       "5  -1297074871525174196      F   24  F24-26        oppo     oppo r1c"
      ]
     },
     "execution_count": 64,
     "metadata": {},
     "output_type": "execute_result"
    }
   ],
   "source": [
    "trainNoEventData = gatrain.loc[~gatrain.device_id.isin(eventApps.device_id)]\n",
    "print(trainNoEventData.shape)\n",
    "\n",
    "testNoEventData = gatest.loc[~gatest.device_id.isin(eventApps.device_id)]\n",
    "print(testNoEventData.shape)\n",
    "\n",
    "trainNoEventData.head()"
   ]
  },
  {
   "cell_type": "markdown",
   "metadata": {},
   "source": [
    "## 4.5 Final Dataset"
   ]
  },
  {
   "cell_type": "code",
   "execution_count": 65,
   "metadata": {},
   "outputs": [],
   "source": [
    "finalTrainEvents = train1\n",
    "finalTestEvents = test1\n",
    "finalTrainNoEvents = trainNoEventData\n",
    "finalTestNoEvents = testNoEventData"
   ]
  },
  {
   "cell_type": "code",
   "execution_count": 66,
   "metadata": {},
   "outputs": [
    {
     "name": "stdout",
     "output_type": "stream",
     "text": [
      "=========================================\n",
      "Train Data WITH Events: (556375, 13)\n",
      "              device_id gender  age   group phone_brand device_model  \\\n",
      "0  -8260683887967679142      M   35  M32-38          小米      小米 mi 2   \n",
      "1   7477216237379271436      F   37  F33-42          华为  华为 荣耀6 plus   \n",
      "2   7477216237379271436      F   37  F33-42          华为  华为 荣耀6 plus   \n",
      "3   7477216237379271436      F   37  F33-42          华为  华为 荣耀6 plus   \n",
      "4   6352067998666467520      M   32  M32-38          华为    华为 荣耀畅玩4x   \n",
      "\n",
      "                                            appLabel event_id  \\\n",
      "0  179 873 854 548 870 854 548 925 922 927 926 54...  2479656   \n",
      "1  710 711 714 548 704 711 714 548 704 812 795 79...   280934   \n",
      "2  710 711 714 548 704 711 714 548 704 812 795 79...   935225   \n",
      "3  710 711 714 548 704 711 714 548 704 812 795 79...  1969680   \n",
      "4  798 795 794 405 714 704 548 11 968 229 969 714...     7665   \n",
      "\n",
      "                                       appids_active  \\\n",
      "0  13233 3797 15473 9014 18629 11645 17917 567 15...   \n",
      "1  13260 11067 15377 11720 14966 12359 12500 1110...   \n",
      "2  13260 11067 15377 14966 11720 12359 12500 1110...   \n",
      "3  13260 11067 15377 11720 14966 12359 12500 1110...   \n",
      "4  7562 15377 14966 12359 3570 18542 856 12234 18...   \n",
      "\n",
      "                                         apps_active  dayOfWeek  activityhour  \\\n",
      "0  0 0 0 0 1 0 1 0 0 0 0 0 0 1 0 1 0 0 0 0 1 0 0 ...          6            14   \n",
      "1  0 1 1 1 0 1 0 0 1 0 1 1 0 1 0 0 0 0 1 1 0 0 1 ...          2            14   \n",
      "2  0 1 1 1 1 1 0 0 1 1 0 1 1 0 1 0 0 0 0 1 1 1 1 ...          4            18   \n",
      "3  0 1 1 1 0 1 0 0 1 0 1 1 0 1 0 0 0 0 1 1 0 0 1 ...          2            14   \n",
      "4              0 1 1 1 1 1 1 0 1 0 1 1 0 0 0 0 1 1 0          3             9   \n",
      "\n",
      "   dayPart  \n",
      "0        2  \n",
      "1        2  \n",
      "2        2  \n",
      "3        2  \n",
      "4        2  \n",
      "=========================================\n",
      "Train Data WITHOUT Events: (51355, 6)\n",
      "=========================================\n"
     ]
    },
    {
     "data": {
      "text/html": [
       "<div>\n",
       "<style scoped>\n",
       "    .dataframe tbody tr th:only-of-type {\n",
       "        vertical-align: middle;\n",
       "    }\n",
       "\n",
       "    .dataframe tbody tr th {\n",
       "        vertical-align: top;\n",
       "    }\n",
       "\n",
       "    .dataframe thead th {\n",
       "        text-align: right;\n",
       "    }\n",
       "</style>\n",
       "<table border=\"1\" class=\"dataframe\">\n",
       "  <thead>\n",
       "    <tr style=\"text-align: right;\">\n",
       "      <th></th>\n",
       "      <th>device_id</th>\n",
       "      <th>gender</th>\n",
       "      <th>age</th>\n",
       "      <th>group</th>\n",
       "      <th>phone_brand</th>\n",
       "      <th>device_model</th>\n",
       "    </tr>\n",
       "  </thead>\n",
       "  <tbody>\n",
       "    <tr>\n",
       "      <th>0</th>\n",
       "      <td>-8076087639492063270</td>\n",
       "      <td>M</td>\n",
       "      <td>35</td>\n",
       "      <td>M32-38</td>\n",
       "      <td>小米</td>\n",
       "      <td>小米 mi 2</td>\n",
       "    </tr>\n",
       "    <tr>\n",
       "      <th>1</th>\n",
       "      <td>-2897161552818060146</td>\n",
       "      <td>M</td>\n",
       "      <td>35</td>\n",
       "      <td>M32-38</td>\n",
       "      <td>小米</td>\n",
       "      <td>小米 mi 2</td>\n",
       "    </tr>\n",
       "    <tr>\n",
       "      <th>2</th>\n",
       "      <td>-4938849341048082022</td>\n",
       "      <td>M</td>\n",
       "      <td>30</td>\n",
       "      <td>M29-31</td>\n",
       "      <td>小米</td>\n",
       "      <td>小米 红米note</td>\n",
       "    </tr>\n",
       "    <tr>\n",
       "      <th>3</th>\n",
       "      <td>245133531816851882</td>\n",
       "      <td>M</td>\n",
       "      <td>30</td>\n",
       "      <td>M29-31</td>\n",
       "      <td>小米</td>\n",
       "      <td>小米 mi 3</td>\n",
       "    </tr>\n",
       "    <tr>\n",
       "      <th>4</th>\n",
       "      <td>-1297074871525174196</td>\n",
       "      <td>F</td>\n",
       "      <td>24</td>\n",
       "      <td>F24-26</td>\n",
       "      <td>oppo</td>\n",
       "      <td>oppo r1c</td>\n",
       "    </tr>\n",
       "  </tbody>\n",
       "</table>\n",
       "</div>"
      ],
      "text/plain": [
       "              device_id gender  age   group phone_brand device_model\n",
       "0  -8076087639492063270      M   35  M32-38          小米      小米 mi 2\n",
       "1  -2897161552818060146      M   35  M32-38          小米      小米 mi 2\n",
       "2  -4938849341048082022      M   30  M29-31          小米    小米 红米note\n",
       "3    245133531816851882      M   30  M29-31          小米      小米 mi 3\n",
       "4  -1297074871525174196      F   24  F24-26        oppo     oppo r1c"
      ]
     },
     "execution_count": 66,
     "metadata": {},
     "output_type": "execute_result"
    }
   ],
   "source": [
    "# REF - https://stackoverflow.com/questions/20490274/how-to-reset-index-in-a-pandas-dataframe\n",
    "print(\"=========================================\")\n",
    "finalTrainEvents.index = pd.RangeIndex(len(finalTrainEvents.index))\n",
    "print('Train Data WITH Events:', finalTrainEvents.shape)\n",
    "print(finalTrainEvents.head())\n",
    "print(\"=========================================\")\n",
    "finalTrainNoEvents.index = pd.RangeIndex(len(finalTrainNoEvents.index))\n",
    "print('Train Data WITHOUT Events:', finalTrainNoEvents.shape)\n",
    "print(\"=========================================\")\n",
    "finalTrainNoEvents.head()"
   ]
  },
  {
   "cell_type": "code",
   "execution_count": 67,
   "metadata": {},
   "outputs": [
    {
     "name": "stdout",
     "output_type": "stream",
     "text": [
      "=========================================\n",
      "Test Data WITH Events: (889770, 10)\n",
      "             device_id phone_brand device_model  \\\n",
      "0  1002079943728939269          小米    小米 小米note   \n",
      "1  1002079943728939269          小米    小米 小米note   \n",
      "2  1002079943728939269          小米    小米 小米note   \n",
      "3  1002079943728939269          小米    小米 小米note   \n",
      "4  1002079943728939269          小米    小米 小米note   \n",
      "\n",
      "                                            appLabel event_id  \\\n",
      "0  968 548 854 860 871 714 723 548 704 707 715 54...   460577   \n",
      "1  968 548 854 860 871 714 723 548 704 707 715 54...   755837   \n",
      "2  968 548 854 860 871 714 723 548 704 707 715 54...  1171252   \n",
      "3  968 548 854 860 871 714 723 548 704 707 715 54...  1805074   \n",
      "4  968 548 854 860 871 714 723 548 704 707 715 54...  2145937   \n",
      "\n",
      "                                       appids_active  \\\n",
      "0  14966 6724 634 9507 18542 8379 16387 13188 163...   \n",
      "1                                         16387 5321   \n",
      "2  14966 6724 634 9507 18542 8379 16387 13188 163...   \n",
      "3  14966 6724 634 9507 18542 8379 16387 13188 163...   \n",
      "4  14966 6724 634 9507 18542 8379 16387 3014 1318...   \n",
      "\n",
      "                                         apps_active  dayOfWeek  activityhour  \\\n",
      "0  0 0 0 0 0 0 1 0 0 0 0 0 0 0 0 0 0 0 0 1 0 0 0 ...          1            21   \n",
      "1                                                1 1          3            22   \n",
      "2  0 0 0 0 0 0 1 0 0 0 0 0 0 0 0 0 0 0 0 1 0 0 0 ...          0             8   \n",
      "3  0 0 0 0 0 0 1 0 0 0 0 0 0 0 0 0 0 0 0 1 0 0 0 ...          6            16   \n",
      "4  0 0 0 0 0 0 1 0 0 0 0 0 0 0 0 0 0 0 0 0 1 0 0 ...          3             8   \n",
      "\n",
      "   dayPart  \n",
      "0        3  \n",
      "1        0  \n",
      "2        1  \n",
      "3        2  \n",
      "4        1  \n",
      "=========================================\n",
      "Test Data WITHOUT Events: (76899, 3)\n",
      "=========================================\n"
     ]
    },
    {
     "data": {
      "text/html": [
       "<div>\n",
       "<style scoped>\n",
       "    .dataframe tbody tr th:only-of-type {\n",
       "        vertical-align: middle;\n",
       "    }\n",
       "\n",
       "    .dataframe tbody tr th {\n",
       "        vertical-align: top;\n",
       "    }\n",
       "\n",
       "    .dataframe thead th {\n",
       "        text-align: right;\n",
       "    }\n",
       "</style>\n",
       "<table border=\"1\" class=\"dataframe\">\n",
       "  <thead>\n",
       "    <tr style=\"text-align: right;\">\n",
       "      <th></th>\n",
       "      <th>device_id</th>\n",
       "      <th>phone_brand</th>\n",
       "      <th>device_model</th>\n",
       "    </tr>\n",
       "  </thead>\n",
       "  <tbody>\n",
       "    <tr>\n",
       "      <th>0</th>\n",
       "      <td>-5893464122623104785</td>\n",
       "      <td>小米</td>\n",
       "      <td>小米 mi 2</td>\n",
       "    </tr>\n",
       "    <tr>\n",
       "      <th>1</th>\n",
       "      <td>-7560708697029818408</td>\n",
       "      <td>小米</td>\n",
       "      <td>小米 mi 2</td>\n",
       "    </tr>\n",
       "    <tr>\n",
       "      <th>2</th>\n",
       "      <td>289797889702373958</td>\n",
       "      <td>小米</td>\n",
       "      <td>小米 红米note</td>\n",
       "    </tr>\n",
       "    <tr>\n",
       "      <th>3</th>\n",
       "      <td>-402874006399730161</td>\n",
       "      <td>小米</td>\n",
       "      <td>小米 红米note</td>\n",
       "    </tr>\n",
       "    <tr>\n",
       "      <th>4</th>\n",
       "      <td>5751283639860028129</td>\n",
       "      <td>三星</td>\n",
       "      <td>三星 galaxy s4</td>\n",
       "    </tr>\n",
       "  </tbody>\n",
       "</table>\n",
       "</div>"
      ],
      "text/plain": [
       "              device_id phone_brand  device_model\n",
       "0  -5893464122623104785          小米       小米 mi 2\n",
       "1  -7560708697029818408          小米       小米 mi 2\n",
       "2    289797889702373958          小米     小米 红米note\n",
       "3   -402874006399730161          小米     小米 红米note\n",
       "4   5751283639860028129          三星  三星 galaxy s4"
      ]
     },
     "execution_count": 67,
     "metadata": {},
     "output_type": "execute_result"
    }
   ],
   "source": [
    "print(\"=========================================\")\n",
    "finalTestEvents.index = pd.RangeIndex(len(finalTestEvents.index))\n",
    "print('Test Data WITH Events:', finalTestEvents.shape)\n",
    "print(finalTestEvents.head())\n",
    "print(\"=========================================\")\n",
    "finalTestNoEvents.index = pd.RangeIndex(len(finalTestNoEvents.index))\n",
    "print('Test Data WITHOUT Events:', finalTestNoEvents.shape)\n",
    "print(\"=========================================\")\n",
    "finalTestNoEvents.head()"
   ]
  },
  {
   "cell_type": "markdown",
   "metadata": {},
   "source": [
    "### 4.5.1 Saving the CSV file"
   ]
  },
  {
   "cell_type": "code",
   "execution_count": 69,
   "metadata": {},
   "outputs": [],
   "source": [
    "finalTrainNoEvents.to_csv('final_train_noevents.csv')\n",
    "finalTestNoEvents.to_csv('final_test_noevents.csv')"
   ]
  },
  {
   "cell_type": "code",
   "execution_count": 70,
   "metadata": {},
   "outputs": [],
   "source": [
    "finalTrainEvents.to_csv('final_train_events.csv')\n",
    "finalTestEvents.to_csv('final_test_events.csv')"
   ]
  },
  {
   "cell_type": "markdown",
   "metadata": {},
   "source": [
    "### 4.5.2 Saving the dataset in a compressed format using FEATHER"
   ]
  },
  {
   "cell_type": "code",
   "execution_count": null,
   "metadata": {},
   "outputs": [],
   "source": [
    "# REF - https://towardsdatascience.com/the-best-format-to-save-pandas-data-414dca023e0d\n",
    "# REF - https://pythontic.com/pandas/serialization/feather\n",
    "finalTrainNoEvents.to_feather('final_train_noevents')\n",
    "finalTestNoEvents.to_feather('final_test_noevents')\n",
    "finalTrainEvents.to_feather('final_train_events')"
   ]
  },
  {
   "cell_type": "code",
   "execution_count": null,
   "metadata": {},
   "outputs": [],
   "source": [
    "finalTestEvents.to_feather('final_test_events')"
   ]
  }
 ],
 "metadata": {
  "colab": {
   "collapsed_sections": [],
   "name": "SelfCaseStudy1_EDA.ipynb",
   "provenance": []
  },
  "kernelspec": {
   "display_name": "Python 3",
   "language": "python",
   "name": "python3"
  },
  "language_info": {
   "codemirror_mode": {
    "name": "ipython",
    "version": 3
   },
   "file_extension": ".py",
   "mimetype": "text/x-python",
   "name": "python",
   "nbconvert_exporter": "python",
   "pygments_lexer": "ipython3",
   "version": "3.7.7"
  }
 },
 "nbformat": 4,
 "nbformat_minor": 1
}
