{
  "nbformat": 4,
  "nbformat_minor": 0,
  "metadata": {
    "accelerator": "GPU",
    "colab": {
      "name": "SelfCaseStudy1_Final_Model_v2 - TFIDF.ipynb",
      "provenance": [],
      "collapsed_sections": [
        "digDGqcvOS2q",
        "OXUE_OHScUnB",
        "XHZn02jCcUnJ",
        "fEFutPdrcUnT",
        "lm4mVlB0cUnX",
        "cP20rTIROS26",
        "_QHwtwyO7lBY",
        "Wnx7ZOkjRdLR",
        "kFtUOwuy4QAn",
        "7bIXgaNTRYef",
        "8hNHRBsUOS3J",
        "UE0ScsXKOTcY",
        "NESQcs4KObS-",
        "dnHgrydFOjUP",
        "GDgU-5g6OmzN",
        "eOp3De24OsNS",
        "IMSFwSQmOS3W",
        "EqahDSa6OS3f",
        "n0LBaVJEPNcZ",
        "JXArvmfUPoPT",
        "N_SDLn6wQKUy",
        "i0gxQA04QSYV",
        "cSGpIhWCQhwT",
        "D9O-whGFOS3o",
        "ZAJp60BtOS3x",
        "kWx3-DGYrpHJ",
        "CeygAWBVrt1a",
        "ESkZKPNnr0gZ",
        "ejgh5BmOOS34",
        "m7cNAa7wOS4C",
        "UsI61H19OS4o",
        "QlLmY4EuOS4r",
        "u2ybxn_1OS4w",
        "UmK0Mhu8OS5A",
        "VWKxMn-fOS5G",
        "vwvFdSGDOS5S",
        "49qTqcKhOS5q",
        "9kcD8gh4OS5t",
        "SnewHXfYOS6N",
        "SdCXPhpGOS6Q",
        "H68FpbwnOS6X",
        "OeHH9VJOOS6Z",
        "dLB3SRvkOS6f",
        "iDKuaZMKOS6i",
        "Fgca5aRPOS60",
        "IHNvrzScOS62",
        "gzcAlM5TOS64",
        "Mwhb1SHuOS67",
        "wD74cW9cOS7A",
        "W2pvZzx_OS7E"
      ]
    },
    "kernelspec": {
      "display_name": "Python 3",
      "language": "python",
      "name": "python3"
    },
    "language_info": {
      "codemirror_mode": {
        "name": "ipython",
        "version": 3
      },
      "file_extension": ".py",
      "mimetype": "text/x-python",
      "name": "python",
      "nbconvert_exporter": "python",
      "pygments_lexer": "ipython3",
      "version": "3.7.7"
    }
  },
  "cells": [
    {
      "cell_type": "code",
      "metadata": {
        "colab_type": "code",
        "id": "nIZhnNN6cZi4",
        "colab": {
          "base_uri": "https://localhost:8080/",
          "height": 121
        },
        "outputId": "71b71523-26fb-4e43-bb3a-575171d00caa"
      },
      "source": [
        "from google.colab import drive\n",
        "drive.mount('/content/gdrive', force_remount=True)"
      ],
      "execution_count": 1,
      "outputs": [
        {
          "output_type": "stream",
          "text": [
            "Go to this URL in a browser: https://accounts.google.com/o/oauth2/auth?client_id=947318989803-6bn6qk8qdgf4n4g3pfee6491hc0brc4i.apps.googleusercontent.com&redirect_uri=urn%3aietf%3awg%3aoauth%3a2.0%3aoob&scope=email%20https%3a%2f%2fwww.googleapis.com%2fauth%2fdocs.test%20https%3a%2f%2fwww.googleapis.com%2fauth%2fdrive%20https%3a%2f%2fwww.googleapis.com%2fauth%2fdrive.photos.readonly%20https%3a%2f%2fwww.googleapis.com%2fauth%2fpeopleapi.readonly&response_type=code\n",
            "\n",
            "Enter your authorization code:\n",
            "··········\n",
            "Mounted at /content/gdrive\n"
          ],
          "name": "stdout"
        }
      ]
    },
    {
      "cell_type": "code",
      "metadata": {
        "colab_type": "code",
        "id": "vU6XHfFPcZPR",
        "colab": {
          "base_uri": "https://localhost:8080/",
          "height": 53
        },
        "outputId": "26ac3fda-b23b-4e40-d413-b7b2aefa7e7d"
      },
      "source": [
        "import os\n",
        "\n",
        "myDir = 'gdrive/My Drive/AAIC_Self_Case_Study_1'\n",
        "print(os.listdir(myDir))\n",
        "os.chdir(myDir)"
      ],
      "execution_count": 2,
      "outputs": [
        {
          "output_type": "stream",
          "text": [
            "['app_events.csv', 'app_labels.csv', 'events.csv', 'gender_age_test.csv', 'gender_age_train.csv', 'label_categories.csv', 'phone_brand_device_model.csv', 'sample_submission.csv', 'totalytrain', 'totalycv', 'totalCVData', 'totaltrainData', 'totaltestData', 'saved_models', 'eventCVData', 'eventtrainData', 'eventytrain', 'eventycv', 'eventtestData', 'prediction_total_data.csv', 'noEventtrainData', 'noEventytrain', 'noEventCVData', 'noEventtestData', 'noEventycv', 'Xnoev_tr', 'ynoev', 'Xnoev_te', 'yev', 'Xev_tr', 'Xev_te', 'prediction_total_data.zip']\n"
          ],
          "name": "stdout"
        }
      ]
    },
    {
      "cell_type": "markdown",
      "metadata": {
        "colab_type": "text",
        "id": "nu6p5BJnOS2l"
      },
      "source": [
        "# Modeling"
      ]
    },
    {
      "cell_type": "markdown",
      "metadata": {
        "colab_type": "text",
        "id": "rw_S9uWWQrco"
      },
      "source": [
        "## Importing Required Library Files"
      ]
    },
    {
      "cell_type": "code",
      "metadata": {
        "colab_type": "code",
        "id": "5zozUXEvOS2m",
        "colab": {
          "base_uri": "https://localhost:8080/",
          "height": 70
        },
        "outputId": "5240c5a8-5b09-42e6-bac6-a3cfc5564a4c"
      },
      "source": [
        "import pandas as pd\n",
        "import numpy as np\n",
        "import matplotlib.pyplot as plt\n",
        "import seaborn as sns\n",
        "import pickle\n",
        "from scipy.sparse import csr_matrix, hstack\n",
        "from collections import Counter\n",
        "from scipy.stats import entropy\n",
        "from statistics import mean\n",
        "\n",
        "import warnings\n",
        "warnings.filterwarnings(\"ignore\")\n",
        "\n",
        "from sklearn.model_selection import train_test_split, RandomizedSearchCV\n",
        "from sklearn.preprocessing import OneHotEncoder, LabelBinarizer, Normalizer, LabelEncoder, StandardScaler\n",
        "from sklearn.feature_extraction.text import CountVectorizer, TfidfVectorizer, HashingVectorizer\n",
        "\n",
        "from sklearn.neighbors import KNeighborsClassifier\n",
        "from sklearn.linear_model import LogisticRegression\n",
        "from sklearn.ensemble import RandomForestClassifier\n",
        "from xgboost import XGBClassifier\n",
        "import xgboost as xgb\n",
        "from lightgbm import LGBMClassifier\n",
        "import lightgbm as lgb\n",
        "\n",
        "import tensorflow as tf\n",
        "from tensorflow.keras.layers import Input, Dense, Conv2D, MaxPool2D, Activation, Dropout, Flatten, PReLU, BatchNormalization\n",
        "from tensorflow.keras.applications import VGG16\n",
        "from tensorflow.keras.models import Model, Sequential\n",
        "from tensorflow.keras.callbacks import Callback, ModelCheckpoint, TensorBoard, EarlyStopping, ReduceLROnPlateau\n",
        "from tensorflow.keras.preprocessing.image import ImageDataGenerator\n",
        "from tensorflow.keras.utils import plot_model\n",
        "from tensorflow.keras.optimizers import Adagrad, Adam, Adadelta, Adamax\n",
        "from keras.utils import np_utils\n",
        "\n",
        "from sklearn.calibration import CalibratedClassifierCV\n",
        "\n",
        "from sklearn.metrics import log_loss\n",
        "\n",
        "from prettytable import PrettyTable"
      ],
      "execution_count": 3,
      "outputs": [
        {
          "output_type": "stream",
          "text": [
            "/usr/local/lib/python3.6/dist-packages/statsmodels/tools/_testing.py:19: FutureWarning: pandas.util.testing is deprecated. Use the functions in the public API at pandas.testing instead.\n",
            "  import pandas.util.testing as tm\n"
          ],
          "name": "stderr"
        }
      ]
    },
    {
      "cell_type": "markdown",
      "metadata": {
        "colab_type": "text",
        "id": "digDGqcvOS2q"
      },
      "source": [
        "## Importing Data Files"
      ]
    },
    {
      "cell_type": "code",
      "metadata": {
        "colab_type": "code",
        "id": "S1S5cmEZOS2q",
        "colab": {
          "base_uri": "https://localhost:8080/",
          "height": 0
        },
        "outputId": "859cd18d-a464-4beb-d3df-d28c31bc77e9"
      },
      "source": [
        "print(\"# Loading Data\")\n",
        "ageGenderTrain = pd.read_csv('gender_age_train.csv', dtype={'device_id':np.str})\n",
        "ageGenderTest = pd.read_csv('gender_age_test.csv', dtype={'device_id':np.str})\n",
        "phoneBrand = pd.read_csv('phone_brand_device_model.csv', dtype={'device_id':np.str})\n",
        "appLabels = pd.read_csv('app_labels.csv', dtype={'app_id':np.str})\n",
        "eventsData = pd.read_csv('events.csv', parse_dates=['timestamp'], dtype={'device_id':np.str, 'event_id':np.str})\n",
        "appEventsData = pd.read_csv('app_events.csv', dtype={'app_id':np.str, 'event_id':np.str})\n",
        "labelCat = pd.read_csv('label_categories.csv', dtype={'category':np.str})\n",
        "print(\"# Data Loaded\")"
      ],
      "execution_count": 4,
      "outputs": [
        {
          "output_type": "stream",
          "text": [
            "# Loading Data\n",
            "# Data Loaded\n"
          ],
          "name": "stdout"
        }
      ]
    },
    {
      "cell_type": "markdown",
      "metadata": {
        "colab_type": "text",
        "id": "AETtpk0NOS2u"
      },
      "source": [
        "# 1. Feature Transformation\n",
        "Following features are created as part of building a model:\n",
        "1. **Label Categories**\n",
        "  1. TFIDF for Label Categories\n",
        "  2. Total DISTINCT Label Categories present per device\n",
        "  3. Proportion of Label Categories present on a device TO total no. of Label Categories\n",
        "2. **Label ID**\n",
        "  1. TFIDF for Label ID\n",
        "  2. Total Label IDs present per device \n",
        "  3. Proportion of Labels present on a device TO total no. of Labels\n",
        "  4. Entropy for Label IDs\n",
        "3. **APP ID**\n",
        "  1. TFIDF for APP ID\n",
        "  2. Total APP IDs present per device \n",
        "  3. Proportion of APPIDs present on a device TO total no. of APPIDs\n",
        "  4. Entropy for APP IDs\n",
        "4. **IS_ACTIVE**\n",
        "  1. TFIDF for IS_ACTIVE\n",
        "  2. Entropy for IS_ACTIVE\n",
        "5. **Phone Brand**\n",
        "  1. TFIDF for Phone Brand\n",
        "6. **Device Model**\n",
        "  1. TFIDF for Device Model\n",
        "7. **Day of Week**\n",
        "  1. One Hot Encoding for Day of Week\n",
        "  2. Entropy for Day of Week\n",
        "8. **Hour of Day**\n",
        "  1. One Hot Encoding for Hour of Day\n",
        "  2. Entropy for Hour of Day\n",
        "9. **Part of Day**\n",
        "  1. One Hot Encoding for Part of Day\n",
        "  2. Entropy for Part of Day\n",
        "10. **Event Count**\n",
        "  1. Count of Events per Device\n",
        "11. **Latitude**\n",
        "  1. One Hot Encoding for Latitude\n",
        "12. **Latitude Region**\n",
        "  1. One Hot Encoding for Latitude Region\n",
        "13. **Longitude**\n",
        "  1. One Hot Encoding for Longitude\n",
        "14. **Longitude Region**\n",
        "  1. One Hot Encoding for Longitude Region"
      ]
    },
    {
      "cell_type": "markdown",
      "metadata": {
        "id": "OXUE_OHScUnB",
        "colab_type": "text"
      },
      "source": [
        "#### Dropping GENDER and AGE Columns as those are not needed."
      ]
    },
    {
      "cell_type": "code",
      "metadata": {
        "colab_type": "code",
        "id": "WeeAXgrMOS2v",
        "colab": {
          "base_uri": "https://localhost:8080/",
          "height": 0
        },
        "outputId": "643820ad-1394-488c-f51a-9ff2387545a7"
      },
      "source": [
        "ageGenderTrain = ageGenderTrain.drop(['gender', 'age'], axis=1)\n",
        "\n",
        "print(\"Train Size:\", ageGenderTrain.shape)\n",
        "print(\"Test Size:\", ageGenderTest.shape)\n",
        "trainrec = ageGenderTrain.shape[0]\n",
        "testrec = ageGenderTest.shape[0]\n",
        "ageGenderTrain.head()"
      ],
      "execution_count": 5,
      "outputs": [
        {
          "output_type": "stream",
          "text": [
            "Train Size: (74645, 2)\n",
            "Test Size: (112071, 1)\n"
          ],
          "name": "stdout"
        },
        {
          "output_type": "execute_result",
          "data": {
            "text/html": [
              "<div>\n",
              "<style scoped>\n",
              "    .dataframe tbody tr th:only-of-type {\n",
              "        vertical-align: middle;\n",
              "    }\n",
              "\n",
              "    .dataframe tbody tr th {\n",
              "        vertical-align: top;\n",
              "    }\n",
              "\n",
              "    .dataframe thead th {\n",
              "        text-align: right;\n",
              "    }\n",
              "</style>\n",
              "<table border=\"1\" class=\"dataframe\">\n",
              "  <thead>\n",
              "    <tr style=\"text-align: right;\">\n",
              "      <th></th>\n",
              "      <th>device_id</th>\n",
              "      <th>group</th>\n",
              "    </tr>\n",
              "  </thead>\n",
              "  <tbody>\n",
              "    <tr>\n",
              "      <th>0</th>\n",
              "      <td>-8076087639492063270</td>\n",
              "      <td>M32-38</td>\n",
              "    </tr>\n",
              "    <tr>\n",
              "      <th>1</th>\n",
              "      <td>-2897161552818060146</td>\n",
              "      <td>M32-38</td>\n",
              "    </tr>\n",
              "    <tr>\n",
              "      <th>2</th>\n",
              "      <td>-8260683887967679142</td>\n",
              "      <td>M32-38</td>\n",
              "    </tr>\n",
              "    <tr>\n",
              "      <th>3</th>\n",
              "      <td>-4938849341048082022</td>\n",
              "      <td>M29-31</td>\n",
              "    </tr>\n",
              "    <tr>\n",
              "      <th>4</th>\n",
              "      <td>245133531816851882</td>\n",
              "      <td>M29-31</td>\n",
              "    </tr>\n",
              "  </tbody>\n",
              "</table>\n",
              "</div>"
            ],
            "text/plain": [
              "              device_id   group\n",
              "0  -8076087639492063270  M32-38\n",
              "1  -2897161552818060146  M32-38\n",
              "2  -8260683887967679142  M32-38\n",
              "3  -4938849341048082022  M29-31\n",
              "4    245133531816851882  M29-31"
            ]
          },
          "metadata": {
            "tags": []
          },
          "execution_count": 5
        }
      ]
    },
    {
      "cell_type": "markdown",
      "metadata": {
        "id": "XHZn02jCcUnJ",
        "colab_type": "text"
      },
      "source": [
        "#### Creating a subset of TRAIN-TEST Dataset that have EVENTs records"
      ]
    },
    {
      "cell_type": "code",
      "metadata": {
        "colab_type": "code",
        "id": "AT1pfk3WOS2y",
        "colab": {}
      },
      "source": [
        "trainEventData = ageGenderTrain.loc[ageGenderTrain.device_id.isin(eventsData.device_id)]\n",
        "testEventData = ageGenderTest.loc[ageGenderTest.device_id.isin(eventsData.device_id)]"
      ],
      "execution_count": 6,
      "outputs": []
    },
    {
      "cell_type": "markdown",
      "metadata": {
        "id": "fEFutPdrcUnT",
        "colab_type": "text"
      },
      "source": [
        "#### Finding DISTINCT Count of important records"
      ]
    },
    {
      "cell_type": "code",
      "metadata": {
        "colab_type": "code",
        "id": "e91seVl3OS20",
        "colab": {
          "base_uri": "https://localhost:8080/",
          "height": 0
        },
        "outputId": "7f69d3af-9e11-40a5-a3d9-f553d78db417"
      },
      "source": [
        "uApps = appLabels.app_id.nunique()\n",
        "uLabels = appLabels.label_id.nunique()\n",
        "uBrands = phoneBrand.phone_brand.nunique()\n",
        "uModels = phoneBrand.device_model.nunique()\n",
        "uEvents = eventsData.event_id.nunique()\n",
        "uCats = labelCat.category.nunique()\n",
        "\n",
        "print(uApps, uLabels, uBrands, uModels, uEvents, uCats)"
      ],
      "execution_count": 7,
      "outputs": [
        {
          "output_type": "stream",
          "text": [
            "113211 507 131 1599 3252950 835\n"
          ],
          "name": "stdout"
        }
      ]
    },
    {
      "cell_type": "markdown",
      "metadata": {
        "id": "lm4mVlB0cUnX",
        "colab_type": "text"
      },
      "source": [
        "#### Defining Functions to Perform TFIDF and Count Vectorization"
      ]
    },
    {
      "cell_type": "code",
      "metadata": {
        "colab_type": "code",
        "id": "SnFXQHYrOS23",
        "colab": {}
      },
      "source": [
        "# REF - https://www.kaggle.com/shahnawazakhtar/using-features-from-label-categories-csv\n",
        "def vectorize(train, test, columns, fillMissing):\n",
        "    data = pd.concat((train, test), axis=0, ignore_index=True)\n",
        "    data = data[columns].astype(np.str).apply(lambda x: \" \".join(s for s in x), axis=1).fillna(fillMissing)\n",
        "    print(data.shape)\n",
        "    split_len = len(train)\n",
        "\n",
        "    # TF-IDF Feature\n",
        "    print(\"TfidfVectorizer for\", columns)\n",
        "    vectorizer = TfidfVectorizer(min_df=1)\n",
        "    data = vectorizer.fit_transform(data)\n",
        "\n",
        "    train = data[:split_len, :]\n",
        "    test = data[split_len:, :]\n",
        "    return train, test"
      ],
      "execution_count": 8,
      "outputs": []
    },
    {
      "cell_type": "code",
      "metadata": {
        "colab_type": "code",
        "id": "UTNFw_MPsqwk",
        "colab": {}
      },
      "source": [
        "def vectorizeOHE(train, test, columns, fillMissing):\n",
        "    data = pd.concat((train, test), axis=0, ignore_index=True)\n",
        "    data = data[columns].astype(np.str).apply(lambda x: \" \".join(s for s in x), axis=1).fillna(fillMissing)\n",
        "    print(data.shape)\n",
        "    split_len = len(train)\n",
        "\n",
        "    # OHE Feature\n",
        "    print(\"One Hot Encoding for\", columns)\n",
        "    vectorizer = CountVectorizer(min_df=1)\n",
        "    data = vectorizer.fit_transform(data)\n",
        "\n",
        "    train = data[:split_len, :]\n",
        "    test = data[split_len:, :]\n",
        "    return train, test"
      ],
      "execution_count": 9,
      "outputs": []
    },
    {
      "cell_type": "markdown",
      "metadata": {
        "colab_type": "text",
        "id": "cP20rTIROS26"
      },
      "source": [
        "## 1.1 Handling Label-Categories"
      ]
    },
    {
      "cell_type": "markdown",
      "metadata": {
        "colab_type": "text",
        "id": "Bz_oNqMeRURk"
      },
      "source": [
        "### 1.1.1 Mapping Label Categories to Device IDs"
      ]
    },
    {
      "cell_type": "code",
      "metadata": {
        "colab_type": "code",
        "id": "iRN3niUwOS27",
        "colab": {
          "base_uri": "https://localhost:8080/",
          "height": 0
        },
        "outputId": "cd29ad35-276e-47cf-c86f-9696f6ef74e8"
      },
      "source": [
        "print(\"--Handling Labels Categories\")\n",
        "#---------------------------------------------------------------------------\n",
        "labelCat = labelCat.fillna('unknown')\n",
        "labelCat.drop_duplicates(keep='first', inplace=True)\n",
        "#---------------------------------------------------------------------------\n",
        "labelCat[\"category\"] = labelCat[\"category\"].apply(lambda x: \" \".join(str(x).replace(\"-\",\" \").replace(\"/\",\" \").replace(\"(\",\" \").replace(\")\",\" \").split()))\n",
        "labelCat.category = labelCat.category.apply(lambda x: \"Cat:\"+str(x))\n",
        "categories = labelCat.groupby('label_id')['category'].apply(lambda x: \" \".join(s for s in x))\n",
        "\n",
        "labelCat = labelCat.drop('category', axis=1)\n",
        "#---------------------------------------------------------------------------\n",
        "print(\"----APP-LABELS\")\n",
        "appLabels[\"category\"] = appLabels[\"label_id\"].map(categories)\n",
        "categories = appLabels.groupby(\"app_id\")[\"category\"].apply(lambda x: \" \".join(str(s) for s in x))\n",
        "\n",
        "appLabels = appLabels.drop('category', axis=1)\n",
        "#---------------------------------------------------------------------------\n",
        "print(\"----APP-EVENTS\")\n",
        "appEventsData[\"category\"] = appEventsData[\"app_id\"].map(categories)\n",
        "categories = appEventsData.groupby(\"event_id\")[\"category\"].apply(lambda x: \" \".join(str(s) for s in x))\n",
        "\n",
        "appEventsData = appEventsData.drop('category', axis=1)\n",
        "#---------------------------------------------------------------------------\n",
        "print(\"----EVENTS\")\n",
        "eventsData[\"category\"] = eventsData[\"event_id\"].map(categories)\n",
        "categories = eventsData.groupby(\"device_id\")[\"category\"].apply(lambda x: \" \".join(str(s) for s in x))\n",
        "\n",
        "eventsData = eventsData.drop('category', axis=1)\n",
        "#---------------------------------------------------------------------------\n",
        "print(\"----TRAIN-TEST Merge\")\n",
        "#ageGenderTrain[\"category\"] = ageGenderTrain[\"device_id\"].map(categories)\n",
        "#ageGenderTest[\"category\"] = ageGenderTest[\"device_id\"].map(categories)\n",
        "trainEventData[\"category\"] = trainEventData[\"device_id\"].map(categories)\n",
        "testEventData[\"category\"] = testEventData[\"device_id\"].map(categories)\n",
        "\n",
        "#---------------------------------------------------------------------------\n",
        "del categories\n",
        "#---------------------------------------------------------------------------\n",
        "trainEventData.head()"
      ],
      "execution_count": 10,
      "outputs": [
        {
          "output_type": "stream",
          "text": [
            "--Handling Labels Categories\n",
            "----APP-LABELS\n",
            "----APP-EVENTS\n",
            "----EVENTS\n",
            "----TRAIN-TEST Merge\n"
          ],
          "name": "stdout"
        },
        {
          "output_type": "execute_result",
          "data": {
            "text/html": [
              "<div>\n",
              "<style scoped>\n",
              "    .dataframe tbody tr th:only-of-type {\n",
              "        vertical-align: middle;\n",
              "    }\n",
              "\n",
              "    .dataframe tbody tr th {\n",
              "        vertical-align: top;\n",
              "    }\n",
              "\n",
              "    .dataframe thead th {\n",
              "        text-align: right;\n",
              "    }\n",
              "</style>\n",
              "<table border=\"1\" class=\"dataframe\">\n",
              "  <thead>\n",
              "    <tr style=\"text-align: right;\">\n",
              "      <th></th>\n",
              "      <th>device_id</th>\n",
              "      <th>group</th>\n",
              "      <th>category</th>\n",
              "    </tr>\n",
              "  </thead>\n",
              "  <tbody>\n",
              "    <tr>\n",
              "      <th>2</th>\n",
              "      <td>-8260683887967679142</td>\n",
              "      <td>M32-38</td>\n",
              "      <td>Cat:Services 1 Cat:Property Industry 2.0 Cat:I...</td>\n",
              "    </tr>\n",
              "    <tr>\n",
              "      <th>11</th>\n",
              "      <td>7477216237379271436</td>\n",
              "      <td>F33-42</td>\n",
              "      <td>Cat:Internet Banking Cat:Services 1 Cat:Proper...</td>\n",
              "    </tr>\n",
              "    <tr>\n",
              "      <th>13</th>\n",
              "      <td>6352067998666467520</td>\n",
              "      <td>M32-38</td>\n",
              "      <td>Cat:Property Industry 1.0 Cat:Personal Effecti...</td>\n",
              "    </tr>\n",
              "    <tr>\n",
              "      <th>15</th>\n",
              "      <td>1508636020748379883</td>\n",
              "      <td>F27-28</td>\n",
              "      <td>nan nan nan nan Cat:Property Industry 1.0 Cat:...</td>\n",
              "    </tr>\n",
              "    <tr>\n",
              "      <th>18</th>\n",
              "      <td>-6876541075223249434</td>\n",
              "      <td>M39+</td>\n",
              "      <td>nan nan nan nan nan nan nan Cat:Property Indus...</td>\n",
              "    </tr>\n",
              "  </tbody>\n",
              "</table>\n",
              "</div>"
            ],
            "text/plain": [
              "               device_id  ...                                           category\n",
              "2   -8260683887967679142  ...  Cat:Services 1 Cat:Property Industry 2.0 Cat:I...\n",
              "11   7477216237379271436  ...  Cat:Internet Banking Cat:Services 1 Cat:Proper...\n",
              "13   6352067998666467520  ...  Cat:Property Industry 1.0 Cat:Personal Effecti...\n",
              "15   1508636020748379883  ...  nan nan nan nan Cat:Property Industry 1.0 Cat:...\n",
              "18  -6876541075223249434  ...  nan nan nan nan nan nan nan Cat:Property Indus...\n",
              "\n",
              "[5 rows x 3 columns]"
            ]
          },
          "metadata": {
            "tags": []
          },
          "execution_count": 10
        }
      ]
    },
    {
      "cell_type": "markdown",
      "metadata": {
        "colab_type": "text",
        "id": "_QHwtwyO7lBY"
      },
      "source": [
        "### 1.1.2 Finding DISTINCT Category Count"
      ]
    },
    {
      "cell_type": "code",
      "metadata": {
        "colab_type": "code",
        "id": "EWbf9rwI2ooy",
        "colab": {
          "base_uri": "https://localhost:8080/",
          "height": 0
        },
        "outputId": "a4596c2c-c1de-44f5-8af5-e37524a85f1a"
      },
      "source": [
        "trainEventData['catCnt'] = trainEventData.category.apply(lambda x: list(set(str(x).split('Cat:'))))\n",
        "#trainEventData.category = trainEventData.catCnt.astype(str)\n",
        "trainEventData.catCnt = trainEventData.catCnt.str.len()\n",
        "trainEventData.catCnt = trainEventData.catCnt.fillna(0)\n",
        "\n",
        "testEventData['catCnt'] = testEventData.category.apply(lambda x: list(set(str(x).split('Cat:'))))\n",
        "#testEventData.category = testEventData.catCnt.astype(str)\n",
        "testEventData.catCnt = testEventData.catCnt.str.len()\n",
        "testEventData.catCnt = testEventData.catCnt.fillna(0)\n",
        "\n",
        "trainEventData.head()"
      ],
      "execution_count": 11,
      "outputs": [
        {
          "output_type": "execute_result",
          "data": {
            "text/html": [
              "<div>\n",
              "<style scoped>\n",
              "    .dataframe tbody tr th:only-of-type {\n",
              "        vertical-align: middle;\n",
              "    }\n",
              "\n",
              "    .dataframe tbody tr th {\n",
              "        vertical-align: top;\n",
              "    }\n",
              "\n",
              "    .dataframe thead th {\n",
              "        text-align: right;\n",
              "    }\n",
              "</style>\n",
              "<table border=\"1\" class=\"dataframe\">\n",
              "  <thead>\n",
              "    <tr style=\"text-align: right;\">\n",
              "      <th></th>\n",
              "      <th>device_id</th>\n",
              "      <th>group</th>\n",
              "      <th>category</th>\n",
              "      <th>catCnt</th>\n",
              "    </tr>\n",
              "  </thead>\n",
              "  <tbody>\n",
              "    <tr>\n",
              "      <th>2</th>\n",
              "      <td>-8260683887967679142</td>\n",
              "      <td>M32-38</td>\n",
              "      <td>Cat:Services 1 Cat:Property Industry 2.0 Cat:I...</td>\n",
              "      <td>101</td>\n",
              "    </tr>\n",
              "    <tr>\n",
              "      <th>11</th>\n",
              "      <td>7477216237379271436</td>\n",
              "      <td>F33-42</td>\n",
              "      <td>Cat:Internet Banking Cat:Services 1 Cat:Proper...</td>\n",
              "      <td>61</td>\n",
              "    </tr>\n",
              "    <tr>\n",
              "      <th>13</th>\n",
              "      <td>6352067998666467520</td>\n",
              "      <td>M32-38</td>\n",
              "      <td>Cat:Property Industry 1.0 Cat:Personal Effecti...</td>\n",
              "      <td>49</td>\n",
              "    </tr>\n",
              "    <tr>\n",
              "      <th>15</th>\n",
              "      <td>1508636020748379883</td>\n",
              "      <td>F27-28</td>\n",
              "      <td>nan nan nan nan Cat:Property Industry 1.0 Cat:...</td>\n",
              "      <td>49</td>\n",
              "    </tr>\n",
              "    <tr>\n",
              "      <th>18</th>\n",
              "      <td>-6876541075223249434</td>\n",
              "      <td>M39+</td>\n",
              "      <td>nan nan nan nan nan nan nan Cat:Property Indus...</td>\n",
              "      <td>135</td>\n",
              "    </tr>\n",
              "  </tbody>\n",
              "</table>\n",
              "</div>"
            ],
            "text/plain": [
              "               device_id  ... catCnt\n",
              "2   -8260683887967679142  ...    101\n",
              "11   7477216237379271436  ...     61\n",
              "13   6352067998666467520  ...     49\n",
              "15   1508636020748379883  ...     49\n",
              "18  -6876541075223249434  ...    135\n",
              "\n",
              "[5 rows x 4 columns]"
            ]
          },
          "metadata": {
            "tags": []
          },
          "execution_count": 11
        }
      ]
    },
    {
      "cell_type": "markdown",
      "metadata": {
        "colab_type": "text",
        "id": "Wnx7ZOkjRdLR"
      },
      "source": [
        "### 1.1.3 Standard Scaling Label Category Count"
      ]
    },
    {
      "cell_type": "code",
      "metadata": {
        "colab_type": "code",
        "id": "1o1r0jt7OS3D",
        "colab": {
          "base_uri": "https://localhost:8080/",
          "height": 0
        },
        "outputId": "2937e3bc-0ba7-4992-bcd4-3d340a1cff64"
      },
      "source": [
        "vectorizer=StandardScaler()\n",
        "vectorizer.fit(trainEventData['catCnt'].values.reshape(-1,1))\n",
        "\n",
        "Xtr_lCatCnt = vectorizer.transform(trainEventData['catCnt'].values.reshape(-1,1))\n",
        "Xte_lCatCnt = vectorizer.transform(testEventData['catCnt'].values.reshape(-1,1))\n",
        "\n",
        "print(\"Train Category-Count Shape: \",Xtr_lCatCnt.shape)\n",
        "print(\"Test Category-Count Shape: \",Xte_lCatCnt.shape)"
      ],
      "execution_count": 12,
      "outputs": [
        {
          "output_type": "stream",
          "text": [
            "Train Category-Count Shape:  (23309, 1)\n",
            "Test Category-Count Shape:  (35194, 1)\n"
          ],
          "name": "stdout"
        }
      ]
    },
    {
      "cell_type": "markdown",
      "metadata": {
        "colab_type": "text",
        "id": "kFtUOwuy4QAn"
      },
      "source": [
        "### 1.1.4 Finding Proportion of Categories Against Each Device ID TO Unique Category Count"
      ]
    },
    {
      "cell_type": "code",
      "metadata": {
        "colab_type": "code",
        "id": "cL1ZlCaZ4Aap",
        "colab": {
          "base_uri": "https://localhost:8080/",
          "height": 0
        },
        "outputId": "e371ccbe-25d5-4a9f-b105-092a6ae05e40"
      },
      "source": [
        "Xtr_catCntProp = ((trainEventData.catCnt)/uCats).values.reshape(-1,1)\n",
        "Xte_catCntProp = ((testEventData.catCnt)/uCats).values.reshape(-1,1)\n",
        "\n",
        "print(\"Train Category-Count Proportion Shape: \",Xtr_catCntProp.shape)\n",
        "print(\"Test Category-Count Proportion Shape: \",Xte_catCntProp.shape)"
      ],
      "execution_count": 13,
      "outputs": [
        {
          "output_type": "stream",
          "text": [
            "Train Category-Count Proportion Shape:  (23309, 1)\n",
            "Test Category-Count Proportion Shape:  (35194, 1)\n"
          ],
          "name": "stdout"
        }
      ]
    },
    {
      "cell_type": "markdown",
      "metadata": {
        "colab_type": "text",
        "id": "7bIXgaNTRYef"
      },
      "source": [
        "### 1.1.5 TFIDF For Label Category"
      ]
    },
    {
      "cell_type": "code",
      "metadata": {
        "colab_type": "code",
        "id": "9ZTXrbXIOS3B",
        "colab": {
          "base_uri": "https://localhost:8080/",
          "height": 0
        },
        "outputId": "6961dbdc-b3b7-42fe-b4f4-1eed48ae5685"
      },
      "source": [
        "Xtr_lCatEv, Xte_lCatEv = vectorize(trainEventData, testEventData, [\"category\"], \"missing\")\n",
        "print(Xtr_lCatEv.shape)\n",
        "print(Xte_lCatEv.shape)"
      ],
      "execution_count": 14,
      "outputs": [
        {
          "output_type": "stream",
          "text": [
            "(58503,)\n",
            "TfidfVectorizer for ['category']\n",
            "(23309, 493)\n",
            "(35194, 493)\n"
          ],
          "name": "stdout"
        }
      ]
    },
    {
      "cell_type": "code",
      "metadata": {
        "colab_type": "code",
        "id": "TBPHwTONOS3G",
        "colab": {}
      },
      "source": [
        "trainEventData = trainEventData.drop(['category','catCnt'], axis=1)\n",
        "testEventData = testEventData.drop(['category','catCnt'], axis=1)"
      ],
      "execution_count": 15,
      "outputs": []
    },
    {
      "cell_type": "markdown",
      "metadata": {
        "colab_type": "text",
        "id": "8hNHRBsUOS3J"
      },
      "source": [
        "## 1.2 Handling Label-ID"
      ]
    },
    {
      "cell_type": "markdown",
      "metadata": {
        "colab_type": "text",
        "id": "UE0ScsXKOTcY"
      },
      "source": [
        "### 1.2.1 Mapping Label IDs to Device IDs"
      ]
    },
    {
      "cell_type": "code",
      "metadata": {
        "colab_type": "code",
        "id": "H7uSnAUDOS3J",
        "colab": {
          "base_uri": "https://localhost:8080/",
          "height": 0
        },
        "outputId": "1204bb9b-fc43-4724-93cc-0dd27de1edd0"
      },
      "source": [
        "print(\"--Handling Labels IDs\")\n",
        "#---------------------------------------------------------------------------\n",
        "appLabels.drop_duplicates(keep='first', inplace=True)\n",
        "#---------------------------------------------------------------------------\n",
        "print(\"----APP-LABELS\")\n",
        "appLabels.label_id = appLabels.label_id.apply(lambda x: \"Label:\"+str(x))\n",
        "labels = appLabels.groupby(\"app_id\")[\"label_id\"].apply(lambda x: \" \".join(str(s) for s in x))\n",
        "\n",
        "#---------------------------------------------------------------------------\n",
        "print(\"----APP-EVENTS\")\n",
        "appEventsData[\"labels\"] = appEventsData[\"app_id\"].map(labels)\n",
        "labels = appEventsData.groupby(\"event_id\")[\"labels\"].apply(lambda x: \" \".join(str(s) for s in x))\n",
        "\n",
        "appEventsData = appEventsData.drop('labels', axis=1)\n",
        "#---------------------------------------------------------------------------\n",
        "print(\"----EVENTS\")\n",
        "eventsData[\"labels\"] = eventsData[\"event_id\"].map(labels)\n",
        "labels = eventsData.groupby(\"device_id\")[\"labels\"].apply(lambda x: \" \".join(str(s) for s in x))\n",
        "\n",
        "eventsData = eventsData.drop('labels', axis=1)\n",
        "#---------------------------------------------------------------------------\n",
        "print(\"----TRAIN-TEST Merge\")\n",
        "#ageGenderTrain[\"labels\"] = ageGenderTrain[\"device_id\"].map(labels)\n",
        "#ageGenderTest[\"labels\"] = ageGenderTest[\"device_id\"].map(labels)\n",
        "trainEventData[\"labels\"] = trainEventData[\"device_id\"].map(labels)\n",
        "testEventData[\"labels\"] = testEventData[\"device_id\"].map(labels)\n",
        "\n",
        "#---------------------------------------------------------------------------\n",
        "del labels\n",
        "#---------------------------------------------------------------------------\n",
        "trainEventData.head()"
      ],
      "execution_count": 16,
      "outputs": [
        {
          "output_type": "stream",
          "text": [
            "--Handling Labels IDs\n",
            "----APP-LABELS\n",
            "----APP-EVENTS\n",
            "----EVENTS\n",
            "----TRAIN-TEST Merge\n"
          ],
          "name": "stdout"
        },
        {
          "output_type": "execute_result",
          "data": {
            "text/html": [
              "<div>\n",
              "<style scoped>\n",
              "    .dataframe tbody tr th:only-of-type {\n",
              "        vertical-align: middle;\n",
              "    }\n",
              "\n",
              "    .dataframe tbody tr th {\n",
              "        vertical-align: top;\n",
              "    }\n",
              "\n",
              "    .dataframe thead th {\n",
              "        text-align: right;\n",
              "    }\n",
              "</style>\n",
              "<table border=\"1\" class=\"dataframe\">\n",
              "  <thead>\n",
              "    <tr style=\"text-align: right;\">\n",
              "      <th></th>\n",
              "      <th>device_id</th>\n",
              "      <th>group</th>\n",
              "      <th>labels</th>\n",
              "    </tr>\n",
              "  </thead>\n",
              "  <tbody>\n",
              "    <tr>\n",
              "      <th>2</th>\n",
              "      <td>-8260683887967679142</td>\n",
              "      <td>M32-38</td>\n",
              "      <td>Label:713 Label:704 Label:548 Label:713 Label:...</td>\n",
              "    </tr>\n",
              "    <tr>\n",
              "      <th>11</th>\n",
              "      <td>7477216237379271436</td>\n",
              "      <td>F33-42</td>\n",
              "      <td>Label:1012 Label:713 Label:704 Label:548 Label...</td>\n",
              "    </tr>\n",
              "    <tr>\n",
              "      <th>13</th>\n",
              "      <td>6352067998666467520</td>\n",
              "      <td>M32-38</td>\n",
              "      <td>Label:549 Label:721 Label:704 Label:302 Label:...</td>\n",
              "    </tr>\n",
              "    <tr>\n",
              "      <th>15</th>\n",
              "      <td>1508636020748379883</td>\n",
              "      <td>F27-28</td>\n",
              "      <td>nan nan nan nan Label:549 Label:713 Label:704 ...</td>\n",
              "    </tr>\n",
              "    <tr>\n",
              "      <th>18</th>\n",
              "      <td>-6876541075223249434</td>\n",
              "      <td>M39+</td>\n",
              "      <td>nan nan nan nan nan nan nan Label:549 Label:71...</td>\n",
              "    </tr>\n",
              "  </tbody>\n",
              "</table>\n",
              "</div>"
            ],
            "text/plain": [
              "               device_id  ...                                             labels\n",
              "2   -8260683887967679142  ...  Label:713 Label:704 Label:548 Label:713 Label:...\n",
              "11   7477216237379271436  ...  Label:1012 Label:713 Label:704 Label:548 Label...\n",
              "13   6352067998666467520  ...  Label:549 Label:721 Label:704 Label:302 Label:...\n",
              "15   1508636020748379883  ...  nan nan nan nan Label:549 Label:713 Label:704 ...\n",
              "18  -6876541075223249434  ...  nan nan nan nan nan nan nan Label:549 Label:71...\n",
              "\n",
              "[5 rows x 3 columns]"
            ]
          },
          "metadata": {
            "tags": []
          },
          "execution_count": 16
        }
      ]
    },
    {
      "cell_type": "code",
      "metadata": {
        "colab_type": "code",
        "id": "r9a-4cnx-4f_",
        "colab": {
          "base_uri": "https://localhost:8080/",
          "height": 0
        },
        "outputId": "872b72aa-7179-40cd-d826-87b0c92d9894"
      },
      "source": [
        "trainEventData['labelCnt'] = trainEventData.labels.str.replace('Label:','')\n",
        "trainEventData.labelCnt = trainEventData.labelCnt.str.replace(' ',', ')\n",
        "testEventData['labelCnt'] = testEventData.labels.str.replace('Label:','')\n",
        "testEventData.labelCnt = testEventData.labelCnt.str.replace(' ',', ')\n",
        "trainEventData.head()"
      ],
      "execution_count": 17,
      "outputs": [
        {
          "output_type": "execute_result",
          "data": {
            "text/html": [
              "<div>\n",
              "<style scoped>\n",
              "    .dataframe tbody tr th:only-of-type {\n",
              "        vertical-align: middle;\n",
              "    }\n",
              "\n",
              "    .dataframe tbody tr th {\n",
              "        vertical-align: top;\n",
              "    }\n",
              "\n",
              "    .dataframe thead th {\n",
              "        text-align: right;\n",
              "    }\n",
              "</style>\n",
              "<table border=\"1\" class=\"dataframe\">\n",
              "  <thead>\n",
              "    <tr style=\"text-align: right;\">\n",
              "      <th></th>\n",
              "      <th>device_id</th>\n",
              "      <th>group</th>\n",
              "      <th>labels</th>\n",
              "      <th>labelCnt</th>\n",
              "    </tr>\n",
              "  </thead>\n",
              "  <tbody>\n",
              "    <tr>\n",
              "      <th>2</th>\n",
              "      <td>-8260683887967679142</td>\n",
              "      <td>M32-38</td>\n",
              "      <td>Label:713 Label:704 Label:548 Label:713 Label:...</td>\n",
              "      <td>713, 704, 548, 713, 704, 548, 163, 158, 551, 5...</td>\n",
              "    </tr>\n",
              "    <tr>\n",
              "      <th>11</th>\n",
              "      <td>7477216237379271436</td>\n",
              "      <td>F33-42</td>\n",
              "      <td>Label:1012 Label:713 Label:704 Label:548 Label...</td>\n",
              "      <td>1012, 713, 704, 548, 756, 761, 777, 782, 787, ...</td>\n",
              "    </tr>\n",
              "    <tr>\n",
              "      <th>13</th>\n",
              "      <td>6352067998666467520</td>\n",
              "      <td>M32-38</td>\n",
              "      <td>Label:549 Label:721 Label:704 Label:302 Label:...</td>\n",
              "      <td>549, 721, 704, 302, 303, 548, 183, 713, 704, 5...</td>\n",
              "    </tr>\n",
              "    <tr>\n",
              "      <th>15</th>\n",
              "      <td>1508636020748379883</td>\n",
              "      <td>F27-28</td>\n",
              "      <td>nan nan nan nan Label:549 Label:713 Label:704 ...</td>\n",
              "      <td>nan, nan, nan, nan, 549, 713, 704, 548, 237, 7...</td>\n",
              "    </tr>\n",
              "    <tr>\n",
              "      <th>18</th>\n",
              "      <td>-6876541075223249434</td>\n",
              "      <td>M39+</td>\n",
              "      <td>nan nan nan nan nan nan nan Label:549 Label:71...</td>\n",
              "      <td>nan, nan, nan, nan, nan, nan, nan, 549, 710, 7...</td>\n",
              "    </tr>\n",
              "  </tbody>\n",
              "</table>\n",
              "</div>"
            ],
            "text/plain": [
              "               device_id  ...                                           labelCnt\n",
              "2   -8260683887967679142  ...  713, 704, 548, 713, 704, 548, 163, 158, 551, 5...\n",
              "11   7477216237379271436  ...  1012, 713, 704, 548, 756, 761, 777, 782, 787, ...\n",
              "13   6352067998666467520  ...  549, 721, 704, 302, 303, 548, 183, 713, 704, 5...\n",
              "15   1508636020748379883  ...  nan, nan, nan, nan, 549, 713, 704, 548, 237, 7...\n",
              "18  -6876541075223249434  ...  nan, nan, nan, nan, nan, nan, nan, 549, 710, 7...\n",
              "\n",
              "[5 rows x 4 columns]"
            ]
          },
          "metadata": {
            "tags": []
          },
          "execution_count": 17
        }
      ]
    },
    {
      "cell_type": "markdown",
      "metadata": {
        "colab_type": "text",
        "id": "NESQcs4KObS-"
      },
      "source": [
        "### 1.2.2 Finding DISTINCT Label Count"
      ]
    },
    {
      "cell_type": "code",
      "metadata": {
        "colab_type": "code",
        "id": "Fw5ar07Q_Bfw",
        "colab": {
          "base_uri": "https://localhost:8080/",
          "height": 0
        },
        "outputId": "9f0c4a8a-bfb6-4d35-d4d0-0e11403ddece"
      },
      "source": [
        "trainEventData.labelCnt = trainEventData.labelCnt.apply(lambda x: list(set(str(x).split(', '))))\n",
        "#trainEventData.labels = trainEventData.labelCnt.astype(str)\n",
        "trainEventData.labelCnt = trainEventData.labelCnt.str.len()\n",
        "\n",
        "testEventData.labelCnt = testEventData.labelCnt.apply(lambda x: list(set(str(x).split(', '))))\n",
        "#testEventData.labels = testEventData.labelCnt.astype(str)\n",
        "testEventData.labelCnt = testEventData.labelCnt.str.len()\n",
        "\n",
        "trainEventData.head()"
      ],
      "execution_count": 18,
      "outputs": [
        {
          "output_type": "execute_result",
          "data": {
            "text/html": [
              "<div>\n",
              "<style scoped>\n",
              "    .dataframe tbody tr th:only-of-type {\n",
              "        vertical-align: middle;\n",
              "    }\n",
              "\n",
              "    .dataframe tbody tr th {\n",
              "        vertical-align: top;\n",
              "    }\n",
              "\n",
              "    .dataframe thead th {\n",
              "        text-align: right;\n",
              "    }\n",
              "</style>\n",
              "<table border=\"1\" class=\"dataframe\">\n",
              "  <thead>\n",
              "    <tr style=\"text-align: right;\">\n",
              "      <th></th>\n",
              "      <th>device_id</th>\n",
              "      <th>group</th>\n",
              "      <th>labels</th>\n",
              "      <th>labelCnt</th>\n",
              "    </tr>\n",
              "  </thead>\n",
              "  <tbody>\n",
              "    <tr>\n",
              "      <th>2</th>\n",
              "      <td>-8260683887967679142</td>\n",
              "      <td>M32-38</td>\n",
              "      <td>Label:713 Label:704 Label:548 Label:713 Label:...</td>\n",
              "      <td>105</td>\n",
              "    </tr>\n",
              "    <tr>\n",
              "      <th>11</th>\n",
              "      <td>7477216237379271436</td>\n",
              "      <td>F33-42</td>\n",
              "      <td>Label:1012 Label:713 Label:704 Label:548 Label...</td>\n",
              "      <td>62</td>\n",
              "    </tr>\n",
              "    <tr>\n",
              "      <th>13</th>\n",
              "      <td>6352067998666467520</td>\n",
              "      <td>M32-38</td>\n",
              "      <td>Label:549 Label:721 Label:704 Label:302 Label:...</td>\n",
              "      <td>49</td>\n",
              "    </tr>\n",
              "    <tr>\n",
              "      <th>15</th>\n",
              "      <td>1508636020748379883</td>\n",
              "      <td>F27-28</td>\n",
              "      <td>nan nan nan nan Label:549 Label:713 Label:704 ...</td>\n",
              "      <td>48</td>\n",
              "    </tr>\n",
              "    <tr>\n",
              "      <th>18</th>\n",
              "      <td>-6876541075223249434</td>\n",
              "      <td>M39+</td>\n",
              "      <td>nan nan nan nan nan nan nan Label:549 Label:71...</td>\n",
              "      <td>138</td>\n",
              "    </tr>\n",
              "  </tbody>\n",
              "</table>\n",
              "</div>"
            ],
            "text/plain": [
              "               device_id  ... labelCnt\n",
              "2   -8260683887967679142  ...      105\n",
              "11   7477216237379271436  ...       62\n",
              "13   6352067998666467520  ...       49\n",
              "15   1508636020748379883  ...       48\n",
              "18  -6876541075223249434  ...      138\n",
              "\n",
              "[5 rows x 4 columns]"
            ]
          },
          "metadata": {
            "tags": []
          },
          "execution_count": 18
        }
      ]
    },
    {
      "cell_type": "markdown",
      "metadata": {
        "colab_type": "text",
        "id": "dnHgrydFOjUP"
      },
      "source": [
        "### 1.2.3 TFIDF For Label IDs"
      ]
    },
    {
      "cell_type": "code",
      "metadata": {
        "colab_type": "code",
        "id": "pzprfhXYOS3Q",
        "colab": {
          "base_uri": "https://localhost:8080/",
          "height": 84
        },
        "outputId": "a13cb83f-7072-408f-eb99-9cc99133fb35"
      },
      "source": [
        "Xtr_labelEv, Xte_labelEv = vectorize(trainEventData, testEventData, [\"labels\"], \"missing\")\n",
        "print(Xtr_labelEv.shape)\n",
        "print(Xte_labelEv.shape)"
      ],
      "execution_count": 19,
      "outputs": [
        {
          "output_type": "stream",
          "text": [
            "(58503,)\n",
            "TfidfVectorizer for ['labels']\n",
            "(23309, 487)\n",
            "(35194, 487)\n"
          ],
          "name": "stdout"
        }
      ]
    },
    {
      "cell_type": "markdown",
      "metadata": {
        "colab_type": "text",
        "id": "GDgU-5g6OmzN"
      },
      "source": [
        "### 1.2.4 Standard Scaling Label Count"
      ]
    },
    {
      "cell_type": "code",
      "metadata": {
        "colab_type": "code",
        "id": "5cifAzLMOS3T",
        "colab": {
          "base_uri": "https://localhost:8080/",
          "height": 0
        },
        "outputId": "e90b3b47-e174-436f-ab71-5af086e8c838"
      },
      "source": [
        "vectorizer=StandardScaler()\n",
        "vectorizer.fit(trainEventData['labelCnt'].values.reshape(-1,1))\n",
        "\n",
        "Xtr_labelCnt = vectorizer.transform(trainEventData['labelCnt'].values.reshape(-1,1))\n",
        "Xte_labelCnt = vectorizer.transform(testEventData['labelCnt'].values.reshape(-1,1))\n",
        "\n",
        "print(\"Train Label-Count Shape: \",Xtr_labelCnt.shape)\n",
        "print(\"Test Label-Count Shape: \",Xte_labelCnt.shape)"
      ],
      "execution_count": 20,
      "outputs": [
        {
          "output_type": "stream",
          "text": [
            "Train Label-Count Shape:  (23309, 1)\n",
            "Test Label-Count Shape:  (35194, 1)\n"
          ],
          "name": "stdout"
        }
      ]
    },
    {
      "cell_type": "markdown",
      "metadata": {
        "colab_type": "text",
        "id": "eOp3De24OsNS"
      },
      "source": [
        "### 1.2.5 Finding Proportion of Labels Against Each Device ID TO Unique Label Count"
      ]
    },
    {
      "cell_type": "code",
      "metadata": {
        "colab_type": "code",
        "id": "gIEWWVPOH1OL",
        "colab": {
          "base_uri": "https://localhost:8080/",
          "height": 0
        },
        "outputId": "4188dcfb-00da-4b97-8c92-5cd2eb487869"
      },
      "source": [
        "Xtr_labelCntProp = ((trainEventData.labelCnt)/uLabels).values.reshape(-1,1)\n",
        "Xte_labelCntProp = ((testEventData.labelCnt)/uLabels).values.reshape(-1,1)\n",
        "\n",
        "print(\"Train Label-Count Proportion Shape: \",Xtr_labelCnt.shape)\n",
        "print(\"Test Label-Count Proportion Shape: \",Xte_labelCnt.shape)"
      ],
      "execution_count": 21,
      "outputs": [
        {
          "output_type": "stream",
          "text": [
            "Train Label-Count Proportion Shape:  (23309, 1)\n",
            "Test Label-Count Proportion Shape:  (35194, 1)\n"
          ],
          "name": "stdout"
        }
      ]
    },
    {
      "cell_type": "markdown",
      "metadata": {
        "colab_type": "text",
        "id": "IMSFwSQmOS3W"
      },
      "source": [
        "### 1.2.6 Calculating ENTROPY for Label-ID"
      ]
    },
    {
      "cell_type": "code",
      "metadata": {
        "colab_type": "code",
        "id": "KDDDX76rOS3W",
        "colab": {
          "base_uri": "https://localhost:8080/",
          "height": 0
        },
        "outputId": "f0ff117d-036f-47e7-961d-ebe6aaf1e6f7"
      },
      "source": [
        "# REF - https://www.kaggle.com/c/talkingdata-mobile-user-demographics/discussion/23424\n",
        "trainEventData.labels = trainEventData.labels.apply(lambda x: entropy(list(Counter(str(x).split('Label:')).values()), base=2))\n",
        "testEventData.labels = testEventData.labels.apply(lambda x: entropy(list(Counter(str(x).split('Label:')).values()), base=2))\n",
        "\n",
        "print(trainEventData.shape)\n",
        "print(testEventData.shape)\n",
        "trainEventData.head()"
      ],
      "execution_count": 22,
      "outputs": [
        {
          "output_type": "stream",
          "text": [
            "(23309, 4)\n",
            "(35194, 3)\n"
          ],
          "name": "stdout"
        },
        {
          "output_type": "execute_result",
          "data": {
            "text/html": [
              "<div>\n",
              "<style scoped>\n",
              "    .dataframe tbody tr th:only-of-type {\n",
              "        vertical-align: middle;\n",
              "    }\n",
              "\n",
              "    .dataframe tbody tr th {\n",
              "        vertical-align: top;\n",
              "    }\n",
              "\n",
              "    .dataframe thead th {\n",
              "        text-align: right;\n",
              "    }\n",
              "</style>\n",
              "<table border=\"1\" class=\"dataframe\">\n",
              "  <thead>\n",
              "    <tr style=\"text-align: right;\">\n",
              "      <th></th>\n",
              "      <th>device_id</th>\n",
              "      <th>group</th>\n",
              "      <th>labels</th>\n",
              "      <th>labelCnt</th>\n",
              "    </tr>\n",
              "  </thead>\n",
              "  <tbody>\n",
              "    <tr>\n",
              "      <th>2</th>\n",
              "      <td>-8260683887967679142</td>\n",
              "      <td>M32-38</td>\n",
              "      <td>5.725513</td>\n",
              "      <td>105</td>\n",
              "    </tr>\n",
              "    <tr>\n",
              "      <th>11</th>\n",
              "      <td>7477216237379271436</td>\n",
              "      <td>F33-42</td>\n",
              "      <td>5.127119</td>\n",
              "      <td>62</td>\n",
              "    </tr>\n",
              "    <tr>\n",
              "      <th>13</th>\n",
              "      <td>6352067998666467520</td>\n",
              "      <td>M32-38</td>\n",
              "      <td>5.055764</td>\n",
              "      <td>49</td>\n",
              "    </tr>\n",
              "    <tr>\n",
              "      <th>15</th>\n",
              "      <td>1508636020748379883</td>\n",
              "      <td>F27-28</td>\n",
              "      <td>4.787747</td>\n",
              "      <td>48</td>\n",
              "    </tr>\n",
              "    <tr>\n",
              "      <th>18</th>\n",
              "      <td>-6876541075223249434</td>\n",
              "      <td>M39+</td>\n",
              "      <td>5.740114</td>\n",
              "      <td>138</td>\n",
              "    </tr>\n",
              "  </tbody>\n",
              "</table>\n",
              "</div>"
            ],
            "text/plain": [
              "               device_id   group    labels  labelCnt\n",
              "2   -8260683887967679142  M32-38  5.725513       105\n",
              "11   7477216237379271436  F33-42  5.127119        62\n",
              "13   6352067998666467520  M32-38  5.055764        49\n",
              "15   1508636020748379883  F27-28  4.787747        48\n",
              "18  -6876541075223249434    M39+  5.740114       138"
            ]
          },
          "metadata": {
            "tags": []
          },
          "execution_count": 22
        }
      ]
    },
    {
      "cell_type": "code",
      "metadata": {
        "colab_type": "code",
        "id": "vU_veTRZOS3Z",
        "colab": {
          "base_uri": "https://localhost:8080/",
          "height": 0
        },
        "outputId": "40fe5070-8803-44da-89aa-b6aaa01ec25d"
      },
      "source": [
        "Xtr_labelEntropy = trainEventData['labels'].values.reshape(-1,1)\n",
        "Xte_labelEntropy = testEventData['labels'].values.reshape(-1,1)\n",
        "\n",
        "print(\"Train Label Entropy Shape: \",Xtr_labelEntropy.shape)\n",
        "print(\"Test Label Entropy Shape: \",Xte_labelEntropy.shape)"
      ],
      "execution_count": 23,
      "outputs": [
        {
          "output_type": "stream",
          "text": [
            "Train Label Entropy Shape:  (23309, 1)\n",
            "Test Label Entropy Shape:  (35194, 1)\n"
          ],
          "name": "stdout"
        }
      ]
    },
    {
      "cell_type": "code",
      "metadata": {
        "colab_type": "code",
        "id": "x_yR6n1COS3b",
        "colab": {}
      },
      "source": [
        "trainEventData = trainEventData.drop(['labels','labelCnt'], axis=1)\n",
        "testEventData = testEventData.drop(['labels','labelCnt'], axis=1)"
      ],
      "execution_count": 24,
      "outputs": []
    },
    {
      "cell_type": "markdown",
      "metadata": {
        "colab_type": "text",
        "id": "EqahDSa6OS3f"
      },
      "source": [
        "## 1.3 Handling App-ID"
      ]
    },
    {
      "cell_type": "markdown",
      "metadata": {
        "colab_type": "text",
        "id": "n0LBaVJEPNcZ"
      },
      "source": [
        "### 1.3.1 Mapping APP IDs to Device IDs"
      ]
    },
    {
      "cell_type": "code",
      "metadata": {
        "colab_type": "code",
        "id": "MGhAUoEpOS3f",
        "colab": {
          "base_uri": "https://localhost:8080/",
          "height": 278
        },
        "outputId": "3d2e8def-91c5-4611-9e93-6b004d342d86"
      },
      "source": [
        "print(\"--Handling APP IDs\")\n",
        "#---------------------------------------------------------------------------\n",
        "labelap = LabelEncoder().fit(appLabels.app_id)\n",
        "appLabels.app_id = labelap.transform(appLabels.app_id)\n",
        "appCount = len(labelap.classes_)\n",
        "print('Total unique apps: ', appCount)\n",
        "\n",
        "appEventsData.app_id = labelap.transform(appEventsData.app_id)\n",
        "#---------------------------------------------------------------------------\n",
        "print(\"----APP-EVENTS\")\n",
        "appEventsData[\"appID\"] = appEventsData.app_id.astype(str).apply(lambda x: \"APPID:\"+str(x))\n",
        "appIDs = appEventsData.groupby(\"event_id\")[\"appID\"].apply(lambda x: \" \".join(str(s) for s in x))\n",
        "\n",
        "appEventsData = appEventsData.drop('appID', axis=1)\n",
        "#---------------------------------------------------------------------------\n",
        "print(\"----EVENTS\")\n",
        "eventsData[\"appID\"] = eventsData[\"event_id\"].map(appIDs)\n",
        "appIDs = eventsData.groupby(\"device_id\")[\"appID\"].apply(lambda x: \" \".join(str(s) for s in x))\n",
        "\n",
        "eventsData = eventsData.drop('appID', axis=1)\n",
        "#---------------------------------------------------------------------------\n",
        "print(\"----TRAIN-TEST Merge\")\n",
        "#ageGenderTrain[\"appID\"] = ageGenderTrain[\"device_id\"].map(appIDs)\n",
        "#ageGenderTest[\"appID\"] = ageGenderTest[\"device_id\"].map(appIDs)\n",
        "trainEventData[\"appID\"] = trainEventData[\"device_id\"].map(appIDs)\n",
        "testEventData[\"appID\"] = testEventData[\"device_id\"].map(appIDs)\n",
        "\n",
        "#---------------------------------------------------------------------------\n",
        "del appIDs\n",
        "#---------------------------------------------------------------------------\n",
        "trainEventData.head()"
      ],
      "execution_count": 25,
      "outputs": [
        {
          "output_type": "stream",
          "text": [
            "--Handling APP IDs\n",
            "Total unique apps:  113211\n",
            "----APP-EVENTS\n",
            "----EVENTS\n",
            "----TRAIN-TEST Merge\n"
          ],
          "name": "stdout"
        },
        {
          "output_type": "execute_result",
          "data": {
            "text/html": [
              "<div>\n",
              "<style scoped>\n",
              "    .dataframe tbody tr th:only-of-type {\n",
              "        vertical-align: middle;\n",
              "    }\n",
              "\n",
              "    .dataframe tbody tr th {\n",
              "        vertical-align: top;\n",
              "    }\n",
              "\n",
              "    .dataframe thead th {\n",
              "        text-align: right;\n",
              "    }\n",
              "</style>\n",
              "<table border=\"1\" class=\"dataframe\">\n",
              "  <thead>\n",
              "    <tr style=\"text-align: right;\">\n",
              "      <th></th>\n",
              "      <th>device_id</th>\n",
              "      <th>group</th>\n",
              "      <th>appID</th>\n",
              "    </tr>\n",
              "  </thead>\n",
              "  <tbody>\n",
              "    <tr>\n",
              "      <th>2</th>\n",
              "      <td>-8260683887967679142</td>\n",
              "      <td>M32-38</td>\n",
              "      <td>APPID:77971 APPID:21010 APPID:91278 APPID:5192...</td>\n",
              "    </tr>\n",
              "    <tr>\n",
              "      <th>11</th>\n",
              "      <td>7477216237379271436</td>\n",
              "      <td>F33-42</td>\n",
              "      <td>APPID:78124 APPID:64724 APPID:90871 APPID:6850...</td>\n",
              "    </tr>\n",
              "    <tr>\n",
              "      <th>13</th>\n",
              "      <td>6352067998666467520</td>\n",
              "      <td>M32-38</td>\n",
              "      <td>APPID:43729 APPID:90871 APPID:88212 APPID:7253...</td>\n",
              "    </tr>\n",
              "    <tr>\n",
              "      <th>15</th>\n",
              "      <td>1508636020748379883</td>\n",
              "      <td>F27-28</td>\n",
              "      <td>nan nan nan nan APPID:107890 APPID:109184 APPI...</td>\n",
              "    </tr>\n",
              "    <tr>\n",
              "      <th>18</th>\n",
              "      <td>-6876541075223249434</td>\n",
              "      <td>M39+</td>\n",
              "      <td>nan nan nan nan nan nan nan APPID:88212 APPID:...</td>\n",
              "    </tr>\n",
              "  </tbody>\n",
              "</table>\n",
              "</div>"
            ],
            "text/plain": [
              "               device_id  ...                                              appID\n",
              "2   -8260683887967679142  ...  APPID:77971 APPID:21010 APPID:91278 APPID:5192...\n",
              "11   7477216237379271436  ...  APPID:78124 APPID:64724 APPID:90871 APPID:6850...\n",
              "13   6352067998666467520  ...  APPID:43729 APPID:90871 APPID:88212 APPID:7253...\n",
              "15   1508636020748379883  ...  nan nan nan nan APPID:107890 APPID:109184 APPI...\n",
              "18  -6876541075223249434  ...  nan nan nan nan nan nan nan APPID:88212 APPID:...\n",
              "\n",
              "[5 rows x 3 columns]"
            ]
          },
          "metadata": {
            "tags": []
          },
          "execution_count": 25
        }
      ]
    },
    {
      "cell_type": "code",
      "metadata": {
        "colab_type": "code",
        "id": "TrAJ-iqHPaVt",
        "colab": {
          "base_uri": "https://localhost:8080/",
          "height": 194
        },
        "outputId": "75adee60-6a43-46cf-9246-c7a85f697c6d"
      },
      "source": [
        "trainEventData['appIDCnt'] = trainEventData.appID.str.replace('APPID:','')\n",
        "trainEventData.appIDCnt = trainEventData.appIDCnt.str.replace(' ',', ')\n",
        "testEventData['appIDCnt'] = testEventData.appID.str.replace('APPID:','')\n",
        "testEventData.appIDCnt = testEventData.appIDCnt.str.replace(' ',', ')\n",
        "trainEventData.head()"
      ],
      "execution_count": 26,
      "outputs": [
        {
          "output_type": "execute_result",
          "data": {
            "text/html": [
              "<div>\n",
              "<style scoped>\n",
              "    .dataframe tbody tr th:only-of-type {\n",
              "        vertical-align: middle;\n",
              "    }\n",
              "\n",
              "    .dataframe tbody tr th {\n",
              "        vertical-align: top;\n",
              "    }\n",
              "\n",
              "    .dataframe thead th {\n",
              "        text-align: right;\n",
              "    }\n",
              "</style>\n",
              "<table border=\"1\" class=\"dataframe\">\n",
              "  <thead>\n",
              "    <tr style=\"text-align: right;\">\n",
              "      <th></th>\n",
              "      <th>device_id</th>\n",
              "      <th>group</th>\n",
              "      <th>appID</th>\n",
              "      <th>appIDCnt</th>\n",
              "    </tr>\n",
              "  </thead>\n",
              "  <tbody>\n",
              "    <tr>\n",
              "      <th>2</th>\n",
              "      <td>-8260683887967679142</td>\n",
              "      <td>M32-38</td>\n",
              "      <td>APPID:77971 APPID:21010 APPID:91278 APPID:5192...</td>\n",
              "      <td>77971, 21010, 91278, 51921, 109792, 68073, 105...</td>\n",
              "    </tr>\n",
              "    <tr>\n",
              "      <th>11</th>\n",
              "      <td>7477216237379271436</td>\n",
              "      <td>F33-42</td>\n",
              "      <td>APPID:78124 APPID:64724 APPID:90871 APPID:6850...</td>\n",
              "      <td>78124, 64724, 90871, 68509, 88212, 72538, 7332...</td>\n",
              "    </tr>\n",
              "    <tr>\n",
              "      <th>13</th>\n",
              "      <td>6352067998666467520</td>\n",
              "      <td>M32-38</td>\n",
              "      <td>APPID:43729 APPID:90871 APPID:88212 APPID:7253...</td>\n",
              "      <td>43729, 90871, 88212, 72538, 19975, 109189, 459...</td>\n",
              "    </tr>\n",
              "    <tr>\n",
              "      <th>15</th>\n",
              "      <td>1508636020748379883</td>\n",
              "      <td>F27-28</td>\n",
              "      <td>nan nan nan nan APPID:107890 APPID:109184 APPI...</td>\n",
              "      <td>nan, nan, nan, nan, 107890, 109184, 90871, 882...</td>\n",
              "    </tr>\n",
              "    <tr>\n",
              "      <th>18</th>\n",
              "      <td>-6876541075223249434</td>\n",
              "      <td>M39+</td>\n",
              "      <td>nan nan nan nan nan nan nan APPID:88212 APPID:...</td>\n",
              "      <td>nan, nan, nan, nan, nan, nan, nan, 88212, 5562...</td>\n",
              "    </tr>\n",
              "  </tbody>\n",
              "</table>\n",
              "</div>"
            ],
            "text/plain": [
              "               device_id  ...                                           appIDCnt\n",
              "2   -8260683887967679142  ...  77971, 21010, 91278, 51921, 109792, 68073, 105...\n",
              "11   7477216237379271436  ...  78124, 64724, 90871, 68509, 88212, 72538, 7332...\n",
              "13   6352067998666467520  ...  43729, 90871, 88212, 72538, 19975, 109189, 459...\n",
              "15   1508636020748379883  ...  nan, nan, nan, nan, 107890, 109184, 90871, 882...\n",
              "18  -6876541075223249434  ...  nan, nan, nan, nan, nan, nan, nan, 88212, 5562...\n",
              "\n",
              "[5 rows x 4 columns]"
            ]
          },
          "metadata": {
            "tags": []
          },
          "execution_count": 26
        }
      ]
    },
    {
      "cell_type": "markdown",
      "metadata": {
        "colab_type": "text",
        "id": "JXArvmfUPoPT"
      },
      "source": [
        "### 1.3.2 Finding DISTINCT APPID Count"
      ]
    },
    {
      "cell_type": "code",
      "metadata": {
        "colab_type": "code",
        "id": "bd_QyZzuPy25",
        "colab": {
          "base_uri": "https://localhost:8080/",
          "height": 0
        },
        "outputId": "dd23cd4b-8329-45e8-a510-b04a1750af3e"
      },
      "source": [
        "trainEventData.appIDCnt = trainEventData.appIDCnt.apply(lambda x: list(set(str(x).split(', '))))\n",
        "#trainEventData.appID = trainEventData.appIDCnt.astype(str)\n",
        "trainEventData.appIDCnt = trainEventData.appIDCnt.str.len()\n",
        "\n",
        "testEventData.appIDCnt = testEventData.appIDCnt.apply(lambda x: list(set(str(x).split(', '))))\n",
        "#testEventData.appID = testEventData.appIDCnt.astype(str)\n",
        "testEventData.appIDCnt = testEventData.appIDCnt.str.len()\n",
        "\n",
        "trainEventData.head()"
      ],
      "execution_count": 27,
      "outputs": [
        {
          "output_type": "execute_result",
          "data": {
            "text/html": [
              "<div>\n",
              "<style scoped>\n",
              "    .dataframe tbody tr th:only-of-type {\n",
              "        vertical-align: middle;\n",
              "    }\n",
              "\n",
              "    .dataframe tbody tr th {\n",
              "        vertical-align: top;\n",
              "    }\n",
              "\n",
              "    .dataframe thead th {\n",
              "        text-align: right;\n",
              "    }\n",
              "</style>\n",
              "<table border=\"1\" class=\"dataframe\">\n",
              "  <thead>\n",
              "    <tr style=\"text-align: right;\">\n",
              "      <th></th>\n",
              "      <th>device_id</th>\n",
              "      <th>group</th>\n",
              "      <th>appID</th>\n",
              "      <th>appIDCnt</th>\n",
              "    </tr>\n",
              "  </thead>\n",
              "  <tbody>\n",
              "    <tr>\n",
              "      <th>2</th>\n",
              "      <td>-8260683887967679142</td>\n",
              "      <td>M32-38</td>\n",
              "      <td>APPID:77971 APPID:21010 APPID:91278 APPID:5192...</td>\n",
              "      <td>53</td>\n",
              "    </tr>\n",
              "    <tr>\n",
              "      <th>11</th>\n",
              "      <td>7477216237379271436</td>\n",
              "      <td>F33-42</td>\n",
              "      <td>APPID:78124 APPID:64724 APPID:90871 APPID:6850...</td>\n",
              "      <td>31</td>\n",
              "    </tr>\n",
              "    <tr>\n",
              "      <th>13</th>\n",
              "      <td>6352067998666467520</td>\n",
              "      <td>M32-38</td>\n",
              "      <td>APPID:43729 APPID:90871 APPID:88212 APPID:7253...</td>\n",
              "      <td>20</td>\n",
              "    </tr>\n",
              "    <tr>\n",
              "      <th>15</th>\n",
              "      <td>1508636020748379883</td>\n",
              "      <td>F27-28</td>\n",
              "      <td>nan nan nan nan APPID:107890 APPID:109184 APPI...</td>\n",
              "      <td>25</td>\n",
              "    </tr>\n",
              "    <tr>\n",
              "      <th>18</th>\n",
              "      <td>-6876541075223249434</td>\n",
              "      <td>M39+</td>\n",
              "      <td>nan nan nan nan nan nan nan APPID:88212 APPID:...</td>\n",
              "      <td>97</td>\n",
              "    </tr>\n",
              "  </tbody>\n",
              "</table>\n",
              "</div>"
            ],
            "text/plain": [
              "               device_id  ... appIDCnt\n",
              "2   -8260683887967679142  ...       53\n",
              "11   7477216237379271436  ...       31\n",
              "13   6352067998666467520  ...       20\n",
              "15   1508636020748379883  ...       25\n",
              "18  -6876541075223249434  ...       97\n",
              "\n",
              "[5 rows x 4 columns]"
            ]
          },
          "metadata": {
            "tags": []
          },
          "execution_count": 27
        }
      ]
    },
    {
      "cell_type": "markdown",
      "metadata": {
        "colab_type": "text",
        "id": "N_SDLn6wQKUy"
      },
      "source": [
        "### 1.3.3 TFIDF For APP IDs"
      ]
    },
    {
      "cell_type": "code",
      "metadata": {
        "colab_type": "code",
        "id": "kslI3bkzOS3j",
        "colab": {
          "base_uri": "https://localhost:8080/",
          "height": 84
        },
        "outputId": "29c925e7-aa09-4529-eabf-1ca64c13c132"
      },
      "source": [
        "Xtr_appIDEv, Xte_appIDEv = vectorize(trainEventData, testEventData, [\"appID\"], \"missing\")\n",
        "print(Xtr_appIDEv.shape)\n",
        "print(Xte_appIDEv.shape)"
      ],
      "execution_count": 28,
      "outputs": [
        {
          "output_type": "stream",
          "text": [
            "(58503,)\n",
            "TfidfVectorizer for ['appID']\n",
            "(23309, 18888)\n",
            "(35194, 18888)\n"
          ],
          "name": "stdout"
        }
      ]
    },
    {
      "cell_type": "markdown",
      "metadata": {
        "colab_type": "text",
        "id": "i0gxQA04QSYV"
      },
      "source": [
        "### 1.3.4 Standard Scaling APPID Count"
      ]
    },
    {
      "cell_type": "code",
      "metadata": {
        "colab_type": "code",
        "id": "ZHkt70ESOS3l",
        "colab": {
          "base_uri": "https://localhost:8080/",
          "height": 0
        },
        "outputId": "2e42de98-fe8e-440d-9074-0d16d9040402"
      },
      "source": [
        "vectorizer=StandardScaler()\n",
        "vectorizer.fit(trainEventData['appIDCnt'].values.reshape(-1,1))\n",
        "\n",
        "Xtr_appIDCnt = vectorizer.transform(trainEventData['appIDCnt'].values.reshape(-1,1))\n",
        "Xte_appIDCnt = vectorizer.transform(testEventData['appIDCnt'].values.reshape(-1,1))\n",
        "\n",
        "print(\"Train APPID-Count Shape: \",Xtr_appIDCnt.shape)\n",
        "print(\"Test APPID-Count Shape: \",Xte_appIDCnt.shape)"
      ],
      "execution_count": 29,
      "outputs": [
        {
          "output_type": "stream",
          "text": [
            "Train APPID-Count Shape:  (23309, 1)\n",
            "Test APPID-Count Shape:  (35194, 1)\n"
          ],
          "name": "stdout"
        }
      ]
    },
    {
      "cell_type": "markdown",
      "metadata": {
        "colab_type": "text",
        "id": "cSGpIhWCQhwT"
      },
      "source": [
        "### 1.3.5 Finding Proportion of APPs Against Each Device ID TO Unique APPID Count"
      ]
    },
    {
      "cell_type": "code",
      "metadata": {
        "colab_type": "code",
        "id": "wuaBfnMiQjXC",
        "colab": {
          "base_uri": "https://localhost:8080/",
          "height": 0
        },
        "outputId": "733310fe-9e3a-4146-c060-784987f96840"
      },
      "source": [
        "Xtr_appIDCntProp = ((trainEventData.appIDCnt)/uApps).values.reshape(-1,1)\n",
        "Xte_appIDCntProp = ((testEventData.appIDCnt)/uApps).values.reshape(-1,1)\n",
        "\n",
        "print(\"Train APP ID Proportion Shape: \",Xtr_appIDCntProp.shape)\n",
        "print(\"Test APP ID Proportion Shape: \",Xte_appIDCntProp.shape)"
      ],
      "execution_count": 30,
      "outputs": [
        {
          "output_type": "stream",
          "text": [
            "Train APP ID Proportion Shape:  (23309, 1)\n",
            "Test APP ID Proportion Shape:  (35194, 1)\n"
          ],
          "name": "stdout"
        }
      ]
    },
    {
      "cell_type": "markdown",
      "metadata": {
        "colab_type": "text",
        "id": "D9O-whGFOS3o"
      },
      "source": [
        "### 1.3.6 Calculating ENTROPY for App-ID"
      ]
    },
    {
      "cell_type": "code",
      "metadata": {
        "colab_type": "code",
        "id": "zt3EAQbfOS3o",
        "colab": {
          "base_uri": "https://localhost:8080/",
          "height": 0
        },
        "outputId": "9b9ed484-9284-4cde-a247-088b318c3ab1"
      },
      "source": [
        "# REF - https://www.kaggle.com/c/talkingdata-mobile-user-demographics/discussion/23424\n",
        "trainEventData.appID = trainEventData.appID.apply(lambda x: entropy(list(Counter(str(x).split(', ')).values()), base=2))\n",
        "testEventData.appID = testEventData.appID.apply(lambda x: entropy(list(Counter(str(x).split(', ')).values()), base=2))\n",
        "\n",
        "print(trainEventData.shape)\n",
        "print(testEventData.shape)\n",
        "trainEventData.head()"
      ],
      "execution_count": 31,
      "outputs": [
        {
          "output_type": "stream",
          "text": [
            "(23309, 4)\n",
            "(35194, 3)\n"
          ],
          "name": "stdout"
        },
        {
          "output_type": "execute_result",
          "data": {
            "text/html": [
              "<div>\n",
              "<style scoped>\n",
              "    .dataframe tbody tr th:only-of-type {\n",
              "        vertical-align: middle;\n",
              "    }\n",
              "\n",
              "    .dataframe tbody tr th {\n",
              "        vertical-align: top;\n",
              "    }\n",
              "\n",
              "    .dataframe thead th {\n",
              "        text-align: right;\n",
              "    }\n",
              "</style>\n",
              "<table border=\"1\" class=\"dataframe\">\n",
              "  <thead>\n",
              "    <tr style=\"text-align: right;\">\n",
              "      <th></th>\n",
              "      <th>device_id</th>\n",
              "      <th>group</th>\n",
              "      <th>appID</th>\n",
              "      <th>appIDCnt</th>\n",
              "    </tr>\n",
              "  </thead>\n",
              "  <tbody>\n",
              "    <tr>\n",
              "      <th>2</th>\n",
              "      <td>-8260683887967679142</td>\n",
              "      <td>M32-38</td>\n",
              "      <td>0.0</td>\n",
              "      <td>53</td>\n",
              "    </tr>\n",
              "    <tr>\n",
              "      <th>11</th>\n",
              "      <td>7477216237379271436</td>\n",
              "      <td>F33-42</td>\n",
              "      <td>0.0</td>\n",
              "      <td>31</td>\n",
              "    </tr>\n",
              "    <tr>\n",
              "      <th>13</th>\n",
              "      <td>6352067998666467520</td>\n",
              "      <td>M32-38</td>\n",
              "      <td>0.0</td>\n",
              "      <td>20</td>\n",
              "    </tr>\n",
              "    <tr>\n",
              "      <th>15</th>\n",
              "      <td>1508636020748379883</td>\n",
              "      <td>F27-28</td>\n",
              "      <td>0.0</td>\n",
              "      <td>25</td>\n",
              "    </tr>\n",
              "    <tr>\n",
              "      <th>18</th>\n",
              "      <td>-6876541075223249434</td>\n",
              "      <td>M39+</td>\n",
              "      <td>0.0</td>\n",
              "      <td>97</td>\n",
              "    </tr>\n",
              "  </tbody>\n",
              "</table>\n",
              "</div>"
            ],
            "text/plain": [
              "               device_id   group  appID  appIDCnt\n",
              "2   -8260683887967679142  M32-38    0.0        53\n",
              "11   7477216237379271436  F33-42    0.0        31\n",
              "13   6352067998666467520  M32-38    0.0        20\n",
              "15   1508636020748379883  F27-28    0.0        25\n",
              "18  -6876541075223249434    M39+    0.0        97"
            ]
          },
          "metadata": {
            "tags": []
          },
          "execution_count": 31
        }
      ]
    },
    {
      "cell_type": "code",
      "metadata": {
        "colab_type": "code",
        "id": "OOdAmC3OOS3q",
        "colab": {
          "base_uri": "https://localhost:8080/",
          "height": 0
        },
        "outputId": "cf1de22e-b1c2-4edc-9244-15215a9f886c"
      },
      "source": [
        "Xtr_appIDEntropy = trainEventData['appID'].values.reshape(-1,1)\n",
        "Xte_appIDEntropy = testEventData['appID'].values.reshape(-1,1)\n",
        "\n",
        "print(\"Train APP ID Entropy Shape: \",Xtr_appIDEntropy.shape)\n",
        "print(\"Test APP ID Entropy Shape: \",Xte_appIDEntropy.shape)"
      ],
      "execution_count": 32,
      "outputs": [
        {
          "output_type": "stream",
          "text": [
            "Train APP ID Entropy Shape:  (23309, 1)\n",
            "Test APP ID Entropy Shape:  (35194, 1)\n"
          ],
          "name": "stdout"
        }
      ]
    },
    {
      "cell_type": "code",
      "metadata": {
        "colab_type": "code",
        "id": "vU9sxmquOS3t",
        "colab": {}
      },
      "source": [
        "trainEventData = trainEventData.drop(['appID','appIDCnt'], axis=1)\n",
        "testEventData = testEventData.drop(['appID','appIDCnt'], axis=1)"
      ],
      "execution_count": 33,
      "outputs": []
    },
    {
      "cell_type": "markdown",
      "metadata": {
        "colab_type": "text",
        "id": "ZAJp60BtOS3x"
      },
      "source": [
        "## 1.4 Handling IS_ACTIVE"
      ]
    },
    {
      "cell_type": "markdown",
      "metadata": {
        "colab_type": "text",
        "id": "kWx3-DGYrpHJ"
      },
      "source": [
        "### 1.4.1 Mapping IS_ACTIVE to Device IDs"
      ]
    },
    {
      "cell_type": "code",
      "metadata": {
        "colab_type": "code",
        "id": "90v-rMO9OS3x",
        "colab": {
          "base_uri": "https://localhost:8080/",
          "height": 0
        },
        "outputId": "a9c034bd-7776-47bd-ba4f-7b10154d903b"
      },
      "source": [
        "print(\"--Handling IS_ACTIVE\")\n",
        "#---------------------------------------------------------------------------\n",
        "print(\"----APP-EVENTS\")\n",
        "appEventsData[\"activeApp\"] = appEventsData.is_active.astype(str).apply(lambda x: \" \".join(str(s) for s in x))\n",
        "activeApps = appEventsData.groupby(\"event_id\")[\"is_active\"].apply(lambda x: \" \".join(str(s) for s in x))\n",
        "\n",
        "appEventsData = appEventsData.drop('activeApp', axis=1)\n",
        "#---------------------------------------------------------------------------\n",
        "print(\"----EVENTS\")\n",
        "eventsData[\"activeApp\"] = eventsData[\"event_id\"].map(activeApps)\n",
        "activeApps = eventsData.groupby(\"device_id\")[\"activeApp\"].apply(lambda x: \" \".join(str(s) for s in x))\n",
        "\n",
        "eventsData = eventsData.drop('activeApp', axis=1)\n",
        "#---------------------------------------------------------------------------\n",
        "print(\"----TRAIN-TEST Merge\")\n",
        "#ageGenderTrain[\"activeApp\"] = ageGenderTrain[\"device_id\"].map(activeApps)\n",
        "#ageGenderTest[\"activeApp\"] = ageGenderTest[\"device_id\"].map(activeApps)\n",
        "\n",
        "trainEventData[\"activeApp\"] = trainEventData[\"device_id\"].map(activeApps)\n",
        "testEventData[\"activeApp\"] = testEventData[\"device_id\"].map(activeApps)\n",
        "\n",
        "del activeApps\n",
        "#---------------------------------------------------------------------------\n",
        "trainEventData.head()"
      ],
      "execution_count": 34,
      "outputs": [
        {
          "output_type": "stream",
          "text": [
            "--Handling IS_ACTIVE\n",
            "----APP-EVENTS\n",
            "----EVENTS\n",
            "----TRAIN-TEST Merge\n"
          ],
          "name": "stdout"
        },
        {
          "output_type": "execute_result",
          "data": {
            "text/html": [
              "<div>\n",
              "<style scoped>\n",
              "    .dataframe tbody tr th:only-of-type {\n",
              "        vertical-align: middle;\n",
              "    }\n",
              "\n",
              "    .dataframe tbody tr th {\n",
              "        vertical-align: top;\n",
              "    }\n",
              "\n",
              "    .dataframe thead th {\n",
              "        text-align: right;\n",
              "    }\n",
              "</style>\n",
              "<table border=\"1\" class=\"dataframe\">\n",
              "  <thead>\n",
              "    <tr style=\"text-align: right;\">\n",
              "      <th></th>\n",
              "      <th>device_id</th>\n",
              "      <th>group</th>\n",
              "      <th>activeApp</th>\n",
              "    </tr>\n",
              "  </thead>\n",
              "  <tbody>\n",
              "    <tr>\n",
              "      <th>2</th>\n",
              "      <td>-8260683887967679142</td>\n",
              "      <td>M32-38</td>\n",
              "      <td>0 0 0 0 1 0 1 0 0 0 0 0 0 1 0 1 0 0 0 0 1 0 0 ...</td>\n",
              "    </tr>\n",
              "    <tr>\n",
              "      <th>11</th>\n",
              "      <td>7477216237379271436</td>\n",
              "      <td>F33-42</td>\n",
              "      <td>0 1 1 1 0 1 0 0 1 0 1 1 0 1 0 0 0 0 1 1 0 0 1 ...</td>\n",
              "    </tr>\n",
              "    <tr>\n",
              "      <th>13</th>\n",
              "      <td>6352067998666467520</td>\n",
              "      <td>M32-38</td>\n",
              "      <td>0 1 1 1 1 1 1 0 1 0 1 1 0 0 0 0 1 1 0 1 1 1 1 ...</td>\n",
              "    </tr>\n",
              "    <tr>\n",
              "      <th>15</th>\n",
              "      <td>1508636020748379883</td>\n",
              "      <td>F27-28</td>\n",
              "      <td>nan nan nan nan 1 1 1 1 1 1 1 1 1 1 1 1 1 1 1 ...</td>\n",
              "    </tr>\n",
              "    <tr>\n",
              "      <th>18</th>\n",
              "      <td>-6876541075223249434</td>\n",
              "      <td>M39+</td>\n",
              "      <td>nan nan nan nan nan nan nan 1 0 0 1 1 1 0 0 0 ...</td>\n",
              "    </tr>\n",
              "  </tbody>\n",
              "</table>\n",
              "</div>"
            ],
            "text/plain": [
              "               device_id  ...                                          activeApp\n",
              "2   -8260683887967679142  ...  0 0 0 0 1 0 1 0 0 0 0 0 0 1 0 1 0 0 0 0 1 0 0 ...\n",
              "11   7477216237379271436  ...  0 1 1 1 0 1 0 0 1 0 1 1 0 1 0 0 0 0 1 1 0 0 1 ...\n",
              "13   6352067998666467520  ...  0 1 1 1 1 1 1 0 1 0 1 1 0 0 0 0 1 1 0 1 1 1 1 ...\n",
              "15   1508636020748379883  ...  nan nan nan nan 1 1 1 1 1 1 1 1 1 1 1 1 1 1 1 ...\n",
              "18  -6876541075223249434  ...  nan nan nan nan nan nan nan 1 0 0 1 1 1 0 0 0 ...\n",
              "\n",
              "[5 rows x 3 columns]"
            ]
          },
          "metadata": {
            "tags": []
          },
          "execution_count": 34
        }
      ]
    },
    {
      "cell_type": "markdown",
      "metadata": {
        "colab_type": "text",
        "id": "CeygAWBVrt1a"
      },
      "source": [
        "### 1.4.2 TFIDF for IS_ACTIVE"
      ]
    },
    {
      "cell_type": "code",
      "metadata": {
        "colab_type": "code",
        "id": "Z8yWQtkKOS32",
        "colab": {
          "base_uri": "https://localhost:8080/",
          "height": 84
        },
        "outputId": "12ee9565-8ce5-486f-a931-8142be3079dd"
      },
      "source": [
        "Xtr_activeAppEv, Xte_activeAppEv = vectorize(trainEventData, testEventData, [\"activeApp\"], \"missing\")\n",
        "print(Xtr_activeAppEv.shape)\n",
        "print(Xte_activeAppEv.shape)"
      ],
      "execution_count": 35,
      "outputs": [
        {
          "output_type": "stream",
          "text": [
            "(58503,)\n",
            "TfidfVectorizer for ['activeApp']\n",
            "(23309, 1)\n",
            "(35194, 1)\n"
          ],
          "name": "stdout"
        }
      ]
    },
    {
      "cell_type": "markdown",
      "metadata": {
        "colab_type": "text",
        "id": "ESkZKPNnr0gZ"
      },
      "source": [
        "### 1.4.3 SUM of ACTIVE APPs on a Device"
      ]
    },
    {
      "cell_type": "code",
      "metadata": {
        "colab_type": "code",
        "id": "DqPHVS9arlr0",
        "colab": {
          "base_uri": "https://localhost:8080/",
          "height": 0
        },
        "outputId": "563a6477-8635-4c0c-a90a-df87d563e533"
      },
      "source": [
        "trainEventData['actvAppCnt'] = trainEventData.activeApp.str.count('1')\n",
        "testEventData['actvAppCnt'] = testEventData.activeApp.str.count('1')\n",
        "\n",
        "vectorizer=StandardScaler()\n",
        "vectorizer.fit(trainEventData['actvAppCnt'].values.reshape(-1,1))\n",
        "\n",
        "Xtr_actvAppCnt = vectorizer.transform(trainEventData['actvAppCnt'].values.reshape(-1,1))\n",
        "Xte_actvAppCnt = vectorizer.transform(testEventData['actvAppCnt'].values.reshape(-1,1))\n",
        "\n",
        "print(\"Train Active APP Count Shape: \",Xtr_actvAppCnt.shape)\n",
        "print(\"Test Active APP Count Shape: \",Xte_actvAppCnt.shape)"
      ],
      "execution_count": 36,
      "outputs": [
        {
          "output_type": "stream",
          "text": [
            "Train Active APP Count Shape:  (23309, 1)\n",
            "Test Active APP Count Shape:  (35194, 1)\n"
          ],
          "name": "stdout"
        }
      ]
    },
    {
      "cell_type": "markdown",
      "metadata": {
        "colab_type": "text",
        "id": "ejgh5BmOOS34"
      },
      "source": [
        "### 1.4.4 Calculating ENTROPY for IS_ACTIVE"
      ]
    },
    {
      "cell_type": "code",
      "metadata": {
        "colab_type": "code",
        "id": "geJEpTfmOS34",
        "colab": {
          "base_uri": "https://localhost:8080/",
          "height": 0
        },
        "outputId": "ed93c95d-73bb-4d40-ed9f-150fa22f637c"
      },
      "source": [
        "trainEventData.activeApp = trainEventData.activeApp.str.replace(' ',', ')\n",
        "testEventData.activeApp = testEventData.activeApp.str.replace(' ',', ')\n",
        "\n",
        "# REF - https://www.kaggle.com/c/talkingdata-mobile-user-demographics/discussion/23424\n",
        "trainEventData.activeApp = trainEventData.activeApp.apply(lambda x: entropy(list(Counter(str(x).split(', ')).values()), base=2))\n",
        "testEventData.activeApp = testEventData.activeApp.apply(lambda x: entropy(list(Counter(str(x).split(', ')).values()), base=2))\n",
        "\n",
        "print(trainEventData.shape)\n",
        "print(testEventData.shape)\n",
        "trainEventData.head()"
      ],
      "execution_count": 37,
      "outputs": [
        {
          "output_type": "stream",
          "text": [
            "(23309, 4)\n",
            "(35194, 3)\n"
          ],
          "name": "stdout"
        },
        {
          "output_type": "execute_result",
          "data": {
            "text/html": [
              "<div>\n",
              "<style scoped>\n",
              "    .dataframe tbody tr th:only-of-type {\n",
              "        vertical-align: middle;\n",
              "    }\n",
              "\n",
              "    .dataframe tbody tr th {\n",
              "        vertical-align: top;\n",
              "    }\n",
              "\n",
              "    .dataframe thead th {\n",
              "        text-align: right;\n",
              "    }\n",
              "</style>\n",
              "<table border=\"1\" class=\"dataframe\">\n",
              "  <thead>\n",
              "    <tr style=\"text-align: right;\">\n",
              "      <th></th>\n",
              "      <th>device_id</th>\n",
              "      <th>group</th>\n",
              "      <th>activeApp</th>\n",
              "      <th>actvAppCnt</th>\n",
              "    </tr>\n",
              "  </thead>\n",
              "  <tbody>\n",
              "    <tr>\n",
              "      <th>2</th>\n",
              "      <td>-8260683887967679142</td>\n",
              "      <td>M32-38</td>\n",
              "      <td>0.509516</td>\n",
              "      <td>6</td>\n",
              "    </tr>\n",
              "    <tr>\n",
              "      <th>11</th>\n",
              "      <td>7477216237379271436</td>\n",
              "      <td>F33-42</td>\n",
              "      <td>1.221570</td>\n",
              "      <td>37</td>\n",
              "    </tr>\n",
              "    <tr>\n",
              "      <th>13</th>\n",
              "      <td>6352067998666467520</td>\n",
              "      <td>M32-38</td>\n",
              "      <td>0.845351</td>\n",
              "      <td>112</td>\n",
              "    </tr>\n",
              "    <tr>\n",
              "      <th>15</th>\n",
              "      <td>1508636020748379883</td>\n",
              "      <td>F27-28</td>\n",
              "      <td>1.519372</td>\n",
              "      <td>64</td>\n",
              "    </tr>\n",
              "    <tr>\n",
              "      <th>18</th>\n",
              "      <td>-6876541075223249434</td>\n",
              "      <td>M39+</td>\n",
              "      <td>1.146958</td>\n",
              "      <td>83</td>\n",
              "    </tr>\n",
              "  </tbody>\n",
              "</table>\n",
              "</div>"
            ],
            "text/plain": [
              "               device_id   group  activeApp  actvAppCnt\n",
              "2   -8260683887967679142  M32-38   0.509516           6\n",
              "11   7477216237379271436  F33-42   1.221570          37\n",
              "13   6352067998666467520  M32-38   0.845351         112\n",
              "15   1508636020748379883  F27-28   1.519372          64\n",
              "18  -6876541075223249434    M39+   1.146958          83"
            ]
          },
          "metadata": {
            "tags": []
          },
          "execution_count": 37
        }
      ]
    },
    {
      "cell_type": "code",
      "metadata": {
        "colab_type": "code",
        "id": "3WFeDQK-OS38",
        "colab": {
          "base_uri": "https://localhost:8080/",
          "height": 0
        },
        "outputId": "78f7d630-2102-4caf-8c0d-8bbc504292a5"
      },
      "source": [
        "Xtr_activeAppEntropy = trainEventData['activeApp'].values.reshape(-1,1)\n",
        "Xte_activeAppEntropy = testEventData['activeApp'].values.reshape(-1,1)\n",
        "\n",
        "print(\"Train Active APP Entropy Shape: \",Xtr_activeAppEntropy.shape)\n",
        "print(\"Test Active APP Entropy Shape: \",Xte_activeAppEntropy.shape)"
      ],
      "execution_count": 38,
      "outputs": [
        {
          "output_type": "stream",
          "text": [
            "Train Active APP Entropy Shape:  (23309, 1)\n",
            "Test Active APP Entropy Shape:  (35194, 1)\n"
          ],
          "name": "stdout"
        }
      ]
    },
    {
      "cell_type": "code",
      "metadata": {
        "colab_type": "code",
        "id": "Mgsi8VxMOS3-",
        "colab": {}
      },
      "source": [
        "trainEventData = trainEventData.drop(['activeApp', 'actvAppCnt'], axis=1)\n",
        "testEventData = testEventData.drop(['activeApp', 'actvAppCnt'], axis=1)"
      ],
      "execution_count": 39,
      "outputs": []
    },
    {
      "cell_type": "markdown",
      "metadata": {
        "colab_type": "text",
        "id": "m7cNAa7wOS4C"
      },
      "source": [
        "## 1.5 Handling Phone-Brand and Device-Model"
      ]
    },
    {
      "cell_type": "code",
      "metadata": {
        "colab_type": "code",
        "id": "0MYREMRAOS4D",
        "colab": {
          "base_uri": "https://localhost:8080/",
          "height": 0
        },
        "outputId": "6c013e38-0d1f-42b1-bdc7-f0a5f8df5b12"
      },
      "source": [
        "print('Handling Phone-Brand and Device-Model')\n",
        "phoneBrand = phoneBrand.drop_duplicates('device_id', keep='first')\n",
        "phoneBrand.device_model = phoneBrand.phone_brand.str.cat(\" \"+phoneBrand.device_model)\n",
        "phoneBrand.phone_brand = phoneBrand.phone_brand.map(str.strip).map(str.lower)\n",
        "phoneBrand.device_model = phoneBrand.device_model.map(str.strip).map(str.lower)\n",
        "uModels = phoneBrand.device_model.nunique()\n",
        "\n",
        "ageGenderTrain = ageGenderTrain.merge(phoneBrand, on='device_id', how='left')\n",
        "ageGenderTest = ageGenderTest.merge(phoneBrand, on='device_id', how='left')\n",
        "#---------------------------------------------\n",
        "print(\"Train:\", ageGenderTrain.shape)\n",
        "print(\"Test:\", ageGenderTest.shape)\n",
        "ageGenderTrain.head()"
      ],
      "execution_count": 40,
      "outputs": [
        {
          "output_type": "stream",
          "text": [
            "Handling Phone-Brand and Device-Model\n",
            "Train: (74645, 4)\n",
            "Test: (112071, 3)\n"
          ],
          "name": "stdout"
        },
        {
          "output_type": "execute_result",
          "data": {
            "text/html": [
              "<div>\n",
              "<style scoped>\n",
              "    .dataframe tbody tr th:only-of-type {\n",
              "        vertical-align: middle;\n",
              "    }\n",
              "\n",
              "    .dataframe tbody tr th {\n",
              "        vertical-align: top;\n",
              "    }\n",
              "\n",
              "    .dataframe thead th {\n",
              "        text-align: right;\n",
              "    }\n",
              "</style>\n",
              "<table border=\"1\" class=\"dataframe\">\n",
              "  <thead>\n",
              "    <tr style=\"text-align: right;\">\n",
              "      <th></th>\n",
              "      <th>device_id</th>\n",
              "      <th>group</th>\n",
              "      <th>phone_brand</th>\n",
              "      <th>device_model</th>\n",
              "    </tr>\n",
              "  </thead>\n",
              "  <tbody>\n",
              "    <tr>\n",
              "      <th>0</th>\n",
              "      <td>-8076087639492063270</td>\n",
              "      <td>M32-38</td>\n",
              "      <td>小米</td>\n",
              "      <td>小米 mi 2</td>\n",
              "    </tr>\n",
              "    <tr>\n",
              "      <th>1</th>\n",
              "      <td>-2897161552818060146</td>\n",
              "      <td>M32-38</td>\n",
              "      <td>小米</td>\n",
              "      <td>小米 mi 2</td>\n",
              "    </tr>\n",
              "    <tr>\n",
              "      <th>2</th>\n",
              "      <td>-8260683887967679142</td>\n",
              "      <td>M32-38</td>\n",
              "      <td>小米</td>\n",
              "      <td>小米 mi 2</td>\n",
              "    </tr>\n",
              "    <tr>\n",
              "      <th>3</th>\n",
              "      <td>-4938849341048082022</td>\n",
              "      <td>M29-31</td>\n",
              "      <td>小米</td>\n",
              "      <td>小米 红米note</td>\n",
              "    </tr>\n",
              "    <tr>\n",
              "      <th>4</th>\n",
              "      <td>245133531816851882</td>\n",
              "      <td>M29-31</td>\n",
              "      <td>小米</td>\n",
              "      <td>小米 mi 3</td>\n",
              "    </tr>\n",
              "  </tbody>\n",
              "</table>\n",
              "</div>"
            ],
            "text/plain": [
              "              device_id   group phone_brand device_model\n",
              "0  -8076087639492063270  M32-38          小米      小米 mi 2\n",
              "1  -2897161552818060146  M32-38          小米      小米 mi 2\n",
              "2  -8260683887967679142  M32-38          小米      小米 mi 2\n",
              "3  -4938849341048082022  M29-31          小米    小米 红米note\n",
              "4    245133531816851882  M29-31          小米      小米 mi 3"
            ]
          },
          "metadata": {
            "tags": []
          },
          "execution_count": 40
        }
      ]
    },
    {
      "cell_type": "code",
      "metadata": {
        "colab_type": "code",
        "id": "Hdmjh1P8OS4F",
        "colab": {}
      },
      "source": [
        "#notrainEventData = ageGenderTrain.loc[~ageGenderTrain.device_id.isin(eventsData.device_id)]\n",
        "#notestEventData = ageGenderTest.loc[~ageGenderTest.device_id.isin(eventsData.device_id)]\n",
        "notrainEventData = ageGenderTrain\n",
        "notestEventData = ageGenderTest.loc[~ageGenderTest.device_id.isin(eventsData.device_id)]\n",
        "trainEventData = ageGenderTrain.loc[ageGenderTrain.device_id.isin(eventsData.device_id)]\n",
        "testEventData = ageGenderTest.loc[ageGenderTest.device_id.isin(eventsData.device_id)]"
      ],
      "execution_count": 41,
      "outputs": []
    },
    {
      "cell_type": "code",
      "metadata": {
        "colab_type": "code",
        "id": "mAgvo3I4u8-i",
        "colab": {
          "base_uri": "https://localhost:8080/",
          "height": 0
        },
        "outputId": "a9413e72-ea70-482b-bfbf-f71f19670940"
      },
      "source": [
        "phbrData = pd.concat([ageGenderTrain, ageGenderTest], axis=0, ignore_index=True)\n",
        "print(\"TfidfVectorizer for Phone Brand\")\n",
        "vectorizer = TfidfVectorizer(min_df=1).fit(phbrData.phone_brand)\n",
        "Xtr_phbrev = vectorizer.transform(trainEventData.phone_brand)\n",
        "Xte_phbrev = vectorizer.transform(testEventData.phone_brand)\n",
        "\n",
        "print(\"=====================================\")\n",
        "print(\"After TfidfVectorizer for PHONE BRAND\")\n",
        "print(Xtr_phbrev.shape)\n",
        "print(Xte_phbrev.shape)\n",
        "print(\"=====================================\")\n",
        "\n",
        "Xtr_phbrnoev = vectorizer.transform(notrainEventData.phone_brand)\n",
        "Xte_phbrnoev = vectorizer.transform(notestEventData.phone_brand)\n",
        "\n",
        "print(\"=====================================\")\n",
        "print(\"After TfidfVectorizer for PHONE BRAND\")\n",
        "print(Xtr_phbrnoev.shape)\n",
        "print(Xte_phbrnoev.shape)\n",
        "print(\"=====================================\")"
      ],
      "execution_count": 42,
      "outputs": [
        {
          "output_type": "stream",
          "text": [
            "TfidfVectorizer for Phone Brand\n",
            "=====================================\n",
            "After TfidfVectorizer for PHONE BRAND\n",
            "(23309, 131)\n",
            "(35194, 131)\n",
            "=====================================\n",
            "=====================================\n",
            "After TfidfVectorizer for PHONE BRAND\n",
            "(74645, 131)\n",
            "(76877, 131)\n",
            "=====================================\n"
          ],
          "name": "stdout"
        }
      ]
    },
    {
      "cell_type": "code",
      "metadata": {
        "colab_type": "code",
        "id": "u8rVccu-DkzH",
        "colab": {
          "base_uri": "https://localhost:8080/",
          "height": 0
        },
        "outputId": "1d6fd5a7-8332-47df-fe25-7e6b43bcd83a"
      },
      "source": [
        "demoData = pd.concat([ageGenderTrain, ageGenderTest], axis=0, ignore_index=True)\n",
        "print(\"TfidfVectorizer for Device Model\")\n",
        "vectorizer = TfidfVectorizer(min_df=1).fit(demoData.device_model)\n",
        "Xtr_demoev = vectorizer.transform(trainEventData.device_model)\n",
        "Xte_demoev = vectorizer.transform(testEventData.device_model)\n",
        "\n",
        "print(\"=====================================\")\n",
        "print(\"After TfidfVectorizer for DEVICE MODEL\")\n",
        "print(Xtr_demoev.shape)\n",
        "print(Xte_demoev.shape)\n",
        "print(\"=====================================\")\n",
        "\n",
        "Xtr_demonoev = vectorizer.transform(notrainEventData.device_model)\n",
        "Xte_demonoev = vectorizer.transform(notestEventData.device_model)\n",
        "\n",
        "print(\"=====================================\")\n",
        "print(\"After TfidfVectorizer for DEVICE MODEL\")\n",
        "print(Xtr_demonoev.shape)\n",
        "print(Xte_demonoev.shape)\n",
        "print(\"=====================================\")"
      ],
      "execution_count": 43,
      "outputs": [
        {
          "output_type": "stream",
          "text": [
            "TfidfVectorizer for Device Model\n",
            "=====================================\n",
            "After TfidfVectorizer for DEVICE MODEL\n",
            "(23309, 1570)\n",
            "(35194, 1570)\n",
            "=====================================\n",
            "=====================================\n",
            "After TfidfVectorizer for DEVICE MODEL\n",
            "(74645, 1570)\n",
            "(76877, 1570)\n",
            "=====================================\n"
          ],
          "name": "stdout"
        }
      ]
    },
    {
      "cell_type": "code",
      "metadata": {
        "colab_type": "code",
        "id": "dFfDbdOaOS4Z",
        "colab": {
          "base_uri": "https://localhost:8080/",
          "height": 0
        },
        "outputId": "d11690ea-e0cc-4ef5-adcb-00b8ca2e1542"
      },
      "source": [
        "ageGenderTrain = ageGenderTrain.drop(['phone_brand','device_model'], axis=1)\n",
        "ageGenderTest = ageGenderTest.drop(['phone_brand','device_model'], axis=1)\n",
        "\n",
        "trainEventData = trainEventData.drop(['phone_brand','device_model'], axis=1)\n",
        "testEventData = testEventData.drop(['phone_brand','device_model'], axis=1)\n",
        "\n",
        "notrainEventData = notrainEventData.drop(['phone_brand','device_model'], axis=1)\n",
        "notestEventData = notestEventData.drop(['phone_brand','device_model'], axis=1)\n",
        "\n",
        "print(ageGenderTrain.shape)\n",
        "print(ageGenderTest.shape)\n",
        "\n",
        "ageGenderTrain.head()"
      ],
      "execution_count": 44,
      "outputs": [
        {
          "output_type": "stream",
          "text": [
            "(74645, 2)\n",
            "(112071, 1)\n"
          ],
          "name": "stdout"
        },
        {
          "output_type": "execute_result",
          "data": {
            "text/html": [
              "<div>\n",
              "<style scoped>\n",
              "    .dataframe tbody tr th:only-of-type {\n",
              "        vertical-align: middle;\n",
              "    }\n",
              "\n",
              "    .dataframe tbody tr th {\n",
              "        vertical-align: top;\n",
              "    }\n",
              "\n",
              "    .dataframe thead th {\n",
              "        text-align: right;\n",
              "    }\n",
              "</style>\n",
              "<table border=\"1\" class=\"dataframe\">\n",
              "  <thead>\n",
              "    <tr style=\"text-align: right;\">\n",
              "      <th></th>\n",
              "      <th>device_id</th>\n",
              "      <th>group</th>\n",
              "    </tr>\n",
              "  </thead>\n",
              "  <tbody>\n",
              "    <tr>\n",
              "      <th>0</th>\n",
              "      <td>-8076087639492063270</td>\n",
              "      <td>M32-38</td>\n",
              "    </tr>\n",
              "    <tr>\n",
              "      <th>1</th>\n",
              "      <td>-2897161552818060146</td>\n",
              "      <td>M32-38</td>\n",
              "    </tr>\n",
              "    <tr>\n",
              "      <th>2</th>\n",
              "      <td>-8260683887967679142</td>\n",
              "      <td>M32-38</td>\n",
              "    </tr>\n",
              "    <tr>\n",
              "      <th>3</th>\n",
              "      <td>-4938849341048082022</td>\n",
              "      <td>M29-31</td>\n",
              "    </tr>\n",
              "    <tr>\n",
              "      <th>4</th>\n",
              "      <td>245133531816851882</td>\n",
              "      <td>M29-31</td>\n",
              "    </tr>\n",
              "  </tbody>\n",
              "</table>\n",
              "</div>"
            ],
            "text/plain": [
              "              device_id   group\n",
              "0  -8076087639492063270  M32-38\n",
              "1  -2897161552818060146  M32-38\n",
              "2  -8260683887967679142  M32-38\n",
              "3  -4938849341048082022  M29-31\n",
              "4    245133531816851882  M29-31"
            ]
          },
          "metadata": {
            "tags": []
          },
          "execution_count": 44
        }
      ]
    },
    {
      "cell_type": "code",
      "metadata": {
        "colab_type": "code",
        "id": "Z0ZXLN_rOS4d",
        "colab": {
          "base_uri": "https://localhost:8080/",
          "height": 0
        },
        "outputId": "1df3cdea-d029-4604-e6ef-7e36882c74f3"
      },
      "source": [
        "ageGenderTrain['trainrow'] = np.arange(ageGenderTrain.shape[0])\n",
        "ageGenderTest['testrow'] = np.arange(ageGenderTest.shape[0])\n",
        "#---------------------------------------------\n",
        "print(ageGenderTrain.shape)\n",
        "print(ageGenderTest.shape)\n",
        "ageGenderTrain.head()"
      ],
      "execution_count": 45,
      "outputs": [
        {
          "output_type": "stream",
          "text": [
            "(74645, 3)\n",
            "(112071, 2)\n"
          ],
          "name": "stdout"
        },
        {
          "output_type": "execute_result",
          "data": {
            "text/html": [
              "<div>\n",
              "<style scoped>\n",
              "    .dataframe tbody tr th:only-of-type {\n",
              "        vertical-align: middle;\n",
              "    }\n",
              "\n",
              "    .dataframe tbody tr th {\n",
              "        vertical-align: top;\n",
              "    }\n",
              "\n",
              "    .dataframe thead th {\n",
              "        text-align: right;\n",
              "    }\n",
              "</style>\n",
              "<table border=\"1\" class=\"dataframe\">\n",
              "  <thead>\n",
              "    <tr style=\"text-align: right;\">\n",
              "      <th></th>\n",
              "      <th>device_id</th>\n",
              "      <th>group</th>\n",
              "      <th>trainrow</th>\n",
              "    </tr>\n",
              "  </thead>\n",
              "  <tbody>\n",
              "    <tr>\n",
              "      <th>0</th>\n",
              "      <td>-8076087639492063270</td>\n",
              "      <td>M32-38</td>\n",
              "      <td>0</td>\n",
              "    </tr>\n",
              "    <tr>\n",
              "      <th>1</th>\n",
              "      <td>-2897161552818060146</td>\n",
              "      <td>M32-38</td>\n",
              "      <td>1</td>\n",
              "    </tr>\n",
              "    <tr>\n",
              "      <th>2</th>\n",
              "      <td>-8260683887967679142</td>\n",
              "      <td>M32-38</td>\n",
              "      <td>2</td>\n",
              "    </tr>\n",
              "    <tr>\n",
              "      <th>3</th>\n",
              "      <td>-4938849341048082022</td>\n",
              "      <td>M29-31</td>\n",
              "      <td>3</td>\n",
              "    </tr>\n",
              "    <tr>\n",
              "      <th>4</th>\n",
              "      <td>245133531816851882</td>\n",
              "      <td>M29-31</td>\n",
              "      <td>4</td>\n",
              "    </tr>\n",
              "  </tbody>\n",
              "</table>\n",
              "</div>"
            ],
            "text/plain": [
              "              device_id   group  trainrow\n",
              "0  -8076087639492063270  M32-38         0\n",
              "1  -2897161552818060146  M32-38         1\n",
              "2  -8260683887967679142  M32-38         2\n",
              "3  -4938849341048082022  M29-31         3\n",
              "4    245133531816851882  M29-31         4"
            ]
          },
          "metadata": {
            "tags": []
          },
          "execution_count": 45
        }
      ]
    },
    {
      "cell_type": "code",
      "metadata": {
        "colab_type": "code",
        "id": "YudvL16iOS4f",
        "colab": {}
      },
      "source": [
        "#trainEventData = ageGenderTrain.loc[ageGenderTrain.device_id.isin(eventsData.device_id)]\n",
        "#testEventData = ageGenderTest.loc[ageGenderTest.device_id.isin(eventsData.device_id)]\n",
        "#---------------------------------------------------------------------------\n",
        "trEventData = ageGenderTrain.loc[ageGenderTrain.device_id.isin(eventsData.device_id)]\n",
        "teEventData = ageGenderTest.loc[ageGenderTest.device_id.isin(eventsData.device_id)]\n",
        "#trEventData = trEventData.drop(['trainrow'], axis=1)\n",
        "#teEventData = teEventData.drop(['testrow'], axis=1)\n",
        "evtrainrec = trEventData.shape[0]\n",
        "evtestrec = teEventData.shape[0]\n",
        "trEventData['trainrow'] = np.arange(trEventData.shape[0])\n",
        "teEventData['testrow'] = np.arange(teEventData.shape[0])"
      ],
      "execution_count": 46,
      "outputs": []
    },
    {
      "cell_type": "markdown",
      "metadata": {
        "colab_type": "text",
        "id": "pWhHDQ8XOS4j"
      },
      "source": [
        "## 1.6 Handling EVENTs Data"
      ]
    },
    {
      "cell_type": "code",
      "metadata": {
        "colab_type": "code",
        "id": "yp8MZReROS4j",
        "colab": {}
      },
      "source": [
        "# REF - https://www.kaggle.com/drsunilpatil/xgboost-v11\n",
        "def lngregion(x):\n",
        "    if x < 80:\n",
        "        return 1\n",
        "    elif x < 90:\n",
        "        return 2\n",
        "    elif x < 100:\n",
        "        return 3\n",
        "    elif x < 110:\n",
        "        return 4\n",
        "    elif x < 120:\n",
        "        return 5\n",
        "    elif x < 130:\n",
        "        return 6\n",
        "    elif x < 140:\n",
        "        return 7\n",
        "    else:\n",
        "        return 0\n",
        "#---------------------------------------------------------------------------\n",
        "lnglat = 8\n",
        "#---------------------------------------------------------------------------\n",
        "def latregion(x):\n",
        "    if x < 21:\n",
        "        return 1\n",
        "    elif x < 27:\n",
        "        return 2\n",
        "    elif x < 33:\n",
        "        return 3\n",
        "    elif x < 39:\n",
        "        return 4\n",
        "    elif x < 45:\n",
        "        return 5\n",
        "    elif x < 51:\n",
        "        return 6\n",
        "    elif x < 57:\n",
        "        return 7\n",
        "    else:\n",
        "        return 0 "
      ],
      "execution_count": 47,
      "outputs": []
    },
    {
      "cell_type": "code",
      "metadata": {
        "colab_type": "code",
        "id": "6_s0XEGtOS4m",
        "colab": {
          "base_uri": "https://localhost:8080/",
          "height": 211
        },
        "outputId": "7aaaedac-7b01-4ad7-c3e4-0870c0edd84f"
      },
      "source": [
        "def findDayPart(x):\n",
        "    if (x>21 and x <=23) or (x>=0 and x<=6):\n",
        "        return 0 #NIGHT\n",
        "    if x>6 and x<9:\n",
        "        return 1 #MORNING\n",
        "    if x>=9 and x<=18:\n",
        "        return 2 #PEAKHOURS\n",
        "    if x>18 and x<22:\n",
        "        return 3 #EVENING\n",
        "#---------------------------------------------------------------------------\n",
        "eventsData['dayOfWeek'] = eventsData.timestamp.dt.dayofweek\n",
        "eventsData['activityhour'] = eventsData.timestamp.dt.hour\n",
        "eventsData['dayPart'] = eventsData['activityhour'].apply(findDayPart)\n",
        "eventsData = eventsData.drop(['timestamp'], axis=1)\n",
        "print(eventsData.shape)\n",
        "eventsData.head()"
      ],
      "execution_count": 48,
      "outputs": [
        {
          "output_type": "stream",
          "text": [
            "(3252950, 7)\n"
          ],
          "name": "stdout"
        },
        {
          "output_type": "execute_result",
          "data": {
            "text/html": [
              "<div>\n",
              "<style scoped>\n",
              "    .dataframe tbody tr th:only-of-type {\n",
              "        vertical-align: middle;\n",
              "    }\n",
              "\n",
              "    .dataframe tbody tr th {\n",
              "        vertical-align: top;\n",
              "    }\n",
              "\n",
              "    .dataframe thead th {\n",
              "        text-align: right;\n",
              "    }\n",
              "</style>\n",
              "<table border=\"1\" class=\"dataframe\">\n",
              "  <thead>\n",
              "    <tr style=\"text-align: right;\">\n",
              "      <th></th>\n",
              "      <th>event_id</th>\n",
              "      <th>device_id</th>\n",
              "      <th>longitude</th>\n",
              "      <th>latitude</th>\n",
              "      <th>dayOfWeek</th>\n",
              "      <th>activityhour</th>\n",
              "      <th>dayPart</th>\n",
              "    </tr>\n",
              "  </thead>\n",
              "  <tbody>\n",
              "    <tr>\n",
              "      <th>0</th>\n",
              "      <td>1</td>\n",
              "      <td>29182687948017175</td>\n",
              "      <td>121.38</td>\n",
              "      <td>31.24</td>\n",
              "      <td>6</td>\n",
              "      <td>0</td>\n",
              "      <td>0</td>\n",
              "    </tr>\n",
              "    <tr>\n",
              "      <th>1</th>\n",
              "      <td>2</td>\n",
              "      <td>-6401643145415154744</td>\n",
              "      <td>103.65</td>\n",
              "      <td>30.97</td>\n",
              "      <td>6</td>\n",
              "      <td>0</td>\n",
              "      <td>0</td>\n",
              "    </tr>\n",
              "    <tr>\n",
              "      <th>2</th>\n",
              "      <td>3</td>\n",
              "      <td>-4833982096941402721</td>\n",
              "      <td>106.60</td>\n",
              "      <td>29.70</td>\n",
              "      <td>6</td>\n",
              "      <td>0</td>\n",
              "      <td>0</td>\n",
              "    </tr>\n",
              "    <tr>\n",
              "      <th>3</th>\n",
              "      <td>4</td>\n",
              "      <td>-6815121365017318426</td>\n",
              "      <td>104.27</td>\n",
              "      <td>23.28</td>\n",
              "      <td>6</td>\n",
              "      <td>0</td>\n",
              "      <td>0</td>\n",
              "    </tr>\n",
              "    <tr>\n",
              "      <th>4</th>\n",
              "      <td>5</td>\n",
              "      <td>-5373797595892518570</td>\n",
              "      <td>115.88</td>\n",
              "      <td>28.66</td>\n",
              "      <td>6</td>\n",
              "      <td>0</td>\n",
              "      <td>0</td>\n",
              "    </tr>\n",
              "  </tbody>\n",
              "</table>\n",
              "</div>"
            ],
            "text/plain": [
              "  event_id             device_id  longitude  ...  dayOfWeek  activityhour  dayPart\n",
              "0        1     29182687948017175     121.38  ...          6             0        0\n",
              "1        2  -6401643145415154744     103.65  ...          6             0        0\n",
              "2        3  -4833982096941402721     106.60  ...          6             0        0\n",
              "3        4  -6815121365017318426     104.27  ...          6             0        0\n",
              "4        5  -5373797595892518570     115.88  ...          6             0        0\n",
              "\n",
              "[5 rows x 7 columns]"
            ]
          },
          "metadata": {
            "tags": []
          },
          "execution_count": 48
        }
      ]
    },
    {
      "cell_type": "markdown",
      "metadata": {
        "colab_type": "text",
        "id": "UsI61H19OS4o"
      },
      "source": [
        "### 1.6.1 Handling Day-of-Week"
      ]
    },
    {
      "cell_type": "code",
      "metadata": {
        "colab_type": "code",
        "id": "WnerOeQcOS4p",
        "colab": {
          "base_uri": "https://localhost:8080/",
          "height": 0
        },
        "outputId": "a84fbc55-1347-4fe0-fef1-f3a76050fb40"
      },
      "source": [
        "#trainEventData = trainEventData.merge(eventsData[['device_id','dayOfWeek']], on='device_id', how='left')\n",
        "#testEventData = testEventData.merge(eventsData[['device_id','dayOfWeek']], on='device_id', how='left')\n",
        "\n",
        "trEventData = trEventData.merge(eventsData[['device_id','dayOfWeek']], on='device_id', how='left')\n",
        "teEventData = teEventData.merge(eventsData[['device_id','dayOfWeek']], on='device_id', how='left')\n",
        "#---------------------------------------------------------------------------\n",
        "##Xtr_dayOfWeek = csr_matrix((np.ones(trainEventData.shape[0]), (trainEventData.trainrow, trainEventData.dayOfWeek)), shape=(trainrec,7))\n",
        "#Xte_dayOfWeek = csr_matrix((np.ones(testEventData.shape[0]), (testEventData.testrow, testEventData.dayOfWeek)), shape=(testrec,7))\n",
        "\n",
        "Xtr_dayOfWeekEv = csr_matrix((np.ones(trEventData.shape[0]), (trEventData.trainrow, trEventData.dayOfWeek)), shape=(evtrainrec,7))\n",
        "Xte_dayOfWeekEv = csr_matrix((np.ones(teEventData.shape[0]), (teEventData.testrow, teEventData.dayOfWeek)), shape=(evtestrec,7))\n",
        "#---------------------------------------------------------------------------\n",
        "print(Xtr_dayOfWeekEv.shape)\n",
        "print(Xte_dayOfWeekEv.shape)"
      ],
      "execution_count": 49,
      "outputs": [
        {
          "output_type": "stream",
          "text": [
            "(23309, 7)\n",
            "(35194, 7)\n"
          ],
          "name": "stdout"
        }
      ]
    },
    {
      "cell_type": "markdown",
      "metadata": {
        "colab_type": "text",
        "id": "QlLmY4EuOS4r"
      },
      "source": [
        "#### Calculating ENTROPY for Day-of-Week"
      ]
    },
    {
      "cell_type": "code",
      "metadata": {
        "colab_type": "code",
        "id": "6Wm-QESZOS4s",
        "colab": {
          "base_uri": "https://localhost:8080/",
          "height": 0
        },
        "outputId": "8497b7f0-09b1-4816-f1ec-f76c42b1eeb9"
      },
      "source": [
        "# REF - https://www.kaggle.com/c/talkingdata-mobile-user-demographics/discussion/23424\n",
        "dowEntropy = eventsData[['device_id', 'dayOfWeek']].groupby('device_id')['dayOfWeek'].apply(lambda x: \", \".join(str(s) for s in x))\n",
        "\n",
        "trEventData['dowEntropy'] = trEventData.device_id.map(dowEntropy)\n",
        "trEventData.dowEntropy = trEventData.dowEntropy.apply(lambda x: entropy(list(Counter(str(x).split(', ')).values()), base=2))\n",
        "teEventData['dowEntropy'] = teEventData.device_id.map(dowEntropy)\n",
        "teEventData.dowEntropy = teEventData.dowEntropy.apply(lambda x: entropy(list(Counter(str(x).split(', ')).values()), base=2))\n",
        "\n",
        "trEventData = trEventData.drop_duplicates('device_id')\n",
        "teEventData = teEventData.drop_duplicates('device_id')\n",
        "\n",
        "print(trEventData.shape)\n",
        "print(teEventData.shape)\n",
        "trEventData.head()"
      ],
      "execution_count": 50,
      "outputs": [
        {
          "output_type": "stream",
          "text": [
            "(23309, 5)\n",
            "(35194, 4)\n"
          ],
          "name": "stdout"
        },
        {
          "output_type": "execute_result",
          "data": {
            "text/html": [
              "<div>\n",
              "<style scoped>\n",
              "    .dataframe tbody tr th:only-of-type {\n",
              "        vertical-align: middle;\n",
              "    }\n",
              "\n",
              "    .dataframe tbody tr th {\n",
              "        vertical-align: top;\n",
              "    }\n",
              "\n",
              "    .dataframe thead th {\n",
              "        text-align: right;\n",
              "    }\n",
              "</style>\n",
              "<table border=\"1\" class=\"dataframe\">\n",
              "  <thead>\n",
              "    <tr style=\"text-align: right;\">\n",
              "      <th></th>\n",
              "      <th>device_id</th>\n",
              "      <th>group</th>\n",
              "      <th>trainrow</th>\n",
              "      <th>dayOfWeek</th>\n",
              "      <th>dowEntropy</th>\n",
              "    </tr>\n",
              "  </thead>\n",
              "  <tbody>\n",
              "    <tr>\n",
              "      <th>0</th>\n",
              "      <td>-8260683887967679142</td>\n",
              "      <td>M32-38</td>\n",
              "      <td>0</td>\n",
              "      <td>6</td>\n",
              "      <td>0.000000</td>\n",
              "    </tr>\n",
              "    <tr>\n",
              "      <th>1</th>\n",
              "      <td>7477216237379271436</td>\n",
              "      <td>F33-42</td>\n",
              "      <td>1</td>\n",
              "      <td>2</td>\n",
              "      <td>0.591673</td>\n",
              "    </tr>\n",
              "    <tr>\n",
              "      <th>8</th>\n",
              "      <td>6352067998666467520</td>\n",
              "      <td>M32-38</td>\n",
              "      <td>2</td>\n",
              "      <td>3</td>\n",
              "      <td>1.095795</td>\n",
              "    </tr>\n",
              "    <tr>\n",
              "      <th>19</th>\n",
              "      <td>1508636020748379883</td>\n",
              "      <td>F27-28</td>\n",
              "      <td>3</td>\n",
              "      <td>6</td>\n",
              "      <td>1.764334</td>\n",
              "    </tr>\n",
              "    <tr>\n",
              "      <th>54</th>\n",
              "      <td>-6876541075223249434</td>\n",
              "      <td>M39+</td>\n",
              "      <td>4</td>\n",
              "      <td>2</td>\n",
              "      <td>1.943755</td>\n",
              "    </tr>\n",
              "  </tbody>\n",
              "</table>\n",
              "</div>"
            ],
            "text/plain": [
              "               device_id   group  trainrow  dayOfWeek  dowEntropy\n",
              "0   -8260683887967679142  M32-38         0          6    0.000000\n",
              "1    7477216237379271436  F33-42         1          2    0.591673\n",
              "8    6352067998666467520  M32-38         2          3    1.095795\n",
              "19   1508636020748379883  F27-28         3          6    1.764334\n",
              "54  -6876541075223249434    M39+         4          2    1.943755"
            ]
          },
          "metadata": {
            "tags": []
          },
          "execution_count": 50
        }
      ]
    },
    {
      "cell_type": "code",
      "metadata": {
        "colab_type": "code",
        "id": "sA6TqoToOS4u",
        "colab": {
          "base_uri": "https://localhost:8080/",
          "height": 0
        },
        "outputId": "a030853c-6e82-4d92-d43f-d931f4f558ac"
      },
      "source": [
        "Xtr_dowEntropy = trEventData['dowEntropy'].values.reshape(-1,1)\n",
        "Xte_dowEntropy = teEventData['dowEntropy'].values.reshape(-1,1)\n",
        "\n",
        "print(\"Train EVENT-Count Shape: \",Xtr_dowEntropy.shape)\n",
        "print(\"Test EVENT-Count Shape: \",Xte_dowEntropy.shape)\n",
        "\n",
        "trEventData = trEventData.drop(['dowEntropy'], axis=1)\n",
        "teEventData = teEventData.drop(['dowEntropy'], axis=1)"
      ],
      "execution_count": 51,
      "outputs": [
        {
          "output_type": "stream",
          "text": [
            "Train EVENT-Count Shape:  (23309, 1)\n",
            "Test EVENT-Count Shape:  (35194, 1)\n"
          ],
          "name": "stdout"
        }
      ]
    },
    {
      "cell_type": "markdown",
      "metadata": {
        "colab_type": "text",
        "id": "u2ybxn_1OS4w"
      },
      "source": [
        "### 1.6.2 Handling Activity-Hour"
      ]
    },
    {
      "cell_type": "code",
      "metadata": {
        "colab_type": "code",
        "id": "JkSL19B0OS4x",
        "colab": {
          "base_uri": "https://localhost:8080/",
          "height": 0
        },
        "outputId": "b2f3e9e8-d45a-41f3-83d7-cfe56e2ce531"
      },
      "source": [
        "#trainEventData = trainEventData.drop(['dayOfWeek'], axis=1)\n",
        "#testEventData = testEventData.drop(['dayOfWeek'], axis=1)\n",
        "\n",
        "#trainEventData = trainEventData.drop_duplicates('device_id')\n",
        "#testEventData = testEventData.drop_duplicates('device_id')\n",
        "#---------------------------------------------------------------------------\n",
        "trEventData = trEventData.drop(['dayOfWeek'], axis=1)\n",
        "teEventData = teEventData.drop(['dayOfWeek'], axis=1)\n",
        "\n",
        "trEventData = trEventData.drop_duplicates('device_id')\n",
        "teEventData = teEventData.drop_duplicates('device_id')\n",
        "#---------------------------------------------------------------------------\n",
        "#trainEventData = trainEventData.merge(eventsData[['device_id','activityhour']], on='device_id', how='left')\n",
        "#testEventData = testEventData.merge(eventsData[['device_id','activityhour']], on='device_id', how='left')\n",
        "\n",
        "#Xtr_activityhour = csr_matrix((np.ones(trainEventData.shape[0]), (trainEventData.trainrow, trainEventData.activityhour)), shape=(trainrec,24))\n",
        "#Xte_activityhour = csr_matrix((np.ones(testEventData.shape[0]), (testEventData.testrow, testEventData.activityhour)), shape=(testrec,24))\n",
        "#---------------------------------------------------------------------------\n",
        "trEventData = trEventData.merge(eventsData[['device_id','activityhour']], on='device_id', how='left')\n",
        "teEventData = teEventData.merge(eventsData[['device_id','activityhour']], on='device_id', how='left')\n",
        "\n",
        "Xtr_activityhourEv = csr_matrix((np.ones(trEventData.shape[0]), (trEventData.trainrow, trEventData.activityhour)), shape=(evtrainrec,24))\n",
        "Xte_activityhourEv = csr_matrix((np.ones(teEventData.shape[0]), (teEventData.testrow, teEventData.activityhour)), shape=(evtestrec,24))\n",
        "#---------------------------------------------------------------------------\n",
        "print(Xtr_activityhourEv.shape)\n",
        "print(Xte_activityhourEv.shape)"
      ],
      "execution_count": 52,
      "outputs": [
        {
          "output_type": "stream",
          "text": [
            "(23309, 24)\n",
            "(35194, 24)\n"
          ],
          "name": "stdout"
        }
      ]
    },
    {
      "cell_type": "markdown",
      "metadata": {
        "colab_type": "text",
        "id": "xN9wy-_EOS41"
      },
      "source": [
        "#### Calculating ENTROPY for Activity-Hour"
      ]
    },
    {
      "cell_type": "code",
      "metadata": {
        "colab_type": "code",
        "id": "4OSsWvlsOS41",
        "colab": {
          "base_uri": "https://localhost:8080/",
          "height": 0
        },
        "outputId": "dd47fc6e-8b61-46ec-f584-fbcaf71a9615"
      },
      "source": [
        "# REF - https://www.kaggle.com/c/talkingdata-mobile-user-demographics/discussion/23424\n",
        "hourEntropy = eventsData[['device_id', 'activityhour']].groupby('device_id')['activityhour'].apply(lambda x: \", \".join(str(s) for s in x))\n",
        "\n",
        "trEventData['hourEntropy'] = trEventData.device_id.map(hourEntropy)\n",
        "trEventData.hourEntropy = trEventData.hourEntropy.apply(lambda x: entropy(list(Counter(str(x).split(', ')).values()), base=2))\n",
        "teEventData['hourEntropy'] = teEventData.device_id.map(hourEntropy)\n",
        "teEventData.hourEntropy = teEventData.hourEntropy.apply(lambda x: entropy(list(Counter(str(x).split(', ')).values()), base=2))\n",
        "\n",
        "trEventData = trEventData.drop_duplicates('device_id')\n",
        "teEventData = teEventData.drop_duplicates('device_id')\n",
        "\n",
        "print(trEventData.shape)\n",
        "print(teEventData.shape)\n",
        "trEventData.head()"
      ],
      "execution_count": 53,
      "outputs": [
        {
          "output_type": "stream",
          "text": [
            "(23309, 5)\n",
            "(35194, 4)\n"
          ],
          "name": "stdout"
        },
        {
          "output_type": "execute_result",
          "data": {
            "text/html": [
              "<div>\n",
              "<style scoped>\n",
              "    .dataframe tbody tr th:only-of-type {\n",
              "        vertical-align: middle;\n",
              "    }\n",
              "\n",
              "    .dataframe tbody tr th {\n",
              "        vertical-align: top;\n",
              "    }\n",
              "\n",
              "    .dataframe thead th {\n",
              "        text-align: right;\n",
              "    }\n",
              "</style>\n",
              "<table border=\"1\" class=\"dataframe\">\n",
              "  <thead>\n",
              "    <tr style=\"text-align: right;\">\n",
              "      <th></th>\n",
              "      <th>device_id</th>\n",
              "      <th>group</th>\n",
              "      <th>trainrow</th>\n",
              "      <th>activityhour</th>\n",
              "      <th>hourEntropy</th>\n",
              "    </tr>\n",
              "  </thead>\n",
              "  <tbody>\n",
              "    <tr>\n",
              "      <th>0</th>\n",
              "      <td>-8260683887967679142</td>\n",
              "      <td>M32-38</td>\n",
              "      <td>0</td>\n",
              "      <td>14</td>\n",
              "      <td>0.000000</td>\n",
              "    </tr>\n",
              "    <tr>\n",
              "      <th>1</th>\n",
              "      <td>7477216237379271436</td>\n",
              "      <td>F33-42</td>\n",
              "      <td>1</td>\n",
              "      <td>14</td>\n",
              "      <td>0.591673</td>\n",
              "    </tr>\n",
              "    <tr>\n",
              "      <th>8</th>\n",
              "      <td>6352067998666467520</td>\n",
              "      <td>M32-38</td>\n",
              "      <td>2</td>\n",
              "      <td>9</td>\n",
              "      <td>2.550341</td>\n",
              "    </tr>\n",
              "    <tr>\n",
              "      <th>19</th>\n",
              "      <td>1508636020748379883</td>\n",
              "      <td>F27-28</td>\n",
              "      <td>3</td>\n",
              "      <td>13</td>\n",
              "      <td>1.716721</td>\n",
              "    </tr>\n",
              "    <tr>\n",
              "      <th>54</th>\n",
              "      <td>-6876541075223249434</td>\n",
              "      <td>M39+</td>\n",
              "      <td>4</td>\n",
              "      <td>17</td>\n",
              "      <td>2.062333</td>\n",
              "    </tr>\n",
              "  </tbody>\n",
              "</table>\n",
              "</div>"
            ],
            "text/plain": [
              "               device_id   group  trainrow  activityhour  hourEntropy\n",
              "0   -8260683887967679142  M32-38         0            14     0.000000\n",
              "1    7477216237379271436  F33-42         1            14     0.591673\n",
              "8    6352067998666467520  M32-38         2             9     2.550341\n",
              "19   1508636020748379883  F27-28         3            13     1.716721\n",
              "54  -6876541075223249434    M39+         4            17     2.062333"
            ]
          },
          "metadata": {
            "tags": []
          },
          "execution_count": 53
        }
      ]
    },
    {
      "cell_type": "code",
      "metadata": {
        "colab_type": "code",
        "id": "T4kUeQgmOS49",
        "colab": {
          "base_uri": "https://localhost:8080/",
          "height": 0
        },
        "outputId": "ca31343c-702d-4c6d-f7f8-0a6a2eb18590"
      },
      "source": [
        "Xtr_hourEntropy = trEventData['hourEntropy'].values.reshape(-1,1)\n",
        "Xte_hourEntropy = teEventData['hourEntropy'].values.reshape(-1,1)\n",
        "\n",
        "print(\"Train EVENT-Count Shape: \",Xtr_hourEntropy.shape)\n",
        "print(\"Test EVENT-Count Shape: \",Xte_hourEntropy.shape)\n",
        "\n",
        "trEventData = trEventData.drop(['hourEntropy'], axis=1)\n",
        "teEventData = teEventData.drop(['hourEntropy'], axis=1)"
      ],
      "execution_count": 54,
      "outputs": [
        {
          "output_type": "stream",
          "text": [
            "Train EVENT-Count Shape:  (23309, 1)\n",
            "Test EVENT-Count Shape:  (35194, 1)\n"
          ],
          "name": "stdout"
        }
      ]
    },
    {
      "cell_type": "markdown",
      "metadata": {
        "colab_type": "text",
        "id": "UmK0Mhu8OS5A"
      },
      "source": [
        "### 1.6.3 Handling Day-Part"
      ]
    },
    {
      "cell_type": "code",
      "metadata": {
        "colab_type": "code",
        "id": "AyFIbdOVOS5B",
        "colab": {
          "base_uri": "https://localhost:8080/",
          "height": 50
        },
        "outputId": "466ddd7d-9e07-4e83-9dae-4ece466f9bd7"
      },
      "source": [
        "#trainEventData = trainEventData.drop(['activityhour'], axis=1)\n",
        "#testEventData = testEventData.drop(['activityhour'], axis=1)\n",
        "\n",
        "#trainEventData = trainEventData.drop_duplicates('device_id')\n",
        "#testEventData = testEventData.drop_duplicates('device_id')\n",
        "#---------------------------------------------------------------------------\n",
        "trEventData = trEventData.drop(['activityhour'], axis=1)\n",
        "teEventData = teEventData.drop(['activityhour'], axis=1)\n",
        "\n",
        "trEventData = trEventData.drop_duplicates('device_id')\n",
        "teEventData = teEventData.drop_duplicates('device_id')\n",
        "#---------------------------------------------------------------------------\n",
        "#trainEventData = trainEventData.merge(eventsData[['device_id','dayPart']], on='device_id', how='left')\n",
        "#testEventData = testEventData.merge(eventsData[['device_id','dayPart']], on='device_id', how='left')\n",
        "\n",
        "#Xtr_dayPart = csr_matrix((np.ones(trainEventData.shape[0]), (trainEventData.trainrow, trainEventData.dayPart)), shape=(trainrec,4))\n",
        "#Xte_dayPart = csr_matrix((np.ones(testEventData.shape[0]), (testEventData.testrow, testEventData.dayPart)), shape=(testrec,4))\n",
        "#---------------------------------------------------------------------------\n",
        "trEventData = trEventData.merge(eventsData[['device_id','dayPart']], on='device_id', how='left')\n",
        "teEventData = teEventData.merge(eventsData[['device_id','dayPart']], on='device_id', how='left')\n",
        "\n",
        "Xtr_dayPartEv = csr_matrix((np.ones(trEventData.shape[0]), (trEventData.trainrow, trEventData.dayPart)), shape=(evtrainrec,4))\n",
        "Xte_dayPartEv = csr_matrix((np.ones(teEventData.shape[0]), (teEventData.testrow, teEventData.dayPart)), shape=(evtestrec,4))\n",
        "#---------------------------------------------------------------------------\n",
        "print(Xtr_dayPartEv.shape)\n",
        "print(Xte_dayPartEv.shape)"
      ],
      "execution_count": 55,
      "outputs": [
        {
          "output_type": "stream",
          "text": [
            "(23309, 4)\n",
            "(35194, 4)\n"
          ],
          "name": "stdout"
        }
      ]
    },
    {
      "cell_type": "markdown",
      "metadata": {
        "colab_type": "text",
        "id": "VWKxMn-fOS5G"
      },
      "source": [
        "#### Calculating ENTROPY for Day-Part"
      ]
    },
    {
      "cell_type": "code",
      "metadata": {
        "colab_type": "code",
        "id": "N362PIJ2OS5H",
        "colab": {
          "base_uri": "https://localhost:8080/",
          "height": 0
        },
        "outputId": "84558b26-1277-41cf-b9ff-68f5cf1b8db8"
      },
      "source": [
        "# REF - https://www.kaggle.com/c/talkingdata-mobile-user-demographics/discussion/23424\n",
        "dayPartEntropy = eventsData[['device_id', 'dayPart']].groupby('device_id')['dayPart'].apply(lambda x: \", \".join(str(s) for s in x))\n",
        "\n",
        "trEventData['dayPartEntropy'] = trEventData.device_id.map(dayPartEntropy)\n",
        "trEventData.dayPartEntropy = trEventData.dayPartEntropy.apply(lambda x: entropy(list(Counter(str(x).split(', ')).values()), base=2))\n",
        "teEventData['dayPartEntropy'] = teEventData.device_id.map(dayPartEntropy)\n",
        "teEventData.dayPartEntropy = teEventData.dayPartEntropy.apply(lambda x: entropy(list(Counter(str(x).split(', ')).values()), base=2))\n",
        "\n",
        "trEventData = trEventData.drop_duplicates('device_id')\n",
        "teEventData = teEventData.drop_duplicates('device_id')\n",
        "\n",
        "print(trEventData.shape)\n",
        "print(teEventData.shape)\n",
        "trEventData.head()"
      ],
      "execution_count": 56,
      "outputs": [
        {
          "output_type": "stream",
          "text": [
            "(23309, 5)\n",
            "(35194, 4)\n"
          ],
          "name": "stdout"
        },
        {
          "output_type": "execute_result",
          "data": {
            "text/html": [
              "<div>\n",
              "<style scoped>\n",
              "    .dataframe tbody tr th:only-of-type {\n",
              "        vertical-align: middle;\n",
              "    }\n",
              "\n",
              "    .dataframe tbody tr th {\n",
              "        vertical-align: top;\n",
              "    }\n",
              "\n",
              "    .dataframe thead th {\n",
              "        text-align: right;\n",
              "    }\n",
              "</style>\n",
              "<table border=\"1\" class=\"dataframe\">\n",
              "  <thead>\n",
              "    <tr style=\"text-align: right;\">\n",
              "      <th></th>\n",
              "      <th>device_id</th>\n",
              "      <th>group</th>\n",
              "      <th>trainrow</th>\n",
              "      <th>dayPart</th>\n",
              "      <th>dayPartEntropy</th>\n",
              "    </tr>\n",
              "  </thead>\n",
              "  <tbody>\n",
              "    <tr>\n",
              "      <th>0</th>\n",
              "      <td>-8260683887967679142</td>\n",
              "      <td>M32-38</td>\n",
              "      <td>0</td>\n",
              "      <td>2</td>\n",
              "      <td>0.000000</td>\n",
              "    </tr>\n",
              "    <tr>\n",
              "      <th>1</th>\n",
              "      <td>7477216237379271436</td>\n",
              "      <td>F33-42</td>\n",
              "      <td>1</td>\n",
              "      <td>2</td>\n",
              "      <td>0.000000</td>\n",
              "    </tr>\n",
              "    <tr>\n",
              "      <th>8</th>\n",
              "      <td>6352067998666467520</td>\n",
              "      <td>M32-38</td>\n",
              "      <td>2</td>\n",
              "      <td>2</td>\n",
              "      <td>0.684038</td>\n",
              "    </tr>\n",
              "    <tr>\n",
              "      <th>19</th>\n",
              "      <td>1508636020748379883</td>\n",
              "      <td>F27-28</td>\n",
              "      <td>3</td>\n",
              "      <td>2</td>\n",
              "      <td>0.660962</td>\n",
              "    </tr>\n",
              "    <tr>\n",
              "      <th>54</th>\n",
              "      <td>-6876541075223249434</td>\n",
              "      <td>M39+</td>\n",
              "      <td>4</td>\n",
              "      <td>2</td>\n",
              "      <td>1.148835</td>\n",
              "    </tr>\n",
              "  </tbody>\n",
              "</table>\n",
              "</div>"
            ],
            "text/plain": [
              "               device_id   group  trainrow  dayPart  dayPartEntropy\n",
              "0   -8260683887967679142  M32-38         0        2        0.000000\n",
              "1    7477216237379271436  F33-42         1        2        0.000000\n",
              "8    6352067998666467520  M32-38         2        2        0.684038\n",
              "19   1508636020748379883  F27-28         3        2        0.660962\n",
              "54  -6876541075223249434    M39+         4        2        1.148835"
            ]
          },
          "metadata": {
            "tags": []
          },
          "execution_count": 56
        }
      ]
    },
    {
      "cell_type": "code",
      "metadata": {
        "colab_type": "code",
        "id": "k7Pt-NYeOS5K",
        "colab": {
          "base_uri": "https://localhost:8080/",
          "height": 0
        },
        "outputId": "07c5bb01-2ab7-4d99-fa48-85459079a82c"
      },
      "source": [
        "Xtr_dayPartEntropy = trEventData['dayPartEntropy'].values.reshape(-1,1)\n",
        "Xte_dayPartEntropy = teEventData['dayPartEntropy'].values.reshape(-1,1)\n",
        "\n",
        "print(\"Train EVENT-Count Shape: \",Xtr_dayPartEntropy.shape)\n",
        "print(\"Test EVENT-Count Shape: \",Xte_dayPartEntropy.shape)\n",
        "\n",
        "trEventData = trEventData.drop(['dayPartEntropy'], axis=1)\n",
        "teEventData = teEventData.drop(['dayPartEntropy'], axis=1)"
      ],
      "execution_count": 57,
      "outputs": [
        {
          "output_type": "stream",
          "text": [
            "Train EVENT-Count Shape:  (23309, 1)\n",
            "Test EVENT-Count Shape:  (35194, 1)\n"
          ],
          "name": "stdout"
        }
      ]
    },
    {
      "cell_type": "code",
      "metadata": {
        "colab_type": "code",
        "id": "QVvSyWsnOS5P",
        "colab": {}
      },
      "source": [
        "#trainEventData = trainEventData.drop(['dayPart'], axis=1)\n",
        "#testEventData = testEventData.drop(['dayPart'], axis=1)\n",
        "\n",
        "#trainEventData = trainEventData.drop_duplicates('device_id')\n",
        "#testEventData = testEventData.drop_duplicates('device_id')\n",
        "#---------------------------------------------------------------------------\n",
        "trEventData = trEventData.drop(['dayPart'], axis=1)\n",
        "teEventData = teEventData.drop(['dayPart'], axis=1)\n",
        "\n",
        "trEventData = trEventData.drop_duplicates('device_id')\n",
        "teEventData = teEventData.drop_duplicates('device_id')"
      ],
      "execution_count": 58,
      "outputs": []
    },
    {
      "cell_type": "markdown",
      "metadata": {
        "colab_type": "text",
        "id": "vwvFdSGDOS5S"
      },
      "source": [
        "### 1.6.4 Handling Count of Events"
      ]
    },
    {
      "cell_type": "code",
      "metadata": {
        "colab_type": "code",
        "id": "-av8rU-hOS5T",
        "colab": {
          "base_uri": "https://localhost:8080/",
          "height": 228
        },
        "outputId": "f80bcde9-501a-4d58-b9cc-23339c986fc4"
      },
      "source": [
        "# REF - https://www.kaggle.com/zfturbo/xgboost-simple-starter\n",
        "eventsData['evCount'] = eventsData.groupby(['device_id'])['event_id'].transform('count')\n",
        "deviceEvents = eventsData[['device_id', 'evCount']].drop_duplicates('device_id', keep='first')\n",
        "eventsData = eventsData.drop(['evCount'], axis=1)\n",
        "\n",
        "trEventData = trEventData.merge(deviceEvents, on='device_id', how='left')\n",
        "trEventData.evCount = trEventData.evCount.fillna(0)\n",
        "teEventData = teEventData.merge(deviceEvents, on='device_id', how='left')\n",
        "teEventData.evCount = teEventData.evCount.fillna(0)\n",
        "\n",
        "print(trEventData.shape)\n",
        "print(teEventData.shape)\n",
        "trEventData.head()"
      ],
      "execution_count": 59,
      "outputs": [
        {
          "output_type": "stream",
          "text": [
            "(23309, 4)\n",
            "(35194, 3)\n"
          ],
          "name": "stdout"
        },
        {
          "output_type": "execute_result",
          "data": {
            "text/html": [
              "<div>\n",
              "<style scoped>\n",
              "    .dataframe tbody tr th:only-of-type {\n",
              "        vertical-align: middle;\n",
              "    }\n",
              "\n",
              "    .dataframe tbody tr th {\n",
              "        vertical-align: top;\n",
              "    }\n",
              "\n",
              "    .dataframe thead th {\n",
              "        text-align: right;\n",
              "    }\n",
              "</style>\n",
              "<table border=\"1\" class=\"dataframe\">\n",
              "  <thead>\n",
              "    <tr style=\"text-align: right;\">\n",
              "      <th></th>\n",
              "      <th>device_id</th>\n",
              "      <th>group</th>\n",
              "      <th>trainrow</th>\n",
              "      <th>evCount</th>\n",
              "    </tr>\n",
              "  </thead>\n",
              "  <tbody>\n",
              "    <tr>\n",
              "      <th>0</th>\n",
              "      <td>-8260683887967679142</td>\n",
              "      <td>M32-38</td>\n",
              "      <td>0</td>\n",
              "      <td>1</td>\n",
              "    </tr>\n",
              "    <tr>\n",
              "      <th>1</th>\n",
              "      <td>7477216237379271436</td>\n",
              "      <td>F33-42</td>\n",
              "      <td>1</td>\n",
              "      <td>7</td>\n",
              "    </tr>\n",
              "    <tr>\n",
              "      <th>2</th>\n",
              "      <td>6352067998666467520</td>\n",
              "      <td>M32-38</td>\n",
              "      <td>2</td>\n",
              "      <td>11</td>\n",
              "    </tr>\n",
              "    <tr>\n",
              "      <th>3</th>\n",
              "      <td>1508636020748379883</td>\n",
              "      <td>F27-28</td>\n",
              "      <td>3</td>\n",
              "      <td>35</td>\n",
              "    </tr>\n",
              "    <tr>\n",
              "      <th>4</th>\n",
              "      <td>-6876541075223249434</td>\n",
              "      <td>M39+</td>\n",
              "      <td>4</td>\n",
              "      <td>28</td>\n",
              "    </tr>\n",
              "  </tbody>\n",
              "</table>\n",
              "</div>"
            ],
            "text/plain": [
              "              device_id   group  trainrow  evCount\n",
              "0  -8260683887967679142  M32-38         0        1\n",
              "1   7477216237379271436  F33-42         1        7\n",
              "2   6352067998666467520  M32-38         2       11\n",
              "3   1508636020748379883  F27-28         3       35\n",
              "4  -6876541075223249434    M39+         4       28"
            ]
          },
          "metadata": {
            "tags": []
          },
          "execution_count": 59
        }
      ]
    },
    {
      "cell_type": "code",
      "metadata": {
        "colab_type": "code",
        "id": "-Q-UmPtBOS5V",
        "colab": {
          "base_uri": "https://localhost:8080/",
          "height": 50
        },
        "outputId": "8c38ad2f-827c-4ebc-f1a4-b8a86189ca17"
      },
      "source": [
        "vectorizer=StandardScaler()\n",
        "vectorizer.fit(trEventData['evCount'].values.reshape(-1,1))\n",
        "\n",
        "Xtr_evCount = vectorizer.transform(trEventData['evCount'].values.reshape(-1,1))\n",
        "Xte_evCount = vectorizer.transform(teEventData['evCount'].values.reshape(-1,1))\n",
        "\n",
        "print(\"Train EVENT-Count Shape: \",Xtr_evCount.shape)\n",
        "print(\"Test EVENT-Count Shape: \",Xte_evCount.shape)"
      ],
      "execution_count": 60,
      "outputs": [
        {
          "output_type": "stream",
          "text": [
            "Train EVENT-Count Shape:  (23309, 1)\n",
            "Test EVENT-Count Shape:  (35194, 1)\n"
          ],
          "name": "stdout"
        }
      ]
    },
    {
      "cell_type": "markdown",
      "metadata": {
        "colab_type": "text",
        "id": "7vze4bozOS5a"
      },
      "source": [
        "### 1.6.5 Handling Latitude-Longitude"
      ]
    },
    {
      "cell_type": "code",
      "metadata": {
        "colab_type": "code",
        "id": "C3nISg_SOS5b",
        "colab": {
          "base_uri": "https://localhost:8080/",
          "height": 329
        },
        "outputId": "3db740b5-0741-4e08-ccd8-4df3731e2b0c"
      },
      "source": [
        "print('--Replacing Out-of-Range Longitudes with MOST Frequent Longitude')\n",
        "eventsData.longitude = eventsData.longitude.round(0)\n",
        "#eventsData.longitude = eventsData.longitude.clip(70, 140).replace(70, np.NaN).replace(140, np.NaN)\n",
        "#eventsData.longitude = eventsData.longitude.apply(lambda x: (-1*x) if x<0 else x)\n",
        "eventsData.longitude = eventsData.longitude.apply(lambda x: 0 if (x<70 or x>140) else x)\n",
        "eventsData.longitude = eventsData.longitude.replace(0, np.NaN)\n",
        "freqLong = eventsData.longitude.mode()[0]\n",
        "print('Frequent Longitude:', freqLong)\n",
        "\n",
        "print('--Replacing Out-of-Range Latitudes with MOST Frequent Latitude')\n",
        "eventsData.latitude = eventsData.latitude.round(0)\n",
        "#eventsData.latitude = eventsData.latitude.clip(15, 55).replace(15, np.NaN).replace(55, np.NaN)\n",
        "#eventsData.latitude = eventsData.latitude.apply(lambda x: (-1*x) if x<0 else x)\n",
        "eventsData.latitude = eventsData.latitude.apply(lambda x: 0 if (x<15 or x>55) else x)\n",
        "eventsData.latitude = eventsData.latitude.replace(0, np.NaN)\n",
        "freqLat = eventsData.latitude.mode()[0]\n",
        "print('Frequent Latitude:', freqLat)\n",
        "\n",
        "print('--Finding MOST Frequent Latitude for Each Device')\n",
        "latt = eventsData[['device_id', 'latitude']].groupby('device_id', as_index=False).apply(lambda x: x.mode())\n",
        "eventsData = eventsData.merge(latt[['device_id','latitude']], on='device_id', how='left', suffixes='_1')\n",
        "\n",
        "print('--Finding MOST Frequent Longitude for Each Device')\n",
        "longi = eventsData[['device_id', 'longitude']].groupby('device_id', as_index=False).apply(lambda x: x.mode())\n",
        "eventsData = eventsData.merge(longi[['device_id','longitude']], on='device_id', how='left', suffixes='_1')\n",
        "\n",
        "eventsData.longitude1 = eventsData.longitude1.fillna(freqLong)\n",
        "eventsData.longitude_ = eventsData.longitude_.fillna(freqLong)\n",
        "eventsData.latitude1 = eventsData.latitude1.fillna(freqLat)\n",
        "eventsData.latitude_ = eventsData.latitude_.fillna(freqLat)\n",
        "\n",
        "events_latlng = eventsData[['device_id', 'latitude1','longitude1']].drop_duplicates('device_id', keep='first')\n",
        "print(\"--Segregating Latitudes-Longitudes in 8 Regions\")\n",
        "events_latlng['lngRegion'] = events_latlng['longitude1'].apply(lngregion)\n",
        "events_latlng['latRegion'] = events_latlng['latitude1'].apply(latregion)\n",
        "\n",
        "eventsData = eventsData.drop(['latitude_', 'longitude_'], axis=1)\n",
        "\n",
        "print(events_latlng.shape)\n",
        "events_latlng.head()"
      ],
      "execution_count": 69,
      "outputs": [
        {
          "output_type": "stream",
          "text": [
            "--Replacing Out-of-Range Longitudes with MOST Frequent Longitude\n",
            "Frequent Longitude: 114.0\n",
            "--Replacing Out-of-Range Latitudes with MOST Frequent Latitude\n",
            "Frequent Latitude: 31.0\n",
            "--Finding MOST Frequent Latitude for Each Device\n",
            "--Finding MOST Frequent Longitude for Each Device\n",
            "--Segregating Latitudes-Longitudes in 8 Regions\n",
            "(60865, 5)\n"
          ],
          "name": "stdout"
        },
        {
          "output_type": "execute_result",
          "data": {
            "text/html": [
              "<div>\n",
              "<style scoped>\n",
              "    .dataframe tbody tr th:only-of-type {\n",
              "        vertical-align: middle;\n",
              "    }\n",
              "\n",
              "    .dataframe tbody tr th {\n",
              "        vertical-align: top;\n",
              "    }\n",
              "\n",
              "    .dataframe thead th {\n",
              "        text-align: right;\n",
              "    }\n",
              "</style>\n",
              "<table border=\"1\" class=\"dataframe\">\n",
              "  <thead>\n",
              "    <tr style=\"text-align: right;\">\n",
              "      <th></th>\n",
              "      <th>device_id</th>\n",
              "      <th>latitude1</th>\n",
              "      <th>longitude1</th>\n",
              "      <th>lngRegion</th>\n",
              "      <th>latRegion</th>\n",
              "    </tr>\n",
              "  </thead>\n",
              "  <tbody>\n",
              "    <tr>\n",
              "      <th>0</th>\n",
              "      <td>29182687948017175</td>\n",
              "      <td>31.0</td>\n",
              "      <td>121.0</td>\n",
              "      <td>6</td>\n",
              "      <td>3</td>\n",
              "    </tr>\n",
              "    <tr>\n",
              "      <th>1</th>\n",
              "      <td>-6401643145415154744</td>\n",
              "      <td>31.0</td>\n",
              "      <td>104.0</td>\n",
              "      <td>4</td>\n",
              "      <td>3</td>\n",
              "    </tr>\n",
              "    <tr>\n",
              "      <th>2</th>\n",
              "      <td>-4833982096941402721</td>\n",
              "      <td>30.0</td>\n",
              "      <td>107.0</td>\n",
              "      <td>4</td>\n",
              "      <td>3</td>\n",
              "    </tr>\n",
              "    <tr>\n",
              "      <th>3</th>\n",
              "      <td>-6815121365017318426</td>\n",
              "      <td>23.0</td>\n",
              "      <td>104.0</td>\n",
              "      <td>4</td>\n",
              "      <td>2</td>\n",
              "    </tr>\n",
              "    <tr>\n",
              "      <th>4</th>\n",
              "      <td>-5373797595892518570</td>\n",
              "      <td>29.0</td>\n",
              "      <td>116.0</td>\n",
              "      <td>5</td>\n",
              "      <td>3</td>\n",
              "    </tr>\n",
              "  </tbody>\n",
              "</table>\n",
              "</div>"
            ],
            "text/plain": [
              "              device_id  latitude1  longitude1  lngRegion  latRegion\n",
              "0     29182687948017175       31.0       121.0          6          3\n",
              "1  -6401643145415154744       31.0       104.0          4          3\n",
              "2  -4833982096941402721       30.0       107.0          4          3\n",
              "3  -6815121365017318426       23.0       104.0          4          2\n",
              "4  -5373797595892518570       29.0       116.0          5          3"
            ]
          },
          "metadata": {
            "tags": []
          },
          "execution_count": 69
        }
      ]
    },
    {
      "cell_type": "code",
      "metadata": {
        "colab_type": "code",
        "id": "b2aso5wJOS5f",
        "colab": {
          "base_uri": "https://localhost:8080/",
          "height": 211
        },
        "outputId": "d0a7edf8-fcc4-40c0-e362-557d2fcd2a2a"
      },
      "source": [
        "uLongi = events_latlng.longitude1.nunique()\n",
        "uLatt = events_latlng.latitude1.nunique()\n",
        "print(\"--Label Encoding Latitude-Longitude\")\n",
        "events_latlng = events_latlng.fillna(0)\n",
        "labellat = LabelEncoder().fit(events_latlng.latitude1)\n",
        "events_latlng.latitude1 = labellat.transform(events_latlng.latitude1)\n",
        "labellon = LabelEncoder().fit(events_latlng.longitude1)\n",
        "events_latlng.longitude1 = labellon.transform(events_latlng.longitude1)\n",
        "events_latlng.head()"
      ],
      "execution_count": 70,
      "outputs": [
        {
          "output_type": "stream",
          "text": [
            "--Label Encoding Latitude-Longitude\n"
          ],
          "name": "stdout"
        },
        {
          "output_type": "execute_result",
          "data": {
            "text/html": [
              "<div>\n",
              "<style scoped>\n",
              "    .dataframe tbody tr th:only-of-type {\n",
              "        vertical-align: middle;\n",
              "    }\n",
              "\n",
              "    .dataframe tbody tr th {\n",
              "        vertical-align: top;\n",
              "    }\n",
              "\n",
              "    .dataframe thead th {\n",
              "        text-align: right;\n",
              "    }\n",
              "</style>\n",
              "<table border=\"1\" class=\"dataframe\">\n",
              "  <thead>\n",
              "    <tr style=\"text-align: right;\">\n",
              "      <th></th>\n",
              "      <th>device_id</th>\n",
              "      <th>latitude1</th>\n",
              "      <th>longitude1</th>\n",
              "      <th>lngRegion</th>\n",
              "      <th>latRegion</th>\n",
              "    </tr>\n",
              "  </thead>\n",
              "  <tbody>\n",
              "    <tr>\n",
              "      <th>0</th>\n",
              "      <td>29182687948017175</td>\n",
              "      <td>16</td>\n",
              "      <td>44</td>\n",
              "      <td>6</td>\n",
              "      <td>3</td>\n",
              "    </tr>\n",
              "    <tr>\n",
              "      <th>1</th>\n",
              "      <td>-6401643145415154744</td>\n",
              "      <td>16</td>\n",
              "      <td>27</td>\n",
              "      <td>4</td>\n",
              "      <td>3</td>\n",
              "    </tr>\n",
              "    <tr>\n",
              "      <th>2</th>\n",
              "      <td>-4833982096941402721</td>\n",
              "      <td>15</td>\n",
              "      <td>30</td>\n",
              "      <td>4</td>\n",
              "      <td>3</td>\n",
              "    </tr>\n",
              "    <tr>\n",
              "      <th>3</th>\n",
              "      <td>-6815121365017318426</td>\n",
              "      <td>8</td>\n",
              "      <td>27</td>\n",
              "      <td>4</td>\n",
              "      <td>2</td>\n",
              "    </tr>\n",
              "    <tr>\n",
              "      <th>4</th>\n",
              "      <td>-5373797595892518570</td>\n",
              "      <td>14</td>\n",
              "      <td>39</td>\n",
              "      <td>5</td>\n",
              "      <td>3</td>\n",
              "    </tr>\n",
              "  </tbody>\n",
              "</table>\n",
              "</div>"
            ],
            "text/plain": [
              "              device_id  latitude1  longitude1  lngRegion  latRegion\n",
              "0     29182687948017175         16          44          6          3\n",
              "1  -6401643145415154744         16          27          4          3\n",
              "2  -4833982096941402721         15          30          4          3\n",
              "3  -6815121365017318426          8          27          4          2\n",
              "4  -5373797595892518570         14          39          5          3"
            ]
          },
          "metadata": {
            "tags": []
          },
          "execution_count": 70
        }
      ]
    },
    {
      "cell_type": "code",
      "metadata": {
        "colab_type": "code",
        "id": "OdQmpECwOS5h",
        "colab": {
          "base_uri": "https://localhost:8080/",
          "height": 67
        },
        "outputId": "94d9c652-8ff8-4536-c427-c4e05a7c0994"
      },
      "source": [
        "print(\"--Mapping Longitude Regions to Each Device\")\n",
        "trEventData = trEventData.merge(events_latlng[['device_id','lngRegion']], on='device_id', how='left')\n",
        "teEventData = teEventData.merge(events_latlng[['device_id','lngRegion']], on='device_id', how='left')\n",
        "\n",
        "Xtr_lngRegion = csr_matrix((np.ones(trEventData.shape[0]), (trEventData.trainrow, trEventData.lngRegion)), shape=(evtrainrec,lnglat))\n",
        "Xte_lngRegion = csr_matrix((np.ones(teEventData.shape[0]), (teEventData.testrow, teEventData.lngRegion)), shape=(evtestrec,lnglat))\n",
        "\n",
        "print(Xtr_lngRegion.shape)\n",
        "print(Xte_lngRegion.shape)"
      ],
      "execution_count": 71,
      "outputs": [
        {
          "output_type": "stream",
          "text": [
            "--Mapping Longitude Regions to Each Device\n",
            "(23309, 8)\n",
            "(35194, 8)\n"
          ],
          "name": "stdout"
        }
      ]
    },
    {
      "cell_type": "code",
      "metadata": {
        "colab_type": "code",
        "id": "sCEXEo_yOS5j",
        "colab": {
          "base_uri": "https://localhost:8080/",
          "height": 67
        },
        "outputId": "93dcf577-f0bc-4446-9228-0ef2844bfdb3"
      },
      "source": [
        "trEventData = trEventData.drop(['lngRegion'], axis=1)\n",
        "teEventData = teEventData.drop(['lngRegion'], axis=1)\n",
        "\n",
        "trEventData = trEventData.drop_duplicates('device_id')\n",
        "teEventData = teEventData.drop_duplicates('device_id')\n",
        "\n",
        "print(\"--Mapping Latitude Regions to Each Device\")\n",
        "trEventData = trEventData.merge(events_latlng[['device_id','latRegion']], on='device_id', how='left')\n",
        "teEventData = teEventData.merge(events_latlng[['device_id','latRegion']], on='device_id', how='left')\n",
        "\n",
        "Xtr_latRegion = csr_matrix((np.ones(trEventData.shape[0]), (trEventData.trainrow, trEventData.latRegion)), shape=(evtrainrec,lnglat))\n",
        "Xte_latRegion = csr_matrix((np.ones(teEventData.shape[0]), (teEventData.testrow, teEventData.latRegion)), shape=(evtestrec,lnglat))\n",
        "\n",
        "print(Xtr_latRegion.shape)\n",
        "print(Xte_latRegion.shape)"
      ],
      "execution_count": 72,
      "outputs": [
        {
          "output_type": "stream",
          "text": [
            "--Mapping Latitude Regions to Each Device\n",
            "(23309, 8)\n",
            "(35194, 8)\n"
          ],
          "name": "stdout"
        }
      ]
    },
    {
      "cell_type": "code",
      "metadata": {
        "colab_type": "code",
        "id": "TdPNB7fLOS5l",
        "colab": {
          "base_uri": "https://localhost:8080/",
          "height": 67
        },
        "outputId": "4caff372-fcf6-48fb-8486-5dc198d40b95"
      },
      "source": [
        "trEventData = trEventData.drop(['latRegion'], axis=1)\n",
        "teEventData = teEventData.drop(['latRegion'], axis=1)\n",
        "\n",
        "trEventData = trEventData.drop_duplicates('device_id')\n",
        "teEventData = teEventData.drop_duplicates('device_id')\n",
        "\n",
        "print(\"--Mapping Latitude to Each Device\")\n",
        "trEventData = trEventData.merge(events_latlng[['device_id','latitude1']], on='device_id', how='left')\n",
        "teEventData = teEventData.merge(events_latlng[['device_id','latitude1']], on='device_id', how='left')\n",
        "\n",
        "Xtr_latt = csr_matrix((np.ones(trEventData.shape[0]), (trEventData.trainrow, trEventData.latitude1)), shape=(evtrainrec,uLatt+1))\n",
        "Xte_latt = csr_matrix((np.ones(teEventData.shape[0]), (teEventData.testrow, teEventData.latitude1)), shape=(evtestrec,uLatt+1))\n",
        "\n",
        "print(Xtr_latt.shape)\n",
        "print(Xte_latt.shape)"
      ],
      "execution_count": 73,
      "outputs": [
        {
          "output_type": "stream",
          "text": [
            "--Mapping Latitude to Each Device\n",
            "(23309, 40)\n",
            "(35194, 40)\n"
          ],
          "name": "stdout"
        }
      ]
    },
    {
      "cell_type": "code",
      "metadata": {
        "colab_type": "code",
        "id": "RSwxPjX3OS5n",
        "colab": {
          "base_uri": "https://localhost:8080/",
          "height": 67
        },
        "outputId": "b8b320d8-3b6b-402c-a181-8adf60adac79"
      },
      "source": [
        "trEventData = trEventData.drop(['latitude1'], axis=1)\n",
        "teEventData = teEventData.drop(['latitude1'], axis=1)\n",
        "\n",
        "trEventData = trEventData.drop_duplicates('device_id')\n",
        "teEventData = teEventData.drop_duplicates('device_id')\n",
        "\n",
        "print(\"--Mapping Longitude to Each Device\")\n",
        "trEventData = trEventData.merge(events_latlng[['device_id','longitude1']], on='device_id', how='left')\n",
        "teEventData = teEventData.merge(events_latlng[['device_id','longitude1']], on='device_id', how='left')\n",
        "\n",
        "Xtr_longi = csr_matrix((np.ones(trEventData.shape[0]), (trEventData.trainrow, trEventData.longitude1)), shape=(evtrainrec,uLongi+1))\n",
        "Xte_longi = csr_matrix((np.ones(teEventData.shape[0]), (teEventData.testrow, teEventData.longitude1)), shape=(evtestrec,uLongi+1))\n",
        "\n",
        "print(Xtr_longi.shape)\n",
        "print(Xte_longi.shape)"
      ],
      "execution_count": 74,
      "outputs": [
        {
          "output_type": "stream",
          "text": [
            "--Mapping Longitude to Each Device\n",
            "(23309, 60)\n",
            "(35194, 60)\n"
          ],
          "name": "stdout"
        }
      ]
    },
    {
      "cell_type": "markdown",
      "metadata": {
        "colab_type": "text",
        "id": "IK1_HMgoOS5w"
      },
      "source": [
        "## 1.7 Label Encoding Dependent Feature"
      ]
    },
    {
      "cell_type": "code",
      "metadata": {
        "colab_type": "code",
        "id": "G16mMSCiOS51",
        "colab": {
          "base_uri": "https://localhost:8080/",
          "height": 33
        },
        "outputId": "2d3b123e-fa3b-4bb2-b0ea-e9cb4bb31649"
      },
      "source": [
        "y = ageGenderTrain['group']\n",
        "ohe = LabelEncoder().fit(y.astype(str))\n",
        "y = ohe.transform(y.astype(str))\n",
        "print(y)"
      ],
      "execution_count": 75,
      "outputs": [
        {
          "output_type": "stream",
          "text": [
            "[10 10 10 ...  6 10  7]\n"
          ],
          "name": "stdout"
        }
      ]
    },
    {
      "cell_type": "code",
      "metadata": {
        "colab_type": "code",
        "id": "jGI2s5AqOS5w",
        "colab": {
          "base_uri": "https://localhost:8080/",
          "height": 33
        },
        "outputId": "e5f68eaf-e5e8-4b9e-cc00-25e0793dcb23"
      },
      "source": [
        "ynoev = notrainEventData['group']\n",
        "ynoev = ohe.transform(ynoev.astype(str))\n",
        "print(ynoev)"
      ],
      "execution_count": 76,
      "outputs": [
        {
          "output_type": "stream",
          "text": [
            "[10 10 10 ...  6 10  7]\n"
          ],
          "name": "stdout"
        }
      ]
    },
    {
      "cell_type": "code",
      "metadata": {
        "colab_type": "code",
        "id": "cXBfWoxfOS5y",
        "colab": {
          "base_uri": "https://localhost:8080/",
          "height": 33
        },
        "outputId": "904cdbce-431e-4bfc-8e74-4c71914f25f3"
      },
      "source": [
        "yev = trainEventData['group']\n",
        "yev = ohe.transform(yev.astype(str))\n",
        "print(yev)"
      ],
      "execution_count": 77,
      "outputs": [
        {
          "output_type": "stream",
          "text": [
            "[10  4 10 ...  5 10  7]\n"
          ],
          "name": "stdout"
        }
      ]
    },
    {
      "cell_type": "markdown",
      "metadata": {
        "colab_type": "text",
        "id": "oI4dj34COS5o"
      },
      "source": [
        "## 1.8. Stacking all the Features together"
      ]
    },
    {
      "cell_type": "markdown",
      "metadata": {
        "colab_type": "text",
        "id": "HKTWNqhLOS5o"
      },
      "source": [
        "### 1.8.1 For No-Event Data"
      ]
    },
    {
      "cell_type": "code",
      "metadata": {
        "colab_type": "code",
        "id": "BwtpcvS-OS5p",
        "colab": {
          "base_uri": "https://localhost:8080/",
          "height": 101
        },
        "outputId": "0e25ceba-c58a-4abd-ff69-a67d570e8e51"
      },
      "source": [
        "from scipy.sparse import hstack\n",
        "Xnoev_tr = hstack((Xtr_phbrnoev, Xtr_demonoev)).tocsr()\n",
        "Xnoev_te = hstack((Xte_phbrnoev, Xte_demonoev)).tocsr()\n",
        "\n",
        "print(\"====================================\")\n",
        "print(\"After Merging all the Sparse Matrices\")\n",
        "print(Xnoev_tr.shape)\n",
        "print(Xnoev_te.shape)\n",
        "print(\"====================================\")"
      ],
      "execution_count": 78,
      "outputs": [
        {
          "output_type": "stream",
          "text": [
            "====================================\n",
            "After Merging all the Sparse Matrices\n",
            "(74645, 1701)\n",
            "(76877, 1701)\n",
            "====================================\n"
          ],
          "name": "stdout"
        }
      ]
    },
    {
      "cell_type": "code",
      "metadata": {
        "colab_type": "code",
        "id": "uJlVznjz-89J",
        "colab": {}
      },
      "source": [
        "with open('Xnoev_tr', 'wb') as fp:\n",
        "    pickle.dump(Xnoev_tr, fp)\n",
        "with open('Xnoev_te', 'wb') as fp:\n",
        "    pickle.dump(Xnoev_te, fp)\n",
        "with open('ynoev', 'wb') as fp:\n",
        "    pickle.dump(ynoev, fp)"
      ],
      "execution_count": 79,
      "outputs": []
    },
    {
      "cell_type": "markdown",
      "metadata": {
        "colab_type": "text",
        "id": "49qTqcKhOS5q"
      },
      "source": [
        "### 1.8.2 For EVENT Data"
      ]
    },
    {
      "cell_type": "code",
      "metadata": {
        "colab_type": "code",
        "id": "PeGfdjVwOS5q",
        "colab": {
          "base_uri": "https://localhost:8080/",
          "height": 0
        },
        "outputId": "bfe72c3f-4906-4f3f-ec58-58cd640897e6"
      },
      "source": [
        "from scipy.sparse import hstack\n",
        "Xev_tr = hstack((Xtr_lCatEv, Xtr_lCatCnt, Xtr_catCntProp, Xtr_labelEv, Xtr_labelCnt, Xtr_labelCntProp, Xtr_labelEntropy, Xtr_appIDEv, Xtr_appIDCnt, Xtr_appIDCntProp, Xtr_appIDEntropy, Xtr_activeAppEv, Xtr_actvAppCnt, Xtr_activeAppEntropy, Xtr_phbrev, Xtr_demoev, Xtr_dayOfWeekEv, Xtr_dowEntropy, Xtr_activityhourEv, Xtr_hourEntropy, Xtr_dayPartEv, Xtr_dayPartEntropy, Xtr_evCount, Xtr_lngRegion, Xtr_latRegion, Xtr_latt, Xtr_longi)).tocsr()\n",
        "Xev_te = hstack((Xte_lCatEv, Xte_lCatCnt, Xte_catCntProp, Xte_labelEv, Xte_labelCnt, Xte_labelCntProp, Xte_labelEntropy, Xte_appIDEv, Xte_appIDCnt, Xte_appIDCntProp, Xte_appIDEntropy, Xte_activeAppEv, Xte_actvAppCnt, Xte_activeAppEntropy, Xte_phbrev, Xte_demoev, Xte_dayOfWeekEv, Xte_dowEntropy, Xte_activityhourEv, Xte_hourEntropy, Xte_dayPartEv, Xte_dayPartEntropy, Xte_evCount, Xte_lngRegion, Xte_latRegion, Xte_latt, Xte_longi)).tocsr()\n",
        "\n",
        "print(\"====================================\")\n",
        "print(\"After Merging all the Sparse Matrices\")\n",
        "print(Xev_tr.shape)\n",
        "print(Xev_te.shape)\n",
        "print(\"====================================\")"
      ],
      "execution_count": 80,
      "outputs": [
        {
          "output_type": "stream",
          "text": [
            "====================================\n",
            "After Merging all the Sparse Matrices\n",
            "(23309, 21735)\n",
            "(35194, 21735)\n",
            "====================================\n"
          ],
          "name": "stdout"
        }
      ]
    },
    {
      "cell_type": "code",
      "metadata": {
        "colab_type": "code",
        "id": "LPKSV3aR_scZ",
        "colab": {}
      },
      "source": [
        "with open('Xev_tr', 'wb') as fp:\n",
        "    pickle.dump(Xev_tr, fp)\n",
        "with open('Xev_te', 'wb') as fp:\n",
        "    pickle.dump(Xev_te, fp)\n",
        "with open('yev', 'wb') as fp:\n",
        "    pickle.dump(yev, fp)"
      ],
      "execution_count": 81,
      "outputs": []
    },
    {
      "cell_type": "markdown",
      "metadata": {
        "colab_type": "text",
        "id": "9kcD8gh4OS5t"
      },
      "source": [
        "### 1.8.3 For ALL Data"
      ]
    },
    {
      "cell_type": "code",
      "metadata": {
        "colab_type": "code",
        "id": "y_aLeFghOS5t",
        "colab": {}
      },
      "source": [
        "from scipy.sparse import hstack\n",
        "X_tr = hstack((Xtr_phbr, Xtr_demo, Xtr_label, Xtr_lCat, Xtr_appID, Xtr_activityhour, Xtr_dayOfWeek, Xtr_dayPart, Xtr_activeApp, Xtr_evCount, Xtr_lCatCnt, Xtr_labelCnt, Xtr_appIDCnt, Xtr_dowEntropy, Xtr_hourEntropy, Xtr_dayPartEntropy, Xtr_labelEntropy, Xtr_appIDEntropy, Xtr_activeAppEntropy, Xtr_latRegion, Xtr_lngRegion, Xtr_latt, Xtr_longi)).tocsr()\n",
        "X_te = hstack((Xte_phbr, Xte_demo, Xte_label, Xte_lCat, Xte_appID, Xte_activityhour, Xte_dayOfWeek, Xte_dayPart, Xte_activeApp, Xte_evCount, Xte_lCatCnt, Xte_labelCnt, Xte_appIDCnt, Xte_dowEntropy, Xte_hourEntropy, Xte_dayPartEntropy, Xte_labelEntropy, Xte_appIDEntropy, Xte_activeAppEntropy, Xte_latRegion, Xte_lngRegion, Xte_latt, Xte_longi)).tocsr()\n",
        "\n",
        "print(\"====================================\")\n",
        "print(\"After Merging all the Sparse Matrices\")\n",
        "print(X_tr.shape)\n",
        "print(X_te.shape)\n",
        "print(\"====================================\")"
      ],
      "execution_count": null,
      "outputs": []
    },
    {
      "cell_type": "markdown",
      "metadata": {
        "colab_type": "text",
        "id": "9f7yMh2qOS53"
      },
      "source": [
        "## 1.9 Splitting the dataset into Train and CV Data"
      ]
    },
    {
      "cell_type": "code",
      "metadata": {
        "colab_type": "code",
        "id": "qVfC8IPwOS53",
        "colab": {}
      },
      "source": [
        "Xnoev_train, Xnoev_cv, ynoev_train, ynoev_cv = train_test_split(Xnoev_tr, ynoev, test_size=0.2, random_state=0, stratify=ynoev)"
      ],
      "execution_count": 82,
      "outputs": []
    },
    {
      "cell_type": "code",
      "metadata": {
        "colab_type": "code",
        "id": "zjdt81rHOS56",
        "colab": {
          "base_uri": "https://localhost:8080/",
          "height": 67
        },
        "outputId": "4de79e74-1b75-4386-adc2-e0d9fd8a2353"
      },
      "source": [
        "# Data shapes after splitting\n",
        "print('Train Data:', Xnoev_train.shape, ynoev_train.shape)\n",
        "print('CV Data:', Xnoev_cv.shape, ynoev_cv.shape)\n",
        "print('Test Data:', Xnoev_te.shape)"
      ],
      "execution_count": 84,
      "outputs": [
        {
          "output_type": "stream",
          "text": [
            "Train Data: (59716, 1701) (59716,)\n",
            "CV Data: (14929, 1701) (14929,)\n",
            "Test Data: (76877, 1701)\n"
          ],
          "name": "stdout"
        }
      ]
    },
    {
      "cell_type": "code",
      "metadata": {
        "colab_type": "code",
        "id": "_qmRl6I8OS57",
        "colab": {}
      },
      "source": [
        "Xev_train, Xev_cv, yev_train, yev_cv = train_test_split(Xev_tr, yev, test_size=0.2, random_state=0, stratify=yev)"
      ],
      "execution_count": 83,
      "outputs": []
    },
    {
      "cell_type": "code",
      "metadata": {
        "colab_type": "code",
        "id": "5nxVd-r5OS59",
        "colab": {
          "base_uri": "https://localhost:8080/",
          "height": 67
        },
        "outputId": "c417f096-5917-4497-b6f9-bdce77f9dfb7"
      },
      "source": [
        "# Data shapes after splitting\n",
        "print('Train Data:', Xev_train.shape, yev_train.shape)\n",
        "print('CV Data:', Xev_cv.shape, yev_cv.shape)\n",
        "print('Test Data:', Xev_te.shape)"
      ],
      "execution_count": 85,
      "outputs": [
        {
          "output_type": "stream",
          "text": [
            "Train Data: (18647, 21735) (18647,)\n",
            "CV Data: (4662, 21735) (4662,)\n",
            "Test Data: (35194, 21735)\n"
          ],
          "name": "stdout"
        }
      ]
    },
    {
      "cell_type": "code",
      "metadata": {
        "colab_type": "code",
        "id": "-1gLy5_QOS5_",
        "colab": {}
      },
      "source": [
        "X_train, X_cv, y_train, y_cv = train_test_split(X_tr, y, test_size=0.2, random_state=0, stratify=y)"
      ],
      "execution_count": null,
      "outputs": []
    },
    {
      "cell_type": "code",
      "metadata": {
        "colab_type": "code",
        "id": "Evm1tY1MOS6C",
        "colab": {}
      },
      "source": [
        "# Data shapes after splitting\n",
        "print('Train Data:', X_train.shape, y_train.shape)\n",
        "print('CV Data:', X_cv.shape, y_cv.shape)\n",
        "print('Test Data:', X_te.shape)"
      ],
      "execution_count": null,
      "outputs": []
    },
    {
      "cell_type": "markdown",
      "metadata": {
        "colab_type": "text",
        "id": "wF1SDhI6OS6D"
      },
      "source": [
        "## 1.10 Downloading the Data for further use"
      ]
    },
    {
      "cell_type": "code",
      "metadata": {
        "colab_type": "code",
        "id": "YbNIFierOS6D",
        "colab": {}
      },
      "source": [
        "with open('noEventtrainData', 'wb') as fp:\n",
        "    pickle.dump(Xnoev_train, fp)\n",
        "with open('noEventCVData', 'wb') as fp:\n",
        "    pickle.dump(Xnoev_cv, fp)\n",
        "with open('noEventtestData', 'wb') as fp:\n",
        "    pickle.dump(Xnoev_te, fp)\n",
        "with open('noEventytrain', 'wb') as fp:\n",
        "    pickle.dump(ynoev_train, fp)\n",
        "with open('noEventycv', 'wb') as fp:\n",
        "    pickle.dump(ynoev_cv, fp)"
      ],
      "execution_count": null,
      "outputs": []
    },
    {
      "cell_type": "code",
      "metadata": {
        "colab_type": "code",
        "id": "xE-0GpdxOS6F",
        "colab": {}
      },
      "source": [
        "with open('eventtrainData', 'wb') as fp:\n",
        "    pickle.dump(Xev_train, fp)\n",
        "with open('eventCVData', 'wb') as fp:\n",
        "    pickle.dump(Xev_cv, fp)\n",
        "with open('eventtestData', 'wb') as fp:\n",
        "    pickle.dump(Xev_te, fp)\n",
        "with open('eventytrain', 'wb') as fp:\n",
        "    pickle.dump(yev_train, fp)\n",
        "with open('eventycv', 'wb') as fp:\n",
        "    pickle.dump(yev_cv, fp)"
      ],
      "execution_count": null,
      "outputs": []
    },
    {
      "cell_type": "code",
      "metadata": {
        "colab_type": "code",
        "id": "8c2FtVqfOS6H",
        "colab": {}
      },
      "source": [
        "with open('totaltrainData', 'wb') as fp:\n",
        "    pickle.dump(X_train, fp)\n",
        "with open('totalCVData', 'wb') as fp:\n",
        "    pickle.dump(X_cv, fp)\n",
        "with open('totaltestData', 'wb') as fp:\n",
        "    pickle.dump(X_te, fp)\n",
        "with open('totalytrain', 'wb') as fp:\n",
        "    pickle.dump(y_train, fp)\n",
        "with open('totalycv', 'wb') as fp:\n",
        "    pickle.dump(y_cv, fp)"
      ],
      "execution_count": null,
      "outputs": []
    },
    {
      "cell_type": "markdown",
      "metadata": {
        "colab_type": "text",
        "id": "Es7xewKBOS6K"
      },
      "source": [
        "# 2. Modeling for the Event-Only Data"
      ]
    },
    {
      "cell_type": "markdown",
      "metadata": {
        "colab_type": "text",
        "id": "wiUZOnFFOS6L"
      },
      "source": [
        "#### Reading the PICKLE File"
      ]
    },
    {
      "cell_type": "code",
      "metadata": {
        "colab_type": "code",
        "id": "p2sCelnJOS6L",
        "colab": {
          "base_uri": "https://localhost:8080/",
          "height": 117
        },
        "outputId": "030442f1-4623-4854-8e09-30e464b902f5"
      },
      "source": [
        "with open('eventtrainData', 'rb') as fp:\n",
        "    X_tr = pickle.load(fp)\n",
        "with open('eventCVData', 'rb') as fp:\n",
        "    X_cr = pickle.load(fp)\n",
        "with open('eventtestData', 'rb') as fp:\n",
        "    X_te = pickle.load(fp)\n",
        "with open('eventytrain', 'rb') as fp:\n",
        "    y_train = pickle.load(fp)\n",
        "with open('eventycv', 'rb') as fp:\n",
        "    y_cv = pickle.load(fp)\n",
        "    \n",
        "print(\"====================================\")\n",
        "print(\"After Loading PICKLE Files \")\n",
        "print(X_tr.shape, y_train.shape)\n",
        "print(X_cr.shape, y_cv.shape)\n",
        "print(X_te.shape)\n",
        "print(\"====================================\")"
      ],
      "execution_count": null,
      "outputs": [
        {
          "output_type": "stream",
          "text": [
            "====================================\n",
            "After Loading PICKLE Files \n",
            "(18647, 21341) (18647,)\n",
            "(4662, 21341) (4662,)\n",
            "(35194, 21341)\n",
            "====================================\n"
          ],
          "name": "stdout"
        }
      ]
    },
    {
      "cell_type": "code",
      "metadata": {
        "colab_type": "code",
        "id": "KQ_43zru9fWu",
        "colab": {
          "base_uri": "https://localhost:8080/",
          "height": 101
        },
        "outputId": "58659ea2-6a47-40e2-cbe9-400d1ade1e1e"
      },
      "source": [
        "with open('Xev_tr', 'rb') as fp:\n",
        "    Xev_tr = pickle.load(fp)\n",
        "with open('Xev_te', 'rb') as fp:\n",
        "    Xev_te = pickle.load(fp)\n",
        "with open('yev', 'rb') as fp:\n",
        "    yev = pickle.load(fp)\n",
        "    \n",
        "print(\"====================================\")\n",
        "print(\"After Loading PICKLE Files \")\n",
        "print(Xev_tr.shape, yev.shape)\n",
        "print(Xev_te.shape)\n",
        "print(\"====================================\")"
      ],
      "execution_count": 86,
      "outputs": [
        {
          "output_type": "stream",
          "text": [
            "====================================\n",
            "After Loading PICKLE Files \n",
            "(23309, 21735) (23309,)\n",
            "(35194, 21735)\n",
            "====================================\n"
          ],
          "name": "stdout"
        }
      ]
    },
    {
      "cell_type": "markdown",
      "metadata": {
        "colab_type": "text",
        "id": "SnewHXfYOS6N"
      },
      "source": [
        "## 2.1 Random Model\n",
        "A random model is something that will give us worst possible results.\n",
        "So, let's say, our model predicts '1' probability for all.\n",
        "Log Loss in such case would be"
      ]
    },
    {
      "cell_type": "code",
      "metadata": {
        "colab_type": "code",
        "id": "f3DBT7TiOS6O",
        "colab": {
          "base_uri": "https://localhost:8080/",
          "height": 51
        },
        "outputId": "10509c98-661f-4270-a95f-4dc5fd790e10"
      },
      "source": [
        "y_pred = [[1]*12]*y_train.shape[0]\n",
        "logLoss = log_loss(y_train, y_pred)\n",
        "print(\"Train Loss:\", logLoss)\n",
        "\n",
        "y_pred = [[1]*12]*y_cv.shape[0]\n",
        "logLoss = log_loss(y_cv, y_pred)\n",
        "print(\"Cross Validation Loss:\", logLoss)"
      ],
      "execution_count": null,
      "outputs": [
        {
          "output_type": "stream",
          "text": [
            "Train Loss: 2.484906649788001\n",
            "Cross Validation Loss: 2.4849066497880004\n"
          ],
          "name": "stdout"
        }
      ]
    },
    {
      "cell_type": "markdown",
      "metadata": {
        "colab_type": "text",
        "id": "ltFoA1aCOS6Q"
      },
      "source": [
        "Thus, the <b>worst LOG LOSS</b> that we can get is <b>'2.4849066497880004'</b> <br>\n",
        "Our model should give much better results than this."
      ]
    },
    {
      "cell_type": "markdown",
      "metadata": {
        "colab_type": "text",
        "id": "SdCXPhpGOS6Q"
      },
      "source": [
        "## 2.2 K-Nearest Neighbor"
      ]
    },
    {
      "cell_type": "code",
      "metadata": {
        "colab_type": "code",
        "id": "hm_a7AscOS6T",
        "colab": {},
        "outputId": "8f172dc7-e4b5-45e0-e286-d3aaaa616417"
      },
      "source": [
        "alpha = [x for x in range(3, 13, 2)]\n",
        "llKNNEVTr=[]\n",
        "llKNNEVCv=[]\n",
        "for i in alpha:\n",
        "    print(\"Working on Hyperparameter -\", i)\n",
        "    clfKNN = KNeighborsClassifier(n_neighbors=i)\n",
        "    clfKNN.fit(X_tr, y_train)\n",
        "    print(\"--Running CalibratedClassifierCV\")\n",
        "    sig_clfKNN = CalibratedClassifierCV(clfKNN, method='sigmoid')\n",
        "    sig_clfKNN.fit(X_tr, y_train)\n",
        "    y_pred = sig_clfKNN.predict_proba(X_tr)\n",
        "    llKNNEVTr.append(log_loss(y_train, y_pred, labels=clfKNN.classes_))\n",
        "    print('--Train Log Loss - ', log_loss(y_train, y_pred))\n",
        "    y_pred = sig_clfKNN.predict_proba(X_cr)\n",
        "    llKNNEVCv.append(log_loss(y_cv, y_pred, labels=clfKNN.classes_))\n",
        "    print('--CV Log Loss - ', log_loss(y_cv, y_pred))\n",
        "    \n",
        "print(\"The best hyperparameter value is: \", alpha[np.argmin(llKNNEVCv)])"
      ],
      "execution_count": null,
      "outputs": [
        {
          "output_type": "stream",
          "text": [
            "Working on Hyperparameter - 3\n",
            "--Running CalibratedClassifierCV\n",
            "--Train Log Loss -  2.3559627135420182\n",
            "--CV Log Loss -  2.4084071684991493\n",
            "Working on Hyperparameter - 5\n",
            "--Running CalibratedClassifierCV\n",
            "--CV Log Loss -  2.407881832343829\n",
            "Working on Hyperparameter - 7\n",
            "--Running CalibratedClassifierCV\n",
            "--Train Log Loss -  2.3599607511249747\n",
            "--CV Log Loss -  2.407206891875641\n",
            "Working on Hyperparameter - 9\n",
            "--Running CalibratedClassifierCV\n",
            "--Train Log Loss -  2.3642381744352816\n",
            "--CV Log Loss -  2.4071232326566347\n",
            "Working on Hyperparameter - 11\n",
            "--Running CalibratedClassifierCV\n",
            "--Train Log Loss -  2.3651826715527213\n",
            "--CV Log Loss -  2.40662767585234\n",
            "The best hyperparameter value is:  11\n"
          ],
          "name": "stdout"
        }
      ]
    },
    {
      "cell_type": "code",
      "metadata": {
        "colab_type": "code",
        "id": "VKkklcBfOS6U",
        "colab": {},
        "outputId": "85ee50fc-6507-4111-d848-00cf612a0dac"
      },
      "source": [
        "fig, ax = plt.subplots()\n",
        "ax.plot(alpha, llKNNEVCv,c='g')\n",
        "for i, txt in enumerate(np.round(llKNNEVCv,3)):\n",
        "    ax.annotate((alpha[i],np.round(txt,3)), (alpha[i],llKNNEVCv[i]))\n",
        "plt.grid()\n",
        "plt.title(\"Cross Validation Log Loss for each alpha\")\n",
        "plt.xlabel(\"Alpha i's\")\n",
        "plt.ylabel(\"Error measure\")\n",
        "plt.show()"
      ],
      "execution_count": null,
      "outputs": [
        {
          "output_type": "display_data",
          "data": {
            "image/png": "[encoded data removed]",
            "text/plain": [
              "<Figure size 432x288 with 1 Axes>"
            ]
          },
          "metadata": {
            "tags": [],
            "needs_background": "light"
          }
        }
      ]
    },
    {
      "cell_type": "markdown",
      "metadata": {
        "colab_type": "text",
        "id": "H68FpbwnOS6X"
      },
      "source": [
        "## 2.3 Logistic Regression"
      ]
    },
    {
      "cell_type": "code",
      "metadata": {
        "colab_type": "code",
        "id": "pWqczHzROS6X",
        "colab": {
          "base_uri": "https://localhost:8080/",
          "height": 510
        },
        "outputId": "bde02be7-1ba1-4c52-a94b-e33b8850de8b"
      },
      "source": [
        "alpha = [10 ** x for x in range(-4, 3)]\n",
        "llLREVTr=[]\n",
        "llLREVCv=[]\n",
        "for i in alpha:\n",
        "    print(\"Working on Hyperparameter -\", i)\n",
        "    clfLR = LogisticRegression(C=i, class_weight='balanced', multi_class='multinomial',solver='lbfgs', n_jobs=-1)\n",
        "    clfLR.fit(X_tr, y_train)\n",
        "    print(\"--Running CalibratedClassifierCV\")\n",
        "    sig_clfLR = CalibratedClassifierCV(clfLR, method='sigmoid')\n",
        "    sig_clfLR.fit(X_tr, y_train)\n",
        "    y_pred = sig_clfLR.predict_proba(X_tr)\n",
        "    llLREVTr.append(log_loss(y_train, y_pred, labels=clfLR.classes_))\n",
        "    print('--Train Log Loss - ', log_loss(y_train, y_pred))\n",
        "    y_pred = sig_clfLR.predict_proba(X_cr)\n",
        "    llLREVCv.append(log_loss(y_cv, y_pred, labels=clfLR.classes_))\n",
        "    print('--CV Log Loss - ', log_loss(y_cv, y_pred))\n",
        "\n",
        "print(\"The best hyperparameter value is: \", alpha[np.argmin(llLREVCv)])"
      ],
      "execution_count": null,
      "outputs": [
        {
          "output_type": "stream",
          "text": [
            "Working on Hyperparameter - 0.0001\n",
            "--Running CalibratedClassifierCV\n",
            "--Train Log Loss -  2.3917582186289077\n",
            "--CV Log Loss -  2.3988880123356418\n",
            "Working on Hyperparameter - 0.001\n",
            "--Running CalibratedClassifierCV\n",
            "--Train Log Loss -  2.376385702230857\n",
            "--CV Log Loss -  2.387254596295587\n",
            "Working on Hyperparameter - 0.01\n",
            "--Running CalibratedClassifierCV\n",
            "--Train Log Loss -  2.3698431043553985\n",
            "--CV Log Loss -  2.3806134902688503\n",
            "Working on Hyperparameter - 0.1\n",
            "--Running CalibratedClassifierCV\n",
            "--Train Log Loss -  2.3690258638040573\n",
            "--CV Log Loss -  2.379898345392598\n",
            "Working on Hyperparameter - 1\n",
            "--Running CalibratedClassifierCV\n",
            "--Train Log Loss -  2.3688860632170567\n",
            "--CV Log Loss -  2.3798980831711627\n",
            "Working on Hyperparameter - 10\n",
            "--Running CalibratedClassifierCV\n",
            "--Train Log Loss -  2.3688778904951002\n",
            "--CV Log Loss -  2.3795801278453683\n",
            "Working on Hyperparameter - 100\n",
            "--Running CalibratedClassifierCV\n",
            "--Train Log Loss -  2.3687341386441503\n",
            "--CV Log Loss -  2.379565820077238\n",
            "The best hyperparameter value is:  100\n"
          ],
          "name": "stdout"
        }
      ]
    },
    {
      "cell_type": "code",
      "metadata": {
        "colab_type": "code",
        "id": "xE-PuEgaOS6Y",
        "colab": {
          "base_uri": "https://localhost:8080/",
          "height": 295
        },
        "outputId": "9d08e273-e38a-45ef-c7db-6e80e1d0e63f"
      },
      "source": [
        "fig, ax = plt.subplots()\n",
        "ax.plot(alpha, llLREVCv,c='g')\n",
        "for i, txt in enumerate(np.round(llLREVCv,3)):\n",
        "    ax.annotate((alpha[i],np.round(txt,3)), (alpha[i],llLREVCv[i]))\n",
        "plt.grid()\n",
        "plt.title(\"Cross Validation Log Loss for each alpha\")\n",
        "plt.xlabel(\"Alpha i's\")\n",
        "plt.ylabel(\"Error measure\")\n",
        "plt.show()"
      ],
      "execution_count": null,
      "outputs": [
        {
          "output_type": "display_data",
          "data": {
            "image/png": "[encoded data removed]",
            "text/plain": [
              "<Figure size 432x288 with 1 Axes>"
            ]
          },
          "metadata": {
            "tags": [],
            "needs_background": "light"
          }
        }
      ]
    },
    {
      "cell_type": "markdown",
      "metadata": {
        "colab_type": "text",
        "id": "OeHH9VJOOS6Z"
      },
      "source": [
        "## 2.4 Random Forest Classifier"
      ]
    },
    {
      "cell_type": "code",
      "metadata": {
        "colab_type": "code",
        "id": "mwTxujdOOS6a",
        "colab": {
          "base_uri": "https://localhost:8080/",
          "height": 374
        },
        "outputId": "1b50f8ef-567d-42da-cb86-bafc5aa6247e"
      },
      "source": [
        "alpha = [10,50,100,250,500]\n",
        "llRFEVTr = []\n",
        "llRFEVCv = []\n",
        "for i in alpha:\n",
        "    print(\"Working on Hyperparameter -\", i)\n",
        "    clfRF = RandomForestClassifier(n_estimators=i, random_state=0, n_jobs=-1)\n",
        "    clfRF.fit(X_tr, y_train)\n",
        "    print(\"--Running CalibratedClassifierCV\")\n",
        "    sig_clfRF = CalibratedClassifierCV(clfRF, method='sigmoid')\n",
        "    sig_clfRF.fit(X_tr, y_train)\n",
        "    y_pred = sig_clfRF.predict_proba(X_tr)\n",
        "    llRFEVTr.append(log_loss(y_train, y_pred, labels=clfRF.classes_))\n",
        "    print('--Train Log Loss - ', log_loss(y_train, y_pred))\n",
        "    y_pred = sig_clfRF.predict_proba(X_cr)\n",
        "    llRFEVCv.append(log_loss(y_cv, y_pred, labels=clfRF.classes_))\n",
        "    print('--CV Log Loss - ', log_loss(y_cv, y_pred))\n",
        "\n",
        "print(\"The best hyperparameter value is: \", alpha[np.argmin(llRFEVCv)])"
      ],
      "execution_count": null,
      "outputs": [
        {
          "output_type": "stream",
          "text": [
            "Working on Hyperparameter - 10\n",
            "--Running CalibratedClassifierCV\n",
            "--Train Log Loss -  1.237130046843937\n",
            "--CV Log Loss -  2.2827712601998784\n",
            "Working on Hyperparameter - 50\n",
            "--Running CalibratedClassifierCV\n",
            "--Train Log Loss -  0.6340461913373452\n",
            "--CV Log Loss -  2.1735968485506225\n",
            "Working on Hyperparameter - 100\n",
            "--Running CalibratedClassifierCV\n",
            "--Train Log Loss -  0.5563641149407095\n",
            "--CV Log Loss -  2.1437976547954665\n",
            "Working on Hyperparameter - 250\n",
            "--Running CalibratedClassifierCV\n",
            "--Train Log Loss -  0.4997603083922127\n",
            "--CV Log Loss -  2.1164102157721043\n",
            "Working on Hyperparameter - 500\n",
            "--Running CalibratedClassifierCV\n",
            "--Train Log Loss -  0.47845143169897797\n",
            "--CV Log Loss -  2.10767024594322\n",
            "The best hyperparameter value is:  500\n"
          ],
          "name": "stdout"
        }
      ]
    },
    {
      "cell_type": "code",
      "metadata": {
        "colab_type": "code",
        "id": "llVCM0ViOS6d",
        "colab": {
          "base_uri": "https://localhost:8080/",
          "height": 295
        },
        "outputId": "67d7dbb5-cbe5-4a21-985e-b25355f4839e"
      },
      "source": [
        "fig, ax = plt.subplots()\n",
        "ax.plot(alpha, llRFEVCv,c='g')\n",
        "for i, txt in enumerate(np.round(llRFEVCv,3)):\n",
        "    ax.annotate((alpha[i],np.round(txt,3)), (alpha[i],llRFEVCv[i]))\n",
        "plt.grid()\n",
        "plt.title(\"Cross Validation Log Loss for each alpha\")\n",
        "plt.xlabel(\"Alpha i's\")\n",
        "plt.ylabel(\"Error measure\")\n",
        "plt.show()"
      ],
      "execution_count": null,
      "outputs": [
        {
          "output_type": "display_data",
          "data": {
            "image/png": "[encoded data removed]",
            "text/plain": [
              "<Figure size 432x288 with 1 Axes>"
            ]
          },
          "metadata": {
            "tags": [],
            "needs_background": "light"
          }
        }
      ]
    },
    {
      "cell_type": "markdown",
      "metadata": {
        "colab_type": "text",
        "id": "dLB3SRvkOS6f"
      },
      "source": [
        "## 2.5 XGBoost Classifier"
      ]
    },
    {
      "cell_type": "code",
      "metadata": {
        "colab_type": "code",
        "id": "OJ75NIpoOS6f",
        "colab": {}
      },
      "source": [
        "alpha = [10, 25, 50, 75, 100, 200] \n",
        "llXGBEVTr = []\n",
        "llXGBEVCv = []\n",
        "for i in alpha:\n",
        "    print(\"Working on Hyperparameter -\", i)\n",
        "    clfXGB = XGBClassifier(n_estimators=i, random_state=0, n_jobs=-1)\n",
        "    clfXGB.fit(X_tr, y_train)\n",
        "    print(\"--Running CalibratedClassifierCV\")\n",
        "    sig_clfXGB = CalibratedClassifierCV(clfXGB, method='sigmoid')\n",
        "    sig_clfXGB.fit(X_tr, y_train)\n",
        "    y_pred = clfXGB.predict_proba(X_tr)\n",
        "    llXGBEVTr.append(log_loss(y_train, y_pred, labels=clfXGB.classes_))\n",
        "    print('--Train Log Loss - ', log_loss(y_train, y_pred))\n",
        "    y_pred = clfXGB.predict_proba(X_cr)\n",
        "    llXGBEVCv.append(log_loss(y_cv, y_pred, labels=clfXGB.classes_))\n",
        "    print('--CV Log Loss - ', log_loss(y_cv, y_pred))\n",
        "\n",
        "print(\"The best hyperparameter value is: \", alpha[np.argmin(llXGBEVCv)])"
      ],
      "execution_count": null,
      "outputs": []
    },
    {
      "cell_type": "code",
      "metadata": {
        "colab_type": "code",
        "id": "HTn3a8RPOS6h",
        "colab": {}
      },
      "source": [
        "fig, ax = plt.subplots()\n",
        "ax.plot(alpha, llXGBEVCv,c='g')\n",
        "for i, txt in enumerate(np.round(llXGBEVCv,3)):\n",
        "    ax.annotate((alpha[i],np.round(txt,3)), (alpha[i],llXGBEVCv[i]))\n",
        "plt.grid()\n",
        "plt.title(\"Cross Validation Log Loss for each alpha\")\n",
        "plt.xlabel(\"Alpha i's\")\n",
        "plt.ylabel(\"Error measure\")\n",
        "plt.show()"
      ],
      "execution_count": null,
      "outputs": []
    },
    {
      "cell_type": "code",
      "metadata": {
        "colab_type": "code",
        "id": "7ev-gZ7nTEBY",
        "colab": {
          "base_uri": "https://localhost:8080/",
          "height": 1000
        },
        "outputId": "eea2428b-a2ac-40c9-c47d-c50c27483a81"
      },
      "source": [
        "params = {}\n",
        "params['booster'] = 'gblinear'\n",
        "params['objective'] = \"multi:softprob\"\n",
        "params['eval_metric'] = 'mlogloss'\n",
        "params['eta'] = 0.1\n",
        "params['num_class'] = 12\n",
        "params['max_depth'] = 5\n",
        "params['subsample'] = 0.5\n",
        "params['nthread'] = -1\n",
        "params['colsample_bytree'] = 0.3\n",
        "params['lambda'] = 3\n",
        "params['alpha'] = 2\n",
        "\n",
        "d_train = xgb.DMatrix(X_tr, label=y_train, nthread=-1)\n",
        "d_valid = xgb.DMatrix(X_cr, label=y_cv, nthread=-1)\n",
        "\n",
        "watchlist = [(d_train, 'train'), (d_valid, 'eval')]\n",
        "\n",
        "clf = xgb.train(params, d_train, 1000, watchlist, early_stopping_rounds=25)"
      ],
      "execution_count": null,
      "outputs": [
        {
          "output_type": "stream",
          "text": [
            "[0]\ttrain-mlogloss:2.47666\teval-mlogloss:2.47667\n",
            "Multiple eval metrics have been passed: 'eval-mlogloss' will be used for early stopping.\n",
            "\n",
            "Will train until eval-mlogloss hasn't improved in 25 rounds.\n",
            "[1]\ttrain-mlogloss:2.46939\teval-mlogloss:2.46941\n",
            "[2]\ttrain-mlogloss:2.46299\teval-mlogloss:2.46301\n",
            "[3]\ttrain-mlogloss:2.45732\teval-mlogloss:2.45735\n",
            "[4]\ttrain-mlogloss:2.4523\teval-mlogloss:2.45233\n",
            "[5]\ttrain-mlogloss:2.44782\teval-mlogloss:2.44786\n",
            "[6]\ttrain-mlogloss:2.44384\teval-mlogloss:2.44388\n",
            "[7]\ttrain-mlogloss:2.44029\teval-mlogloss:2.44034\n",
            "[8]\ttrain-mlogloss:2.43713\teval-mlogloss:2.43717\n",
            "[9]\ttrain-mlogloss:2.4343\teval-mlogloss:2.43435\n",
            "[10]\ttrain-mlogloss:2.43178\teval-mlogloss:2.43183\n",
            "[11]\ttrain-mlogloss:2.42952\teval-mlogloss:2.42958\n",
            "[12]\ttrain-mlogloss:2.4275\teval-mlogloss:2.42756\n",
            "[13]\ttrain-mlogloss:2.4257\teval-mlogloss:2.42576\n",
            "[14]\ttrain-mlogloss:2.42408\teval-mlogloss:2.42415\n",
            "[15]\ttrain-mlogloss:2.42264\teval-mlogloss:2.42271\n",
            "[16]\ttrain-mlogloss:2.42135\teval-mlogloss:2.42142\n",
            "[17]\ttrain-mlogloss:2.42019\teval-mlogloss:2.42026\n",
            "[18]\ttrain-mlogloss:2.41915\teval-mlogloss:2.41923\n",
            "[19]\ttrain-mlogloss:2.41823\teval-mlogloss:2.4183\n",
            "[20]\ttrain-mlogloss:2.4174\teval-mlogloss:2.41747\n",
            "[21]\ttrain-mlogloss:2.41665\teval-mlogloss:2.41673\n",
            "[22]\ttrain-mlogloss:2.41599\teval-mlogloss:2.41607\n",
            "[23]\ttrain-mlogloss:2.41539\teval-mlogloss:2.41547\n",
            "[24]\ttrain-mlogloss:2.41485\teval-mlogloss:2.41494\n",
            "[25]\ttrain-mlogloss:2.41437\teval-mlogloss:2.41446\n",
            "[26]\ttrain-mlogloss:2.41395\teval-mlogloss:2.41403\n",
            "[27]\ttrain-mlogloss:2.41356\teval-mlogloss:2.41365\n",
            "[28]\ttrain-mlogloss:2.41322\teval-mlogloss:2.41331\n",
            "[29]\ttrain-mlogloss:2.41291\teval-mlogloss:2.413\n",
            "[30]\ttrain-mlogloss:2.41263\teval-mlogloss:2.41272\n",
            "[31]\ttrain-mlogloss:2.41238\teval-mlogloss:2.41248\n",
            "[32]\ttrain-mlogloss:2.41216\teval-mlogloss:2.41226\n",
            "[33]\ttrain-mlogloss:2.41196\teval-mlogloss:2.41206\n",
            "[34]\ttrain-mlogloss:2.41179\teval-mlogloss:2.41188\n",
            "[35]\ttrain-mlogloss:2.41162\teval-mlogloss:2.41172\n",
            "[36]\ttrain-mlogloss:2.41148\teval-mlogloss:2.41158\n",
            "[37]\ttrain-mlogloss:2.41135\teval-mlogloss:2.41145\n",
            "[38]\ttrain-mlogloss:2.41124\teval-mlogloss:2.41134\n",
            "[39]\ttrain-mlogloss:2.41114\teval-mlogloss:2.41124\n",
            "[40]\ttrain-mlogloss:2.41105\teval-mlogloss:2.41115\n",
            "[41]\ttrain-mlogloss:2.41096\teval-mlogloss:2.41107\n",
            "[42]\ttrain-mlogloss:2.41089\teval-mlogloss:2.41099\n",
            "[43]\ttrain-mlogloss:2.41082\teval-mlogloss:2.41093\n",
            "[44]\ttrain-mlogloss:2.41077\teval-mlogloss:2.41087\n",
            "[45]\ttrain-mlogloss:2.41071\teval-mlogloss:2.41082\n",
            "[46]\ttrain-mlogloss:2.41066\teval-mlogloss:2.41077\n",
            "[47]\ttrain-mlogloss:2.41062\teval-mlogloss:2.41073\n",
            "[48]\ttrain-mlogloss:2.41058\teval-mlogloss:2.41069\n",
            "[49]\ttrain-mlogloss:2.41055\teval-mlogloss:2.41066\n",
            "[50]\ttrain-mlogloss:2.41052\teval-mlogloss:2.41063\n",
            "[51]\ttrain-mlogloss:2.41049\teval-mlogloss:2.4106\n",
            "[52]\ttrain-mlogloss:2.41047\teval-mlogloss:2.41058\n",
            "[53]\ttrain-mlogloss:2.41045\teval-mlogloss:2.41056\n",
            "[54]\ttrain-mlogloss:2.41043\teval-mlogloss:2.41054\n",
            "[55]\ttrain-mlogloss:2.41041\teval-mlogloss:2.41052\n",
            "[56]\ttrain-mlogloss:2.41039\teval-mlogloss:2.4105\n",
            "[57]\ttrain-mlogloss:2.41038\teval-mlogloss:2.41049\n",
            "[58]\ttrain-mlogloss:2.41037\teval-mlogloss:2.41048\n",
            "[59]\ttrain-mlogloss:2.41036\teval-mlogloss:2.41047\n",
            "[60]\ttrain-mlogloss:2.41035\teval-mlogloss:2.41046\n",
            "[61]\ttrain-mlogloss:2.41034\teval-mlogloss:2.41045\n",
            "[62]\ttrain-mlogloss:2.41033\teval-mlogloss:2.41044\n",
            "[63]\ttrain-mlogloss:2.41032\teval-mlogloss:2.41043\n",
            "[64]\ttrain-mlogloss:2.41032\teval-mlogloss:2.41043\n",
            "[65]\ttrain-mlogloss:2.41031\teval-mlogloss:2.41042\n",
            "[66]\ttrain-mlogloss:2.41031\teval-mlogloss:2.41042\n",
            "[67]\ttrain-mlogloss:2.4103\teval-mlogloss:2.41041\n",
            "[68]\ttrain-mlogloss:2.4103\teval-mlogloss:2.41041\n",
            "[69]\ttrain-mlogloss:2.41029\teval-mlogloss:2.4104\n",
            "[70]\ttrain-mlogloss:2.41029\teval-mlogloss:2.4104\n",
            "[71]\ttrain-mlogloss:2.41029\teval-mlogloss:2.4104\n",
            "[72]\ttrain-mlogloss:2.41028\teval-mlogloss:2.4104\n",
            "[73]\ttrain-mlogloss:2.41028\teval-mlogloss:2.41039\n",
            "[74]\ttrain-mlogloss:2.41028\teval-mlogloss:2.41039\n",
            "[75]\ttrain-mlogloss:2.41028\teval-mlogloss:2.41039\n",
            "[76]\ttrain-mlogloss:2.41027\teval-mlogloss:2.41039\n",
            "[77]\ttrain-mlogloss:2.41027\teval-mlogloss:2.41039\n",
            "[78]\ttrain-mlogloss:2.41027\teval-mlogloss:2.41039\n",
            "[79]\ttrain-mlogloss:2.41027\teval-mlogloss:2.41039\n",
            "[80]\ttrain-mlogloss:2.41027\teval-mlogloss:2.41038\n",
            "[81]\ttrain-mlogloss:2.41027\teval-mlogloss:2.41038\n",
            "[82]\ttrain-mlogloss:2.41027\teval-mlogloss:2.41038\n",
            "[83]\ttrain-mlogloss:2.41027\teval-mlogloss:2.41038\n",
            "[84]\ttrain-mlogloss:2.41027\teval-mlogloss:2.41038\n",
            "[85]\ttrain-mlogloss:2.41027\teval-mlogloss:2.41038\n",
            "[86]\ttrain-mlogloss:2.41027\teval-mlogloss:2.41038\n",
            "[87]\ttrain-mlogloss:2.41026\teval-mlogloss:2.41038\n",
            "[88]\ttrain-mlogloss:2.41026\teval-mlogloss:2.41038\n",
            "[89]\ttrain-mlogloss:2.41026\teval-mlogloss:2.41038\n",
            "[90]\ttrain-mlogloss:2.41026\teval-mlogloss:2.41038\n",
            "[91]\ttrain-mlogloss:2.41026\teval-mlogloss:2.41038\n",
            "[92]\ttrain-mlogloss:2.41026\teval-mlogloss:2.41038\n",
            "[93]\ttrain-mlogloss:2.41026\teval-mlogloss:2.41038\n",
            "[94]\ttrain-mlogloss:2.41026\teval-mlogloss:2.41038\n",
            "[95]\ttrain-mlogloss:2.41026\teval-mlogloss:2.41038\n",
            "[96]\ttrain-mlogloss:2.41026\teval-mlogloss:2.41038\n",
            "[97]\ttrain-mlogloss:2.41026\teval-mlogloss:2.41038\n",
            "[98]\ttrain-mlogloss:2.41026\teval-mlogloss:2.41038\n",
            "[99]\ttrain-mlogloss:2.41026\teval-mlogloss:2.41038\n",
            "[100]\ttrain-mlogloss:2.41026\teval-mlogloss:2.41038\n",
            "[101]\ttrain-mlogloss:2.41026\teval-mlogloss:2.41038\n",
            "[102]\ttrain-mlogloss:2.41026\teval-mlogloss:2.41038\n",
            "[103]\ttrain-mlogloss:2.41026\teval-mlogloss:2.41038\n",
            "[104]\ttrain-mlogloss:2.41026\teval-mlogloss:2.41038\n",
            "[105]\ttrain-mlogloss:2.41026\teval-mlogloss:2.41038\n",
            "[106]\ttrain-mlogloss:2.41026\teval-mlogloss:2.41038\n",
            "[107]\ttrain-mlogloss:2.41026\teval-mlogloss:2.41038\n",
            "[108]\ttrain-mlogloss:2.41026\teval-mlogloss:2.41038\n",
            "[109]\ttrain-mlogloss:2.41026\teval-mlogloss:2.41038\n",
            "[110]\ttrain-mlogloss:2.41026\teval-mlogloss:2.41038\n",
            "[111]\ttrain-mlogloss:2.41026\teval-mlogloss:2.41038\n",
            "[112]\ttrain-mlogloss:2.41026\teval-mlogloss:2.41038\n",
            "[113]\ttrain-mlogloss:2.41026\teval-mlogloss:2.41038\n",
            "[114]\ttrain-mlogloss:2.41026\teval-mlogloss:2.41038\n",
            "[115]\ttrain-mlogloss:2.41026\teval-mlogloss:2.41038\n",
            "[116]\ttrain-mlogloss:2.41026\teval-mlogloss:2.41038\n",
            "[117]\ttrain-mlogloss:2.41026\teval-mlogloss:2.41038\n",
            "[118]\ttrain-mlogloss:2.41026\teval-mlogloss:2.41038\n",
            "[119]\ttrain-mlogloss:2.41026\teval-mlogloss:2.41038\n",
            "[120]\ttrain-mlogloss:2.41026\teval-mlogloss:2.41038\n",
            "[121]\ttrain-mlogloss:2.41026\teval-mlogloss:2.41038\n",
            "[122]\ttrain-mlogloss:2.41026\teval-mlogloss:2.41038\n",
            "[123]\ttrain-mlogloss:2.41026\teval-mlogloss:2.41038\n",
            "[124]\ttrain-mlogloss:2.41026\teval-mlogloss:2.41038\n",
            "Stopping. Best iteration:\n",
            "[99]\ttrain-mlogloss:2.41026\teval-mlogloss:2.41038\n",
            "\n"
          ],
          "name": "stdout"
        }
      ]
    },
    {
      "cell_type": "markdown",
      "metadata": {
        "colab_type": "text",
        "id": "iDKuaZMKOS6i"
      },
      "source": [
        "## 2.6 LightGBM Classifier"
      ]
    },
    {
      "cell_type": "code",
      "metadata": {
        "colab_type": "code",
        "id": "gY7hg4lfOS6i",
        "colab": {
          "base_uri": "https://localhost:8080/",
          "height": 442
        },
        "outputId": "973caa42-d779-4a21-d26e-a27ae33d1358"
      },
      "source": [
        "alpha = [10, 25, 50, 75, 100, 200] \n",
        "llLGBEVTr = []\n",
        "llLGBEVCv = []\n",
        "for i in alpha:\n",
        "    print(\"Working on Hyperparameter -\", i)\n",
        "    clfLGB = LGBMClassifier(n_estimators=i, random_state=0, n_jobs=-1)\n",
        "    clfLGB.fit(X_tr, y_train)\n",
        "    print(\"--Running CalibratedClassifierCV\")\n",
        "    sig_clfLGB = CalibratedClassifierCV(clfLGB, method='sigmoid')\n",
        "    sig_clfLGB.fit(X_tr, y_train)\n",
        "    y_pred = clfLGB.predict_proba(X_tr)\n",
        "    llLGBEVTr.append(log_loss(y_train, y_pred, labels=clfLGB.classes_))\n",
        "    print('--Train Log Loss - ', log_loss(y_train, y_pred))\n",
        "    y_pred = clfLGB.predict_proba(X_cr)\n",
        "    llLGBEVCv.append(log_loss(y_cv, y_pred, labels=clfLGB.classes_))\n",
        "    print('--CV Log Loss - ', log_loss(y_cv, y_pred))\n",
        "\n",
        "print(\"The best hyperparameter value is: \", alpha[np.argmin(llLGBEVCv)])"
      ],
      "execution_count": null,
      "outputs": [
        {
          "output_type": "stream",
          "text": [
            "Working on Hyperparameter - 10\n",
            "--Running CalibratedClassifierCV\n",
            "--Train Log Loss -  2.0400787092854724\n",
            "--CV Log Loss -  2.2297947704759293\n",
            "Working on Hyperparameter - 25\n",
            "--Running CalibratedClassifierCV\n",
            "--Train Log Loss -  1.7395292449856474\n",
            "--CV Log Loss -  2.130319418226273\n",
            "Working on Hyperparameter - 50\n",
            "--Running CalibratedClassifierCV\n",
            "--Train Log Loss -  1.409547007294805\n",
            "--CV Log Loss -  2.0621872006923443\n",
            "Working on Hyperparameter - 75\n",
            "--Running CalibratedClassifierCV\n",
            "--Train Log Loss -  1.183016346725949\n",
            "--CV Log Loss -  2.0350063396466345\n",
            "Working on Hyperparameter - 100\n",
            "--Running CalibratedClassifierCV\n",
            "--Train Log Loss -  1.014808347360679\n",
            "--CV Log Loss -  2.0214201226220343\n",
            "Working on Hyperparameter - 200\n",
            "--Running CalibratedClassifierCV\n",
            "--Train Log Loss -  0.6062157425287648\n",
            "--CV Log Loss -  2.022247296067604\n",
            "The best hyperparameter value is:  100\n"
          ],
          "name": "stdout"
        }
      ]
    },
    {
      "cell_type": "code",
      "metadata": {
        "colab_type": "code",
        "id": "iKi64amCOS6j",
        "colab": {
          "base_uri": "https://localhost:8080/",
          "height": 295
        },
        "outputId": "9784c750-3c15-4031-d123-82674780a966"
      },
      "source": [
        "fig, ax = plt.subplots()\n",
        "ax.plot(alpha, llLGBEVCv,c='g')\n",
        "for i, txt in enumerate(np.round(llLGBEVCv,3)):\n",
        "    ax.annotate((alpha[i],np.round(txt,3)), (alpha[i],llLGBEVCv[i]))\n",
        "plt.grid()\n",
        "plt.title(\"Cross Validation Log Loss for each alpha\")\n",
        "plt.xlabel(\"Alpha i's\")\n",
        "plt.ylabel(\"Error measure\")\n",
        "plt.show()"
      ],
      "execution_count": null,
      "outputs": [
        {
          "output_type": "display_data",
          "data": {
            "image/png": "[encoded data removed]",
            "text/plain": [
              "<Figure size 432x288 with 1 Axes>"
            ]
          },
          "metadata": {
            "tags": [],
            "needs_background": "light"
          }
        }
      ]
    },
    {
      "cell_type": "code",
      "metadata": {
        "colab_type": "code",
        "id": "ut-MGpZdQa2G",
        "colab": {
          "base_uri": "https://localhost:8080/",
          "height": 1000
        },
        "outputId": "b14369b4-545d-4edd-bb8d-8c12e413d5a8"
      },
      "source": [
        "import lightgbm as lgbm\n",
        "\n",
        "print(\"--Setting the Parameters\")\n",
        "params = {}\n",
        "params['boosting'] = 'gbdt'\n",
        "params['objective'] = \"multiclass\"\n",
        "params['metric'] = 'multi_logloss'\n",
        "params['learning_rate'] = 0.1\n",
        "params['num_class'] = 12\n",
        "params['num_threads'] = -1\n",
        "params['seed'] = 0\n",
        "params['max_depth'] = 5\n",
        "params['subsample'] = 0.5\n",
        "params['colsample_bytree'] = 0.3\n",
        "\n",
        "d_train = lgbm.Dataset(X_tr, label=y_train)\n",
        "d_valid = lgbm.Dataset(X_cr, label=y_cv)\n",
        "watchlist = [(d_train, 'train'), (d_valid, 'eval')]\n",
        "print('--Training the model')\n",
        "clf = lgbm.train(params, train_set=d_train, num_boost_round=1000,valid_sets=[d_train,d_valid], valid_names=['train','eval'], \n",
        "                 early_stopping_rounds=25)\n"
      ],
      "execution_count": null,
      "outputs": [
        {
          "output_type": "stream",
          "text": [
            "--Setting the Parameters\n",
            "--Training the model\n",
            "[1]\ttrain's multi_logloss: 2.36993\teval's multi_logloss: 2.38449\n",
            "Training until validation scores don't improve for 25 rounds.\n",
            "[2]\ttrain's multi_logloss: 2.3331\teval's multi_logloss: 2.36335\n",
            "[3]\ttrain's multi_logloss: 2.30128\teval's multi_logloss: 2.34371\n",
            "[4]\ttrain's multi_logloss: 2.27072\teval's multi_logloss: 2.326\n",
            "[5]\ttrain's multi_logloss: 2.24275\teval's multi_logloss: 2.31125\n",
            "[6]\ttrain's multi_logloss: 2.21713\teval's multi_logloss: 2.29716\n",
            "[7]\ttrain's multi_logloss: 2.19465\teval's multi_logloss: 2.28453\n",
            "[8]\ttrain's multi_logloss: 2.1719\teval's multi_logloss: 2.27322\n",
            "[9]\ttrain's multi_logloss: 2.15042\teval's multi_logloss: 2.26215\n",
            "[10]\ttrain's multi_logloss: 2.13111\teval's multi_logloss: 2.25208\n",
            "[11]\ttrain's multi_logloss: 2.11275\teval's multi_logloss: 2.24287\n",
            "[12]\ttrain's multi_logloss: 2.0951\teval's multi_logloss: 2.23349\n",
            "[13]\ttrain's multi_logloss: 2.07831\teval's multi_logloss: 2.22503\n",
            "[14]\ttrain's multi_logloss: 2.06253\teval's multi_logloss: 2.21733\n",
            "[15]\ttrain's multi_logloss: 2.04684\teval's multi_logloss: 2.21053\n",
            "[16]\ttrain's multi_logloss: 2.03153\teval's multi_logloss: 2.20376\n",
            "[17]\ttrain's multi_logloss: 2.01709\teval's multi_logloss: 2.1978\n",
            "[18]\ttrain's multi_logloss: 2.00303\teval's multi_logloss: 2.19153\n",
            "[19]\ttrain's multi_logloss: 1.99009\teval's multi_logloss: 2.18625\n",
            "[20]\ttrain's multi_logloss: 1.97714\teval's multi_logloss: 2.18085\n",
            "[21]\ttrain's multi_logloss: 1.96425\teval's multi_logloss: 2.17558\n",
            "[22]\ttrain's multi_logloss: 1.95118\teval's multi_logloss: 2.17053\n",
            "[23]\ttrain's multi_logloss: 1.94002\teval's multi_logloss: 2.1658\n",
            "[24]\ttrain's multi_logloss: 1.92893\teval's multi_logloss: 2.16221\n",
            "[25]\ttrain's multi_logloss: 1.91738\teval's multi_logloss: 2.15836\n",
            "[26]\ttrain's multi_logloss: 1.90593\teval's multi_logloss: 2.15392\n",
            "[27]\ttrain's multi_logloss: 1.8957\teval's multi_logloss: 2.15061\n",
            "[28]\ttrain's multi_logloss: 1.88504\teval's multi_logloss: 2.14674\n",
            "[29]\ttrain's multi_logloss: 1.87492\teval's multi_logloss: 2.14286\n",
            "[30]\ttrain's multi_logloss: 1.86458\teval's multi_logloss: 2.13918\n",
            "[31]\ttrain's multi_logloss: 1.85568\teval's multi_logloss: 2.13565\n",
            "[32]\ttrain's multi_logloss: 1.8466\teval's multi_logloss: 2.13275\n",
            "[33]\ttrain's multi_logloss: 1.83749\teval's multi_logloss: 2.12936\n",
            "[34]\ttrain's multi_logloss: 1.82856\teval's multi_logloss: 2.12636\n",
            "[35]\ttrain's multi_logloss: 1.81974\teval's multi_logloss: 2.12362\n",
            "[36]\ttrain's multi_logloss: 1.81143\teval's multi_logloss: 2.12085\n",
            "[37]\ttrain's multi_logloss: 1.80367\teval's multi_logloss: 2.11781\n",
            "[38]\ttrain's multi_logloss: 1.7958\teval's multi_logloss: 2.11622\n",
            "[39]\ttrain's multi_logloss: 1.78783\teval's multi_logloss: 2.11413\n",
            "[40]\ttrain's multi_logloss: 1.77972\teval's multi_logloss: 2.11241\n",
            "[41]\ttrain's multi_logloss: 1.77232\teval's multi_logloss: 2.11042\n",
            "[42]\ttrain's multi_logloss: 1.76451\teval's multi_logloss: 2.10794\n",
            "[43]\ttrain's multi_logloss: 1.75653\teval's multi_logloss: 2.10555\n",
            "[44]\ttrain's multi_logloss: 1.7489\teval's multi_logloss: 2.10338\n",
            "[45]\ttrain's multi_logloss: 1.74203\teval's multi_logloss: 2.10161\n",
            "[46]\ttrain's multi_logloss: 1.73485\teval's multi_logloss: 2.10021\n",
            "[47]\ttrain's multi_logloss: 1.72816\teval's multi_logloss: 2.09844\n",
            "[48]\ttrain's multi_logloss: 1.72179\teval's multi_logloss: 2.09667\n",
            "[49]\ttrain's multi_logloss: 1.7149\teval's multi_logloss: 2.09517\n",
            "[50]\ttrain's multi_logloss: 1.70799\teval's multi_logloss: 2.09327\n",
            "[51]\ttrain's multi_logloss: 1.70084\teval's multi_logloss: 2.09136\n",
            "[52]\ttrain's multi_logloss: 1.69463\teval's multi_logloss: 2.08985\n",
            "[53]\ttrain's multi_logloss: 1.68905\teval's multi_logloss: 2.08835\n",
            "[54]\ttrain's multi_logloss: 1.68271\teval's multi_logloss: 2.0872\n",
            "[55]\ttrain's multi_logloss: 1.67699\teval's multi_logloss: 2.0861\n",
            "[56]\ttrain's multi_logloss: 1.67108\teval's multi_logloss: 2.08504\n",
            "[57]\ttrain's multi_logloss: 1.66562\teval's multi_logloss: 2.08363\n",
            "[58]\ttrain's multi_logloss: 1.6593\teval's multi_logloss: 2.08255\n",
            "[59]\ttrain's multi_logloss: 1.65323\teval's multi_logloss: 2.08097\n",
            "[60]\ttrain's multi_logloss: 1.64774\teval's multi_logloss: 2.07977\n",
            "[61]\ttrain's multi_logloss: 1.64307\teval's multi_logloss: 2.07855\n",
            "[62]\ttrain's multi_logloss: 1.63766\teval's multi_logloss: 2.07732\n",
            "[63]\ttrain's multi_logloss: 1.63249\teval's multi_logloss: 2.07613\n",
            "[64]\ttrain's multi_logloss: 1.62742\teval's multi_logloss: 2.07482\n",
            "[65]\ttrain's multi_logloss: 1.6221\teval's multi_logloss: 2.07351\n",
            "[66]\ttrain's multi_logloss: 1.61692\teval's multi_logloss: 2.07283\n",
            "[67]\ttrain's multi_logloss: 1.61194\teval's multi_logloss: 2.07151\n",
            "[68]\ttrain's multi_logloss: 1.60697\teval's multi_logloss: 2.07046\n",
            "[69]\ttrain's multi_logloss: 1.60175\teval's multi_logloss: 2.06962\n",
            "[70]\ttrain's multi_logloss: 1.59684\teval's multi_logloss: 2.06876\n",
            "[71]\ttrain's multi_logloss: 1.59145\teval's multi_logloss: 2.06711\n",
            "[72]\ttrain's multi_logloss: 1.58736\teval's multi_logloss: 2.06622\n",
            "[73]\ttrain's multi_logloss: 1.58265\teval's multi_logloss: 2.06512\n",
            "[74]\ttrain's multi_logloss: 1.57722\teval's multi_logloss: 2.06409\n",
            "[75]\ttrain's multi_logloss: 1.57232\teval's multi_logloss: 2.06314\n",
            "[76]\ttrain's multi_logloss: 1.56801\teval's multi_logloss: 2.06229\n",
            "[77]\ttrain's multi_logloss: 1.56376\teval's multi_logloss: 2.06185\n",
            "[78]\ttrain's multi_logloss: 1.5597\teval's multi_logloss: 2.06086\n",
            "[79]\ttrain's multi_logloss: 1.55577\teval's multi_logloss: 2.05995\n",
            "[80]\ttrain's multi_logloss: 1.55166\teval's multi_logloss: 2.05946\n",
            "[81]\ttrain's multi_logloss: 1.54703\teval's multi_logloss: 2.05847\n",
            "[82]\ttrain's multi_logloss: 1.54291\teval's multi_logloss: 2.05777\n",
            "[83]\ttrain's multi_logloss: 1.53906\teval's multi_logloss: 2.05693\n",
            "[84]\ttrain's multi_logloss: 1.53495\teval's multi_logloss: 2.05628\n",
            "[85]\ttrain's multi_logloss: 1.53098\teval's multi_logloss: 2.0553\n",
            "[86]\ttrain's multi_logloss: 1.52721\teval's multi_logloss: 2.05467\n",
            "[87]\ttrain's multi_logloss: 1.5233\teval's multi_logloss: 2.05403\n",
            "[88]\ttrain's multi_logloss: 1.51904\teval's multi_logloss: 2.05336\n",
            "[89]\ttrain's multi_logloss: 1.5156\teval's multi_logloss: 2.05266\n",
            "[90]\ttrain's multi_logloss: 1.51196\teval's multi_logloss: 2.0524\n",
            "[91]\ttrain's multi_logloss: 1.50818\teval's multi_logloss: 2.05179\n",
            "[92]\ttrain's multi_logloss: 1.50436\teval's multi_logloss: 2.0514\n",
            "[93]\ttrain's multi_logloss: 1.50073\teval's multi_logloss: 2.05069\n",
            "[94]\ttrain's multi_logloss: 1.49653\teval's multi_logloss: 2.05015\n",
            "[95]\ttrain's multi_logloss: 1.49284\teval's multi_logloss: 2.04957\n",
            "[96]\ttrain's multi_logloss: 1.48943\teval's multi_logloss: 2.04888\n",
            "[97]\ttrain's multi_logloss: 1.48592\teval's multi_logloss: 2.04842\n",
            "[98]\ttrain's multi_logloss: 1.48269\teval's multi_logloss: 2.04786\n",
            "[99]\ttrain's multi_logloss: 1.47955\teval's multi_logloss: 2.04717\n",
            "[100]\ttrain's multi_logloss: 1.47618\teval's multi_logloss: 2.04682\n",
            "[101]\ttrain's multi_logloss: 1.4724\teval's multi_logloss: 2.04662\n",
            "[102]\ttrain's multi_logloss: 1.46899\teval's multi_logloss: 2.04588\n",
            "[103]\ttrain's multi_logloss: 1.46581\teval's multi_logloss: 2.04531\n",
            "[104]\ttrain's multi_logloss: 1.46259\teval's multi_logloss: 2.04502\n",
            "[105]\ttrain's multi_logloss: 1.45937\teval's multi_logloss: 2.04464\n",
            "[106]\ttrain's multi_logloss: 1.45623\teval's multi_logloss: 2.04367\n",
            "[107]\ttrain's multi_logloss: 1.45322\teval's multi_logloss: 2.04347\n",
            "[108]\ttrain's multi_logloss: 1.45021\teval's multi_logloss: 2.04309\n",
            "[109]\ttrain's multi_logloss: 1.4467\teval's multi_logloss: 2.04298\n",
            "[110]\ttrain's multi_logloss: 1.44352\teval's multi_logloss: 2.04237\n",
            "[111]\ttrain's multi_logloss: 1.4401\teval's multi_logloss: 2.0422\n",
            "[112]\ttrain's multi_logloss: 1.43684\teval's multi_logloss: 2.04173\n",
            "[113]\ttrain's multi_logloss: 1.43377\teval's multi_logloss: 2.04136\n",
            "[114]\ttrain's multi_logloss: 1.43021\teval's multi_logloss: 2.04095\n",
            "[115]\ttrain's multi_logloss: 1.42753\teval's multi_logloss: 2.04075\n",
            "[116]\ttrain's multi_logloss: 1.42497\teval's multi_logloss: 2.04054\n",
            "[117]\ttrain's multi_logloss: 1.42212\teval's multi_logloss: 2.04047\n",
            "[118]\ttrain's multi_logloss: 1.41902\teval's multi_logloss: 2.04045\n",
            "[119]\ttrain's multi_logloss: 1.41628\teval's multi_logloss: 2.0401\n",
            "[120]\ttrain's multi_logloss: 1.41363\teval's multi_logloss: 2.04003\n",
            "[121]\ttrain's multi_logloss: 1.411\teval's multi_logloss: 2.0397\n",
            "[122]\ttrain's multi_logloss: 1.40839\teval's multi_logloss: 2.0393\n",
            "[123]\ttrain's multi_logloss: 1.40551\teval's multi_logloss: 2.03901\n",
            "[124]\ttrain's multi_logloss: 1.40283\teval's multi_logloss: 2.03898\n",
            "[125]\ttrain's multi_logloss: 1.40028\teval's multi_logloss: 2.03877\n",
            "[126]\ttrain's multi_logloss: 1.39771\teval's multi_logloss: 2.03831\n",
            "[127]\ttrain's multi_logloss: 1.39502\teval's multi_logloss: 2.03798\n",
            "[128]\ttrain's multi_logloss: 1.39252\teval's multi_logloss: 2.03767\n",
            "[129]\ttrain's multi_logloss: 1.38988\teval's multi_logloss: 2.03723\n",
            "[130]\ttrain's multi_logloss: 1.38657\teval's multi_logloss: 2.03686\n",
            "[131]\ttrain's multi_logloss: 1.38393\teval's multi_logloss: 2.03648\n",
            "[132]\ttrain's multi_logloss: 1.38111\teval's multi_logloss: 2.03626\n",
            "[133]\ttrain's multi_logloss: 1.3787\teval's multi_logloss: 2.03616\n",
            "[134]\ttrain's multi_logloss: 1.37624\teval's multi_logloss: 2.03609\n",
            "[135]\ttrain's multi_logloss: 1.37383\teval's multi_logloss: 2.03584\n",
            "[136]\ttrain's multi_logloss: 1.3713\teval's multi_logloss: 2.03529\n",
            "[137]\ttrain's multi_logloss: 1.36896\teval's multi_logloss: 2.03508\n",
            "[138]\ttrain's multi_logloss: 1.36617\teval's multi_logloss: 2.03512\n",
            "[139]\ttrain's multi_logloss: 1.36363\teval's multi_logloss: 2.03487\n",
            "[140]\ttrain's multi_logloss: 1.3612\teval's multi_logloss: 2.03478\n",
            "[141]\ttrain's multi_logloss: 1.35835\teval's multi_logloss: 2.03421\n",
            "[142]\ttrain's multi_logloss: 1.35614\teval's multi_logloss: 2.03404\n",
            "[143]\ttrain's multi_logloss: 1.35396\teval's multi_logloss: 2.03373\n",
            "[144]\ttrain's multi_logloss: 1.3513\teval's multi_logloss: 2.03369\n",
            "[145]\ttrain's multi_logloss: 1.34827\teval's multi_logloss: 2.03326\n",
            "[146]\ttrain's multi_logloss: 1.34586\teval's multi_logloss: 2.03295\n",
            "[147]\ttrain's multi_logloss: 1.34289\teval's multi_logloss: 2.03253\n",
            "[148]\ttrain's multi_logloss: 1.34038\teval's multi_logloss: 2.03204\n",
            "[149]\ttrain's multi_logloss: 1.3379\teval's multi_logloss: 2.03196\n",
            "[150]\ttrain's multi_logloss: 1.33503\teval's multi_logloss: 2.03183\n",
            "[151]\ttrain's multi_logloss: 1.33234\teval's multi_logloss: 2.03134\n",
            "[152]\ttrain's multi_logloss: 1.32976\teval's multi_logloss: 2.03104\n",
            "[153]\ttrain's multi_logloss: 1.32758\teval's multi_logloss: 2.03075\n",
            "[154]\ttrain's multi_logloss: 1.32526\teval's multi_logloss: 2.03086\n",
            "[155]\ttrain's multi_logloss: 1.32311\teval's multi_logloss: 2.03073\n",
            "[156]\ttrain's multi_logloss: 1.32077\teval's multi_logloss: 2.03058\n",
            "[157]\ttrain's multi_logloss: 1.31818\teval's multi_logloss: 2.03042\n",
            "[158]\ttrain's multi_logloss: 1.31579\teval's multi_logloss: 2.03048\n",
            "[159]\ttrain's multi_logloss: 1.31363\teval's multi_logloss: 2.03027\n",
            "[160]\ttrain's multi_logloss: 1.31162\teval's multi_logloss: 2.03016\n",
            "[161]\ttrain's multi_logloss: 1.30939\teval's multi_logloss: 2.02995\n",
            "[162]\ttrain's multi_logloss: 1.30692\teval's multi_logloss: 2.02991\n",
            "[163]\ttrain's multi_logloss: 1.30406\teval's multi_logloss: 2.02975\n",
            "[164]\ttrain's multi_logloss: 1.30128\teval's multi_logloss: 2.02931\n",
            "[165]\ttrain's multi_logloss: 1.2993\teval's multi_logloss: 2.0294\n",
            "[166]\ttrain's multi_logloss: 1.29769\teval's multi_logloss: 2.02948\n",
            "[167]\ttrain's multi_logloss: 1.29574\teval's multi_logloss: 2.02953\n",
            "[168]\ttrain's multi_logloss: 1.29381\teval's multi_logloss: 2.02941\n",
            "[169]\ttrain's multi_logloss: 1.29124\teval's multi_logloss: 2.02926\n",
            "[170]\ttrain's multi_logloss: 1.28859\teval's multi_logloss: 2.02927\n",
            "[171]\ttrain's multi_logloss: 1.28646\teval's multi_logloss: 2.02885\n",
            "[172]\ttrain's multi_logloss: 1.28438\teval's multi_logloss: 2.02887\n",
            "[173]\ttrain's multi_logloss: 1.28232\teval's multi_logloss: 2.02855\n",
            "[174]\ttrain's multi_logloss: 1.28033\teval's multi_logloss: 2.02871\n",
            "[175]\ttrain's multi_logloss: 1.27838\teval's multi_logloss: 2.02846\n",
            "[176]\ttrain's multi_logloss: 1.2766\teval's multi_logloss: 2.02852\n",
            "[177]\ttrain's multi_logloss: 1.27413\teval's multi_logloss: 2.02823\n",
            "[178]\ttrain's multi_logloss: 1.27185\teval's multi_logloss: 2.02816\n",
            "[179]\ttrain's multi_logloss: 1.26988\teval's multi_logloss: 2.02816\n",
            "[180]\ttrain's multi_logloss: 1.26794\teval's multi_logloss: 2.02788\n",
            "[181]\ttrain's multi_logloss: 1.26582\teval's multi_logloss: 2.0274\n",
            "[182]\ttrain's multi_logloss: 1.26332\teval's multi_logloss: 2.02775\n",
            "[183]\ttrain's multi_logloss: 1.2612\teval's multi_logloss: 2.02756\n",
            "[184]\ttrain's multi_logloss: 1.25916\teval's multi_logloss: 2.02759\n",
            "[185]\ttrain's multi_logloss: 1.2574\teval's multi_logloss: 2.02739\n",
            "[186]\ttrain's multi_logloss: 1.25567\teval's multi_logloss: 2.02755\n",
            "[187]\ttrain's multi_logloss: 1.25357\teval's multi_logloss: 2.02777\n",
            "[188]\ttrain's multi_logloss: 1.2514\teval's multi_logloss: 2.02734\n",
            "[189]\ttrain's multi_logloss: 1.24913\teval's multi_logloss: 2.02709\n",
            "[190]\ttrain's multi_logloss: 1.247\teval's multi_logloss: 2.02694\n",
            "[191]\ttrain's multi_logloss: 1.24504\teval's multi_logloss: 2.02668\n",
            "[192]\ttrain's multi_logloss: 1.24337\teval's multi_logloss: 2.02662\n",
            "[193]\ttrain's multi_logloss: 1.24169\teval's multi_logloss: 2.02655\n",
            "[194]\ttrain's multi_logloss: 1.24003\teval's multi_logloss: 2.02635\n",
            "[195]\ttrain's multi_logloss: 1.2384\teval's multi_logloss: 2.02605\n",
            "[196]\ttrain's multi_logloss: 1.23633\teval's multi_logloss: 2.02608\n",
            "[197]\ttrain's multi_logloss: 1.23431\teval's multi_logloss: 2.02602\n",
            "[198]\ttrain's multi_logloss: 1.2319\teval's multi_logloss: 2.02595\n",
            "[199]\ttrain's multi_logloss: 1.23005\teval's multi_logloss: 2.02567\n",
            "[200]\ttrain's multi_logloss: 1.22855\teval's multi_logloss: 2.02542\n",
            "[201]\ttrain's multi_logloss: 1.22677\teval's multi_logloss: 2.02529\n",
            "[202]\ttrain's multi_logloss: 1.22486\teval's multi_logloss: 2.02508\n",
            "[203]\ttrain's multi_logloss: 1.22324\teval's multi_logloss: 2.02478\n",
            "[204]\ttrain's multi_logloss: 1.22127\teval's multi_logloss: 2.0247\n",
            "[205]\ttrain's multi_logloss: 1.21955\teval's multi_logloss: 2.02462\n",
            "[206]\ttrain's multi_logloss: 1.21754\teval's multi_logloss: 2.02467\n",
            "[207]\ttrain's multi_logloss: 1.21545\teval's multi_logloss: 2.02468\n",
            "[208]\ttrain's multi_logloss: 1.21369\teval's multi_logloss: 2.0247\n",
            "[209]\ttrain's multi_logloss: 1.21165\teval's multi_logloss: 2.02477\n",
            "[210]\ttrain's multi_logloss: 1.20987\teval's multi_logloss: 2.02447\n",
            "[211]\ttrain's multi_logloss: 1.20818\teval's multi_logloss: 2.02437\n",
            "[212]\ttrain's multi_logloss: 1.20631\teval's multi_logloss: 2.02468\n",
            "[213]\ttrain's multi_logloss: 1.20425\teval's multi_logloss: 2.02449\n",
            "[214]\ttrain's multi_logloss: 1.20263\teval's multi_logloss: 2.0242\n",
            "[215]\ttrain's multi_logloss: 1.20092\teval's multi_logloss: 2.02436\n",
            "[216]\ttrain's multi_logloss: 1.19918\teval's multi_logloss: 2.02434\n",
            "[217]\ttrain's multi_logloss: 1.19763\teval's multi_logloss: 2.02447\n",
            "[218]\ttrain's multi_logloss: 1.1958\teval's multi_logloss: 2.02427\n",
            "[219]\ttrain's multi_logloss: 1.19402\teval's multi_logloss: 2.02445\n",
            "[220]\ttrain's multi_logloss: 1.19218\teval's multi_logloss: 2.02443\n",
            "[221]\ttrain's multi_logloss: 1.19042\teval's multi_logloss: 2.02449\n",
            "[222]\ttrain's multi_logloss: 1.18849\teval's multi_logloss: 2.02449\n",
            "[223]\ttrain's multi_logloss: 1.18688\teval's multi_logloss: 2.02439\n",
            "[224]\ttrain's multi_logloss: 1.185\teval's multi_logloss: 2.0242\n",
            "[225]\ttrain's multi_logloss: 1.18295\teval's multi_logloss: 2.02437\n",
            "[226]\ttrain's multi_logloss: 1.18132\teval's multi_logloss: 2.02428\n",
            "[227]\ttrain's multi_logloss: 1.17969\teval's multi_logloss: 2.02446\n",
            "[228]\ttrain's multi_logloss: 1.17804\teval's multi_logloss: 2.02467\n",
            "[229]\ttrain's multi_logloss: 1.17615\teval's multi_logloss: 2.02445\n",
            "[230]\ttrain's multi_logloss: 1.17444\teval's multi_logloss: 2.02437\n",
            "[231]\ttrain's multi_logloss: 1.17261\teval's multi_logloss: 2.02428\n",
            "[232]\ttrain's multi_logloss: 1.17104\teval's multi_logloss: 2.02438\n",
            "[233]\ttrain's multi_logloss: 1.16933\teval's multi_logloss: 2.02434\n",
            "[234]\ttrain's multi_logloss: 1.16788\teval's multi_logloss: 2.02428\n",
            "[235]\ttrain's multi_logloss: 1.16589\teval's multi_logloss: 2.02416\n",
            "[236]\ttrain's multi_logloss: 1.16435\teval's multi_logloss: 2.02404\n",
            "[237]\ttrain's multi_logloss: 1.16226\teval's multi_logloss: 2.02401\n",
            "[238]\ttrain's multi_logloss: 1.1605\teval's multi_logloss: 2.02374\n",
            "[239]\ttrain's multi_logloss: 1.15896\teval's multi_logloss: 2.02362\n",
            "[240]\ttrain's multi_logloss: 1.1573\teval's multi_logloss: 2.02369\n",
            "[241]\ttrain's multi_logloss: 1.15571\teval's multi_logloss: 2.02354\n",
            "[242]\ttrain's multi_logloss: 1.15438\teval's multi_logloss: 2.02333\n",
            "[243]\ttrain's multi_logloss: 1.15273\teval's multi_logloss: 2.02334\n",
            "[244]\ttrain's multi_logloss: 1.15118\teval's multi_logloss: 2.02314\n",
            "[245]\ttrain's multi_logloss: 1.14984\teval's multi_logloss: 2.02319\n",
            "[246]\ttrain's multi_logloss: 1.14831\teval's multi_logloss: 2.02319\n",
            "[247]\ttrain's multi_logloss: 1.14673\teval's multi_logloss: 2.02329\n",
            "[248]\ttrain's multi_logloss: 1.14516\teval's multi_logloss: 2.02313\n",
            "[249]\ttrain's multi_logloss: 1.14354\teval's multi_logloss: 2.02308\n",
            "[250]\ttrain's multi_logloss: 1.14177\teval's multi_logloss: 2.02298\n",
            "[251]\ttrain's multi_logloss: 1.14024\teval's multi_logloss: 2.02286\n",
            "[252]\ttrain's multi_logloss: 1.13843\teval's multi_logloss: 2.02258\n",
            "[253]\ttrain's multi_logloss: 1.1368\teval's multi_logloss: 2.02229\n",
            "[254]\ttrain's multi_logloss: 1.13517\teval's multi_logloss: 2.0224\n",
            "[255]\ttrain's multi_logloss: 1.13344\teval's multi_logloss: 2.02235\n",
            "[256]\ttrain's multi_logloss: 1.13194\teval's multi_logloss: 2.0222\n",
            "[257]\ttrain's multi_logloss: 1.13059\teval's multi_logloss: 2.02207\n",
            "[258]\ttrain's multi_logloss: 1.12905\teval's multi_logloss: 2.02193\n",
            "[259]\ttrain's multi_logloss: 1.12757\teval's multi_logloss: 2.02169\n",
            "[260]\ttrain's multi_logloss: 1.12595\teval's multi_logloss: 2.0217\n",
            "[261]\ttrain's multi_logloss: 1.12436\teval's multi_logloss: 2.02151\n",
            "[262]\ttrain's multi_logloss: 1.12309\teval's multi_logloss: 2.02152\n",
            "[263]\ttrain's multi_logloss: 1.12162\teval's multi_logloss: 2.02167\n",
            "[264]\ttrain's multi_logloss: 1.12029\teval's multi_logloss: 2.02177\n",
            "[265]\ttrain's multi_logloss: 1.11907\teval's multi_logloss: 2.02168\n",
            "[266]\ttrain's multi_logloss: 1.11729\teval's multi_logloss: 2.02147\n",
            "[267]\ttrain's multi_logloss: 1.11584\teval's multi_logloss: 2.02174\n",
            "[268]\ttrain's multi_logloss: 1.11419\teval's multi_logloss: 2.02167\n",
            "[269]\ttrain's multi_logloss: 1.11266\teval's multi_logloss: 2.0216\n",
            "[270]\ttrain's multi_logloss: 1.11115\teval's multi_logloss: 2.02151\n",
            "[271]\ttrain's multi_logloss: 1.10971\teval's multi_logloss: 2.02139\n",
            "[272]\ttrain's multi_logloss: 1.10842\teval's multi_logloss: 2.02143\n",
            "[273]\ttrain's multi_logloss: 1.1069\teval's multi_logloss: 2.02152\n",
            "[274]\ttrain's multi_logloss: 1.10551\teval's multi_logloss: 2.02156\n",
            "[275]\ttrain's multi_logloss: 1.10393\teval's multi_logloss: 2.0215\n",
            "[276]\ttrain's multi_logloss: 1.10256\teval's multi_logloss: 2.02164\n",
            "[277]\ttrain's multi_logloss: 1.10138\teval's multi_logloss: 2.02175\n",
            "[278]\ttrain's multi_logloss: 1.09985\teval's multi_logloss: 2.02164\n",
            "[279]\ttrain's multi_logloss: 1.09853\teval's multi_logloss: 2.0217\n",
            "[280]\ttrain's multi_logloss: 1.09719\teval's multi_logloss: 2.02165\n",
            "[281]\ttrain's multi_logloss: 1.09577\teval's multi_logloss: 2.02172\n",
            "[282]\ttrain's multi_logloss: 1.09441\teval's multi_logloss: 2.02187\n",
            "[283]\ttrain's multi_logloss: 1.09271\teval's multi_logloss: 2.02167\n",
            "[284]\ttrain's multi_logloss: 1.09131\teval's multi_logloss: 2.0218\n",
            "[285]\ttrain's multi_logloss: 1.0897\teval's multi_logloss: 2.02148\n",
            "[286]\ttrain's multi_logloss: 1.0884\teval's multi_logloss: 2.0215\n",
            "[287]\ttrain's multi_logloss: 1.08692\teval's multi_logloss: 2.02133\n",
            "[288]\ttrain's multi_logloss: 1.08554\teval's multi_logloss: 2.02126\n",
            "[289]\ttrain's multi_logloss: 1.08428\teval's multi_logloss: 2.02114\n",
            "[290]\ttrain's multi_logloss: 1.08286\teval's multi_logloss: 2.02124\n",
            "[291]\ttrain's multi_logloss: 1.08125\teval's multi_logloss: 2.02106\n",
            "[292]\ttrain's multi_logloss: 1.07963\teval's multi_logloss: 2.02092\n",
            "[293]\ttrain's multi_logloss: 1.07829\teval's multi_logloss: 2.02087\n",
            "[294]\ttrain's multi_logloss: 1.07716\teval's multi_logloss: 2.02095\n",
            "[295]\ttrain's multi_logloss: 1.076\teval's multi_logloss: 2.02089\n",
            "[296]\ttrain's multi_logloss: 1.07455\teval's multi_logloss: 2.02111\n",
            "[297]\ttrain's multi_logloss: 1.07317\teval's multi_logloss: 2.02109\n",
            "[298]\ttrain's multi_logloss: 1.0721\teval's multi_logloss: 2.02114\n",
            "[299]\ttrain's multi_logloss: 1.07081\teval's multi_logloss: 2.02128\n",
            "[300]\ttrain's multi_logloss: 1.06959\teval's multi_logloss: 2.02132\n",
            "[301]\ttrain's multi_logloss: 1.06833\teval's multi_logloss: 2.02116\n",
            "[302]\ttrain's multi_logloss: 1.06709\teval's multi_logloss: 2.02129\n",
            "[303]\ttrain's multi_logloss: 1.06549\teval's multi_logloss: 2.02133\n",
            "[304]\ttrain's multi_logloss: 1.06416\teval's multi_logloss: 2.02142\n",
            "[305]\ttrain's multi_logloss: 1.06268\teval's multi_logloss: 2.02128\n",
            "[306]\ttrain's multi_logloss: 1.06127\teval's multi_logloss: 2.02111\n",
            "[307]\ttrain's multi_logloss: 1.05989\teval's multi_logloss: 2.02118\n",
            "[308]\ttrain's multi_logloss: 1.05847\teval's multi_logloss: 2.02125\n",
            "[309]\ttrain's multi_logloss: 1.0571\teval's multi_logloss: 2.02117\n",
            "[310]\ttrain's multi_logloss: 1.05553\teval's multi_logloss: 2.02112\n",
            "[311]\ttrain's multi_logloss: 1.05398\teval's multi_logloss: 2.02117\n",
            "[312]\ttrain's multi_logloss: 1.05275\teval's multi_logloss: 2.02116\n",
            "[313]\ttrain's multi_logloss: 1.05155\teval's multi_logloss: 2.02106\n",
            "[314]\ttrain's multi_logloss: 1.05043\teval's multi_logloss: 2.02102\n",
            "[315]\ttrain's multi_logloss: 1.04922\teval's multi_logloss: 2.02106\n",
            "[316]\ttrain's multi_logloss: 1.0479\teval's multi_logloss: 2.02109\n",
            "[317]\ttrain's multi_logloss: 1.04656\teval's multi_logloss: 2.02108\n",
            "[318]\ttrain's multi_logloss: 1.0453\teval's multi_logloss: 2.02108\n",
            "Early stopping, best iteration is:\n",
            "[293]\ttrain's multi_logloss: 1.07829\teval's multi_logloss: 2.02087\n"
          ],
          "name": "stdout"
        }
      ]
    },
    {
      "cell_type": "code",
      "metadata": {
        "colab_type": "code",
        "id": "8g04IIKoQhls",
        "colab": {
          "base_uri": "https://localhost:8080/",
          "height": 85
        },
        "outputId": "20745f52-d9a1-4b00-ddc7-5974edffb10f"
      },
      "source": [
        "print('--Predicting on the Train Data')\n",
        "totalPred = clf.predict(X_tr)\n",
        "llLGBEVTr = log_loss(y_train, totalPred)\n",
        "print('----Train Log Loss on the EVENT Data:', llLGBEVTr)\n",
        "print('--Predicting on the CV Data')\n",
        "totalPred = clf.predict(X_cr)\n",
        "llLGBEVCv = log_loss(y_cv, totalPred)\n",
        "print('----Cross Validation Log Loss on the EVENT Data:', llLGBEVCv)"
      ],
      "execution_count": null,
      "outputs": [
        {
          "output_type": "stream",
          "text": [
            "--Predicting on the Train Data\n",
            "----Train Log Loss on the EVENT Data: 1.0782876208447156\n",
            "--Predicting on the CV Data\n",
            "----Cross Validation Log Loss on the EVENT Data: 2.0208742503913975\n"
          ],
          "name": "stdout"
        }
      ]
    },
    {
      "cell_type": "markdown",
      "metadata": {
        "colab_type": "text",
        "id": "3jPl99lhOS7k"
      },
      "source": [
        "## 2.7 Neural Network Model"
      ]
    },
    {
      "cell_type": "code",
      "metadata": {
        "colab_type": "code",
        "id": "hKJ30KSzOS7k",
        "colab": {}
      },
      "source": [
        "#---------------------------------------------------------------\n",
        "# Defining CALLBACKS\n",
        "#---------------------------------------------------------------\n",
        "filepath = \"model_save/weights-{epoch:02d}-{val_accuracy:.04f}.hdf5\"\n",
        "checkPoint = ModelCheckpoint(filepath=filepath, monitor='val_accuracy', \n",
        "                             verbose=1, save_best_only=True, mode='auto')\n",
        "\n",
        "#logDir = 'logs'\n",
        "#tensorBoard_callback = TensorBoard(log_dir=logDir, histogram_freq=1, write_graph=True)\n",
        "\n",
        "earlyStop = EarlyStopping(monitor='val_loss', min_delta=0, patience=5, \n",
        "                          verbose=1, mode='auto', restore_best_weights=True)\n",
        "\n",
        "reduceLR = ReduceLROnPlateau(monitor='val_loss', factor=0.1, \n",
        "                             patience=3, verbose=1, mode='auto')\n",
        "callBacks = [reduceLR, earlyStop]"
      ],
      "execution_count": 87,
      "outputs": []
    },
    {
      "cell_type": "code",
      "metadata": {
        "colab_type": "code",
        "id": "-Oax22N0OS7l",
        "colab": {}
      },
      "source": [
        "os.environ['PYTHONHASHSEED'] = '0'\n",
        "tf.keras.backend.clear_session()"
      ],
      "execution_count": 88,
      "outputs": []
    },
    {
      "cell_type": "code",
      "metadata": {
        "colab_type": "code",
        "id": "78cLATnMOS7m",
        "colab": {}
      },
      "source": [
        "# REF - https://www.kaggle.com/c/talkingdata-mobile-user-demographics/discussion/23424\n",
        "def evModel(input_dim, output_dim):\n",
        "    model = Sequential()\n",
        "    model.add(Input(shape=(input_dim,)))\n",
        "    model.add(Dense(75, activation='tanh', kernel_initializer=tf.keras.initializers.GlorotNormal(seed=34)))\n",
        "    model.add(PReLU(alpha_initializer=\"zeros\"))\n",
        "    model.add(Dropout(0.3))\n",
        "    model.add(Dense(50, activation='tanh', kernel_initializer=tf.keras.initializers.GlorotNormal(seed=35)))\n",
        "    model.add(PReLU(alpha_initializer=\"zeros\"))\n",
        "    model.add(Dropout(0.2))\n",
        "    model.add(Dense(12, activation='softmax', kernel_initializer=tf.keras.initializers.GlorotNormal(seed=36)))\n",
        "\n",
        "    model.compile(loss='categorical_crossentropy', optimizer='adamax', metrics=['accuracy'])\n",
        "    \n",
        "    return model"
      ],
      "execution_count": 89,
      "outputs": []
    },
    {
      "cell_type": "code",
      "metadata": {
        "colab_type": "code",
        "id": "MNCGrBbLOS7n",
        "colab": {}
      },
      "source": [
        "eventModel = evModel(X_tr.shape[1], 12)\n",
        "eventModel.summary()"
      ],
      "execution_count": null,
      "outputs": []
    },
    {
      "cell_type": "code",
      "metadata": {
        "colab_type": "code",
        "id": "9Gy7GZp-OS7r",
        "colab": {}
      },
      "source": [
        "eventModel.fit(X_tr, y_train, batch_size=256, epochs=100, verbose=2, shuffle=True, validation_data=(X_cr, y_cv),callbacks=callBacks)"
      ],
      "execution_count": null,
      "outputs": []
    },
    {
      "cell_type": "code",
      "metadata": {
        "colab_type": "code",
        "id": "RL6pvCQRwOUq",
        "colab": {}
      },
      "source": [
        "def eventsModel(shuffle):\n",
        "    \"\"\"\n",
        "    Takes a list of Random Seeds, splits the data into Train and CV based on Seed, trains model and takes average of \n",
        "    predictions while testing  \n",
        "    \"\"\"\n",
        "    model_list=[]\n",
        "    loss_list=[]\n",
        "    avg_cv_loss=0\n",
        "    for i in range(len(shuffle)):\n",
        "        print('--Iteration #', i)\n",
        "        X_tr, X_cr, y_train, y_cv = train_test_split(Xev_tr, yev, stratify=yev, test_size=0.15, random_state=shuffle[i])\n",
        "        y_train=np_utils.to_categorical(y_train)\n",
        "        y_cv=np_utils.to_categorical(y_cv)\n",
        "        model=evModel(X_tr.shape[1], 12)\n",
        "        model.fit(X_tr, y_train, batch_size=256, epochs=100, verbose=2, shuffle=True, validation_data=(X_cr, y_cv),callbacks=callBacks)\n",
        "        model.save('saved_models/noEvents/nn '+str(i+1))\n",
        "        pred=model.predict(X_cr)\n",
        "        cv_loss=log_loss(y_cv, pred)\n",
        "        print(\"Validation Log Loss of  Model in Current Run: \", cv_loss)\n",
        "        model_list.append(model)\n",
        "        loss_list.append(cv_loss)\n",
        "        avg_cv_loss = mean(loss_list)\n",
        "        print(\"Average CV Loss of 6 Runs :\", avg_cv_loss)\n",
        "    return(model_list)"
      ],
      "execution_count": 90,
      "outputs": []
    },
    {
      "cell_type": "code",
      "metadata": {
        "colab_type": "code",
        "id": "z0PT2qntwZqg",
        "colab": {
          "base_uri": "https://localhost:8080/",
          "height": 1000
        },
        "outputId": "ae675515-53c8-4184-89c7-d8dda5c9b319"
      },
      "source": [
        "shuffle = [7, 14, 21, 28, 35, 42]\n",
        "nnEvModel = eventsModel(shuffle)"
      ],
      "execution_count": 91,
      "outputs": [
        {
          "output_type": "stream",
          "text": [
            "--Iteration # 0\n",
            "Epoch 1/100\n",
            "78/78 - 1s - loss: 2.4326 - accuracy: 0.1341 - val_loss: 2.3915 - val_accuracy: 0.1498\n",
            "Epoch 2/100\n",
            "78/78 - 1s - loss: 2.3967 - accuracy: 0.1480 - val_loss: 2.3718 - val_accuracy: 0.1533\n",
            "Epoch 3/100\n",
            "78/78 - 1s - loss: 2.3755 - accuracy: 0.1616 - val_loss: 2.3477 - val_accuracy: 0.1756\n",
            "Epoch 4/100\n",
            "78/78 - 1s - loss: 2.3476 - accuracy: 0.1716 - val_loss: 2.3217 - val_accuracy: 0.1864\n",
            "Epoch 5/100\n",
            "78/78 - 1s - loss: 2.3167 - accuracy: 0.1898 - val_loss: 2.2890 - val_accuracy: 0.1925\n",
            "Epoch 6/100\n",
            "78/78 - 1s - loss: 2.2857 - accuracy: 0.1973 - val_loss: 2.2645 - val_accuracy: 0.2039\n",
            "Epoch 7/100\n",
            "78/78 - 1s - loss: 2.2600 - accuracy: 0.2076 - val_loss: 2.2372 - val_accuracy: 0.2096\n",
            "Epoch 8/100\n",
            "78/78 - 1s - loss: 2.2304 - accuracy: 0.2183 - val_loss: 2.2135 - val_accuracy: 0.2282\n",
            "Epoch 9/100\n",
            "78/78 - 1s - loss: 2.2059 - accuracy: 0.2294 - val_loss: 2.1872 - val_accuracy: 0.2411\n",
            "Epoch 10/100\n",
            "78/78 - 1s - loss: 2.1764 - accuracy: 0.2455 - val_loss: 2.1644 - val_accuracy: 0.2413\n",
            "Epoch 11/100\n",
            "78/78 - 1s - loss: 2.1478 - accuracy: 0.2502 - val_loss: 2.1432 - val_accuracy: 0.2576\n",
            "Epoch 12/100\n",
            "78/78 - 1s - loss: 2.1204 - accuracy: 0.2651 - val_loss: 2.1204 - val_accuracy: 0.2637\n",
            "Epoch 13/100\n",
            "78/78 - 1s - loss: 2.0923 - accuracy: 0.2786 - val_loss: 2.1030 - val_accuracy: 0.2648\n",
            "Epoch 14/100\n",
            "78/78 - 1s - loss: 2.0661 - accuracy: 0.2875 - val_loss: 2.0927 - val_accuracy: 0.2634\n",
            "Epoch 15/100\n",
            "78/78 - 1s - loss: 2.0456 - accuracy: 0.2900 - val_loss: 2.0780 - val_accuracy: 0.2622\n",
            "Epoch 16/100\n",
            "78/78 - 1s - loss: 2.0267 - accuracy: 0.3029 - val_loss: 2.0581 - val_accuracy: 0.2808\n",
            "Epoch 17/100\n",
            "78/78 - 1s - loss: 2.0030 - accuracy: 0.3102 - val_loss: 2.0488 - val_accuracy: 0.2840\n",
            "Epoch 18/100\n",
            "78/78 - 1s - loss: 1.9805 - accuracy: 0.3124 - val_loss: 2.0334 - val_accuracy: 0.2871\n",
            "Epoch 19/100\n",
            "78/78 - 1s - loss: 1.9670 - accuracy: 0.3221 - val_loss: 2.0306 - val_accuracy: 0.2857\n",
            "Epoch 20/100\n",
            "78/78 - 1s - loss: 1.9571 - accuracy: 0.3227 - val_loss: 2.0219 - val_accuracy: 0.2925\n",
            "Epoch 21/100\n",
            "78/78 - 1s - loss: 1.9308 - accuracy: 0.3340 - val_loss: 2.0217 - val_accuracy: 0.2948\n",
            "Epoch 22/100\n",
            "78/78 - 1s - loss: 1.9178 - accuracy: 0.3360 - val_loss: 2.0122 - val_accuracy: 0.2902\n",
            "Epoch 23/100\n",
            "78/78 - 1s - loss: 1.9061 - accuracy: 0.3433 - val_loss: 2.0137 - val_accuracy: 0.2860\n",
            "Epoch 24/100\n",
            "78/78 - 1s - loss: 1.8830 - accuracy: 0.3485 - val_loss: 2.0074 - val_accuracy: 0.2997\n",
            "Epoch 25/100\n",
            "78/78 - 1s - loss: 1.8734 - accuracy: 0.3549 - val_loss: 2.0303 - val_accuracy: 0.2842\n",
            "Epoch 26/100\n",
            "78/78 - 1s - loss: 1.8625 - accuracy: 0.3555 - val_loss: 2.0049 - val_accuracy: 0.2931\n",
            "Epoch 27/100\n",
            "78/78 - 1s - loss: 1.8528 - accuracy: 0.3602 - val_loss: 2.0099 - val_accuracy: 0.2960\n",
            "Epoch 28/100\n",
            "78/78 - 1s - loss: 1.8362 - accuracy: 0.3689 - val_loss: 2.0072 - val_accuracy: 0.3011\n",
            "Epoch 29/100\n",
            "\n",
            "Epoch 00029: ReduceLROnPlateau reducing learning rate to 0.00010000000474974513.\n",
            "78/78 - 1s - loss: 1.8178 - accuracy: 0.3706 - val_loss: 2.0055 - val_accuracy: 0.2994\n",
            "Epoch 30/100\n",
            "78/78 - 1s - loss: 1.7897 - accuracy: 0.3816 - val_loss: 1.9953 - val_accuracy: 0.2991\n",
            "Epoch 31/100\n",
            "78/78 - 1s - loss: 1.7778 - accuracy: 0.3873 - val_loss: 1.9936 - val_accuracy: 0.3017\n",
            "Epoch 32/100\n",
            "78/78 - 1s - loss: 1.7710 - accuracy: 0.3888 - val_loss: 1.9939 - val_accuracy: 0.3003\n",
            "Epoch 33/100\n",
            "78/78 - 1s - loss: 1.7716 - accuracy: 0.3914 - val_loss: 1.9931 - val_accuracy: 0.2994\n",
            "Epoch 34/100\n",
            "78/78 - 1s - loss: 1.7676 - accuracy: 0.3892 - val_loss: 1.9937 - val_accuracy: 0.3017\n",
            "Epoch 35/100\n",
            "78/78 - 1s - loss: 1.7684 - accuracy: 0.3920 - val_loss: 1.9929 - val_accuracy: 0.3043\n",
            "Epoch 36/100\n",
            "78/78 - 1s - loss: 1.7660 - accuracy: 0.3946 - val_loss: 1.9909 - val_accuracy: 0.3020\n",
            "Epoch 37/100\n",
            "78/78 - 1s - loss: 1.7623 - accuracy: 0.3927 - val_loss: 1.9912 - val_accuracy: 0.2971\n",
            "Epoch 38/100\n",
            "78/78 - 1s - loss: 1.7582 - accuracy: 0.3960 - val_loss: 1.9912 - val_accuracy: 0.3025\n",
            "Epoch 39/100\n",
            "\n",
            "Epoch 00039: ReduceLROnPlateau reducing learning rate to 1.0000000474974514e-05.\n",
            "78/78 - 1s - loss: 1.7558 - accuracy: 0.3930 - val_loss: 1.9918 - val_accuracy: 0.3023\n",
            "Epoch 40/100\n",
            "78/78 - 1s - loss: 1.7520 - accuracy: 0.3945 - val_loss: 1.9910 - val_accuracy: 0.3034\n",
            "Epoch 41/100\n",
            "78/78 - 1s - loss: 1.7543 - accuracy: 0.3961 - val_loss: 1.9909 - val_accuracy: 0.3048\n",
            "Epoch 42/100\n",
            "78/78 - 1s - loss: 1.7547 - accuracy: 0.3970 - val_loss: 1.9907 - val_accuracy: 0.3057\n",
            "Epoch 43/100\n",
            "78/78 - 1s - loss: 1.7514 - accuracy: 0.3983 - val_loss: 1.9907 - val_accuracy: 0.3068\n",
            "Epoch 44/100\n",
            "78/78 - 1s - loss: 1.7512 - accuracy: 0.3938 - val_loss: 1.9906 - val_accuracy: 0.3060\n",
            "Epoch 45/100\n",
            "\n",
            "Epoch 00045: ReduceLROnPlateau reducing learning rate to 1.0000000656873453e-06.\n",
            "78/78 - 1s - loss: 1.7479 - accuracy: 0.4004 - val_loss: 1.9907 - val_accuracy: 0.3063\n",
            "Epoch 46/100\n",
            "78/78 - 1s - loss: 1.7457 - accuracy: 0.4019 - val_loss: 1.9907 - val_accuracy: 0.3060\n",
            "Epoch 47/100\n",
            "78/78 - 1s - loss: 1.7565 - accuracy: 0.3933 - val_loss: 1.9907 - val_accuracy: 0.3060\n",
            "Epoch 48/100\n",
            "\n",
            "Epoch 00048: ReduceLROnPlateau reducing learning rate to 1.0000001111620805e-07.\n",
            "78/78 - 1s - loss: 1.7492 - accuracy: 0.3998 - val_loss: 1.9907 - val_accuracy: 0.3057\n",
            "Epoch 49/100\n",
            "Restoring model weights from the end of the best epoch.\n",
            "78/78 - 1s - loss: 1.7527 - accuracy: 0.3950 - val_loss: 1.9907 - val_accuracy: 0.3057\n",
            "Epoch 00049: early stopping\n",
            "WARNING:tensorflow:From /usr/local/lib/python3.6/dist-packages/tensorflow/python/training/tracking/tracking.py:111: Model.state_updates (from tensorflow.python.keras.engine.training) is deprecated and will be removed in a future version.\n",
            "Instructions for updating:\n",
            "This property should not be used in TensorFlow 2.0, as updates are applied automatically.\n",
            "WARNING:tensorflow:From /usr/local/lib/python3.6/dist-packages/tensorflow/python/training/tracking/tracking.py:111: Layer.updates (from tensorflow.python.keras.engine.base_layer) is deprecated and will be removed in a future version.\n",
            "Instructions for updating:\n",
            "This property should not be used in TensorFlow 2.0, as updates are applied automatically.\n",
            "INFO:tensorflow:Assets written to: saved_models/noEvents/nn 1/assets\n",
            "Validation Log Loss of  Model in Current Run:  1.9906023938868227\n",
            "Average CV Loss of 6 Runs : 1.9906023938868227\n",
            "--Iteration # 1\n",
            "Epoch 1/100\n",
            "78/78 - 1s - loss: 2.4322 - accuracy: 0.1328 - val_loss: 2.3925 - val_accuracy: 0.1553\n",
            "Epoch 2/100\n",
            "78/78 - 1s - loss: 2.3968 - accuracy: 0.1507 - val_loss: 2.3739 - val_accuracy: 0.1607\n",
            "Epoch 3/100\n",
            "78/78 - 1s - loss: 2.3744 - accuracy: 0.1636 - val_loss: 2.3527 - val_accuracy: 0.1733\n",
            "Epoch 4/100\n",
            "78/78 - 1s - loss: 2.3463 - accuracy: 0.1744 - val_loss: 2.3273 - val_accuracy: 0.1793\n",
            "Epoch 5/100\n",
            "78/78 - 1s - loss: 2.3246 - accuracy: 0.1870 - val_loss: 2.3037 - val_accuracy: 0.1925\n",
            "Epoch 6/100\n",
            "78/78 - 1s - loss: 2.2968 - accuracy: 0.1918 - val_loss: 2.2769 - val_accuracy: 0.2005\n",
            "Epoch 7/100\n",
            "78/78 - 1s - loss: 2.2681 - accuracy: 0.2080 - val_loss: 2.2503 - val_accuracy: 0.2079\n",
            "Epoch 8/100\n",
            "78/78 - 1s - loss: 2.2407 - accuracy: 0.2200 - val_loss: 2.2227 - val_accuracy: 0.2210\n",
            "Epoch 9/100\n",
            "78/78 - 1s - loss: 2.2131 - accuracy: 0.2313 - val_loss: 2.1983 - val_accuracy: 0.2431\n",
            "Epoch 10/100\n",
            "78/78 - 1s - loss: 2.1852 - accuracy: 0.2389 - val_loss: 2.1782 - val_accuracy: 0.2425\n",
            "Epoch 11/100\n",
            "78/78 - 1s - loss: 2.1623 - accuracy: 0.2461 - val_loss: 2.1537 - val_accuracy: 0.2531\n",
            "Epoch 12/100\n",
            "78/78 - 1s - loss: 2.1307 - accuracy: 0.2608 - val_loss: 2.1324 - val_accuracy: 0.2556\n",
            "Epoch 13/100\n",
            "78/78 - 1s - loss: 2.1013 - accuracy: 0.2733 - val_loss: 2.1138 - val_accuracy: 0.2671\n",
            "Epoch 14/100\n",
            "78/78 - 1s - loss: 2.0836 - accuracy: 0.2775 - val_loss: 2.0968 - val_accuracy: 0.2668\n",
            "Epoch 15/100\n",
            "78/78 - 1s - loss: 2.0574 - accuracy: 0.2860 - val_loss: 2.0776 - val_accuracy: 0.2774\n",
            "Epoch 16/100\n",
            "78/78 - 1s - loss: 2.0393 - accuracy: 0.2957 - val_loss: 2.0743 - val_accuracy: 0.2742\n",
            "Epoch 17/100\n",
            "78/78 - 1s - loss: 2.0123 - accuracy: 0.3065 - val_loss: 2.0539 - val_accuracy: 0.2805\n",
            "Epoch 18/100\n",
            "78/78 - 1s - loss: 1.9885 - accuracy: 0.3106 - val_loss: 2.0449 - val_accuracy: 0.2848\n",
            "Epoch 19/100\n",
            "78/78 - 1s - loss: 1.9800 - accuracy: 0.3148 - val_loss: 2.0346 - val_accuracy: 0.2888\n",
            "Epoch 20/100\n",
            "78/78 - 1s - loss: 1.9597 - accuracy: 0.3173 - val_loss: 2.0327 - val_accuracy: 0.2897\n",
            "Epoch 21/100\n",
            "78/78 - 1s - loss: 1.9409 - accuracy: 0.3265 - val_loss: 2.0240 - val_accuracy: 0.2943\n",
            "Epoch 22/100\n",
            "78/78 - 1s - loss: 1.9256 - accuracy: 0.3345 - val_loss: 2.0228 - val_accuracy: 0.2908\n",
            "Epoch 23/100\n",
            "78/78 - 1s - loss: 1.9050 - accuracy: 0.3422 - val_loss: 2.0222 - val_accuracy: 0.2897\n",
            "Epoch 24/100\n",
            "78/78 - 1s - loss: 1.8923 - accuracy: 0.3436 - val_loss: 2.0163 - val_accuracy: 0.2974\n",
            "Epoch 25/100\n",
            "78/78 - 1s - loss: 1.8836 - accuracy: 0.3509 - val_loss: 2.0092 - val_accuracy: 0.3008\n",
            "Epoch 26/100\n",
            "78/78 - 1s - loss: 1.8646 - accuracy: 0.3557 - val_loss: 2.0158 - val_accuracy: 0.2908\n",
            "Epoch 27/100\n",
            "78/78 - 1s - loss: 1.8470 - accuracy: 0.3613 - val_loss: 2.0174 - val_accuracy: 0.2985\n",
            "Epoch 28/100\n",
            "78/78 - 1s - loss: 1.8340 - accuracy: 0.3721 - val_loss: 2.0064 - val_accuracy: 0.3017\n",
            "Epoch 29/100\n",
            "78/78 - 1s - loss: 1.8254 - accuracy: 0.3661 - val_loss: 2.0133 - val_accuracy: 0.3020\n",
            "Epoch 30/100\n",
            "78/78 - 1s - loss: 1.8057 - accuracy: 0.3750 - val_loss: 2.0166 - val_accuracy: 0.2931\n",
            "Epoch 31/100\n",
            "\n",
            "Epoch 00031: ReduceLROnPlateau reducing learning rate to 0.00010000000474974513.\n",
            "78/78 - 1s - loss: 1.7931 - accuracy: 0.3790 - val_loss: 2.0114 - val_accuracy: 0.3045\n",
            "Epoch 32/100\n",
            "78/78 - 1s - loss: 1.7645 - accuracy: 0.3917 - val_loss: 2.0008 - val_accuracy: 0.3025\n",
            "Epoch 33/100\n",
            "78/78 - 1s - loss: 1.7510 - accuracy: 0.3992 - val_loss: 1.9991 - val_accuracy: 0.3065\n",
            "Epoch 34/100\n",
            "78/78 - 1s - loss: 1.7502 - accuracy: 0.3950 - val_loss: 1.9987 - val_accuracy: 0.3008\n",
            "Epoch 35/100\n",
            "78/78 - 1s - loss: 1.7424 - accuracy: 0.4003 - val_loss: 1.9996 - val_accuracy: 0.2994\n",
            "Epoch 36/100\n",
            "78/78 - 1s - loss: 1.7394 - accuracy: 0.4036 - val_loss: 1.9990 - val_accuracy: 0.3000\n",
            "Epoch 37/100\n",
            "78/78 - 1s - loss: 1.7401 - accuracy: 0.4004 - val_loss: 1.9986 - val_accuracy: 0.3014\n",
            "Epoch 38/100\n",
            "78/78 - 1s - loss: 1.7370 - accuracy: 0.3993 - val_loss: 1.9981 - val_accuracy: 0.2980\n",
            "Epoch 39/100\n",
            "78/78 - 1s - loss: 1.7364 - accuracy: 0.4009 - val_loss: 2.0002 - val_accuracy: 0.3011\n",
            "Epoch 40/100\n",
            "78/78 - 1s - loss: 1.7366 - accuracy: 0.4017 - val_loss: 1.9995 - val_accuracy: 0.2994\n",
            "Epoch 41/100\n",
            "\n",
            "Epoch 00041: ReduceLROnPlateau reducing learning rate to 1.0000000474974514e-05.\n",
            "78/78 - 1s - loss: 1.7326 - accuracy: 0.4067 - val_loss: 2.0011 - val_accuracy: 0.3037\n",
            "Epoch 42/100\n",
            "78/78 - 1s - loss: 1.7220 - accuracy: 0.4066 - val_loss: 1.9983 - val_accuracy: 0.3011\n",
            "Epoch 43/100\n",
            "Restoring model weights from the end of the best epoch.\n",
            "78/78 - 1s - loss: 1.7247 - accuracy: 0.4081 - val_loss: 1.9984 - val_accuracy: 0.3011\n",
            "Epoch 00043: early stopping\n",
            "INFO:tensorflow:Assets written to: saved_models/noEvents/nn 2/assets\n",
            "Validation Log Loss of  Model in Current Run:  1.9980571570014967\n",
            "Average CV Loss of 6 Runs : 1.9943297754441596\n",
            "--Iteration # 2\n",
            "Epoch 1/100\n",
            "78/78 - 1s - loss: 2.4301 - accuracy: 0.1367 - val_loss: 2.3884 - val_accuracy: 0.1490\n",
            "Epoch 2/100\n",
            "78/78 - 1s - loss: 2.3965 - accuracy: 0.1525 - val_loss: 2.3677 - val_accuracy: 0.1550\n",
            "Epoch 3/100\n",
            "78/78 - 1s - loss: 2.3742 - accuracy: 0.1656 - val_loss: 2.3457 - val_accuracy: 0.1741\n",
            "Epoch 4/100\n",
            "78/78 - 1s - loss: 2.3458 - accuracy: 0.1739 - val_loss: 2.3204 - val_accuracy: 0.1853\n",
            "Epoch 5/100\n",
            "78/78 - 1s - loss: 2.3188 - accuracy: 0.1899 - val_loss: 2.2913 - val_accuracy: 0.1913\n",
            "Epoch 6/100\n",
            "78/78 - 1s - loss: 2.2911 - accuracy: 0.1960 - val_loss: 2.2617 - val_accuracy: 0.1996\n",
            "Epoch 7/100\n",
            "78/78 - 1s - loss: 2.2568 - accuracy: 0.2143 - val_loss: 2.2345 - val_accuracy: 0.2113\n",
            "Epoch 8/100\n",
            "78/78 - 1s - loss: 2.2325 - accuracy: 0.2227 - val_loss: 2.2092 - val_accuracy: 0.2233\n",
            "Epoch 9/100\n",
            "78/78 - 1s - loss: 2.2051 - accuracy: 0.2363 - val_loss: 2.1874 - val_accuracy: 0.2362\n",
            "Epoch 10/100\n",
            "78/78 - 1s - loss: 2.1743 - accuracy: 0.2466 - val_loss: 2.1608 - val_accuracy: 0.2491\n",
            "Epoch 11/100\n",
            "78/78 - 1s - loss: 2.1481 - accuracy: 0.2580 - val_loss: 2.1376 - val_accuracy: 0.2516\n",
            "Epoch 12/100\n",
            "78/78 - 1s - loss: 2.1196 - accuracy: 0.2626 - val_loss: 2.1201 - val_accuracy: 0.2659\n",
            "Epoch 13/100\n",
            "78/78 - 1s - loss: 2.0900 - accuracy: 0.2746 - val_loss: 2.0994 - val_accuracy: 0.2691\n",
            "Epoch 14/100\n",
            "78/78 - 1s - loss: 2.0672 - accuracy: 0.2848 - val_loss: 2.0823 - val_accuracy: 0.2765\n",
            "Epoch 15/100\n",
            "78/78 - 1s - loss: 2.0436 - accuracy: 0.2918 - val_loss: 2.0739 - val_accuracy: 0.2768\n",
            "Epoch 16/100\n",
            "78/78 - 1s - loss: 2.0267 - accuracy: 0.2983 - val_loss: 2.0601 - val_accuracy: 0.2825\n",
            "Epoch 17/100\n",
            "78/78 - 1s - loss: 2.0014 - accuracy: 0.3036 - val_loss: 2.0525 - val_accuracy: 0.2860\n",
            "Epoch 18/100\n",
            "78/78 - 1s - loss: 1.9855 - accuracy: 0.3074 - val_loss: 2.0521 - val_accuracy: 0.2931\n",
            "Epoch 19/100\n",
            "78/78 - 1s - loss: 1.9677 - accuracy: 0.3168 - val_loss: 2.0404 - val_accuracy: 0.2943\n",
            "Epoch 20/100\n",
            "78/78 - 1s - loss: 1.9496 - accuracy: 0.3234 - val_loss: 2.0276 - val_accuracy: 0.2934\n",
            "Epoch 21/100\n",
            "78/78 - 1s - loss: 1.9362 - accuracy: 0.3270 - val_loss: 2.0430 - val_accuracy: 0.2945\n",
            "Epoch 22/100\n",
            "78/78 - 1s - loss: 1.9128 - accuracy: 0.3349 - val_loss: 2.0292 - val_accuracy: 0.2954\n",
            "Epoch 23/100\n",
            "78/78 - 1s - loss: 1.9035 - accuracy: 0.3372 - val_loss: 2.0246 - val_accuracy: 0.2931\n",
            "Epoch 24/100\n",
            "78/78 - 1s - loss: 1.8947 - accuracy: 0.3433 - val_loss: 2.0175 - val_accuracy: 0.2945\n",
            "Epoch 25/100\n",
            "78/78 - 1s - loss: 1.8710 - accuracy: 0.3492 - val_loss: 2.0081 - val_accuracy: 0.3031\n",
            "Epoch 26/100\n",
            "78/78 - 1s - loss: 1.8561 - accuracy: 0.3581 - val_loss: 2.0072 - val_accuracy: 0.2971\n",
            "Epoch 27/100\n",
            "78/78 - 1s - loss: 1.8417 - accuracy: 0.3618 - val_loss: 2.0122 - val_accuracy: 0.2994\n",
            "Epoch 28/100\n",
            "78/78 - 1s - loss: 1.8408 - accuracy: 0.3628 - val_loss: 2.0310 - val_accuracy: 0.2963\n",
            "Epoch 29/100\n",
            "\n",
            "Epoch 00029: ReduceLROnPlateau reducing learning rate to 0.00010000000474974513.\n",
            "78/78 - 1s - loss: 1.8200 - accuracy: 0.3666 - val_loss: 2.0173 - val_accuracy: 0.2997\n",
            "Epoch 30/100\n",
            "78/78 - 1s - loss: 1.7879 - accuracy: 0.3811 - val_loss: 2.0020 - val_accuracy: 0.2991\n",
            "Epoch 31/100\n",
            "78/78 - 1s - loss: 1.7767 - accuracy: 0.3871 - val_loss: 2.0017 - val_accuracy: 0.3011\n",
            "Epoch 32/100\n",
            "78/78 - 1s - loss: 1.7779 - accuracy: 0.3839 - val_loss: 2.0031 - val_accuracy: 0.3034\n",
            "Epoch 33/100\n",
            "78/78 - 1s - loss: 1.7690 - accuracy: 0.3892 - val_loss: 2.0014 - val_accuracy: 0.2997\n",
            "Epoch 34/100\n",
            "78/78 - 1s - loss: 1.7685 - accuracy: 0.3859 - val_loss: 2.0004 - val_accuracy: 0.2988\n",
            "Epoch 35/100\n",
            "78/78 - 1s - loss: 1.7658 - accuracy: 0.3860 - val_loss: 2.0001 - val_accuracy: 0.3031\n",
            "Epoch 36/100\n",
            "78/78 - 1s - loss: 1.7665 - accuracy: 0.3899 - val_loss: 2.0000 - val_accuracy: 0.2997\n",
            "Epoch 37/100\n",
            "78/78 - 1s - loss: 1.7632 - accuracy: 0.3875 - val_loss: 1.9999 - val_accuracy: 0.3023\n",
            "Epoch 38/100\n",
            "78/78 - 1s - loss: 1.7627 - accuracy: 0.3902 - val_loss: 1.9992 - val_accuracy: 0.2994\n",
            "Epoch 39/100\n",
            "78/78 - 1s - loss: 1.7557 - accuracy: 0.3935 - val_loss: 2.0000 - val_accuracy: 0.2997\n",
            "Epoch 40/100\n",
            "78/78 - 1s - loss: 1.7558 - accuracy: 0.3911 - val_loss: 1.9997 - val_accuracy: 0.3043\n",
            "Epoch 41/100\n",
            "78/78 - 1s - loss: 1.7538 - accuracy: 0.3942 - val_loss: 1.9980 - val_accuracy: 0.3011\n",
            "Epoch 42/100\n",
            "78/78 - 1s - loss: 1.7536 - accuracy: 0.3942 - val_loss: 1.9998 - val_accuracy: 0.3014\n",
            "Epoch 43/100\n",
            "78/78 - 1s - loss: 1.7531 - accuracy: 0.3927 - val_loss: 1.9982 - val_accuracy: 0.3005\n",
            "Epoch 44/100\n",
            "78/78 - 1s - loss: 1.7469 - accuracy: 0.3973 - val_loss: 1.9976 - val_accuracy: 0.3008\n",
            "Epoch 45/100\n",
            "78/78 - 1s - loss: 1.7436 - accuracy: 0.3970 - val_loss: 1.9983 - val_accuracy: 0.3011\n",
            "Epoch 46/100\n",
            "78/78 - 1s - loss: 1.7401 - accuracy: 0.3983 - val_loss: 1.9983 - val_accuracy: 0.3014\n",
            "Epoch 47/100\n",
            "\n",
            "Epoch 00047: ReduceLROnPlateau reducing learning rate to 1.0000000474974514e-05.\n",
            "78/78 - 1s - loss: 1.7361 - accuracy: 0.3987 - val_loss: 1.9999 - val_accuracy: 0.2991\n",
            "Epoch 48/100\n",
            "78/78 - 1s - loss: 1.7372 - accuracy: 0.3981 - val_loss: 1.9989 - val_accuracy: 0.2997\n",
            "Epoch 49/100\n",
            "Restoring model weights from the end of the best epoch.\n",
            "78/78 - 1s - loss: 1.7356 - accuracy: 0.3997 - val_loss: 1.9988 - val_accuracy: 0.3000\n",
            "Epoch 00049: early stopping\n",
            "INFO:tensorflow:Assets written to: saved_models/noEvents/nn 3/assets\n",
            "Validation Log Loss of  Model in Current Run:  1.997554276282357\n",
            "Average CV Loss of 6 Runs : 1.9954046090568922\n",
            "--Iteration # 3\n",
            "Epoch 1/100\n",
            "78/78 - 1s - loss: 2.4318 - accuracy: 0.1349 - val_loss: 2.3943 - val_accuracy: 0.1536\n",
            "Epoch 2/100\n",
            "78/78 - 1s - loss: 2.3946 - accuracy: 0.1512 - val_loss: 2.3713 - val_accuracy: 0.1613\n",
            "Epoch 3/100\n",
            "78/78 - 1s - loss: 2.3678 - accuracy: 0.1660 - val_loss: 2.3474 - val_accuracy: 0.1696\n",
            "Epoch 4/100\n",
            "78/78 - 1s - loss: 2.3397 - accuracy: 0.1781 - val_loss: 2.3184 - val_accuracy: 0.1867\n",
            "Epoch 5/100\n",
            "78/78 - 1s - loss: 2.3106 - accuracy: 0.1935 - val_loss: 2.2941 - val_accuracy: 0.1936\n",
            "Epoch 6/100\n",
            "78/78 - 1s - loss: 2.2833 - accuracy: 0.2025 - val_loss: 2.2720 - val_accuracy: 0.1962\n",
            "Epoch 7/100\n",
            "78/78 - 1s - loss: 2.2560 - accuracy: 0.2116 - val_loss: 2.2459 - val_accuracy: 0.2105\n",
            "Epoch 8/100\n",
            "78/78 - 1s - loss: 2.2232 - accuracy: 0.2219 - val_loss: 2.2208 - val_accuracy: 0.2219\n",
            "Epoch 9/100\n",
            "78/78 - 1s - loss: 2.2011 - accuracy: 0.2332 - val_loss: 2.1989 - val_accuracy: 0.2271\n",
            "Epoch 10/100\n",
            "78/78 - 1s - loss: 2.1704 - accuracy: 0.2474 - val_loss: 2.1738 - val_accuracy: 0.2445\n",
            "Epoch 11/100\n",
            "78/78 - 1s - loss: 2.1402 - accuracy: 0.2583 - val_loss: 2.1517 - val_accuracy: 0.2554\n",
            "Epoch 12/100\n",
            "78/78 - 1s - loss: 2.1186 - accuracy: 0.2633 - val_loss: 2.1445 - val_accuracy: 0.2482\n",
            "Epoch 13/100\n",
            "78/78 - 1s - loss: 2.0883 - accuracy: 0.2754 - val_loss: 2.1196 - val_accuracy: 0.2579\n",
            "Epoch 14/100\n",
            "78/78 - 1s - loss: 2.0666 - accuracy: 0.2846 - val_loss: 2.0950 - val_accuracy: 0.2677\n",
            "Epoch 15/100\n",
            "78/78 - 1s - loss: 2.0434 - accuracy: 0.2918 - val_loss: 2.0928 - val_accuracy: 0.2671\n",
            "Epoch 16/100\n",
            "78/78 - 1s - loss: 2.0216 - accuracy: 0.2987 - val_loss: 2.0742 - val_accuracy: 0.2702\n",
            "Epoch 17/100\n",
            "78/78 - 1s - loss: 1.9997 - accuracy: 0.3044 - val_loss: 2.0624 - val_accuracy: 0.2797\n",
            "Epoch 18/100\n",
            "78/78 - 1s - loss: 1.9805 - accuracy: 0.3097 - val_loss: 2.0558 - val_accuracy: 0.2782\n",
            "Epoch 19/100\n",
            "78/78 - 1s - loss: 1.9679 - accuracy: 0.3190 - val_loss: 2.0487 - val_accuracy: 0.2817\n",
            "Epoch 20/100\n",
            "78/78 - 1s - loss: 1.9498 - accuracy: 0.3260 - val_loss: 2.0429 - val_accuracy: 0.2820\n",
            "Epoch 21/100\n",
            "78/78 - 1s - loss: 1.9293 - accuracy: 0.3291 - val_loss: 2.0395 - val_accuracy: 0.2897\n",
            "Epoch 22/100\n",
            "78/78 - 1s - loss: 1.9188 - accuracy: 0.3341 - val_loss: 2.0347 - val_accuracy: 0.2871\n",
            "Epoch 23/100\n",
            "78/78 - 1s - loss: 1.9000 - accuracy: 0.3366 - val_loss: 2.0282 - val_accuracy: 0.2928\n",
            "Epoch 24/100\n",
            "78/78 - 1s - loss: 1.8847 - accuracy: 0.3456 - val_loss: 2.0292 - val_accuracy: 0.2842\n",
            "Epoch 25/100\n",
            "78/78 - 1s - loss: 1.8719 - accuracy: 0.3526 - val_loss: 2.0321 - val_accuracy: 0.2902\n",
            "Epoch 26/100\n",
            "\n",
            "Epoch 00026: ReduceLROnPlateau reducing learning rate to 0.00010000000474974513.\n",
            "78/78 - 1s - loss: 1.8541 - accuracy: 0.3591 - val_loss: 2.0317 - val_accuracy: 0.2920\n",
            "Epoch 27/100\n",
            "78/78 - 1s - loss: 1.8304 - accuracy: 0.3689 - val_loss: 2.0196 - val_accuracy: 0.2983\n",
            "Epoch 28/100\n",
            "78/78 - 1s - loss: 1.8185 - accuracy: 0.3715 - val_loss: 2.0139 - val_accuracy: 0.2965\n",
            "Epoch 29/100\n",
            "78/78 - 1s - loss: 1.8176 - accuracy: 0.3733 - val_loss: 2.0123 - val_accuracy: 0.2968\n",
            "Epoch 30/100\n",
            "78/78 - 1s - loss: 1.8186 - accuracy: 0.3707 - val_loss: 2.0128 - val_accuracy: 0.2991\n",
            "Epoch 31/100\n",
            "78/78 - 1s - loss: 1.8091 - accuracy: 0.3750 - val_loss: 2.0122 - val_accuracy: 0.2977\n",
            "Epoch 32/100\n",
            "78/78 - 1s - loss: 1.8067 - accuracy: 0.3749 - val_loss: 2.0111 - val_accuracy: 0.2957\n",
            "Epoch 33/100\n",
            "78/78 - 1s - loss: 1.8051 - accuracy: 0.3748 - val_loss: 2.0112 - val_accuracy: 0.2971\n",
            "Epoch 34/100\n",
            "78/78 - 1s - loss: 1.8035 - accuracy: 0.3776 - val_loss: 2.0114 - val_accuracy: 0.2957\n",
            "Epoch 35/100\n",
            "\n",
            "Epoch 00035: ReduceLROnPlateau reducing learning rate to 1.0000000474974514e-05.\n",
            "78/78 - 1s - loss: 1.8009 - accuracy: 0.3777 - val_loss: 2.0114 - val_accuracy: 0.2943\n",
            "Epoch 36/100\n",
            "78/78 - 1s - loss: 1.7994 - accuracy: 0.3781 - val_loss: 2.0105 - val_accuracy: 0.2983\n",
            "Epoch 37/100\n",
            "78/78 - 1s - loss: 1.8005 - accuracy: 0.3804 - val_loss: 2.0104 - val_accuracy: 0.2974\n",
            "Epoch 38/100\n",
            "78/78 - 1s - loss: 1.7983 - accuracy: 0.3772 - val_loss: 2.0103 - val_accuracy: 0.2983\n",
            "Epoch 39/100\n",
            "78/78 - 1s - loss: 1.7993 - accuracy: 0.3752 - val_loss: 2.0107 - val_accuracy: 0.2980\n",
            "Epoch 40/100\n",
            "78/78 - 1s - loss: 1.7961 - accuracy: 0.3791 - val_loss: 2.0106 - val_accuracy: 0.2977\n",
            "Epoch 41/100\n",
            "\n",
            "Epoch 00041: ReduceLROnPlateau reducing learning rate to 1.0000000656873453e-06.\n",
            "78/78 - 1s - loss: 1.7952 - accuracy: 0.3811 - val_loss: 2.0105 - val_accuracy: 0.2974\n",
            "Epoch 42/100\n",
            "78/78 - 1s - loss: 1.7974 - accuracy: 0.3760 - val_loss: 2.0106 - val_accuracy: 0.2977\n",
            "Epoch 43/100\n",
            "Restoring model weights from the end of the best epoch.\n",
            "78/78 - 1s - loss: 1.7973 - accuracy: 0.3791 - val_loss: 2.0106 - val_accuracy: 0.2977\n",
            "Epoch 00043: early stopping\n",
            "INFO:tensorflow:Assets written to: saved_models/noEvents/nn 4/assets\n",
            "Validation Log Loss of  Model in Current Run:  2.0102577985253443\n",
            "Average CV Loss of 6 Runs : 1.9991179064240052\n",
            "--Iteration # 4\n",
            "Epoch 1/100\n",
            "78/78 - 1s - loss: 2.4296 - accuracy: 0.1347 - val_loss: 2.3972 - val_accuracy: 0.1464\n",
            "Epoch 2/100\n",
            "78/78 - 1s - loss: 2.3937 - accuracy: 0.1541 - val_loss: 2.3754 - val_accuracy: 0.1664\n",
            "Epoch 3/100\n",
            "78/78 - 1s - loss: 2.3720 - accuracy: 0.1620 - val_loss: 2.3548 - val_accuracy: 0.1656\n",
            "Epoch 4/100\n",
            "78/78 - 1s - loss: 2.3419 - accuracy: 0.1764 - val_loss: 2.3255 - val_accuracy: 0.1779\n",
            "Epoch 5/100\n",
            "78/78 - 1s - loss: 2.3131 - accuracy: 0.1859 - val_loss: 2.2983 - val_accuracy: 0.1976\n",
            "Epoch 6/100\n",
            "78/78 - 1s - loss: 2.2856 - accuracy: 0.2005 - val_loss: 2.2721 - val_accuracy: 0.1979\n",
            "Epoch 7/100\n",
            "78/78 - 1s - loss: 2.2534 - accuracy: 0.2091 - val_loss: 2.2437 - val_accuracy: 0.2085\n",
            "Epoch 8/100\n",
            "78/78 - 1s - loss: 2.2261 - accuracy: 0.2232 - val_loss: 2.2212 - val_accuracy: 0.2288\n",
            "Epoch 9/100\n",
            "78/78 - 1s - loss: 2.2014 - accuracy: 0.2370 - val_loss: 2.2023 - val_accuracy: 0.2373\n",
            "Epoch 10/100\n",
            "78/78 - 1s - loss: 2.1706 - accuracy: 0.2443 - val_loss: 2.1773 - val_accuracy: 0.2422\n",
            "Epoch 11/100\n",
            "78/78 - 1s - loss: 2.1426 - accuracy: 0.2556 - val_loss: 2.1589 - val_accuracy: 0.2539\n",
            "Epoch 12/100\n",
            "78/78 - 1s - loss: 2.1168 - accuracy: 0.2653 - val_loss: 2.1459 - val_accuracy: 0.2496\n",
            "Epoch 13/100\n",
            "78/78 - 1s - loss: 2.0924 - accuracy: 0.2763 - val_loss: 2.1154 - val_accuracy: 0.2628\n",
            "Epoch 14/100\n",
            "78/78 - 1s - loss: 2.0660 - accuracy: 0.2847 - val_loss: 2.1041 - val_accuracy: 0.2705\n",
            "Epoch 15/100\n",
            "78/78 - 1s - loss: 2.0374 - accuracy: 0.2959 - val_loss: 2.0896 - val_accuracy: 0.2751\n",
            "Epoch 16/100\n",
            "78/78 - 1s - loss: 2.0200 - accuracy: 0.2999 - val_loss: 2.0798 - val_accuracy: 0.2774\n",
            "Epoch 17/100\n",
            "78/78 - 1s - loss: 2.0011 - accuracy: 0.3060 - val_loss: 2.0822 - val_accuracy: 0.2662\n",
            "Epoch 18/100\n",
            "78/78 - 1s - loss: 1.9857 - accuracy: 0.3084 - val_loss: 2.0627 - val_accuracy: 0.2742\n",
            "Epoch 19/100\n",
            "78/78 - 1s - loss: 1.9603 - accuracy: 0.3205 - val_loss: 2.0541 - val_accuracy: 0.2791\n",
            "Epoch 20/100\n",
            "78/78 - 1s - loss: 1.9476 - accuracy: 0.3205 - val_loss: 2.0536 - val_accuracy: 0.2854\n",
            "Epoch 21/100\n",
            "78/78 - 1s - loss: 1.9327 - accuracy: 0.3336 - val_loss: 2.0432 - val_accuracy: 0.2808\n",
            "Epoch 22/100\n",
            "78/78 - 1s - loss: 1.9130 - accuracy: 0.3333 - val_loss: 2.0383 - val_accuracy: 0.2802\n",
            "Epoch 23/100\n",
            "78/78 - 1s - loss: 1.9007 - accuracy: 0.3398 - val_loss: 2.0344 - val_accuracy: 0.2808\n",
            "Epoch 24/100\n",
            "78/78 - 1s - loss: 1.8890 - accuracy: 0.3443 - val_loss: 2.0335 - val_accuracy: 0.2888\n",
            "Epoch 25/100\n",
            "78/78 - 1s - loss: 1.8715 - accuracy: 0.3504 - val_loss: 2.0365 - val_accuracy: 0.2834\n",
            "Epoch 26/100\n",
            "78/78 - 1s - loss: 1.8597 - accuracy: 0.3554 - val_loss: 2.0323 - val_accuracy: 0.2820\n",
            "Epoch 27/100\n",
            "78/78 - 1s - loss: 1.8488 - accuracy: 0.3579 - val_loss: 2.0293 - val_accuracy: 0.2842\n",
            "Epoch 28/100\n",
            "78/78 - 1s - loss: 1.8318 - accuracy: 0.3650 - val_loss: 2.0242 - val_accuracy: 0.2868\n",
            "Epoch 29/100\n",
            "78/78 - 1s - loss: 1.8240 - accuracy: 0.3638 - val_loss: 2.0241 - val_accuracy: 0.2771\n",
            "Epoch 30/100\n",
            "78/78 - 1s - loss: 1.8060 - accuracy: 0.3739 - val_loss: 2.0285 - val_accuracy: 0.2811\n",
            "Epoch 31/100\n",
            "\n",
            "Epoch 00031: ReduceLROnPlateau reducing learning rate to 0.00010000000474974513.\n",
            "78/78 - 1s - loss: 1.7930 - accuracy: 0.3783 - val_loss: 2.0362 - val_accuracy: 0.2817\n",
            "Epoch 32/100\n",
            "78/78 - 1s - loss: 1.7634 - accuracy: 0.3885 - val_loss: 2.0210 - val_accuracy: 0.2808\n",
            "Epoch 33/100\n",
            "78/78 - 1s - loss: 1.7472 - accuracy: 0.3971 - val_loss: 2.0174 - val_accuracy: 0.2837\n",
            "Epoch 34/100\n",
            "78/78 - 1s - loss: 1.7449 - accuracy: 0.3974 - val_loss: 2.0183 - val_accuracy: 0.2828\n",
            "Epoch 35/100\n",
            "78/78 - 1s - loss: 1.7425 - accuracy: 0.3978 - val_loss: 2.0153 - val_accuracy: 0.2857\n",
            "Epoch 36/100\n",
            "78/78 - 1s - loss: 1.7397 - accuracy: 0.3997 - val_loss: 2.0151 - val_accuracy: 0.2862\n",
            "Epoch 37/100\n",
            "78/78 - 1s - loss: 1.7366 - accuracy: 0.3949 - val_loss: 2.0124 - val_accuracy: 0.2854\n",
            "Epoch 38/100\n",
            "78/78 - 1s - loss: 1.7348 - accuracy: 0.3969 - val_loss: 2.0183 - val_accuracy: 0.2894\n",
            "Epoch 39/100\n",
            "78/78 - 1s - loss: 1.7350 - accuracy: 0.3984 - val_loss: 2.0164 - val_accuracy: 0.2894\n",
            "Epoch 40/100\n",
            "\n",
            "Epoch 00040: ReduceLROnPlateau reducing learning rate to 1.0000000474974514e-05.\n",
            "78/78 - 1s - loss: 1.7329 - accuracy: 0.4024 - val_loss: 2.0161 - val_accuracy: 0.2891\n",
            "Epoch 41/100\n",
            "78/78 - 1s - loss: 1.7314 - accuracy: 0.4021 - val_loss: 2.0152 - val_accuracy: 0.2874\n",
            "Epoch 42/100\n",
            "Restoring model weights from the end of the best epoch.\n",
            "78/78 - 1s - loss: 1.7259 - accuracy: 0.4010 - val_loss: 2.0150 - val_accuracy: 0.2871\n",
            "Epoch 00042: early stopping\n",
            "INFO:tensorflow:Assets written to: saved_models/noEvents/nn 5/assets\n",
            "Validation Log Loss of  Model in Current Run:  2.0124170257852936\n",
            "Average CV Loss of 6 Runs : 2.0017777302962627\n",
            "--Iteration # 5\n",
            "Epoch 1/100\n",
            "78/78 - 1s - loss: 2.4295 - accuracy: 0.1366 - val_loss: 2.3933 - val_accuracy: 0.1530\n",
            "Epoch 2/100\n",
            "78/78 - 1s - loss: 2.3963 - accuracy: 0.1539 - val_loss: 2.3764 - val_accuracy: 0.1610\n",
            "Epoch 3/100\n",
            "78/78 - 1s - loss: 2.3736 - accuracy: 0.1618 - val_loss: 2.3532 - val_accuracy: 0.1693\n",
            "Epoch 4/100\n",
            "78/78 - 1s - loss: 2.3471 - accuracy: 0.1753 - val_loss: 2.3271 - val_accuracy: 0.1799\n",
            "Epoch 5/100\n",
            "78/78 - 1s - loss: 2.3203 - accuracy: 0.1884 - val_loss: 2.3020 - val_accuracy: 0.1919\n",
            "Epoch 6/100\n",
            "78/78 - 1s - loss: 2.2896 - accuracy: 0.1977 - val_loss: 2.2711 - val_accuracy: 0.2005\n",
            "Epoch 7/100\n",
            "78/78 - 1s - loss: 2.2592 - accuracy: 0.2087 - val_loss: 2.2474 - val_accuracy: 0.2119\n",
            "Epoch 8/100\n",
            "78/78 - 1s - loss: 2.2277 - accuracy: 0.2238 - val_loss: 2.2170 - val_accuracy: 0.2293\n",
            "Epoch 9/100\n",
            "78/78 - 1s - loss: 2.2048 - accuracy: 0.2339 - val_loss: 2.1875 - val_accuracy: 0.2408\n",
            "Epoch 10/100\n",
            "78/78 - 1s - loss: 2.1730 - accuracy: 0.2471 - val_loss: 2.1676 - val_accuracy: 0.2468\n",
            "Epoch 11/100\n",
            "78/78 - 1s - loss: 2.1427 - accuracy: 0.2583 - val_loss: 2.1459 - val_accuracy: 0.2548\n",
            "Epoch 12/100\n",
            "78/78 - 1s - loss: 2.1184 - accuracy: 0.2717 - val_loss: 2.1217 - val_accuracy: 0.2585\n",
            "Epoch 13/100\n",
            "78/78 - 1s - loss: 2.0917 - accuracy: 0.2814 - val_loss: 2.1026 - val_accuracy: 0.2665\n",
            "Epoch 14/100\n",
            "78/78 - 1s - loss: 2.0703 - accuracy: 0.2853 - val_loss: 2.0867 - val_accuracy: 0.2734\n",
            "Epoch 15/100\n",
            "78/78 - 1s - loss: 2.0467 - accuracy: 0.2946 - val_loss: 2.0704 - val_accuracy: 0.2817\n",
            "Epoch 16/100\n",
            "78/78 - 1s - loss: 2.0280 - accuracy: 0.2998 - val_loss: 2.0549 - val_accuracy: 0.2765\n",
            "Epoch 17/100\n",
            "78/78 - 1s - loss: 2.0058 - accuracy: 0.3063 - val_loss: 2.0426 - val_accuracy: 0.2825\n",
            "Epoch 18/100\n",
            "78/78 - 1s - loss: 1.9862 - accuracy: 0.3142 - val_loss: 2.0400 - val_accuracy: 0.2848\n",
            "Epoch 19/100\n",
            "78/78 - 1s - loss: 1.9684 - accuracy: 0.3203 - val_loss: 2.0283 - val_accuracy: 0.2882\n",
            "Epoch 20/100\n",
            "78/78 - 1s - loss: 1.9526 - accuracy: 0.3229 - val_loss: 2.0213 - val_accuracy: 0.2885\n",
            "Epoch 21/100\n",
            "78/78 - 1s - loss: 1.9374 - accuracy: 0.3267 - val_loss: 2.0117 - val_accuracy: 0.2931\n",
            "Epoch 22/100\n",
            "78/78 - 1s - loss: 1.9191 - accuracy: 0.3347 - val_loss: 2.0257 - val_accuracy: 0.2842\n",
            "Epoch 23/100\n",
            "78/78 - 1s - loss: 1.9019 - accuracy: 0.3419 - val_loss: 2.0046 - val_accuracy: 0.2923\n",
            "Epoch 24/100\n",
            "78/78 - 1s - loss: 1.8913 - accuracy: 0.3447 - val_loss: 1.9955 - val_accuracy: 0.3000\n",
            "Epoch 25/100\n",
            "78/78 - 1s - loss: 1.8760 - accuracy: 0.3521 - val_loss: 2.0067 - val_accuracy: 0.2854\n",
            "Epoch 26/100\n",
            "78/78 - 1s - loss: 1.8634 - accuracy: 0.3553 - val_loss: 1.9972 - val_accuracy: 0.2954\n",
            "Epoch 27/100\n",
            "78/78 - 1s - loss: 1.8484 - accuracy: 0.3625 - val_loss: 1.9919 - val_accuracy: 0.2891\n",
            "Epoch 28/100\n",
            "78/78 - 1s - loss: 1.8297 - accuracy: 0.3673 - val_loss: 1.9915 - val_accuracy: 0.2948\n",
            "Epoch 29/100\n",
            "78/78 - 1s - loss: 1.8170 - accuracy: 0.3705 - val_loss: 2.0003 - val_accuracy: 0.2985\n",
            "Epoch 30/100\n",
            "78/78 - 1s - loss: 1.8041 - accuracy: 0.3780 - val_loss: 1.9921 - val_accuracy: 0.2985\n",
            "Epoch 31/100\n",
            "\n",
            "Epoch 00031: ReduceLROnPlateau reducing learning rate to 0.00010000000474974513.\n",
            "78/78 - 1s - loss: 1.7989 - accuracy: 0.3798 - val_loss: 1.9971 - val_accuracy: 0.2951\n",
            "Epoch 32/100\n",
            "78/78 - 1s - loss: 1.7682 - accuracy: 0.3957 - val_loss: 1.9835 - val_accuracy: 0.2943\n",
            "Epoch 33/100\n",
            "78/78 - 1s - loss: 1.7528 - accuracy: 0.3958 - val_loss: 1.9822 - val_accuracy: 0.2963\n",
            "Epoch 34/100\n",
            "78/78 - 1s - loss: 1.7455 - accuracy: 0.4013 - val_loss: 1.9804 - val_accuracy: 0.2991\n",
            "Epoch 35/100\n",
            "78/78 - 1s - loss: 1.7443 - accuracy: 0.3998 - val_loss: 1.9814 - val_accuracy: 0.2980\n",
            "Epoch 36/100\n",
            "78/78 - 1s - loss: 1.7426 - accuracy: 0.3999 - val_loss: 1.9797 - val_accuracy: 0.2977\n",
            "Epoch 37/100\n",
            "78/78 - 1s - loss: 1.7418 - accuracy: 0.4015 - val_loss: 1.9815 - val_accuracy: 0.2988\n",
            "Epoch 38/100\n",
            "78/78 - 1s - loss: 1.7393 - accuracy: 0.4004 - val_loss: 1.9795 - val_accuracy: 0.2983\n",
            "Epoch 39/100\n",
            "78/78 - 1s - loss: 1.7347 - accuracy: 0.4051 - val_loss: 1.9816 - val_accuracy: 0.2994\n",
            "Epoch 40/100\n",
            "78/78 - 1s - loss: 1.7320 - accuracy: 0.4060 - val_loss: 1.9805 - val_accuracy: 0.2977\n",
            "Epoch 41/100\n",
            "78/78 - 1s - loss: 1.7305 - accuracy: 0.4064 - val_loss: 1.9793 - val_accuracy: 0.3005\n",
            "Epoch 42/100\n",
            "78/78 - 1s - loss: 1.7305 - accuracy: 0.4041 - val_loss: 1.9794 - val_accuracy: 0.3000\n",
            "Epoch 43/100\n",
            "78/78 - 1s - loss: 1.7211 - accuracy: 0.4070 - val_loss: 1.9811 - val_accuracy: 0.2974\n",
            "Epoch 44/100\n",
            "\n",
            "Epoch 00044: ReduceLROnPlateau reducing learning rate to 1.0000000474974514e-05.\n",
            "78/78 - 1s - loss: 1.7269 - accuracy: 0.4073 - val_loss: 1.9825 - val_accuracy: 0.2965\n",
            "Epoch 45/100\n",
            "78/78 - 1s - loss: 1.7210 - accuracy: 0.4084 - val_loss: 1.9813 - val_accuracy: 0.2977\n",
            "Epoch 46/100\n",
            "Restoring model weights from the end of the best epoch.\n",
            "78/78 - 1s - loss: 1.7224 - accuracy: 0.4113 - val_loss: 1.9805 - val_accuracy: 0.2977\n",
            "Epoch 00046: early stopping\n",
            "INFO:tensorflow:Assets written to: saved_models/noEvents/nn 6/assets\n",
            "Validation Log Loss of  Model in Current Run:  1.9792907889873803\n",
            "Average CV Loss of 6 Runs : 1.9980299067447824\n"
          ],
          "name": "stdout"
        }
      ]
    },
    {
      "cell_type": "code",
      "metadata": {
        "colab_type": "code",
        "id": "CoYBopDQw_6D",
        "colab": {
          "base_uri": "https://localhost:8080/",
          "height": 33
        },
        "outputId": "1c3dbfac-372d-4284-e383-f9cde5cbbf9d"
      },
      "source": [
        "avg_pred=np.zeros((Xev_tr.shape[0],12))\n",
        "for i in range(len(nnEvModel)):\n",
        "    train_pred=nnEvModel[i].predict(Xev_tr)\n",
        "    avg_pred+=train_pred\n",
        "avg_pred/=len(nnEvModel)\n",
        "print(\"Train Average Log-Loss: \",log_loss(yev, avg_pred))"
      ],
      "execution_count": 92,
      "outputs": [
        {
          "output_type": "stream",
          "text": [
            "Train Average Log-Loss:  1.706016315411962\n"
          ],
          "name": "stdout"
        }
      ]
    },
    {
      "cell_type": "code",
      "metadata": {
        "colab_type": "code",
        "id": "X2lW9XblxMQq",
        "colab": {
          "base_uri": "https://localhost:8080/",
          "height": 33
        },
        "outputId": "9c29bf0d-dd9f-4880-c8d0-24cbc8c58098"
      },
      "source": [
        "avg_pred=np.zeros((Xev_cv.shape[0],12))\n",
        "for i in range(len(nnEvModel)):\n",
        "    cv_pred = nnEvModel[i].predict(Xev_cv)\n",
        "    avg_pred += cv_pred\n",
        "avg_pred/=len(nnEvModel)\n",
        "print(\"CV Average Log-Loss: \", log_loss(yev_cv, avg_pred))"
      ],
      "execution_count": 93,
      "outputs": [
        {
          "output_type": "stream",
          "text": [
            "CV Average Log-Loss:  1.6868781342616384\n"
          ],
          "name": "stdout"
        }
      ]
    },
    {
      "cell_type": "code",
      "metadata": {
        "colab_type": "code",
        "id": "MzouwPWFxucw",
        "colab": {}
      },
      "source": [
        "predEv=np.zeros((Xev_te.shape[0],12))\n",
        "for i in range(len(nnEvModel)):\n",
        "    te_pred = nnEvModel[i].predict(Xev_te)\n",
        "    predEv += te_pred\n",
        "predEv/=len(nnEvModel)"
      ],
      "execution_count": 94,
      "outputs": []
    },
    {
      "cell_type": "code",
      "metadata": {
        "colab_type": "code",
        "id": "4KcRFaPGOS7t",
        "colab": {}
      },
      "source": [
        "pred = evModel.predict(X_tr)\n",
        "llNNEVTr=log_loss(y_train, pred)\n",
        "print(\"Training Log Loss of NN Model: \",llNNEVTr)\n",
        "pred = evModel.predict(X_cr)\n",
        "llNNEVCv=log_loss(y_cv, pred)\n",
        "print(\"Validation Log Loss of NN Model: \",llNNEVCv)"
      ],
      "execution_count": null,
      "outputs": []
    },
    {
      "cell_type": "code",
      "metadata": {
        "colab_type": "code",
        "id": "AXMuczVJmthE",
        "colab": {}
      },
      "source": [
        "predEv = eventModel.predict(X_te)"
      ],
      "execution_count": null,
      "outputs": []
    },
    {
      "cell_type": "code",
      "metadata": {
        "colab_type": "code",
        "id": "w5EtdPtal0lZ",
        "colab": {}
      },
      "source": [
        "X_test = testEventData.reset_index(drop=True)\n",
        "predEvent = pd.DataFrame(predEv, columns=oheev.classes_)\n",
        "print(predEvent.shape)\n",
        "predEvent = pd.concat([X_test.device_id, predEvent], axis=1, ignore_index=True)\n",
        "finalCols = np.append('device_id', oheev.classes_)\n",
        "predEvent.columns = [finalCols]\n",
        "print(predEvent.shape)\n",
        "predEvent.head()"
      ],
      "execution_count": null,
      "outputs": []
    },
    {
      "cell_type": "markdown",
      "metadata": {
        "colab_type": "text",
        "id": "4UqZc-GCOS6o"
      },
      "source": [
        "#### Here, we can observe that for Dataset with 'Events Data', Neural Network has given MINIMUM LOG-LOSS results.\n",
        "#### Hence, we will use Neural Network for final modelling"
      ]
    },
    {
      "cell_type": "code",
      "metadata": {
        "colab_type": "code",
        "id": "xvCgo_avOS6n",
        "colab": {
          "base_uri": "https://localhost:8080/",
          "height": 202
        },
        "outputId": "034dad8a-88cc-48ee-831c-89c4e671bdde"
      },
      "source": [
        "Result = PrettyTable()\n",
        "Result.field_names = [\"Model\", \"Data\", \"Train Loss\", \"CV Loss\"]\n",
        "Result.add_row([\"Random\", \"With Events\", \"2.484906649788001\", \"2.4849066497880004\"])\n",
        "Result.add_row([\"K-Nearest Neighbor\", \"With Events\", \"2.405654255269296\", \"2.4102048713798823\"]) #np.min(llKNNEVTr), np.min(llKNNEVCv)])\n",
        "Result.add_row([\"Logistic Regression\", \"With Events\", \"2.3687341386441503\", \"2.379565820077238\"]) #np.min(llLREVTr), np.min(llLREVCv)])\n",
        "Result.add_row([\"Random Forest\", \"With Events\", \"0.47845143169897797\", \"2.10767024594322\"]) #np.min(llRFEVTr), np.min(llRFEVCv)])\n",
        "Result.add_row([\"XGBoost\", \"With Events\", \"0.6436960138144913\", \"2.110022073399063\"]) #np.min(llXGBEVTr), np.min(llXGBEVCv)])\n",
        "Result.add_row([\"lightGBM\", \"With Events\", \"1.0782876208447156\", \"2.0208742503913975\"]) #np.min(llLGBEVTr), np.min(llLGBEVCv)])\n",
        "Result.add_row([\"Neural Network\", \"With Events\", \"1.706016315411962\", \"1.6868781342616384\"]) #llNNEVTr, llNNEVCv])\n",
        "\n",
        "print(Result)"
      ],
      "execution_count": 105,
      "outputs": [
        {
          "output_type": "stream",
          "text": [
            "+---------------------+-------------+---------------------+--------------------+\n",
            "|        Model        |     Data    |      Train Loss     |      CV Loss       |\n",
            "+---------------------+-------------+---------------------+--------------------+\n",
            "|        Random       | With Events |  2.484906649788001  | 2.4849066497880004 |\n",
            "|  K-Nearest Neighbor | With Events |  2.405654255269296  | 2.4102048713798823 |\n",
            "| Logistic Regression | With Events |  2.3687341386441503 | 2.379565820077238  |\n",
            "|    Random Forest    | With Events | 0.47845143169897797 |  2.10767024594322  |\n",
            "|       XGBoost       | With Events |  0.6436960138144913 | 2.110022073399063  |\n",
            "|       lightGBM      | With Events |  1.0782876208447156 | 2.0208742503913975 |\n",
            "|    Neural Network   | With Events |  1.706016315411962  | 1.6868781342616384 |\n",
            "+---------------------+-------------+---------------------+--------------------+\n"
          ],
          "name": "stdout"
        }
      ]
    },
    {
      "cell_type": "markdown",
      "metadata": {
        "colab_type": "text",
        "id": "BdaeyFm1OS6y"
      },
      "source": [
        "# 3. Working on Data with NO-Events¶"
      ]
    },
    {
      "cell_type": "markdown",
      "metadata": {
        "colab_type": "text",
        "id": "gEZeNfo1OS6y"
      },
      "source": [
        "## 3.1 Reading the PICKLE File"
      ]
    },
    {
      "cell_type": "code",
      "metadata": {
        "colab_type": "code",
        "id": "yEhJIP3YOS6y",
        "colab": {
          "base_uri": "https://localhost:8080/",
          "height": 117
        },
        "outputId": "b4367342-d483-4108-9d0f-fe0fa275bc7e"
      },
      "source": [
        "with open('noEventtrainData', 'rb') as fp:\n",
        "    X_tr = pickle.load(fp)\n",
        "with open('noEventCVData', 'rb') as fp:\n",
        "    X_cr = pickle.load(fp)\n",
        "with open('noEventtestData', 'rb') as fp:\n",
        "    X_te = pickle.load(fp)\n",
        "with open('noEventytrain', 'rb') as fp:\n",
        "    y_train = pickle.load(fp)\n",
        "with open('noEventycv', 'rb') as fp:\n",
        "    y_cv = pickle.load(fp)\n",
        "    \n",
        "print(\"====================================\")\n",
        "print(\"After Loading PICKLE Files \")\n",
        "print(X_tr.shape, y_train.shape)\n",
        "print(X_cr.shape, y_cv.shape)\n",
        "print(X_te.shape)\n",
        "print(\"====================================\")"
      ],
      "execution_count": null,
      "outputs": [
        {
          "output_type": "stream",
          "text": [
            "====================================\n",
            "After Loading PICKLE Files \n",
            "(59716, 1535) (59716,)\n",
            "(14929, 1535) (14929,)\n",
            "(112071, 1535)\n",
            "====================================\n"
          ],
          "name": "stdout"
        }
      ]
    },
    {
      "cell_type": "code",
      "metadata": {
        "colab_type": "code",
        "id": "ah-usHpM-GQ3",
        "colab": {
          "base_uri": "https://localhost:8080/",
          "height": 101
        },
        "outputId": "f4e0b4e7-807f-4f36-e7cc-148f8c007c89"
      },
      "source": [
        "with open('Xnoev_tr', 'rb') as fp:\n",
        "    Xnoev_tr = pickle.load(fp)\n",
        "with open('Xnoev_te', 'rb') as fp:\n",
        "    Xnoev_te = pickle.load(fp)\n",
        "with open('ynoev', 'rb') as fp:\n",
        "    ynoev = pickle.load(fp)\n",
        "    \n",
        "print(\"====================================\")\n",
        "print(\"After Loading PICKLE Files \")\n",
        "print(Xnoev_tr.shape, ynoev.shape)\n",
        "print(Xnoev_te.shape)\n",
        "print(\"====================================\")"
      ],
      "execution_count": 96,
      "outputs": [
        {
          "output_type": "stream",
          "text": [
            "====================================\n",
            "After Loading PICKLE Files \n",
            "(74645, 1701) (74645,)\n",
            "(76877, 1701)\n",
            "====================================\n"
          ],
          "name": "stdout"
        }
      ]
    },
    {
      "cell_type": "markdown",
      "metadata": {
        "colab_type": "text",
        "id": "b-1QerknOS60"
      },
      "source": [
        "## 3.2 Trying Different Models for the Performance"
      ]
    },
    {
      "cell_type": "markdown",
      "metadata": {
        "colab_type": "text",
        "id": "Fgca5aRPOS60"
      },
      "source": [
        "### 3.2.1 Random Model\n",
        "A random model is something that will give us worst possible results. So, let's say, our model predicts '1' probability for all. Log Loss in such case would be"
      ]
    },
    {
      "cell_type": "code",
      "metadata": {
        "colab_type": "code",
        "id": "5bPYdNGYOS60",
        "colab": {
          "base_uri": "https://localhost:8080/",
          "height": 51
        },
        "outputId": "bbf80168-3eff-40bc-ddce-bdbe8315d00d"
      },
      "source": [
        "y_pred = [[1]*12]*y_train.shape[0]\n",
        "logLoss = log_loss(y_train, y_pred)\n",
        "print(\"Train Loss:\", logLoss)\n",
        "\n",
        "y_pred = [[1]*12]*y_cv.shape[0]\n",
        "logLoss = log_loss(y_cv, y_pred)\n",
        "print(\"Cross Validation Loss:\", logLoss)"
      ],
      "execution_count": null,
      "outputs": [
        {
          "output_type": "stream",
          "text": [
            "Train Loss: 2.4849066497880012\n",
            "Cross Validation Loss: 2.484906649788001\n"
          ],
          "name": "stdout"
        }
      ]
    },
    {
      "cell_type": "markdown",
      "metadata": {
        "colab_type": "text",
        "id": "1Q7eWbbyOS61"
      },
      "source": [
        "Thus, the <b>worst LOG LOSS</b> that we can get is <b>'2.484906649788001'</b> <br>\n",
        "Our model should give much better results than this."
      ]
    },
    {
      "cell_type": "markdown",
      "metadata": {
        "colab_type": "text",
        "id": "IHNvrzScOS62"
      },
      "source": [
        "### 3.2.2 K-Nearest Neighbor"
      ]
    },
    {
      "cell_type": "code",
      "metadata": {
        "colab_type": "code",
        "id": "KhIn750XOS62",
        "colab": {},
        "outputId": "dc772d2d-6f97-4e93-fbf8-b02034eba570"
      },
      "source": [
        "alpha = [x for x in range(3, 11, 2)]\n",
        "llKNNnoEVTr=[]\n",
        "llKNNnoEVCv=[]\n",
        "for i in alpha:\n",
        "    print(\"Working on Hyperparameter -\", i)\n",
        "    clfKNN = KNeighborsClassifier(n_neighbors=i)\n",
        "    clfKNN.fit(X_tr, y_train)\n",
        "    print(\"--Running CalibratedClassifierCV\")\n",
        "    sig_clfKNN = CalibratedClassifierCV(clfKNN, method='sigmoid')\n",
        "    sig_clfKNN.fit(X_tr, y_train)\n",
        "    y_pred = sig_clfKNN.predict_proba(X_tr)\n",
        "    llKNNnoEVTr.append(log_loss(y_train, y_pred, labels=clfKNN.classes_))\n",
        "    print('--Train Log Loss - ', log_loss(y_train, y_pred))\n",
        "    y_pred = sig_clfKNN.predict_proba(X_cr)\n",
        "    llKNNnoEVCv.append(log_loss(y_cv, y_pred, labels=clfKNN.classes_))\n",
        "    print('--CV Log Loss - ', log_loss(y_cv, y_pred))\n",
        "    \n",
        "print(\"The best hyperparameter value is: \", alpha[np.argmin(llKNNnoEVCv)])"
      ],
      "execution_count": null,
      "outputs": [
        {
          "output_type": "stream",
          "text": [
            "Working on Hyperparameter - 3\n",
            "--Running CalibratedClassifierCV\n",
            "--Train Log Loss -  2.4180862781440995\n",
            "--CV Log Loss -  2.427226372509495\n",
            "Working on Hyperparameter - 5\n",
            "--Running CalibratedClassifierCV\n",
            "--Train Log Loss -  2.4071128806837225\n",
            "--CV Log Loss -  2.4211226843243394\n",
            "Working on Hyperparameter - 7\n",
            "--Running CalibratedClassifierCV\n",
            "--Train Log Loss -  2.4028747800113153\n",
            "--CV Log Loss -  2.4193541073597316\n",
            "Working on Hyperparameter - 9\n",
            "--Running CalibratedClassifierCV\n",
            "--Train Log Loss -  2.3995838285708935\n",
            "--CV Log Loss -  2.4179643888665745\n",
            "The best hyperparameter value is:  9\n"
          ],
          "name": "stdout"
        }
      ]
    },
    {
      "cell_type": "code",
      "metadata": {
        "colab_type": "code",
        "id": "z4TRHZ6VOS63",
        "colab": {},
        "outputId": "e3fd77d5-6adb-411c-940c-d50fae29524b"
      },
      "source": [
        "fig, ax = plt.subplots()\n",
        "ax.plot(alpha, llKNNnoEVCv,c='g')\n",
        "for i, txt in enumerate(np.round(llKNNnoEVCv,3)):\n",
        "    ax.annotate((alpha[i],np.round(txt,3)), (alpha[i],llKNNnoEVCv[i]))\n",
        "plt.grid()\n",
        "plt.title(\"Cross Validation Log Loss for each alpha\")\n",
        "plt.xlabel(\"Alpha i's\")\n",
        "plt.ylabel(\"Error measure\")\n",
        "plt.show()"
      ],
      "execution_count": null,
      "outputs": [
        {
          "output_type": "display_data",
          "data": {
            "image/png": "[encoded data removed]",
            "text/plain": [
              "<Figure size 432x288 with 1 Axes>"
            ]
          },
          "metadata": {
            "tags": [],
            "needs_background": "light"
          }
        }
      ]
    },
    {
      "cell_type": "markdown",
      "metadata": {
        "colab_type": "text",
        "id": "gzcAlM5TOS64"
      },
      "source": [
        "### 3.2.3 Logistic Regression"
      ]
    },
    {
      "cell_type": "code",
      "metadata": {
        "colab_type": "code",
        "id": "TY5oxp6pOS65",
        "colab": {},
        "outputId": "726a3055-ed0d-4305-b35b-1c00f1e4ea14"
      },
      "source": [
        "alpha = [10 ** x for x in range(-5, 4)]\n",
        "llLRnoEVTr=[]\n",
        "llLRnoEVCv=[]\n",
        "for i in alpha:\n",
        "    print(\"Working on Hyperparameter -\", i)\n",
        "    clfLR = LogisticRegression(C=i, class_weight='balanced', multi_class='multinomial',solver='lbfgs', n_jobs=-1)\n",
        "    clfLR.fit(X_tr, y_train)\n",
        "    print(\"--Running CalibratedClassifierCV\")\n",
        "    sig_clfLR = CalibratedClassifierCV(clfLR, method='sigmoid')\n",
        "    sig_clfLR.fit(X_tr, y_train)\n",
        "    y_pred = sig_clfLR.predict_proba(X_tr)\n",
        "    llLRnoEVTr.append(log_loss(y_train, y_pred, labels=clfLR.classes_))\n",
        "    print('--Train Log Loss - ', log_loss(y_train, y_pred))\n",
        "    y_pred = sig_clfLR.predict_proba(X_cr)\n",
        "    llLRnoEVCv.append(log_loss(y_cv, y_pred, labels=clfLR.classes_))\n",
        "    print('--CV Log Loss - ', log_loss(y_cv, y_pred))\n",
        "\n",
        "print(\"The best hyperparameter value is: \", alpha[np.argmin(llLRnoEVCv)])"
      ],
      "execution_count": null,
      "outputs": [
        {
          "output_type": "stream",
          "text": [
            "Working on Hyperparameter - 1e-05\n",
            "--Running CalibratedClassifierCV\n",
            "--Train Log Loss -  2.4097150709256505\n",
            "--CV Log Loss -  2.409641539200608\n",
            "Working on Hyperparameter - 0.0001\n",
            "--Running CalibratedClassifierCV\n",
            "--Train Log Loss -  2.4093163920726557\n",
            "--CV Log Loss -  2.409349491940956\n",
            "Working on Hyperparameter - 0.001\n",
            "--Running CalibratedClassifierCV\n",
            "--Train Log Loss -  2.4063465162933935\n",
            "--CV Log Loss -  2.4073500556147915\n",
            "Working on Hyperparameter - 0.01\n",
            "--Running CalibratedClassifierCV\n",
            "--Train Log Loss -  2.395402737439753\n",
            "--CV Log Loss -  2.4024386496088654\n",
            "Working on Hyperparameter - 0.1\n",
            "--Running CalibratedClassifierCV\n",
            "--Train Log Loss -  2.3689493058556725\n",
            "--CV Log Loss -  2.3969800630889164\n",
            "Working on Hyperparameter - 1\n",
            "--Running CalibratedClassifierCV\n",
            "--Train Log Loss -  2.34232800739924\n",
            "--CV Log Loss -  2.3971477658180236\n",
            "Working on Hyperparameter - 10\n",
            "--Running CalibratedClassifierCV\n",
            "--Train Log Loss -  2.34757843012528\n",
            "--CV Log Loss -  2.403920984252479\n",
            "Working on Hyperparameter - 100\n",
            "--Running CalibratedClassifierCV\n",
            "--Train Log Loss -  2.3524477182919883\n",
            "--CV Log Loss -  2.4064572924527154\n",
            "Working on Hyperparameter - 1000\n",
            "--Running CalibratedClassifierCV\n",
            "--Train Log Loss -  2.352704018851772\n",
            "--CV Log Loss -  2.406679003631936\n",
            "The best hyperparameter value is:  0.1\n"
          ],
          "name": "stdout"
        }
      ]
    },
    {
      "cell_type": "code",
      "metadata": {
        "colab_type": "code",
        "id": "ll20XkEhOS66",
        "colab": {},
        "outputId": "6a27a830-8bb6-42c1-eef8-cc9530e85dbb"
      },
      "source": [
        "fig, ax = plt.subplots()\n",
        "ax.plot(alpha, llLRnoEVCv,c='g')\n",
        "for i, txt in enumerate(np.round(llLRnoEVCv,3)):\n",
        "    ax.annotate((alpha[i],np.round(txt,3)), (alpha[i],llLRnoEVCv[i]))\n",
        "plt.grid()\n",
        "plt.title(\"Cross Validation Log Loss for each alpha\")\n",
        "plt.xlabel(\"Alpha i's\")\n",
        "plt.ylabel(\"Error measure\")\n",
        "plt.show()"
      ],
      "execution_count": null,
      "outputs": [
        {
          "output_type": "display_data",
          "data": {
            "image/png": "[encoded data removed]",
            "text/plain": [
              "<Figure size 432x288 with 1 Axes>"
            ]
          },
          "metadata": {
            "tags": [],
            "needs_background": "light"
          }
        }
      ]
    },
    {
      "cell_type": "markdown",
      "metadata": {
        "colab_type": "text",
        "id": "Mwhb1SHuOS67"
      },
      "source": [
        "### 3.2.4 Random Forest"
      ]
    },
    {
      "cell_type": "code",
      "metadata": {
        "colab_type": "code",
        "id": "SAGfmOFYOS67",
        "colab": {},
        "outputId": "3954534a-a422-4357-8533-01fc964b9b68"
      },
      "source": [
        "alpha = [10,25,50,100,250,300]\n",
        "llRFnoEVTr = []\n",
        "llRFnoEVCv = []\n",
        "for i in alpha:\n",
        "    print(\"Working on Hyperparameter -\", i)\n",
        "    clfRF = RandomForestClassifier(n_estimators=i, random_state=0, n_jobs=-1)\n",
        "    clfRF.fit(X_tr, y_train)\n",
        "    print(\"--Running CalibratedClassifierCV\")\n",
        "    sig_clfRF = CalibratedClassifierCV(clfRF, method='sigmoid')\n",
        "    sig_clfRF.fit(X_tr, y_train)\n",
        "    y_pred = sig_clfRF.predict_proba(X_tr)\n",
        "    llRFnoEVTr.append(log_loss(y_train, y_pred, labels=clfRF.classes_))\n",
        "    print('--Train Log Loss - ', log_loss(y_train, y_pred))\n",
        "    y_pred = sig_clfRF.predict_proba(X_cr)\n",
        "    llRFnoEVCv.append(log_loss(y_cv, y_pred, labels=clfRF.classes_))\n",
        "    print('--CV Log Loss - ', log_loss(y_cv, y_pred))\n",
        "\n",
        "print(\"The best hyperparameter value is: \", alpha[np.argmin(llRFnoEVCv)])"
      ],
      "execution_count": null,
      "outputs": [
        {
          "output_type": "stream",
          "text": [
            "Working on Hyperparameter - 10\n",
            "--Running CalibratedClassifierCV\n",
            "--Train Log Loss -  2.348774646350755\n",
            "--CV Log Loss -  2.409598224663675\n",
            "Working on Hyperparameter - 25\n",
            "--Running CalibratedClassifierCV\n",
            "--Train Log Loss -  2.3453998915018044\n",
            "--CV Log Loss -  2.408669749439918\n",
            "Working on Hyperparameter - 50\n",
            "--Running CalibratedClassifierCV\n",
            "--Train Log Loss -  2.3442040760416005\n",
            "--CV Log Loss -  2.4086007818119035\n",
            "Working on Hyperparameter - 100\n",
            "--Running CalibratedClassifierCV\n",
            "--Train Log Loss -  2.343405836584301\n",
            "--CV Log Loss -  2.408402213417766\n",
            "Working on Hyperparameter - 250\n",
            "--Running CalibratedClassifierCV\n",
            "--Train Log Loss -  2.3430906488775842\n",
            "--CV Log Loss -  2.4081990526514327\n",
            "Working on Hyperparameter - 300\n",
            "--Running CalibratedClassifierCV\n",
            "--Train Log Loss -  2.343125122926379\n",
            "--CV Log Loss -  2.40820230272212\n",
            "The best hyperparameter value is:  250\n"
          ],
          "name": "stdout"
        }
      ]
    },
    {
      "cell_type": "code",
      "metadata": {
        "colab_type": "code",
        "id": "9PxDTAfeOS6-",
        "colab": {},
        "outputId": "12da47cc-a242-4e9a-b3f4-912267499859"
      },
      "source": [
        "fig, ax = plt.subplots()\n",
        "ax.plot(alpha, llRFnoEVCv,c='g')\n",
        "for i, txt in enumerate(np.round(llRFnoEVCv,3)):\n",
        "    ax.annotate((alpha[i],np.round(txt,3)), (alpha[i],llRFnoEVCv[i]))\n",
        "plt.grid()\n",
        "plt.title(\"Cross Validation Log Loss for each alpha\")\n",
        "plt.xlabel(\"Alpha i's\")\n",
        "plt.ylabel(\"Error measure\")\n",
        "plt.show()"
      ],
      "execution_count": null,
      "outputs": [
        {
          "output_type": "display_data",
          "data": {
            "image/png": "[encoded data removed]",
            "text/plain": [
              "<Figure size 432x288 with 1 Axes>"
            ]
          },
          "metadata": {
            "tags": [],
            "needs_background": "light"
          }
        }
      ]
    },
    {
      "cell_type": "markdown",
      "metadata": {
        "colab_type": "text",
        "id": "wD74cW9cOS7A"
      },
      "source": [
        "### 3.2.5 XGBoost"
      ]
    },
    {
      "cell_type": "code",
      "metadata": {
        "colab_type": "code",
        "id": "TnozC_uNOS7A",
        "colab": {},
        "outputId": "64683c63-a957-4e73-97d7-cb78d824ecbb"
      },
      "source": [
        "alpha = [10, 25, 50, 75, 100, 200] #[10,12,15,17,20,22,25,30,50,60,75]\n",
        "llXGBnoEVTr = []\n",
        "llXGBnoEVCv = []\n",
        "for i in alpha:\n",
        "    print(\"Working on Hyperparameter -\", i)\n",
        "    clfXGB = XGBClassifier(n_estimators=i, random_state=0, n_jobs=-1)\n",
        "    clfXGB.fit(X_tr, y_train)\n",
        "    print(\"--Running CalibratedClassifierCV\")\n",
        "    sig_clfXGB = CalibratedClassifierCV(clfXGB, method='sigmoid')\n",
        "    sig_clfXGB.fit(X_tr, y_train)\n",
        "    y_pred = clfXGB.predict_proba(X_tr)\n",
        "    llXGBnoEVTr.append(log_loss(y_train, y_pred, labels=clfXGB.classes_))\n",
        "    print('--Train Log Loss - ', log_loss(y_train, y_pred))\n",
        "    y_pred = clfXGB.predict_proba(X_cr)\n",
        "    llXGBnoEVCv.append(log_loss(y_cv, y_pred, labels=clfXGB.classes_))\n",
        "    print('--CV Log Loss - ', log_loss(y_cv, y_pred))\n",
        "\n",
        "print(\"The best hyperparameter value is: \", alpha[np.argmin(llXGBnoEVCv)])"
      ],
      "execution_count": null,
      "outputs": [
        {
          "output_type": "stream",
          "text": [
            "Working on Hyperparameter - 10\n",
            "--Running CalibratedClassifierCV\n",
            "--Train Log Loss -  2.3813233497971926\n",
            "--CV Log Loss -  2.403788589263269\n",
            "Working on Hyperparameter - 25\n",
            "--Running CalibratedClassifierCV\n",
            "--Train Log Loss -  2.36107984969754\n",
            "--CV Log Loss -  2.399536344580814\n",
            "Working on Hyperparameter - 50\n",
            "--Running CalibratedClassifierCV\n",
            "--Train Log Loss -  2.3442259820554963\n",
            "--CV Log Loss -  2.3988192207359553\n",
            "Working on Hyperparameter - 75\n",
            "--Running CalibratedClassifierCV\n",
            "--Train Log Loss -  2.332954409059739\n",
            "--CV Log Loss -  2.3999577957627416\n",
            "Working on Hyperparameter - 100\n",
            "--Running CalibratedClassifierCV\n",
            "--Train Log Loss -  2.324460398200785\n",
            "--CV Log Loss -  2.4016036941881396\n",
            "Working on Hyperparameter - 200\n",
            "--Running CalibratedClassifierCV\n",
            "--Train Log Loss -  2.302921355757951\n",
            "--CV Log Loss -  2.4098855437958315\n",
            "The best hyperparameter value is:  50\n"
          ],
          "name": "stdout"
        }
      ]
    },
    {
      "cell_type": "code",
      "metadata": {
        "colab_type": "code",
        "id": "DEQRYkKjOS7D",
        "colab": {},
        "outputId": "fa0e237c-c332-459a-9d9e-cfe04b968b40"
      },
      "source": [
        "fig, ax = plt.subplots()\n",
        "ax.plot(alpha, llXGBnoEVCv,c='g')\n",
        "for i, txt in enumerate(np.round(llXGBnoEVCv,3)):\n",
        "    ax.annotate((alpha[i],np.round(txt,3)), (alpha[i],llXGBnoEVCv[i]))\n",
        "plt.grid()\n",
        "plt.title(\"Cross Validation Log Loss for each alpha\")\n",
        "plt.xlabel(\"Alpha i's\")\n",
        "plt.ylabel(\"Error measure\")\n",
        "plt.show()"
      ],
      "execution_count": null,
      "outputs": [
        {
          "output_type": "display_data",
          "data": {
            "image/png": "[encoded data removed]",
            "text/plain": [
              "<Figure size 432x288 with 1 Axes>"
            ]
          },
          "metadata": {
            "tags": [],
            "needs_background": "light"
          }
        }
      ]
    },
    {
      "cell_type": "markdown",
      "metadata": {
        "colab_type": "text",
        "id": "W2pvZzx_OS7E"
      },
      "source": [
        "### 3.2.6 LightGBM"
      ]
    },
    {
      "cell_type": "code",
      "metadata": {
        "colab_type": "code",
        "id": "3yzV5wfpOS7H",
        "colab": {},
        "outputId": "e0d729a9-7d90-4224-80d5-8f6521a30081"
      },
      "source": [
        "alpha = [10, 25, 50, 75, 100, 200] #[10,12,15,17,20,22,25,30,50,60,75]\n",
        "llLGBnoEVTr = []\n",
        "llLGBnoEVCv = []\n",
        "for i in alpha:\n",
        "    print(\"Working on Hyperparameter -\", i)\n",
        "    clfLGB = LGBMClassifier(n_estimators=i, random_state=0, n_jobs=-1)\n",
        "    clfLGB.fit(X_tr, y_train)\n",
        "    print(\"--Running CalibratedClassifierCV\")\n",
        "    sig_clfLGB = CalibratedClassifierCV(clfLGB, method='sigmoid')\n",
        "    sig_clfLGB.fit(X_tr, y_train)\n",
        "    y_pred = clfLGB.predict_proba(X_tr)\n",
        "    llLGBnoEVTr.append(log_loss(y_train, y_pred, labels=clfLGB.classes_))\n",
        "    print('--Train Log Loss - ', log_loss(y_train, y_pred))\n",
        "    y_pred = clfLGB.predict_proba(X_cr)\n",
        "    llLGBnoEVCv.append(log_loss(y_cv, y_pred, labels=clfLGB.classes_))\n",
        "    print('--CV Log Loss - ', log_loss(y_cv, y_pred))\n",
        "\n",
        "print(\"The best hyperparameter value is: \", alpha[np.argmin(llLGBnoEVCv)])"
      ],
      "execution_count": null,
      "outputs": [
        {
          "output_type": "stream",
          "text": [
            "Working on Hyperparameter - 10\n",
            "--Running CalibratedClassifierCV\n",
            "--Train Log Loss -  2.390554152874451\n",
            "--CV Log Loss -  2.4085923663465447\n",
            "Working on Hyperparameter - 25\n",
            "--Running CalibratedClassifierCV\n",
            "--Train Log Loss -  2.367397202176114\n",
            "--CV Log Loss -  2.4003797197881362\n",
            "Working on Hyperparameter - 50\n",
            "--Running CalibratedClassifierCV\n",
            "--Train Log Loss -  2.349643708694307\n",
            "--CV Log Loss -  2.4001542093656267\n",
            "Working on Hyperparameter - 75\n",
            "--Running CalibratedClassifierCV\n",
            "--Train Log Loss -  2.3387415992886864\n",
            "--CV Log Loss -  2.4037732473264626\n",
            "Working on Hyperparameter - 100\n",
            "--Running CalibratedClassifierCV\n",
            "--Train Log Loss -  2.3306298027618872\n",
            "--CV Log Loss -  2.4081991369333946\n",
            "Working on Hyperparameter - 200\n",
            "--Running CalibratedClassifierCV\n",
            "--Train Log Loss -  2.3113982503652104\n",
            "--CV Log Loss -  2.427396340191008\n",
            "The best hyperparameter value is:  50\n"
          ],
          "name": "stdout"
        }
      ]
    },
    {
      "cell_type": "code",
      "metadata": {
        "colab_type": "code",
        "id": "lv3aHPuAOS7J",
        "colab": {},
        "outputId": "263844eb-dd23-453b-b82c-c1177a02c32a"
      },
      "source": [
        "fig, ax = plt.subplots()\n",
        "ax.plot(alpha, llLGBnoEVCv,c='g')\n",
        "for i, txt in enumerate(np.round(llLGBnoEVCv,3)):\n",
        "    ax.annotate((alpha[i],np.round(txt,3)), (alpha[i],llLGBnoEVCv[i]))\n",
        "plt.grid()\n",
        "plt.title(\"Cross Validation Log Loss for each alpha\")\n",
        "plt.xlabel(\"Alpha i's\")\n",
        "plt.ylabel(\"Error measure\")\n",
        "plt.show()"
      ],
      "execution_count": null,
      "outputs": [
        {
          "output_type": "display_data",
          "data": {
            "image/png": "[encoded data removed]",
            "text/plain": [
              "<Figure size 432x288 with 1 Axes>"
            ]
          },
          "metadata": {
            "tags": [],
            "needs_background": "light"
          }
        }
      ]
    },
    {
      "cell_type": "code",
      "metadata": {
        "colab_type": "code",
        "id": "VZ-0Gs1k2aK8",
        "colab": {
          "base_uri": "https://localhost:8080/",
          "height": 1000
        },
        "outputId": "725cfd00-1c7c-4dfd-f9eb-aea8a7487906"
      },
      "source": [
        "import lightgbm as lgbm\n",
        "\n",
        "print(\"--Setting the Parameters\")\n",
        "params = {}\n",
        "params['boosting'] = 'gbdt'\n",
        "params['objective'] = \"multiclass\"\n",
        "params['metric'] = 'multi_logloss'\n",
        "params['learning_rate'] = 0.1\n",
        "params['num_class'] = 12\n",
        "params['num_threads'] = -1\n",
        "params['seed'] = 0\n",
        "params['max_depth'] = 5\n",
        "params['subsample'] = 0.5\n",
        "params['colsample_bytree'] = 0.3\n",
        "\n",
        "d_train = lgbm.Dataset(X_tr, label=y_train)\n",
        "d_valid = lgbm.Dataset(X_cr, label=y_cv)\n",
        "watchlist = [(d_train, 'train'), (d_valid, 'eval')]\n",
        "print('--Training the model')\n",
        "clf = lgbm.train(params, train_set=d_train, num_boost_round=1000,valid_sets=[d_train,d_valid], valid_names=['train','eval'], \n",
        "                 early_stopping_rounds=25)"
      ],
      "execution_count": null,
      "outputs": [
        {
          "output_type": "stream",
          "text": [
            "--Setting the Parameters\n",
            "--Training the model\n",
            "[1]\ttrain's multi_logloss: 2.4285\teval's multi_logloss: 2.42937\n",
            "Training until validation scores don't improve for 25 rounds.\n",
            "[2]\ttrain's multi_logloss: 2.42592\teval's multi_logloss: 2.42765\n",
            "[3]\ttrain's multi_logloss: 2.42348\teval's multi_logloss: 2.42588\n",
            "[4]\ttrain's multi_logloss: 2.42098\teval's multi_logloss: 2.42401\n",
            "[5]\ttrain's multi_logloss: 2.41909\teval's multi_logloss: 2.42283\n",
            "[6]\ttrain's multi_logloss: 2.41688\teval's multi_logloss: 2.4213\n",
            "[7]\ttrain's multi_logloss: 2.41518\teval's multi_logloss: 2.42018\n",
            "[8]\ttrain's multi_logloss: 2.41347\teval's multi_logloss: 2.41905\n",
            "[9]\ttrain's multi_logloss: 2.41181\teval's multi_logloss: 2.4178\n",
            "[10]\ttrain's multi_logloss: 2.41055\teval's multi_logloss: 2.41708\n",
            "[11]\ttrain's multi_logloss: 2.40924\teval's multi_logloss: 2.41629\n",
            "[12]\ttrain's multi_logloss: 2.40783\teval's multi_logloss: 2.41538\n",
            "[13]\ttrain's multi_logloss: 2.40663\teval's multi_logloss: 2.41468\n",
            "[14]\ttrain's multi_logloss: 2.40539\teval's multi_logloss: 2.41406\n",
            "[15]\ttrain's multi_logloss: 2.40404\teval's multi_logloss: 2.4132\n",
            "[16]\ttrain's multi_logloss: 2.40298\teval's multi_logloss: 2.41263\n",
            "[17]\ttrain's multi_logloss: 2.4019\teval's multi_logloss: 2.41207\n",
            "[18]\ttrain's multi_logloss: 2.40083\teval's multi_logloss: 2.41139\n",
            "[19]\ttrain's multi_logloss: 2.39956\teval's multi_logloss: 2.41061\n",
            "[20]\ttrain's multi_logloss: 2.39846\teval's multi_logloss: 2.40988\n",
            "[21]\ttrain's multi_logloss: 2.39733\teval's multi_logloss: 2.40924\n",
            "[22]\ttrain's multi_logloss: 2.39662\teval's multi_logloss: 2.40893\n",
            "[23]\ttrain's multi_logloss: 2.39573\teval's multi_logloss: 2.40848\n",
            "[24]\ttrain's multi_logloss: 2.39489\teval's multi_logloss: 2.40799\n",
            "[25]\ttrain's multi_logloss: 2.39415\teval's multi_logloss: 2.40756\n",
            "[26]\ttrain's multi_logloss: 2.39337\teval's multi_logloss: 2.40709\n",
            "[27]\ttrain's multi_logloss: 2.39268\teval's multi_logloss: 2.40672\n",
            "[28]\ttrain's multi_logloss: 2.39204\teval's multi_logloss: 2.40647\n",
            "[29]\ttrain's multi_logloss: 2.39129\teval's multi_logloss: 2.40613\n",
            "[30]\ttrain's multi_logloss: 2.39069\teval's multi_logloss: 2.40583\n",
            "[31]\ttrain's multi_logloss: 2.39003\teval's multi_logloss: 2.4055\n",
            "[32]\ttrain's multi_logloss: 2.38938\teval's multi_logloss: 2.40521\n",
            "[33]\ttrain's multi_logloss: 2.38871\teval's multi_logloss: 2.40492\n",
            "[34]\ttrain's multi_logloss: 2.38814\teval's multi_logloss: 2.40465\n",
            "[35]\ttrain's multi_logloss: 2.38758\teval's multi_logloss: 2.40442\n",
            "[36]\ttrain's multi_logloss: 2.38693\teval's multi_logloss: 2.40417\n",
            "[37]\ttrain's multi_logloss: 2.38644\teval's multi_logloss: 2.40402\n",
            "[38]\ttrain's multi_logloss: 2.38585\teval's multi_logloss: 2.40381\n",
            "[39]\ttrain's multi_logloss: 2.38539\teval's multi_logloss: 2.40364\n",
            "[40]\ttrain's multi_logloss: 2.38491\teval's multi_logloss: 2.4036\n",
            "[41]\ttrain's multi_logloss: 2.3845\teval's multi_logloss: 2.40347\n",
            "[42]\ttrain's multi_logloss: 2.384\teval's multi_logloss: 2.40317\n",
            "[43]\ttrain's multi_logloss: 2.38358\teval's multi_logloss: 2.40303\n",
            "[44]\ttrain's multi_logloss: 2.38322\teval's multi_logloss: 2.40294\n",
            "[45]\ttrain's multi_logloss: 2.3828\teval's multi_logloss: 2.4028\n",
            "[46]\ttrain's multi_logloss: 2.38244\teval's multi_logloss: 2.40268\n",
            "[47]\ttrain's multi_logloss: 2.38196\teval's multi_logloss: 2.40254\n",
            "[48]\ttrain's multi_logloss: 2.38159\teval's multi_logloss: 2.40248\n",
            "[49]\ttrain's multi_logloss: 2.3812\teval's multi_logloss: 2.40235\n",
            "[50]\ttrain's multi_logloss: 2.38085\teval's multi_logloss: 2.40233\n",
            "[51]\ttrain's multi_logloss: 2.38056\teval's multi_logloss: 2.40229\n",
            "[52]\ttrain's multi_logloss: 2.38023\teval's multi_logloss: 2.40224\n",
            "[53]\ttrain's multi_logloss: 2.3799\teval's multi_logloss: 2.40216\n",
            "[54]\ttrain's multi_logloss: 2.37959\teval's multi_logloss: 2.40209\n",
            "[55]\ttrain's multi_logloss: 2.37931\teval's multi_logloss: 2.40196\n",
            "[56]\ttrain's multi_logloss: 2.37902\teval's multi_logloss: 2.40192\n",
            "[57]\ttrain's multi_logloss: 2.37868\teval's multi_logloss: 2.40185\n",
            "[58]\ttrain's multi_logloss: 2.37838\teval's multi_logloss: 2.40171\n",
            "[59]\ttrain's multi_logloss: 2.37808\teval's multi_logloss: 2.40166\n",
            "[60]\ttrain's multi_logloss: 2.37779\teval's multi_logloss: 2.40159\n",
            "[61]\ttrain's multi_logloss: 2.37751\teval's multi_logloss: 2.40157\n",
            "[62]\ttrain's multi_logloss: 2.3772\teval's multi_logloss: 2.40153\n",
            "[63]\ttrain's multi_logloss: 2.37691\teval's multi_logloss: 2.40141\n",
            "[64]\ttrain's multi_logloss: 2.37664\teval's multi_logloss: 2.40136\n",
            "[65]\ttrain's multi_logloss: 2.37635\teval's multi_logloss: 2.40123\n",
            "[66]\ttrain's multi_logloss: 2.37611\teval's multi_logloss: 2.40118\n",
            "[67]\ttrain's multi_logloss: 2.37583\teval's multi_logloss: 2.40115\n",
            "[68]\ttrain's multi_logloss: 2.37559\teval's multi_logloss: 2.40106\n",
            "[69]\ttrain's multi_logloss: 2.37534\teval's multi_logloss: 2.40101\n",
            "[70]\ttrain's multi_logloss: 2.37512\teval's multi_logloss: 2.40101\n",
            "[71]\ttrain's multi_logloss: 2.37486\teval's multi_logloss: 2.40093\n",
            "[72]\ttrain's multi_logloss: 2.37461\teval's multi_logloss: 2.40085\n",
            "[73]\ttrain's multi_logloss: 2.37433\teval's multi_logloss: 2.40074\n",
            "[74]\ttrain's multi_logloss: 2.3741\teval's multi_logloss: 2.40063\n",
            "[75]\ttrain's multi_logloss: 2.37388\teval's multi_logloss: 2.40054\n",
            "[76]\ttrain's multi_logloss: 2.37365\teval's multi_logloss: 2.4005\n",
            "[77]\ttrain's multi_logloss: 2.37344\teval's multi_logloss: 2.40048\n",
            "[78]\ttrain's multi_logloss: 2.37321\teval's multi_logloss: 2.40041\n",
            "[79]\ttrain's multi_logloss: 2.37294\teval's multi_logloss: 2.40032\n",
            "[80]\ttrain's multi_logloss: 2.37271\teval's multi_logloss: 2.40027\n",
            "[81]\ttrain's multi_logloss: 2.3725\teval's multi_logloss: 2.40014\n",
            "[82]\ttrain's multi_logloss: 2.37227\teval's multi_logloss: 2.40014\n",
            "[83]\ttrain's multi_logloss: 2.37203\teval's multi_logloss: 2.4001\n",
            "[84]\ttrain's multi_logloss: 2.37182\teval's multi_logloss: 2.4001\n",
            "[85]\ttrain's multi_logloss: 2.37158\teval's multi_logloss: 2.40001\n",
            "[86]\ttrain's multi_logloss: 2.37138\teval's multi_logloss: 2.40004\n",
            "[87]\ttrain's multi_logloss: 2.37117\teval's multi_logloss: 2.40003\n",
            "[88]\ttrain's multi_logloss: 2.37098\teval's multi_logloss: 2.39997\n",
            "[89]\ttrain's multi_logloss: 2.37077\teval's multi_logloss: 2.40005\n",
            "[90]\ttrain's multi_logloss: 2.37057\teval's multi_logloss: 2.39995\n",
            "[91]\ttrain's multi_logloss: 2.37035\teval's multi_logloss: 2.4\n",
            "[92]\ttrain's multi_logloss: 2.37018\teval's multi_logloss: 2.39999\n",
            "[93]\ttrain's multi_logloss: 2.36999\teval's multi_logloss: 2.39999\n",
            "[94]\ttrain's multi_logloss: 2.36976\teval's multi_logloss: 2.3999\n",
            "[95]\ttrain's multi_logloss: 2.36958\teval's multi_logloss: 2.39985\n",
            "[96]\ttrain's multi_logloss: 2.3694\teval's multi_logloss: 2.39984\n",
            "[97]\ttrain's multi_logloss: 2.36921\teval's multi_logloss: 2.39984\n",
            "[98]\ttrain's multi_logloss: 2.36901\teval's multi_logloss: 2.39982\n",
            "[99]\ttrain's multi_logloss: 2.36883\teval's multi_logloss: 2.39982\n",
            "[100]\ttrain's multi_logloss: 2.36866\teval's multi_logloss: 2.3998\n",
            "[101]\ttrain's multi_logloss: 2.3685\teval's multi_logloss: 2.39974\n",
            "[102]\ttrain's multi_logloss: 2.36831\teval's multi_logloss: 2.39969\n",
            "[103]\ttrain's multi_logloss: 2.36815\teval's multi_logloss: 2.39968\n",
            "[104]\ttrain's multi_logloss: 2.36795\teval's multi_logloss: 2.3996\n",
            "[105]\ttrain's multi_logloss: 2.36777\teval's multi_logloss: 2.39956\n",
            "[106]\ttrain's multi_logloss: 2.36759\teval's multi_logloss: 2.3996\n",
            "[107]\ttrain's multi_logloss: 2.36743\teval's multi_logloss: 2.39953\n",
            "[108]\ttrain's multi_logloss: 2.36724\teval's multi_logloss: 2.39951\n",
            "[109]\ttrain's multi_logloss: 2.36708\teval's multi_logloss: 2.39948\n",
            "[110]\ttrain's multi_logloss: 2.36692\teval's multi_logloss: 2.39946\n",
            "[111]\ttrain's multi_logloss: 2.36676\teval's multi_logloss: 2.39946\n",
            "[112]\ttrain's multi_logloss: 2.36659\teval's multi_logloss: 2.39946\n",
            "[113]\ttrain's multi_logloss: 2.3664\teval's multi_logloss: 2.3994\n",
            "[114]\ttrain's multi_logloss: 2.36625\teval's multi_logloss: 2.3994\n",
            "[115]\ttrain's multi_logloss: 2.36608\teval's multi_logloss: 2.39935\n",
            "[116]\ttrain's multi_logloss: 2.36593\teval's multi_logloss: 2.39932\n",
            "[117]\ttrain's multi_logloss: 2.36577\teval's multi_logloss: 2.39931\n",
            "[118]\ttrain's multi_logloss: 2.36561\teval's multi_logloss: 2.39935\n",
            "[119]\ttrain's multi_logloss: 2.36546\teval's multi_logloss: 2.3994\n",
            "[120]\ttrain's multi_logloss: 2.3653\teval's multi_logloss: 2.39936\n",
            "[121]\ttrain's multi_logloss: 2.36512\teval's multi_logloss: 2.39935\n",
            "[122]\ttrain's multi_logloss: 2.36495\teval's multi_logloss: 2.39936\n",
            "[123]\ttrain's multi_logloss: 2.36478\teval's multi_logloss: 2.39928\n",
            "[124]\ttrain's multi_logloss: 2.3646\teval's multi_logloss: 2.39929\n",
            "[125]\ttrain's multi_logloss: 2.36442\teval's multi_logloss: 2.39925\n",
            "[126]\ttrain's multi_logloss: 2.36426\teval's multi_logloss: 2.39927\n",
            "[127]\ttrain's multi_logloss: 2.36412\teval's multi_logloss: 2.39932\n",
            "[128]\ttrain's multi_logloss: 2.36396\teval's multi_logloss: 2.39928\n",
            "[129]\ttrain's multi_logloss: 2.36382\teval's multi_logloss: 2.39923\n",
            "[130]\ttrain's multi_logloss: 2.36367\teval's multi_logloss: 2.39921\n",
            "[131]\ttrain's multi_logloss: 2.36355\teval's multi_logloss: 2.39921\n",
            "[132]\ttrain's multi_logloss: 2.36341\teval's multi_logloss: 2.39923\n",
            "[133]\ttrain's multi_logloss: 2.36327\teval's multi_logloss: 2.39919\n",
            "[134]\ttrain's multi_logloss: 2.3631\teval's multi_logloss: 2.39914\n",
            "[135]\ttrain's multi_logloss: 2.3629\teval's multi_logloss: 2.3991\n",
            "[136]\ttrain's multi_logloss: 2.36277\teval's multi_logloss: 2.39916\n",
            "[137]\ttrain's multi_logloss: 2.36262\teval's multi_logloss: 2.39914\n",
            "[138]\ttrain's multi_logloss: 2.36248\teval's multi_logloss: 2.39915\n",
            "[139]\ttrain's multi_logloss: 2.36233\teval's multi_logloss: 2.39914\n",
            "[140]\ttrain's multi_logloss: 2.3622\teval's multi_logloss: 2.39915\n",
            "[141]\ttrain's multi_logloss: 2.36207\teval's multi_logloss: 2.39914\n",
            "[142]\ttrain's multi_logloss: 2.36195\teval's multi_logloss: 2.39917\n",
            "[143]\ttrain's multi_logloss: 2.3618\teval's multi_logloss: 2.3992\n",
            "[144]\ttrain's multi_logloss: 2.36165\teval's multi_logloss: 2.39918\n",
            "[145]\ttrain's multi_logloss: 2.36151\teval's multi_logloss: 2.39921\n",
            "[146]\ttrain's multi_logloss: 2.3614\teval's multi_logloss: 2.3992\n",
            "[147]\ttrain's multi_logloss: 2.36127\teval's multi_logloss: 2.39922\n",
            "[148]\ttrain's multi_logloss: 2.36114\teval's multi_logloss: 2.39922\n",
            "[149]\ttrain's multi_logloss: 2.36101\teval's multi_logloss: 2.39924\n",
            "[150]\ttrain's multi_logloss: 2.36087\teval's multi_logloss: 2.39918\n",
            "[151]\ttrain's multi_logloss: 2.36074\teval's multi_logloss: 2.39918\n",
            "[152]\ttrain's multi_logloss: 2.3606\teval's multi_logloss: 2.39916\n",
            "[153]\ttrain's multi_logloss: 2.36045\teval's multi_logloss: 2.39918\n",
            "[154]\ttrain's multi_logloss: 2.36031\teval's multi_logloss: 2.39921\n",
            "[155]\ttrain's multi_logloss: 2.3602\teval's multi_logloss: 2.3992\n",
            "[156]\ttrain's multi_logloss: 2.36003\teval's multi_logloss: 2.39921\n",
            "[157]\ttrain's multi_logloss: 2.35992\teval's multi_logloss: 2.39919\n",
            "[158]\ttrain's multi_logloss: 2.35979\teval's multi_logloss: 2.39918\n",
            "[159]\ttrain's multi_logloss: 2.35967\teval's multi_logloss: 2.3992\n",
            "[160]\ttrain's multi_logloss: 2.35955\teval's multi_logloss: 2.39922\n",
            "Early stopping, best iteration is:\n",
            "[135]\ttrain's multi_logloss: 2.3629\teval's multi_logloss: 2.3991\n"
          ],
          "name": "stdout"
        }
      ]
    },
    {
      "cell_type": "code",
      "metadata": {
        "colab_type": "code",
        "id": "PZT0OVFZ2nUc",
        "colab": {
          "base_uri": "https://localhost:8080/",
          "height": 85
        },
        "outputId": "9931a459-a425-43a4-9343-94be04236a92"
      },
      "source": [
        "print('--Predicting on the Train Data')\n",
        "totalPred = clf.predict(X_tr)\n",
        "llLGBnoEVTr = log_loss(y_train, totalPred)\n",
        "print('----Train Log Loss on the EVENT Data:', llLGBnoEVTr)\n",
        "print('--Predicting on the CV Data')\n",
        "totalPred = clf.predict(X_cr)\n",
        "llLGBnoEVTr = log_loss(y_cv, totalPred)\n",
        "print('----Cross Validation Log Loss on the EVENT Data:', llLGBnoEVTr)"
      ],
      "execution_count": null,
      "outputs": [
        {
          "output_type": "stream",
          "text": [
            "--Predicting on the Train Data\n",
            "----Train Log Loss on the EVENT Data: 2.36290300767602\n",
            "--Predicting on the CV Data\n",
            "----Cross Validation Log Loss on the EVENT Data: 2.399103267052951\n"
          ],
          "name": "stdout"
        }
      ]
    },
    {
      "cell_type": "markdown",
      "metadata": {
        "colab_type": "text",
        "id": "fdCTA8U722c4"
      },
      "source": [
        "### 3.2.7 Neural Network"
      ]
    },
    {
      "cell_type": "code",
      "metadata": {
        "colab_type": "code",
        "id": "s5xwFm_62z9s",
        "colab": {}
      },
      "source": [
        "os.environ['PYTHONHASHSEED'] = '0'\n",
        "tf.keras.backend.clear_session()"
      ],
      "execution_count": 97,
      "outputs": []
    },
    {
      "cell_type": "code",
      "metadata": {
        "colab_type": "code",
        "id": "mld5b3hV3GYa",
        "colab": {}
      },
      "source": [
        "def noEvModel(input_dim, output_dim):\n",
        "    model = Sequential()\n",
        "    model.add(Input(shape=(input_dim,)))\n",
        "    model.add(Dense(256, activation='tanh', kernel_initializer=tf.keras.initializers.GlorotUniform(seed=44)))\n",
        "    model.add(PReLU(alpha_initializer=\"zeros\"))\n",
        "    model.add(BatchNormalization())\n",
        "    model.add(Dropout(0.5))\n",
        "    model.add(Dense(12, activation='softmax', kernel_initializer=tf.keras.initializers.GlorotUniform(seed=46)))\n",
        "    \n",
        "    model.compile(loss='categorical_crossentropy', optimizer='adamax', metrics=['accuracy'])\n",
        "    \n",
        "    return model"
      ],
      "execution_count": 98,
      "outputs": []
    },
    {
      "cell_type": "code",
      "metadata": {
        "colab_type": "code",
        "id": "rPBkvGTc3S7i",
        "colab": {}
      },
      "source": [
        "#noEventModel = noEvModel(X_tr.shape[1], 12)\n",
        "noEventModel.summary()"
      ],
      "execution_count": null,
      "outputs": []
    },
    {
      "cell_type": "code",
      "metadata": {
        "colab_type": "code",
        "id": "qd_amGPf8ODt",
        "colab": {}
      },
      "source": [
        "def noEventsModel(shuffle):\n",
        "    \"\"\"\n",
        "    Takes a list of Random Seeds, splits the data into Train and CV based on Seed, trains model and takes average of \n",
        "    predictions while testing  \n",
        "    \"\"\"\n",
        "    model_list=[]\n",
        "    loss_list=[]\n",
        "    avg_cv_loss=0\n",
        "    for i in range(len(shuffle)):\n",
        "        print('--Iteration #', i)\n",
        "        X_tr, X_cr, y_train, y_cv = train_test_split(Xnoev_tr, ynoev, stratify=ynoev, test_size=0.15, random_state=shuffle[i])\n",
        "        y_train=np_utils.to_categorical(y_train)\n",
        "        y_cv=np_utils.to_categorical(y_cv)\n",
        "        model=noEvModel(X_tr.shape[1], 12)\n",
        "        model.fit(X_tr, y_train, batch_size=256, epochs=100, verbose=2, shuffle=True, validation_data=(X_cr, y_cv),callbacks=callBacks)\n",
        "        model.save('saved_models/noEvents/nn '+str(i+1))\n",
        "        pred=model.predict(X_cr)\n",
        "        cv_loss=log_loss(y_cv, pred)\n",
        "        print(\"Validation Log Loss of  Model in Current Run: \", cv_loss)\n",
        "        model_list.append(model)\n",
        "        loss_list.append(cv_loss)\n",
        "    avg_cv_loss = mean(loss_list)\n",
        "    print(\"Average CV Loss of 6 Runs :\", avg_cv_loss)\n",
        "    return(model_list)"
      ],
      "execution_count": 99,
      "outputs": []
    },
    {
      "cell_type": "code",
      "metadata": {
        "colab_type": "code",
        "id": "OPW3OUsG8xSs",
        "colab": {
          "base_uri": "https://localhost:8080/",
          "height": 1000
        },
        "outputId": "3d337952-7e3c-4bc7-9292-eb891142cbc7"
      },
      "source": [
        "shuffle = [7, 14, 21, 28, 35, 42]\n",
        "nnNoEvModel = noEventsModel(shuffle)"
      ],
      "execution_count": 100,
      "outputs": [
        {
          "output_type": "stream",
          "text": [
            "--Iteration # 0\n",
            "Epoch 1/100\n",
            "248/248 - 1s - loss: 2.6043 - accuracy: 0.1152 - val_loss: 2.4229 - val_accuracy: 0.1422\n",
            "Epoch 2/100\n",
            "248/248 - 1s - loss: 2.4278 - accuracy: 0.1456 - val_loss: 2.4103 - val_accuracy: 0.1462\n",
            "Epoch 3/100\n",
            "248/248 - 1s - loss: 2.3995 - accuracy: 0.1513 - val_loss: 2.3980 - val_accuracy: 0.1519\n",
            "Epoch 4/100\n",
            "248/248 - 1s - loss: 2.3870 - accuracy: 0.1581 - val_loss: 2.3956 - val_accuracy: 0.1549\n",
            "Epoch 5/100\n",
            "248/248 - 1s - loss: 2.3772 - accuracy: 0.1612 - val_loss: 2.3952 - val_accuracy: 0.1567\n",
            "Epoch 6/100\n",
            "248/248 - 1s - loss: 2.3718 - accuracy: 0.1631 - val_loss: 2.3953 - val_accuracy: 0.1554\n",
            "Epoch 7/100\n",
            "248/248 - 1s - loss: 2.3671 - accuracy: 0.1659 - val_loss: 2.3944 - val_accuracy: 0.1540\n",
            "Epoch 8/100\n",
            "248/248 - 1s - loss: 2.3628 - accuracy: 0.1679 - val_loss: 2.3964 - val_accuracy: 0.1588\n",
            "Epoch 9/100\n",
            "248/248 - 1s - loss: 2.3577 - accuracy: 0.1687 - val_loss: 2.3965 - val_accuracy: 0.1602\n",
            "Epoch 10/100\n",
            "\n",
            "Epoch 00010: ReduceLROnPlateau reducing learning rate to 0.00010000000474974513.\n",
            "248/248 - 1s - loss: 2.3557 - accuracy: 0.1703 - val_loss: 2.3966 - val_accuracy: 0.1561\n",
            "Epoch 11/100\n",
            "248/248 - 1s - loss: 2.3452 - accuracy: 0.1741 - val_loss: 2.3968 - val_accuracy: 0.1575\n",
            "Epoch 12/100\n",
            "Restoring model weights from the end of the best epoch.\n",
            "248/248 - 1s - loss: 2.3452 - accuracy: 0.1762 - val_loss: 2.3969 - val_accuracy: 0.1588\n",
            "Epoch 00012: early stopping\n",
            "INFO:tensorflow:Assets written to: saved_models/noEvents/nn 1/assets\n",
            "Validation Log Loss of  Model in Current Run:  2.39442918012001\n",
            "--Iteration # 1\n",
            "Epoch 1/100\n",
            "248/248 - 1s - loss: 2.6069 - accuracy: 0.1137 - val_loss: 2.4222 - val_accuracy: 0.1419\n",
            "Epoch 2/100\n",
            "248/248 - 1s - loss: 2.4295 - accuracy: 0.1444 - val_loss: 2.4085 - val_accuracy: 0.1489\n",
            "Epoch 3/100\n",
            "248/248 - 1s - loss: 2.3993 - accuracy: 0.1516 - val_loss: 2.3958 - val_accuracy: 0.1525\n",
            "Epoch 4/100\n",
            "248/248 - 1s - loss: 2.3862 - accuracy: 0.1572 - val_loss: 2.3932 - val_accuracy: 0.1555\n",
            "Epoch 5/100\n",
            "248/248 - 1s - loss: 2.3802 - accuracy: 0.1592 - val_loss: 2.3946 - val_accuracy: 0.1523\n",
            "Epoch 6/100\n",
            "248/248 - 1s - loss: 2.3724 - accuracy: 0.1654 - val_loss: 2.3926 - val_accuracy: 0.1543\n",
            "Epoch 7/100\n",
            "248/248 - 1s - loss: 2.3690 - accuracy: 0.1670 - val_loss: 2.3927 - val_accuracy: 0.1569\n",
            "Epoch 8/100\n",
            "248/248 - 1s - loss: 2.3634 - accuracy: 0.1681 - val_loss: 2.3936 - val_accuracy: 0.1549\n",
            "Epoch 9/100\n",
            "\n",
            "Epoch 00009: ReduceLROnPlateau reducing learning rate to 0.00010000000474974513.\n",
            "248/248 - 1s - loss: 2.3601 - accuracy: 0.1706 - val_loss: 2.3942 - val_accuracy: 0.1578\n",
            "Epoch 10/100\n",
            "248/248 - 1s - loss: 2.3504 - accuracy: 0.1728 - val_loss: 2.3936 - val_accuracy: 0.1583\n",
            "Epoch 11/100\n",
            "Restoring model weights from the end of the best epoch.\n",
            "248/248 - 1s - loss: 2.3489 - accuracy: 0.1748 - val_loss: 2.3934 - val_accuracy: 0.1575\n",
            "Epoch 00011: early stopping\n",
            "INFO:tensorflow:Assets written to: saved_models/noEvents/nn 2/assets\n",
            "Validation Log Loss of  Model in Current Run:  2.3926283959044805\n",
            "--Iteration # 2\n",
            "Epoch 1/100\n",
            "248/248 - 2s - loss: 2.6093 - accuracy: 0.1140 - val_loss: 2.4229 - val_accuracy: 0.1382\n",
            "Epoch 2/100\n",
            "248/248 - 1s - loss: 2.4281 - accuracy: 0.1444 - val_loss: 2.4096 - val_accuracy: 0.1494\n",
            "Epoch 3/100\n",
            "248/248 - 1s - loss: 2.3997 - accuracy: 0.1526 - val_loss: 2.3965 - val_accuracy: 0.1542\n",
            "Epoch 4/100\n",
            "248/248 - 1s - loss: 2.3873 - accuracy: 0.1584 - val_loss: 2.3940 - val_accuracy: 0.1535\n",
            "Epoch 5/100\n",
            "248/248 - 1s - loss: 2.3809 - accuracy: 0.1618 - val_loss: 2.3928 - val_accuracy: 0.1558\n",
            "Epoch 6/100\n",
            "248/248 - 1s - loss: 2.3733 - accuracy: 0.1636 - val_loss: 2.3927 - val_accuracy: 0.1565\n",
            "Epoch 7/100\n",
            "248/248 - 1s - loss: 2.3674 - accuracy: 0.1660 - val_loss: 2.3924 - val_accuracy: 0.1534\n",
            "Epoch 8/100\n",
            "248/248 - 1s - loss: 2.3628 - accuracy: 0.1687 - val_loss: 2.3924 - val_accuracy: 0.1516\n",
            "Epoch 9/100\n",
            "248/248 - 1s - loss: 2.3599 - accuracy: 0.1684 - val_loss: 2.3937 - val_accuracy: 0.1572\n",
            "Epoch 10/100\n",
            "\n",
            "Epoch 00010: ReduceLROnPlateau reducing learning rate to 0.00010000000474974513.\n",
            "248/248 - 1s - loss: 2.3565 - accuracy: 0.1710 - val_loss: 2.3937 - val_accuracy: 0.1550\n",
            "Epoch 11/100\n",
            "248/248 - 1s - loss: 2.3466 - accuracy: 0.1758 - val_loss: 2.3936 - val_accuracy: 0.1556\n",
            "Epoch 12/100\n",
            "248/248 - 1s - loss: 2.3445 - accuracy: 0.1770 - val_loss: 2.3934 - val_accuracy: 0.1553\n",
            "Epoch 13/100\n",
            "\n",
            "Epoch 00013: ReduceLROnPlateau reducing learning rate to 1.0000000474974514e-05.\n",
            "Restoring model weights from the end of the best epoch.\n",
            "248/248 - 1s - loss: 2.3443 - accuracy: 0.1764 - val_loss: 2.3936 - val_accuracy: 0.1541\n",
            "Epoch 00013: early stopping\n",
            "INFO:tensorflow:Assets written to: saved_models/noEvents/nn 3/assets\n",
            "Validation Log Loss of  Model in Current Run:  2.3923603874120776\n",
            "--Iteration # 3\n",
            "Epoch 1/100\n",
            "248/248 - 2s - loss: 2.6047 - accuracy: 0.1146 - val_loss: 2.4220 - val_accuracy: 0.1405\n",
            "Epoch 2/100\n",
            "248/248 - 1s - loss: 2.4325 - accuracy: 0.1430 - val_loss: 2.4087 - val_accuracy: 0.1476\n",
            "Epoch 3/100\n",
            "248/248 - 1s - loss: 2.3991 - accuracy: 0.1530 - val_loss: 2.3936 - val_accuracy: 0.1529\n",
            "Epoch 4/100\n",
            "248/248 - 1s - loss: 2.3870 - accuracy: 0.1609 - val_loss: 2.3922 - val_accuracy: 0.1543\n",
            "Epoch 5/100\n",
            "248/248 - 1s - loss: 2.3812 - accuracy: 0.1612 - val_loss: 2.3915 - val_accuracy: 0.1506\n",
            "Epoch 6/100\n",
            "248/248 - 1s - loss: 2.3727 - accuracy: 0.1652 - val_loss: 2.3912 - val_accuracy: 0.1533\n",
            "Epoch 7/100\n",
            "248/248 - 1s - loss: 2.3677 - accuracy: 0.1666 - val_loss: 2.3910 - val_accuracy: 0.1564\n",
            "Epoch 8/100\n",
            "248/248 - 1s - loss: 2.3643 - accuracy: 0.1662 - val_loss: 2.3913 - val_accuracy: 0.1540\n",
            "Epoch 9/100\n",
            "248/248 - 1s - loss: 2.3601 - accuracy: 0.1699 - val_loss: 2.3920 - val_accuracy: 0.1558\n",
            "Epoch 10/100\n",
            "\n",
            "Epoch 00010: ReduceLROnPlateau reducing learning rate to 0.00010000000474974513.\n",
            "248/248 - 1s - loss: 2.3570 - accuracy: 0.1699 - val_loss: 2.3923 - val_accuracy: 0.1549\n",
            "Epoch 11/100\n",
            "248/248 - 1s - loss: 2.3461 - accuracy: 0.1768 - val_loss: 2.3924 - val_accuracy: 0.1536\n",
            "Epoch 12/100\n",
            "Restoring model weights from the end of the best epoch.\n",
            "248/248 - 1s - loss: 2.3447 - accuracy: 0.1757 - val_loss: 2.3925 - val_accuracy: 0.1544\n",
            "Epoch 00012: early stopping\n",
            "INFO:tensorflow:Assets written to: saved_models/noEvents/nn 4/assets\n",
            "Validation Log Loss of  Model in Current Run:  2.3910075993136317\n",
            "--Iteration # 4\n",
            "Epoch 1/100\n",
            "248/248 - 2s - loss: 2.6084 - accuracy: 0.1153 - val_loss: 2.4228 - val_accuracy: 0.1378\n",
            "Epoch 2/100\n",
            "248/248 - 1s - loss: 2.4289 - accuracy: 0.1433 - val_loss: 2.4101 - val_accuracy: 0.1431\n",
            "Epoch 3/100\n",
            "248/248 - 1s - loss: 2.3984 - accuracy: 0.1552 - val_loss: 2.3983 - val_accuracy: 0.1485\n",
            "Epoch 4/100\n",
            "248/248 - 1s - loss: 2.3859 - accuracy: 0.1581 - val_loss: 2.3971 - val_accuracy: 0.1483\n",
            "Epoch 5/100\n",
            "248/248 - 1s - loss: 2.3780 - accuracy: 0.1630 - val_loss: 2.3967 - val_accuracy: 0.1489\n",
            "Epoch 6/100\n",
            "248/248 - 1s - loss: 2.3715 - accuracy: 0.1615 - val_loss: 2.3975 - val_accuracy: 0.1479\n",
            "Epoch 7/100\n",
            "248/248 - 1s - loss: 2.3684 - accuracy: 0.1670 - val_loss: 2.3970 - val_accuracy: 0.1500\n",
            "Epoch 8/100\n",
            "\n",
            "Epoch 00008: ReduceLROnPlateau reducing learning rate to 0.00010000000474974513.\n",
            "248/248 - 1s - loss: 2.3620 - accuracy: 0.1705 - val_loss: 2.3977 - val_accuracy: 0.1519\n",
            "Epoch 9/100\n",
            "248/248 - 1s - loss: 2.3521 - accuracy: 0.1750 - val_loss: 2.3973 - val_accuracy: 0.1521\n",
            "Epoch 10/100\n",
            "Restoring model weights from the end of the best epoch.\n",
            "248/248 - 1s - loss: 2.3507 - accuracy: 0.1742 - val_loss: 2.3972 - val_accuracy: 0.1523\n",
            "Epoch 00010: early stopping\n",
            "INFO:tensorflow:Assets written to: saved_models/noEvents/nn 5/assets\n",
            "Validation Log Loss of  Model in Current Run:  2.3967086811187897\n",
            "--Iteration # 5\n",
            "Epoch 1/100\n",
            "248/248 - 2s - loss: 2.6038 - accuracy: 0.1151 - val_loss: 2.4223 - val_accuracy: 0.1396\n",
            "Epoch 2/100\n",
            "248/248 - 1s - loss: 2.4319 - accuracy: 0.1436 - val_loss: 2.4079 - val_accuracy: 0.1403\n",
            "Epoch 3/100\n",
            "248/248 - 1s - loss: 2.3994 - accuracy: 0.1512 - val_loss: 2.3938 - val_accuracy: 0.1517\n",
            "Epoch 4/100\n",
            "248/248 - 1s - loss: 2.3869 - accuracy: 0.1560 - val_loss: 2.3910 - val_accuracy: 0.1536\n",
            "Epoch 5/100\n",
            "248/248 - 1s - loss: 2.3795 - accuracy: 0.1614 - val_loss: 2.3892 - val_accuracy: 0.1550\n",
            "Epoch 6/100\n",
            "248/248 - 1s - loss: 2.3713 - accuracy: 0.1653 - val_loss: 2.3896 - val_accuracy: 0.1554\n",
            "Epoch 7/100\n",
            "248/248 - 1s - loss: 2.3671 - accuracy: 0.1686 - val_loss: 2.3897 - val_accuracy: 0.1543\n",
            "Epoch 8/100\n",
            "\n",
            "Epoch 00008: ReduceLROnPlateau reducing learning rate to 0.00010000000474974513.\n",
            "248/248 - 1s - loss: 2.3639 - accuracy: 0.1666 - val_loss: 2.3908 - val_accuracy: 0.1537\n",
            "Epoch 9/100\n",
            "248/248 - 1s - loss: 2.3532 - accuracy: 0.1738 - val_loss: 2.3905 - val_accuracy: 0.1540\n",
            "Epoch 10/100\n",
            "Restoring model weights from the end of the best epoch.\n",
            "248/248 - 1s - loss: 2.3525 - accuracy: 0.1723 - val_loss: 2.3904 - val_accuracy: 0.1547\n",
            "Epoch 00010: early stopping\n",
            "INFO:tensorflow:Assets written to: saved_models/noEvents/nn 6/assets\n",
            "Validation Log Loss of  Model in Current Run:  2.38923446732546\n",
            "Average CV Loss of 6 Runs : 2.3927281185324083\n"
          ],
          "name": "stdout"
        }
      ]
    },
    {
      "cell_type": "code",
      "metadata": {
        "colab_type": "code",
        "id": "X0H9ep6m9GEL",
        "colab": {
          "base_uri": "https://localhost:8080/",
          "height": 33
        },
        "outputId": "3115bb01-4d07-4399-8375-d8ee80858bd5"
      },
      "source": [
        "avg_pred=np.zeros((Xnoev_tr.shape[0],12))\n",
        "for i in range(len(nnNoEvModel)):\n",
        "    train_pred=nnNoEvModel[i].predict(Xnoev_tr)\n",
        "    avg_pred+=train_pred\n",
        "avg_pred/=len(nnNoEvModel)\n",
        "print(\"Train Average Log-Loss: \",log_loss(ynoev, avg_pred))"
      ],
      "execution_count": 101,
      "outputs": [
        {
          "output_type": "stream",
          "text": [
            "Train Average Log-Loss:  2.349539449164375\n"
          ],
          "name": "stdout"
        }
      ]
    },
    {
      "cell_type": "code",
      "metadata": {
        "colab_type": "code",
        "id": "mbAnUjr09iJs",
        "colab": {
          "base_uri": "https://localhost:8080/",
          "height": 33
        },
        "outputId": "6960a9e3-52ff-45a4-b0ee-ff90e29e48f3"
      },
      "source": [
        "avg_pred=np.zeros((Xnoev_cv.shape[0],12))\n",
        "for i in range(len(nnNoEvModel)):\n",
        "    cv_pred = nnNoEvModel[i].predict(Xnoev_cv)\n",
        "    avg_pred += cv_pred\n",
        "avg_pred/=len(nnNoEvModel)\n",
        "print(\"CV Average Log-Loss: \",log_loss(ynoev_cv, avg_pred))"
      ],
      "execution_count": 102,
      "outputs": [
        {
          "output_type": "stream",
          "text": [
            "CV Average Log-Loss:  2.3458688568511508\n"
          ],
          "name": "stdout"
        }
      ]
    },
    {
      "cell_type": "code",
      "metadata": {
        "colab_type": "code",
        "id": "AjolXdWOBVZr",
        "colab": {}
      },
      "source": [
        "prednoEv=np.zeros((Xnoev_te.shape[0],12))\n",
        "for i in range(len(nnNoEvModel)):\n",
        "    te_pred = nnNoEvModel[i].predict(Xnoev_te)\n",
        "    prednoEv += te_pred\n",
        "prednoEv/=len(nnNoEvModel)"
      ],
      "execution_count": 103,
      "outputs": []
    },
    {
      "cell_type": "code",
      "metadata": {
        "colab_type": "code",
        "id": "ESnsx1RM3dPE",
        "colab": {
          "base_uri": "https://localhost:8080/",
          "height": 50
        },
        "outputId": "dedc1d14-f8ac-4052-a35f-bbcd2bf5d886"
      },
      "source": [
        "pred = noEventModel.predict(X_tr)\n",
        "llNNnoEVTr=log_loss(y_train, pred)\n",
        "print(\"Training Log Loss of NN Model: \",llNNnoEVTr)\n",
        "pred = noEventModel.predict(X_cr)\n",
        "llNNnoEVCv=log_loss(y_cv, pred)\n",
        "print(\"Validation Log Loss of NN Model: \",llNNnoEVCv)"
      ],
      "execution_count": null,
      "outputs": [
        {
          "output_type": "stream",
          "text": [
            "Training Log Loss of NN Model:  2.354636035159393\n",
            "Validation Log Loss of NN Model:  2.3875050213158238\n"
          ],
          "name": "stdout"
        }
      ]
    },
    {
      "cell_type": "code",
      "metadata": {
        "colab_type": "code",
        "id": "ag5eg702nzps",
        "colab": {}
      },
      "source": [
        "prednoEv = noEventModel.predict(X_te)"
      ],
      "execution_count": null,
      "outputs": []
    },
    {
      "cell_type": "code",
      "metadata": {
        "colab_type": "code",
        "id": "ksHjKz_Fn12r",
        "colab": {}
      },
      "source": [
        "X_test = notestEventData.reset_index(drop=True)\n",
        "prednoEv = pd.DataFrame(prednoEv, columns=ohenoev.classes_)\n",
        "print(prednoEv.shape)\n",
        "prednoEv = pd.concat([X_test.device_id, prednoEv], axis=1, ignore_index=True)\n",
        "finalCols = np.append('device_id', ohenoev.classes_)\n",
        "prednoEv.columns = [finalCols]\n",
        "print(prednoEv.shape)\n",
        "prednoEv.head()"
      ],
      "execution_count": null,
      "outputs": []
    },
    {
      "cell_type": "code",
      "metadata": {
        "colab_type": "code",
        "id": "e__dT7cJoP6U",
        "colab": {}
      },
      "source": [
        "predTotal = pd.concat([predEvent, prednoEv], ignore_index=True)\n",
        "predTotal.to_csv('prediction_total_data.zip', compression='zip', index=False)\n",
        "print(predTotal.shape)\n",
        "predTotal.head()"
      ],
      "execution_count": null,
      "outputs": []
    },
    {
      "cell_type": "markdown",
      "metadata": {
        "colab_type": "text",
        "id": "BVhcUn5oOS7K"
      },
      "source": [
        "### 3.2.8 Comparing the Model Performance"
      ]
    },
    {
      "cell_type": "code",
      "metadata": {
        "colab_type": "code",
        "id": "QKX9-dVtOS7K",
        "colab": {
          "base_uri": "https://localhost:8080/",
          "height": 320
        },
        "outputId": "de6e0ac1-bd8e-414c-eaed-db96035b30ee"
      },
      "source": [
        "#Result = PrettyTable()\n",
        "#Result.field_names = [\"Model\", \"Data\", \"Train Loss\", \"CV Loss\"]\n",
        "Result.add_row([\"Random\", \"No Events\", \"2.4849066497880012\", \"2.484906649788001\"])\n",
        "Result.add_row([\"K-Nearest Neighbor\", \"No Events\", \"2.3995838285708935\", \"2.4179643888665745\"]) #np.min(llKNNnoEVTr), np.min(llKNNnoEVCv)])\n",
        "Result.add_row([\"Logistic Regression\", \"No Events\", \"2.34232800739924\", \"2.3969800630889164\"]) #np.min(llLRnoEVTr), np.min(llLRnoEVCv)])\n",
        "Result.add_row([\"Random Forest\", \"No Events\", \"2.3430906488775842\", \"2.4081990526514327\"]) #np.min(llRFnoEVTr), np.min(llRFnoEVCv)])\n",
        "Result.add_row([\"XGBoost\", \"No Events\", \"2.3442259820554963\", \"2.3988192207359553\"]) #np.min(llXGBnoEVTr), np.min(llXGBnoEVCv)])\n",
        "Result.add_row([\"lightGBM\", \"No Events\", \"2.36290300767602\", \"2.399103267052951\"]) #np.min(llLGBnoEVTr), np.min(llLGBnoEVCv)])\n",
        "Result.add_row([\"Neural Network\", \"No Events\", \"2.349539449164375\", \"2.3458688568511508\"]) #llNNnoEVTr, np.min(llNNnoEVCv)])\n",
        "\n",
        "print(Result)"
      ],
      "execution_count": 106,
      "outputs": [
        {
          "output_type": "stream",
          "text": [
            "+---------------------+-------------+---------------------+--------------------+\n",
            "|        Model        |     Data    |      Train Loss     |      CV Loss       |\n",
            "+---------------------+-------------+---------------------+--------------------+\n",
            "|        Random       | With Events |  2.484906649788001  | 2.4849066497880004 |\n",
            "|  K-Nearest Neighbor | With Events |  2.405654255269296  | 2.4102048713798823 |\n",
            "| Logistic Regression | With Events |  2.3687341386441503 | 2.379565820077238  |\n",
            "|    Random Forest    | With Events | 0.47845143169897797 |  2.10767024594322  |\n",
            "|       XGBoost       | With Events |  0.6436960138144913 | 2.110022073399063  |\n",
            "|       lightGBM      | With Events |  1.0782876208447156 | 2.0208742503913975 |\n",
            "|    Neural Network   | With Events |  1.706016315411962  | 1.6868781342616384 |\n",
            "|        Random       |  No Events  |  2.4849066497880012 | 2.484906649788001  |\n",
            "|  K-Nearest Neighbor |  No Events  |  2.3995838285708935 | 2.4179643888665745 |\n",
            "| Logistic Regression |  No Events  |   2.34232800739924  | 2.3969800630889164 |\n",
            "|    Random Forest    |  No Events  |  2.3430906488775842 | 2.4081990526514327 |\n",
            "|       XGBoost       |  No Events  |  2.3442259820554963 | 2.3988192207359553 |\n",
            "|       lightGBM      |  No Events  |   2.36290300767602  | 2.399103267052951  |\n",
            "|    Neural Network   |  No Events  |  2.349539449164375  | 2.3458688568511508 |\n",
            "+---------------------+-------------+---------------------+--------------------+\n"
          ],
          "name": "stdout"
        }
      ]
    },
    {
      "cell_type": "markdown",
      "metadata": {
        "colab_type": "text",
        "id": "77hHV5n8OS7L"
      },
      "source": [
        "#### Here, we can observe that for Dataset with 'No Events Data', Neural Network has given MINIMUM LOG-LOSS results.\n",
        "#### Hence, we will use Neural Network for final modelling"
      ]
    }
  ]
}